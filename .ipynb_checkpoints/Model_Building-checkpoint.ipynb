{
 "cells": [
  {
   "cell_type": "code",
   "execution_count": 1,
   "metadata": {
    "id": "NcTIAR6oI0cg"
   },
   "outputs": [],
   "source": [
    "#CSV Details:\n",
    "\n",
    "#it has just product as \"bank_account_or_service\""
   ]
  },
  {
   "cell_type": "code",
   "execution_count": 2,
   "metadata": {
    "id": "Arve7l4wI0cj"
   },
   "outputs": [],
   "source": [
    "##for better understanding, we have considered just 'Bank account or service', as of now"
   ]
  },
  {
   "cell_type": "code",
   "execution_count": 3,
   "metadata": {
    "id": "X6uoo2PuI0ck"
   },
   "outputs": [],
   "source": [
    "#predict the issue based on consumer complaint narrative"
   ]
  },
  {
   "cell_type": "code",
   "execution_count": 4,
   "metadata": {
    "id": "0UAGOfhZDTtm"
   },
   "outputs": [],
   "source": [
    "#where issue related to 'Deposits and withdrawals' are considered to be 1 and rest ( 'Account opening, closing, or management','Using a debit or ATM card',\n",
    "#'Problems caused by my funds being low',\n",
    "#'Making/receiving payments, sending money') as 0"
   ]
  },
  {
   "cell_type": "code",
   "execution_count": 5,
   "metadata": {
    "id": "gd-tbyLOD_uN"
   },
   "outputs": [],
   "source": [
    "#Building a Model to predict the \"issue\"- either 1 or 0 based on \"Consumer Complaint Narrative\""
   ]
  },
  {
   "cell_type": "code",
   "execution_count": 74,
   "metadata": {
    "id": "VuCkfG3C0-F4"
   },
   "outputs": [],
   "source": [
    "#Libraries\n",
    "import pandas as pd\n",
    "import numpy as np\n",
    "from sklearn.feature_extraction.text import CountVectorizer\n",
    "import string\n",
    "import nltk\n",
    "from nltk.tokenize import word_tokenize\n",
    "from sklearn.model_selection import train_test_split\n",
    "from sklearn.neighbors import KNeighborsClassifier\n",
    "from sklearn import metrics\n",
    "from sklearn.metrics import classification_report, accuracy_score, f1_score\n",
    "import warnings\n",
    "warnings.filterwarnings(\"ignore\")\n",
    "from sklearn.model_selection import GridSearchCV"
   ]
  },
  {
   "cell_type": "code",
   "execution_count": 7,
   "metadata": {
    "colab": {
     "base_uri": "https://localhost:8080/"
    },
    "id": "Gr2gHHF32Bti",
    "outputId": "d692a199-0ae3-4659-f0e5-04eb7c96037c"
   },
   "outputs": [
    {
     "name": "stderr",
     "output_type": "stream",
     "text": [
      "[nltk_data] Downloading package stopwords to\n",
      "[nltk_data]     C:\\Users\\NAVEEN\\AppData\\Roaming\\nltk_data...\n",
      "[nltk_data]   Package stopwords is already up-to-date!\n",
      "[nltk_data] Downloading package punkt to\n",
      "[nltk_data]     C:\\Users\\NAVEEN\\AppData\\Roaming\\nltk_data...\n",
      "[nltk_data]   Package punkt is already up-to-date!\n"
     ]
    },
    {
     "data": {
      "text/plain": [
       "True"
      ]
     },
     "execution_count": 7,
     "metadata": {},
     "output_type": "execute_result"
    }
   ],
   "source": [
    "nltk.download('stopwords')\n",
    "nltk.download('punkt')"
   ]
  },
  {
   "cell_type": "code",
   "execution_count": 1,
   "metadata": {
    "id": "nrYKQ-ZeASyS"
   },
   "outputs": [
    {
     "ename": "NameError",
     "evalue": "name 'nltk' is not defined",
     "output_type": "error",
     "traceback": [
      "\u001b[1;31m---------------------------------------------------------------------------\u001b[0m",
      "\u001b[1;31mNameError\u001b[0m                                 Traceback (most recent call last)",
      "\u001b[1;32m<ipython-input-1-a91149c46357>\u001b[0m in \u001b[0;36m<module>\u001b[1;34m\u001b[0m\n\u001b[1;32m----> 1\u001b[1;33m \u001b[0mstopword\u001b[0m \u001b[1;33m=\u001b[0m \u001b[0mnltk\u001b[0m\u001b[1;33m.\u001b[0m\u001b[0mcorpus\u001b[0m\u001b[1;33m.\u001b[0m\u001b[0mstopwords\u001b[0m\u001b[1;33m.\u001b[0m\u001b[0mwords\u001b[0m\u001b[1;33m(\u001b[0m\u001b[1;34m'english'\u001b[0m\u001b[1;33m)\u001b[0m\u001b[1;33m\u001b[0m\u001b[1;33m\u001b[0m\u001b[0m\n\u001b[0m",
      "\u001b[1;31mNameError\u001b[0m: name 'nltk' is not defined"
     ]
    }
   ],
   "source": [
    "stopword = nltk.corpus.stopwords.words('english')"
   ]
  },
  {
   "cell_type": "code",
   "execution_count": 9,
   "metadata": {
    "id": "Wahrn3JJ4k09"
   },
   "outputs": [],
   "source": [
    "#Functions used :\n",
    "#Label Encoding\n",
    "#Punctuation Removal\n",
    "#Number Removal\n",
    "#Tokenizing\n",
    "#Lower Case Conversion\n",
    "#Stop words\n",
    "#Token Concatenation"
   ]
  },
  {
   "cell_type": "code",
   "execution_count": 10,
   "metadata": {
    "id": "iXSH82454lB_"
   },
   "outputs": [],
   "source": [
    "#Label Encoding "
   ]
  },
  {
   "cell_type": "code",
   "execution_count": 11,
   "metadata": {
    "id": "rc1vGEzaI0cx"
   },
   "outputs": [],
   "source": [
    "def label_encoding(i):\n",
    "    if i == 'Deposits and withdrawals':\n",
    "        return 1\n",
    "    else :\n",
    "        return 0"
   ]
  },
  {
   "cell_type": "code",
   "execution_count": 12,
   "metadata": {
    "id": "1-O3-1xD51dA"
   },
   "outputs": [],
   "source": [
    "#Punctuation Removal"
   ]
  },
  {
   "cell_type": "code",
   "execution_count": 13,
   "metadata": {
    "id": "ugC1A73zI0cy"
   },
   "outputs": [],
   "source": [
    "def remove_punctuation(text):\n",
    "    words = [word for word in text if word not in string.punctuation]\n",
    "    text = ''.join(words)\n",
    "    return text"
   ]
  },
  {
   "cell_type": "code",
   "execution_count": 14,
   "metadata": {
    "id": "aDh9d-at6Mzt"
   },
   "outputs": [],
   "source": [
    "#Number Removal"
   ]
  },
  {
   "cell_type": "code",
   "execution_count": 15,
   "metadata": {
    "id": "pE5jDrsfI0cy"
   },
   "outputs": [],
   "source": [
    "def remove_numbers(text):\n",
    "    words = [word for word in text if not word.isdigit()]\n",
    "    text = ''.join(words)\n",
    "    return text"
   ]
  },
  {
   "cell_type": "code",
   "execution_count": 16,
   "metadata": {
    "id": "FruhkWsk4lHw"
   },
   "outputs": [],
   "source": [
    "#Lower Case Conversion"
   ]
  },
  {
   "cell_type": "code",
   "execution_count": 17,
   "metadata": {
    "id": "kwiItyTgI0cy"
   },
   "outputs": [],
   "source": [
    "def convert_to_lower(tokens):\n",
    "    tokens=[word.lower() for word in tokens]\n",
    "    return tokens"
   ]
  },
  {
   "cell_type": "code",
   "execution_count": 18,
   "metadata": {
    "id": "XdTbHhlf67G7"
   },
   "outputs": [],
   "source": [
    "#Stopwords"
   ]
  },
  {
   "cell_type": "code",
   "execution_count": 19,
   "metadata": {
    "id": "KvoTqIVjI0cz"
   },
   "outputs": [],
   "source": [
    "def remove_stopwords(tokens):\n",
    "    tokens=[word for word in tokens if word not in stopword]\n",
    "    return tokens\n"
   ]
  },
  {
   "cell_type": "code",
   "execution_count": 20,
   "metadata": {
    "id": "GqBUA5Uw4lOC"
   },
   "outputs": [],
   "source": [
    "#Token Concatenation"
   ]
  },
  {
   "cell_type": "code",
   "execution_count": 21,
   "metadata": {
    "id": "pg7wegqmP339"
   },
   "outputs": [],
   "source": [
    "def concate_tokens(token):\n",
    "    sentance = ''\n",
    "    for i in token:\n",
    "        sentance = sentance+i+' '\n",
    "    return sentance    "
   ]
  },
  {
   "cell_type": "code",
   "execution_count": 22,
   "metadata": {
    "id": "ZFsgMiksI0co"
   },
   "outputs": [],
   "source": [
    "CV = CountVectorizer()"
   ]
  },
  {
   "cell_type": "code",
   "execution_count": 23,
   "metadata": {
    "id": "zakNvyq-I0cl"
   },
   "outputs": [],
   "source": [
    "df = pd.read_csv(\"bank_account_or_service.csv\",index_col=0,error_bad_lines=False)"
   ]
  },
  {
   "cell_type": "code",
   "execution_count": 24,
   "metadata": {
    "colab": {
     "base_uri": "https://localhost:8080/"
    },
    "id": "C7NbT6maKcvV",
    "outputId": "0972775d-5dfd-4197-d1b5-17e5178f68aa"
   },
   "outputs": [
    {
     "data": {
      "text/plain": [
       "(5711, 18)"
      ]
     },
     "execution_count": 24,
     "metadata": {},
     "output_type": "execute_result"
    }
   ],
   "source": [
    "df.shape"
   ]
  },
  {
   "cell_type": "code",
   "execution_count": 25,
   "metadata": {
    "colab": {
     "base_uri": "https://localhost:8080/"
    },
    "id": "uSGs3I9sI0cl",
    "outputId": "477945f7-4df4-429c-99bc-e8b795aaffee"
   },
   "outputs": [
    {
     "data": {
      "text/plain": [
       "Index(['date_received', 'product', 'sub_product', 'issue', 'sub_issue',\n",
       "       'consumer_complaint_narrative', 'company_public_response', 'company',\n",
       "       'state', 'zipcode', 'tags', 'consumer_consent_provided',\n",
       "       'submitted_via', 'date_sent_to_company', 'company_response_to_consumer',\n",
       "       'timely_response', 'consumer_disputed?', 'complaint_id'],\n",
       "      dtype='object')"
      ]
     },
     "execution_count": 25,
     "metadata": {},
     "output_type": "execute_result"
    }
   ],
   "source": [
    "df.columns"
   ]
  },
  {
   "cell_type": "code",
   "execution_count": 26,
   "metadata": {
    "id": "dMKrAUVfI0cm"
   },
   "outputs": [],
   "source": [
    "pd.set_option(\"display.max_colwidth\", None)"
   ]
  },
  {
   "cell_type": "code",
   "execution_count": 27,
   "metadata": {
    "colab": {
     "base_uri": "https://localhost:8080/"
    },
    "id": "9LYY1AHUI0co",
    "outputId": "51c61917-9a9d-4a25-d707-a3d887264a43"
   },
   "outputs": [
    {
     "data": {
      "text/plain": [
       "array(['Deposits and withdrawals',\n",
       "       'Account opening, closing, or management',\n",
       "       'Using a debit or ATM card',\n",
       "       'Problems caused by my funds being low',\n",
       "       'Making/receiving payments, sending money'], dtype=object)"
      ]
     },
     "execution_count": 27,
     "metadata": {},
     "output_type": "execute_result"
    }
   ],
   "source": [
    "df.issue.unique()"
   ]
  },
  {
   "cell_type": "code",
   "execution_count": 28,
   "metadata": {
    "id": "KseC768O3gut"
   },
   "outputs": [],
   "source": [
    "df_new1 = df[[\"issue\",\"consumer_complaint_narrative\"]]"
   ]
  },
  {
   "cell_type": "code",
   "execution_count": 29,
   "metadata": {
    "id": "dcNq09KFI0cx"
   },
   "outputs": [],
   "source": [
    "df_new1['consumer_complaint_narrative'] =  df.consumer_complaint_narrative.apply(lambda i : str(i) )"
   ]
  },
  {
   "cell_type": "code",
   "execution_count": 30,
   "metadata": {
    "colab": {
     "base_uri": "https://localhost:8080/"
    },
    "id": "8bJjD_9cI0cx",
    "outputId": "7e34c921-98d2-4238-c19a-cbb38cea9013"
   },
   "outputs": [
    {
     "name": "stdout",
     "output_type": "stream",
     "text": [
      "<class 'pandas.core.frame.DataFrame'>\n",
      "Int64Index: 5711 entries, 192044 to 553037\n",
      "Data columns (total 2 columns):\n",
      " #   Column                        Non-Null Count  Dtype \n",
      "---  ------                        --------------  ----- \n",
      " 0   issue                         5711 non-null   object\n",
      " 1   consumer_complaint_narrative  5711 non-null   object\n",
      "dtypes: object(2)\n",
      "memory usage: 133.9+ KB\n"
     ]
    }
   ],
   "source": [
    "df_new1.info()"
   ]
  },
  {
   "cell_type": "code",
   "execution_count": 31,
   "metadata": {
    "colab": {
     "base_uri": "https://localhost:8080/"
    },
    "id": "3Y5rxbEU98nu",
    "outputId": "1094e1f8-b4e1-4b3d-8d6f-1d82c27b56f7"
   },
   "outputs": [
    {
     "name": "stdout",
     "output_type": "stream",
     "text": [
      "<class 'pandas.core.frame.DataFrame'>\n",
      "Int64Index: 5711 entries, 192044 to 553037\n",
      "Data columns (total 2 columns):\n",
      " #   Column                        Non-Null Count  Dtype \n",
      "---  ------                        --------------  ----- \n",
      " 0   issue                         5711 non-null   object\n",
      " 1   consumer_complaint_narrative  5711 non-null   object\n",
      "dtypes: object(2)\n",
      "memory usage: 133.9+ KB\n"
     ]
    }
   ],
   "source": [
    "df_new1.info()"
   ]
  },
  {
   "cell_type": "code",
   "execution_count": 32,
   "metadata": {
    "id": "HUTwRqPxI0cx"
   },
   "outputs": [],
   "source": [
    "df_new1['target'] = df_new1['issue'].map(label_encoding)"
   ]
  },
  {
   "cell_type": "code",
   "execution_count": 33,
   "metadata": {
    "colab": {
     "base_uri": "https://localhost:8080/"
    },
    "id": "PlqPMEmKI0cx",
    "outputId": "9e7c8e7a-4d5f-4156-98d7-aef0a7bffb86"
   },
   "outputs": [
    {
     "data": {
      "text/plain": [
       "0    4310\n",
       "1    1401\n",
       "Name: target, dtype: int64"
      ]
     },
     "execution_count": 33,
     "metadata": {},
     "output_type": "execute_result"
    }
   ],
   "source": [
    "df_new1.target.value_counts()"
   ]
  },
  {
   "cell_type": "code",
   "execution_count": 34,
   "metadata": {
    "colab": {
     "base_uri": "https://localhost:8080/"
    },
    "id": "32Hjz-QfI0cx",
    "outputId": "3ec0746c-03b3-4035-91ee-45ea14eaf9b5"
   },
   "outputs": [
    {
     "data": {
      "text/plain": [
       "(1401, 3)"
      ]
     },
     "execution_count": 34,
     "metadata": {},
     "output_type": "execute_result"
    }
   ],
   "source": [
    "df_new1[df_new1.issue == 'Deposits and withdrawals'].shape"
   ]
  },
  {
   "cell_type": "code",
   "execution_count": 35,
   "metadata": {
    "id": "gPbG_iwx8YFl"
   },
   "outputs": [],
   "source": [
    "df_new1['narrative_wo_punct'] = df_new1['consumer_complaint_narrative'].map(remove_punctuation)"
   ]
  },
  {
   "cell_type": "code",
   "execution_count": 36,
   "metadata": {
    "colab": {
     "base_uri": "https://localhost:8080/"
    },
    "id": "GMExnfLQ9u_M",
    "outputId": "beaa1b17-5287-4c4e-8a5a-662d721e8352"
   },
   "outputs": [
    {
     "data": {
      "text/plain": [
       "192044    I opened an account with M  T bank online on XXXXXXXX15 and immediately funded it with an automated transfer of 50000 A little over a week later I got a letter requesting that I fax in a copy of my DL Social and utility bill for address verification which I did on XXXXXXXX15 Fast forward to today XXXXXXXX15 and I have not heard anything back so I called M  T bank to find out the status and I was told that they still have not reviewed it and my 50000 was on hold I demanded that my account get shut down and my 50000 returned but I was told that could not happen until they reviewed my information that was faxed and released the hold on my account I asked how long that would take and I was told it would take as long as they want which would render my 50000 hostage until they got around to figuring stuff out \\n\n",
       "Name: narrative_wo_punct, dtype: object"
      ]
     },
     "execution_count": 36,
     "metadata": {},
     "output_type": "execute_result"
    }
   ],
   "source": [
    "df_new1['narrative_wo_punct'].head(1)"
   ]
  },
  {
   "cell_type": "code",
   "execution_count": 37,
   "metadata": {
    "id": "NCDfWJTU-fef"
   },
   "outputs": [],
   "source": [
    "df_new1['narrative_wo_numbers'] = df_new1['narrative_wo_punct'].map(remove_numbers)"
   ]
  },
  {
   "cell_type": "code",
   "execution_count": 38,
   "metadata": {
    "colab": {
     "base_uri": "https://localhost:8080/"
    },
    "id": "mvKF6aA7-xW0",
    "outputId": "56092918-6ee0-481c-deda-7d6612edd01d"
   },
   "outputs": [
    {
     "data": {
      "text/plain": [
       "192044    I opened an account with M  T bank online on XXXXXXXX and immediately funded it with an automated transfer of  A little over a week later I got a letter requesting that I fax in a copy of my DL Social and utility bill for address verification which I did on XXXXXXXX Fast forward to today XXXXXXXX and I have not heard anything back so I called M  T bank to find out the status and I was told that they still have not reviewed it and my  was on hold I demanded that my account get shut down and my  returned but I was told that could not happen until they reviewed my information that was faxed and released the hold on my account I asked how long that would take and I was told it would take as long as they want which would render my  hostage until they got around to figuring stuff out \\n\n",
       "Name: narrative_wo_numbers, dtype: object"
      ]
     },
     "execution_count": 38,
     "metadata": {},
     "output_type": "execute_result"
    }
   ],
   "source": [
    "df_new1['narrative_wo_numbers'].head(1)"
   ]
  },
  {
   "cell_type": "code",
   "execution_count": 39,
   "metadata": {
    "id": "Uqkr6QaLI0cy"
   },
   "outputs": [],
   "source": [
    "df_new1['tokens'] = df_new1['narrative_wo_numbers'].map(word_tokenize)\n"
   ]
  },
  {
   "cell_type": "code",
   "execution_count": 40,
   "metadata": {
    "colab": {
     "base_uri": "https://localhost:8080/"
    },
    "id": "WOWHSwtbN6fu",
    "outputId": "89346397-6ca7-48eb-cacb-8bf03e5993e5"
   },
   "outputs": [
    {
     "data": {
      "text/plain": [
       "192044    [I, opened, an, account, with, M, T, bank, online, on, XXXXXXXX, and, immediately, funded, it, with, an, automated, transfer, of, A, little, over, a, week, later, I, got, a, letter, requesting, that, I, fax, in, a, copy, of, my, DL, Social, and, utility, bill, for, address, verification, which, I, did, on, XXXXXXXX, Fast, forward, to, today, XXXXXXXX, and, I, have, not, heard, anything, back, so, I, called, M, T, bank, to, find, out, the, status, and, I, was, told, that, they, still, have, not, reviewed, it, and, my, was, on, hold, I, demanded, that, my, account, get, shut, down, and, ...]\n",
       "Name: tokens, dtype: object"
      ]
     },
     "execution_count": 40,
     "metadata": {},
     "output_type": "execute_result"
    }
   ],
   "source": [
    "df_new1['tokens'].head(1)"
   ]
  },
  {
   "cell_type": "code",
   "execution_count": 41,
   "metadata": {
    "id": "7vKk4yCoN8i-"
   },
   "outputs": [],
   "source": [
    "df_new1['tokens_to_lower'] = df_new1['tokens'].map(convert_to_lower)"
   ]
  },
  {
   "cell_type": "code",
   "execution_count": 42,
   "metadata": {
    "colab": {
     "base_uri": "https://localhost:8080/"
    },
    "id": "8x947p-0_VL1",
    "outputId": "b37af480-5c18-4b25-aa3d-defa7622d619"
   },
   "outputs": [
    {
     "data": {
      "text/plain": [
       "192044    [i, opened, an, account, with, m, t, bank, online, on, xxxxxxxx, and, immediately, funded, it, with, an, automated, transfer, of, a, little, over, a, week, later, i, got, a, letter, requesting, that, i, fax, in, a, copy, of, my, dl, social, and, utility, bill, for, address, verification, which, i, did, on, xxxxxxxx, fast, forward, to, today, xxxxxxxx, and, i, have, not, heard, anything, back, so, i, called, m, t, bank, to, find, out, the, status, and, i, was, told, that, they, still, have, not, reviewed, it, and, my, was, on, hold, i, demanded, that, my, account, get, shut, down, and, ...]\n",
       "Name: tokens_to_lower, dtype: object"
      ]
     },
     "execution_count": 42,
     "metadata": {},
     "output_type": "execute_result"
    }
   ],
   "source": [
    "df_new1['tokens_to_lower'].head(1)"
   ]
  },
  {
   "cell_type": "code",
   "execution_count": 43,
   "metadata": {
    "id": "K8xAu0JJI0cz"
   },
   "outputs": [],
   "source": [
    "df_new1['wo_stopwords'] = df_new1['tokens_to_lower'].map(remove_stopwords)"
   ]
  },
  {
   "cell_type": "code",
   "execution_count": 44,
   "metadata": {
    "colab": {
     "base_uri": "https://localhost:8080/"
    },
    "id": "7GNOtH2XI0cz",
    "outputId": "d59661b5-d5f7-42b5-f65d-b55453af2e6f"
   },
   "outputs": [
    {
     "data": {
      "text/plain": [
       "192044    [opened, account, bank, online, xxxxxxxx, immediately, funded, automated, transfer, little, week, later, got, letter, requesting, fax, copy, dl, social, utility, bill, address, verification, xxxxxxxx, fast, forward, today, xxxxxxxx, heard, anything, back, called, bank, find, status, told, still, reviewed, hold, demanded, account, get, shut, returned, told, could, happen, reviewed, information, faxed, released, hold, account, asked, long, would, take, told, would, take, long, want, would, render, hostage, got, around, figuring, stuff]\n",
       "Name: wo_stopwords, dtype: object"
      ]
     },
     "execution_count": 44,
     "metadata": {},
     "output_type": "execute_result"
    }
   ],
   "source": [
    "df_new1.wo_stopwords.head(1)"
   ]
  },
  {
   "cell_type": "code",
   "execution_count": 45,
   "metadata": {
    "id": "iHg-qCCyP-8t"
   },
   "outputs": [],
   "source": [
    "df_new1['final_text'] = df_new1['wo_stopwords'].map(concate_tokens)"
   ]
  },
  {
   "cell_type": "code",
   "execution_count": 46,
   "metadata": {
    "colab": {
     "base_uri": "https://localhost:8080/"
    },
    "id": "nQCxk6jXQFhi",
    "outputId": "c9c7f990-019f-43b2-c91b-b7b40e868bf4"
   },
   "outputs": [
    {
     "data": {
      "text/plain": [
       "192044    opened account bank online xxxxxxxx immediately funded automated transfer little week later got letter requesting fax copy dl social utility bill address verification xxxxxxxx fast forward today xxxxxxxx heard anything back called bank find status told still reviewed hold demanded account get shut returned told could happen reviewed information faxed released hold account asked long would take told would take long want would render hostage got around figuring stuff \n",
       "Name: final_text, dtype: object"
      ]
     },
     "execution_count": 46,
     "metadata": {},
     "output_type": "execute_result"
    }
   ],
   "source": [
    "df_new1.final_text.head(1)\n"
   ]
  },
  {
   "cell_type": "code",
   "execution_count": 47,
   "metadata": {
    "id": "xsaa-bieAsps"
   },
   "outputs": [],
   "source": [
    "#Independent and Target Variables"
   ]
  },
  {
   "cell_type": "code",
   "execution_count": 48,
   "metadata": {
    "id": "YJBw3KfjSbPl"
   },
   "outputs": [],
   "source": [
    "features_var = df_new1.final_text\n",
    "target_var = df_new1.target"
   ]
  },
  {
   "cell_type": "code",
   "execution_count": 49,
   "metadata": {
    "id": "YKghIEdUQhWh"
   },
   "outputs": [],
   "source": [
    "xtrain, xtest, ytrain, ytest = train_test_split(features_var,target_var, test_size=.2,random_state=100)"
   ]
  },
  {
   "cell_type": "code",
   "execution_count": 50,
   "metadata": {
    "colab": {
     "base_uri": "https://localhost:8080/"
    },
    "id": "PFMEQSf-BOLf",
    "outputId": "a6711e79-c217-465b-a9e3-2cd1ba16d554"
   },
   "outputs": [
    {
     "data": {
      "text/plain": [
       "((4568,), (1143,), (4568,), (1143,))"
      ]
     },
     "execution_count": 50,
     "metadata": {},
     "output_type": "execute_result"
    }
   ],
   "source": [
    "xtrain.shape, xtest.shape, ytrain.shape, ytest.shape"
   ]
  },
  {
   "cell_type": "code",
   "execution_count": 51,
   "metadata": {
    "id": "OW2n0OfHQhZP"
   },
   "outputs": [],
   "source": [
    "toNumeric = CountVectorizer()"
   ]
  },
  {
   "cell_type": "code",
   "execution_count": 52,
   "metadata": {
    "colab": {
     "base_uri": "https://localhost:8080/"
    },
    "id": "ysDFFDftSqgF",
    "outputId": "439dbcee-ba98-45bb-aeb6-557a76af80d0"
   },
   "outputs": [
    {
     "data": {
      "text/plain": [
       "CountVectorizer()"
      ]
     },
     "execution_count": 52,
     "metadata": {},
     "output_type": "execute_result"
    }
   ],
   "source": [
    "#Get the vocabulary(unique words) from training data\n",
    "toNumeric.fit(xtrain)"
   ]
  },
  {
   "cell_type": "code",
   "execution_count": 53,
   "metadata": {
    "colab": {
     "base_uri": "https://localhost:8080/"
    },
    "id": "YKNnLth9SqlO",
    "outputId": "6d482fe6-3d26-4d6b-85d8-0255e75b6adf"
   },
   "outputs": [
    {
     "data": {
      "text/plain": [
       "15652"
      ]
     },
     "execution_count": 53,
     "metadata": {},
     "output_type": "execute_result"
    }
   ],
   "source": [
    "# Test the created vocabulary\n",
    "len(toNumeric.get_feature_names())"
   ]
  },
  {
   "cell_type": "code",
   "execution_count": 54,
   "metadata": {
    "colab": {
     "base_uri": "https://localhost:8080/"
    },
    "id": "RT5iqSkIQFsC",
    "outputId": "d90e059c-5d81-40af-cfc9-47db1702010c"
   },
   "outputs": [
    {
     "data": {
      "text/plain": [
       "<4568x15652 sparse matrix of type '<class 'numpy.int64'>'\n",
       "\twith 313194 stored elements in Compressed Sparse Row format>"
      ]
     },
     "execution_count": 54,
     "metadata": {},
     "output_type": "execute_result"
    }
   ],
   "source": [
    "# Convert training data into a 'document-term matrix'\n",
    "sampleTrain_dtm = toNumeric.transform(xtrain)\n",
    "sampleTrain_dtm"
   ]
  },
  {
   "cell_type": "code",
   "execution_count": 55,
   "metadata": {
    "colab": {
     "base_uri": "https://localhost:8080/"
    },
    "id": "xZcByQzjTF2X",
    "outputId": "5cfe3078-8a68-4e98-a71c-a4f035e02d10"
   },
   "outputs": [
    {
     "data": {
      "text/plain": [
       "array([[0, 0, 0, ..., 0, 0, 0],\n",
       "       [0, 0, 0, ..., 0, 0, 0],\n",
       "       [0, 0, 0, ..., 0, 0, 0],\n",
       "       ...,\n",
       "       [0, 0, 0, ..., 0, 0, 0],\n",
       "       [0, 0, 0, ..., 0, 0, 0],\n",
       "       [0, 0, 0, ..., 0, 0, 0]], dtype=int64)"
      ]
     },
     "execution_count": 55,
     "metadata": {},
     "output_type": "execute_result"
    }
   ],
   "source": [
    "# Let's convert sparse matrix to a dense matrix\n",
    "sampleTrain_dtm.toarray()"
   ]
  },
  {
   "cell_type": "code",
   "execution_count": 56,
   "metadata": {
    "colab": {
     "base_uri": "https://localhost:8080/",
     "height": 129
    },
    "id": "X8gx9UUxTF5J",
    "outputId": "d3302ff0-f687-44a9-d04c-2fb21ddfae01"
   },
   "outputs": [
    {
     "data": {
      "text/html": [
       "<div>\n",
       "<style scoped>\n",
       "    .dataframe tbody tr th:only-of-type {\n",
       "        vertical-align: middle;\n",
       "    }\n",
       "\n",
       "    .dataframe tbody tr th {\n",
       "        vertical-align: top;\n",
       "    }\n",
       "\n",
       "    .dataframe thead th {\n",
       "        text-align: right;\n",
       "    }\n",
       "</style>\n",
       "<table border=\"1\" class=\"dataframe\">\n",
       "  <thead>\n",
       "    <tr style=\"text-align: right;\">\n",
       "      <th></th>\n",
       "      <th>aaccount</th>\n",
       "      <th>aacount</th>\n",
       "      <th>aba</th>\n",
       "      <th>aback</th>\n",
       "      <th>aballished</th>\n",
       "      <th>abandon</th>\n",
       "      <th>abandoned</th>\n",
       "      <th>abank</th>\n",
       "      <th>abarouting</th>\n",
       "      <th>abatement</th>\n",
       "      <th>...</th>\n",
       "      <th>zed</th>\n",
       "      <th>zero</th>\n",
       "      <th>zeroed</th>\n",
       "      <th>zeros</th>\n",
       "      <th>zi</th>\n",
       "      <th>zion</th>\n",
       "      <th>zions</th>\n",
       "      <th>zip</th>\n",
       "      <th>zippered</th>\n",
       "      <th>zone</th>\n",
       "    </tr>\n",
       "  </thead>\n",
       "  <tbody>\n",
       "    <tr>\n",
       "      <th>0</th>\n",
       "      <td>0</td>\n",
       "      <td>0</td>\n",
       "      <td>0</td>\n",
       "      <td>0</td>\n",
       "      <td>0</td>\n",
       "      <td>0</td>\n",
       "      <td>0</td>\n",
       "      <td>0</td>\n",
       "      <td>0</td>\n",
       "      <td>0</td>\n",
       "      <td>...</td>\n",
       "      <td>0</td>\n",
       "      <td>0</td>\n",
       "      <td>0</td>\n",
       "      <td>0</td>\n",
       "      <td>0</td>\n",
       "      <td>0</td>\n",
       "      <td>0</td>\n",
       "      <td>0</td>\n",
       "      <td>0</td>\n",
       "      <td>0</td>\n",
       "    </tr>\n",
       "  </tbody>\n",
       "</table>\n",
       "<p>1 rows × 15652 columns</p>\n",
       "</div>"
      ],
      "text/plain": [
       "   aaccount  aacount  aba  aback  aballished  abandon  abandoned  abank  \\\n",
       "0         0        0    0      0           0        0          0      0   \n",
       "\n",
       "   abarouting  abatement  ...  zed  zero  zeroed  zeros  zi  zion  zions  zip  \\\n",
       "0           0          0  ...    0     0       0      0   0     0      0    0   \n",
       "\n",
       "   zippered  zone  \n",
       "0         0     0  \n",
       "\n",
       "[1 rows x 15652 columns]"
      ]
     },
     "execution_count": 56,
     "metadata": {},
     "output_type": "execute_result"
    }
   ],
   "source": [
    "pd.DataFrame(sampleTrain_dtm.toarray(), columns=toNumeric.get_feature_names()).head(1)"
   ]
  },
  {
   "cell_type": "code",
   "execution_count": 57,
   "metadata": {
    "colab": {
     "base_uri": "https://localhost:8080/"
    },
    "id": "9V7t5NnrTS9T",
    "outputId": "5f43df49-2eab-47ab-8ca7-ca8cdf93a2a2"
   },
   "outputs": [
    {
     "data": {
      "text/plain": [
       "KNeighborsClassifier(n_neighbors=3)"
      ]
     },
     "execution_count": 57,
     "metadata": {},
     "output_type": "execute_result"
    }
   ],
   "source": [
    "model1 = KNeighborsClassifier(n_neighbors=3)\n",
    "model1.fit(sampleTrain_dtm, ytrain)"
   ]
  },
  {
   "cell_type": "code",
   "execution_count": 58,
   "metadata": {
    "colab": {
     "base_uri": "https://localhost:8080/"
    },
    "id": "JGfenjyjTS_p",
    "outputId": "48781bb4-f080-492a-94a8-9373a1cd31fe"
   },
   "outputs": [
    {
     "data": {
      "text/plain": [
       "1143"
      ]
     },
     "execution_count": 58,
     "metadata": {},
     "output_type": "execute_result"
    }
   ],
   "source": [
    "# Transform test data into DTM by using generated vocabulary\n",
    "sampleTest_dtm = toNumeric.transform(xtest)\n",
    "len(sampleTest_dtm.toarray())"
   ]
  },
  {
   "cell_type": "code",
   "execution_count": 59,
   "metadata": {
    "id": "uLjfjawdTTBs"
   },
   "outputs": [],
   "source": [
    "# Test built model\n",
    "y_pred_test = model1.predict(sampleTest_dtm)"
   ]
  },
  {
   "cell_type": "code",
   "execution_count": 60,
   "metadata": {
    "colab": {
     "base_uri": "https://localhost:8080/"
    },
    "id": "aqiPIbV8UfL1",
    "outputId": "b1dcfc52-c9f3-4617-fbb2-be319b825b04"
   },
   "outputs": [
    {
     "data": {
      "text/plain": [
       "(1143,)"
      ]
     },
     "execution_count": 60,
     "metadata": {},
     "output_type": "execute_result"
    }
   ],
   "source": [
    "y_pred_test.shape"
   ]
  },
  {
   "cell_type": "code",
   "execution_count": 61,
   "metadata": {
    "colab": {
     "base_uri": "https://localhost:8080/"
    },
    "id": "jeCLAc1XUyZH",
    "outputId": "de5d9d2c-8f4e-45e4-961e-5865a399c260"
   },
   "outputs": [
    {
     "data": {
      "text/plain": [
       "(1143,)"
      ]
     },
     "execution_count": 61,
     "metadata": {},
     "output_type": "execute_result"
    }
   ],
   "source": [
    "ytest.shape"
   ]
  },
  {
   "cell_type": "code",
   "execution_count": 62,
   "metadata": {
    "colab": {
     "base_uri": "https://localhost:8080/"
    },
    "id": "QUmKCPWAUDeF",
    "outputId": "3e0e7922-b852-424d-8073-81fd8ac29839"
   },
   "outputs": [
    {
     "name": "stdout",
     "output_type": "stream",
     "text": [
      "              precision    recall  f1-score   support\n",
      "\n",
      "           0       0.79      0.85      0.82       866\n",
      "           1       0.39      0.30      0.34       277\n",
      "\n",
      "    accuracy                           0.72      1143\n",
      "   macro avg       0.59      0.58      0.58      1143\n",
      "weighted avg       0.70      0.72      0.70      1143\n",
      "\n"
     ]
    }
   ],
   "source": [
    "print(classification_report(ytest, y_pred_test))"
   ]
  },
  {
   "cell_type": "code",
   "execution_count": 63,
   "metadata": {
    "id": "Sm7fKo4eUDgq"
   },
   "outputs": [],
   "source": [
    "df_output = pd.DataFrame({\n",
    "    'y actual' : ytest,\n",
    "    ' y predicted' : y_pred_test\n",
    "})"
   ]
  },
  {
   "cell_type": "code",
   "execution_count": 64,
   "metadata": {
    "colab": {
     "base_uri": "https://localhost:8080/",
     "height": 203
    },
    "id": "KuvwV2xwVkNZ",
    "outputId": "5b2afc1a-c196-445a-9f70-6280e2b2bac2"
   },
   "outputs": [
    {
     "data": {
      "text/html": [
       "<div>\n",
       "<style scoped>\n",
       "    .dataframe tbody tr th:only-of-type {\n",
       "        vertical-align: middle;\n",
       "    }\n",
       "\n",
       "    .dataframe tbody tr th {\n",
       "        vertical-align: top;\n",
       "    }\n",
       "\n",
       "    .dataframe thead th {\n",
       "        text-align: right;\n",
       "    }\n",
       "</style>\n",
       "<table border=\"1\" class=\"dataframe\">\n",
       "  <thead>\n",
       "    <tr style=\"text-align: right;\">\n",
       "      <th></th>\n",
       "      <th>y actual</th>\n",
       "      <th>y predicted</th>\n",
       "    </tr>\n",
       "  </thead>\n",
       "  <tbody>\n",
       "    <tr>\n",
       "      <th>228491</th>\n",
       "      <td>0</td>\n",
       "      <td>0</td>\n",
       "    </tr>\n",
       "    <tr>\n",
       "      <th>317301</th>\n",
       "      <td>0</td>\n",
       "      <td>0</td>\n",
       "    </tr>\n",
       "    <tr>\n",
       "      <th>533005</th>\n",
       "      <td>0</td>\n",
       "      <td>1</td>\n",
       "    </tr>\n",
       "    <tr>\n",
       "      <th>308706</th>\n",
       "      <td>0</td>\n",
       "      <td>1</td>\n",
       "    </tr>\n",
       "    <tr>\n",
       "      <th>324088</th>\n",
       "      <td>0</td>\n",
       "      <td>0</td>\n",
       "    </tr>\n",
       "  </tbody>\n",
       "</table>\n",
       "</div>"
      ],
      "text/plain": [
       "        y actual   y predicted\n",
       "228491         0             0\n",
       "317301         0             0\n",
       "533005         0             1\n",
       "308706         0             1\n",
       "324088         0             0"
      ]
     },
     "execution_count": 64,
     "metadata": {},
     "output_type": "execute_result"
    }
   ],
   "source": [
    "df_output.head(5)"
   ]
  },
  {
   "cell_type": "code",
   "execution_count": 65,
   "metadata": {
    "colab": {
     "base_uri": "https://localhost:8080/"
    },
    "id": "DSlRoKjdVuKN",
    "outputId": "ab016545-1a8d-4bfa-ffb8-59cab7eb0b22"
   },
   "outputs": [
    {
     "name": "stdout",
     "output_type": "stream",
     "text": [
      "y actual\n",
      "0    866\n",
      "1    277\n",
      "Name: y actual, dtype: int64\n",
      " y predicted\n",
      "0    935\n",
      "1    208\n",
      "Name:  y predicted, dtype: int64\n"
     ]
    }
   ],
   "source": [
    "for i in df_output.columns:\n",
    "  print(i,df_output[i].value_counts(),sep=\"\\n\")"
   ]
  },
  {
   "cell_type": "code",
   "execution_count": 66,
   "metadata": {
    "colab": {
     "base_uri": "https://localhost:8080/"
    },
    "id": "xpXI_vsIVuMa",
    "outputId": "20bc4cc5-8e8e-4720-c286-66b410612159"
   },
   "outputs": [
    {
     "name": "stdout",
     "output_type": "stream",
     "text": [
      "Fitting 5 folds for each of 96 candidates, totalling 480 fits\n",
      "[CV] metric=hamming, n_neighbors=1, weights=uniform ..................\n",
      "[CV] ... metric=hamming, n_neighbors=1, weights=uniform, total=   0.0s\n",
      "[CV] metric=hamming, n_neighbors=1, weights=uniform ..................\n",
      "[CV] ... metric=hamming, n_neighbors=1, weights=uniform, total=   0.0s\n",
      "[CV] metric=hamming, n_neighbors=1, weights=uniform ..................\n",
      "[CV] ... metric=hamming, n_neighbors=1, weights=uniform, total=   0.0s\n",
      "[CV] metric=hamming, n_neighbors=1, weights=uniform ..................\n",
      "[CV] ... metric=hamming, n_neighbors=1, weights=uniform, total=   0.0s\n",
      "[CV] metric=hamming, n_neighbors=1, weights=uniform ..................\n",
      "[CV] ... metric=hamming, n_neighbors=1, weights=uniform, total=   0.0s\n",
      "[CV] metric=hamming, n_neighbors=1, weights=distance .................\n",
      "[CV] .. metric=hamming, n_neighbors=1, weights=distance, total=   0.0s\n",
      "[CV] metric=hamming, n_neighbors=1, weights=distance .................\n",
      "[CV] .. metric=hamming, n_neighbors=1, weights=distance, total=   0.0s\n",
      "[CV] metric=hamming, n_neighbors=1, weights=distance .................\n",
      "[CV] .. metric=hamming, n_neighbors=1, weights=distance, total=   0.0s\n",
      "[CV] metric=hamming, n_neighbors=1, weights=distance .................\n",
      "[CV] .. metric=hamming, n_neighbors=1, weights=distance, total=   0.0s\n",
      "[CV] metric=hamming, n_neighbors=1, weights=distance .................\n",
      "[CV] .. metric=hamming, n_neighbors=1, weights=distance, total=   0.0s\n",
      "[CV] metric=hamming, n_neighbors=3, weights=uniform ..................\n",
      "[CV] ... metric=hamming, n_neighbors=3, weights=uniform, total=   0.0s\n",
      "[CV] metric=hamming, n_neighbors=3, weights=uniform ..................\n",
      "[CV] ... metric=hamming, n_neighbors=3, weights=uniform, total=   0.0s\n",
      "[CV] metric=hamming, n_neighbors=3, weights=uniform ..................\n",
      "[CV] ... metric=hamming, n_neighbors=3, weights=uniform, total=   0.0s\n",
      "[CV] metric=hamming, n_neighbors=3, weights=uniform ..................\n",
      "[CV] ... metric=hamming, n_neighbors=3, weights=uniform, total=   0.0s\n",
      "[CV] metric=hamming, n_neighbors=3, weights=uniform ..................\n",
      "[CV] ... metric=hamming, n_neighbors=3, weights=uniform, total=   0.0s\n",
      "[CV] metric=hamming, n_neighbors=3, weights=distance .................\n",
      "[CV] .. metric=hamming, n_neighbors=3, weights=distance, total=   0.0s\n",
      "[CV] metric=hamming, n_neighbors=3, weights=distance .................\n",
      "[CV] .. metric=hamming, n_neighbors=3, weights=distance, total=   0.0s\n",
      "[CV] metric=hamming, n_neighbors=3, weights=distance .................\n",
      "[CV] .. metric=hamming, n_neighbors=3, weights=distance, total=   0.0s\n",
      "[CV] metric=hamming, n_neighbors=3, weights=distance .................\n",
      "[CV] .. metric=hamming, n_neighbors=3, weights=distance, total=   0.0s\n",
      "[CV] metric=hamming, n_neighbors=3, weights=distance .................\n",
      "[CV] .. metric=hamming, n_neighbors=3, weights=distance, total=   0.0s\n",
      "[CV] metric=hamming, n_neighbors=5, weights=uniform ..................\n",
      "[CV] ... metric=hamming, n_neighbors=5, weights=uniform, total=   0.0s\n",
      "[CV] metric=hamming, n_neighbors=5, weights=uniform ..................\n",
      "[CV] ... metric=hamming, n_neighbors=5, weights=uniform, total=   0.0s\n",
      "[CV] metric=hamming, n_neighbors=5, weights=uniform ..................\n",
      "[CV] ... metric=hamming, n_neighbors=5, weights=uniform, total=   0.0s\n",
      "[CV] metric=hamming, n_neighbors=5, weights=uniform ..................\n",
      "[CV] ... metric=hamming, n_neighbors=5, weights=uniform, total=   0.0s\n",
      "[CV] metric=hamming, n_neighbors=5, weights=uniform ..................\n",
      "[CV] ... metric=hamming, n_neighbors=5, weights=uniform, total=   0.0s\n",
      "[CV] metric=hamming, n_neighbors=5, weights=distance .................\n",
      "[CV] .. metric=hamming, n_neighbors=5, weights=distance, total=   0.0s\n",
      "[CV] metric=hamming, n_neighbors=5, weights=distance .................\n",
      "[CV] .. metric=hamming, n_neighbors=5, weights=distance, total=   0.0s\n",
      "[CV] metric=hamming, n_neighbors=5, weights=distance .................\n",
      "[CV] .. metric=hamming, n_neighbors=5, weights=distance, total=   0.0s\n",
      "[CV] metric=hamming, n_neighbors=5, weights=distance .................\n",
      "[CV] .. metric=hamming, n_neighbors=5, weights=distance, total=   0.0s\n",
      "[CV] metric=hamming, n_neighbors=5, weights=distance .................\n",
      "[CV] .. metric=hamming, n_neighbors=5, weights=distance, total=   0.0s\n",
      "[CV] metric=hamming, n_neighbors=7, weights=uniform ..................\n",
      "[CV] ... metric=hamming, n_neighbors=7, weights=uniform, total=   0.0s\n",
      "[CV] metric=hamming, n_neighbors=7, weights=uniform ..................\n",
      "[CV] ... metric=hamming, n_neighbors=7, weights=uniform, total=   0.0s\n",
      "[CV] metric=hamming, n_neighbors=7, weights=uniform ..................\n",
      "[CV] ... metric=hamming, n_neighbors=7, weights=uniform, total=   0.0s\n",
      "[CV] metric=hamming, n_neighbors=7, weights=uniform ..................\n",
      "[CV] ... metric=hamming, n_neighbors=7, weights=uniform, total=   0.0s\n",
      "[CV] metric=hamming, n_neighbors=7, weights=uniform ..................\n",
      "[CV] ... metric=hamming, n_neighbors=7, weights=uniform, total=   0.0s\n",
      "[CV] metric=hamming, n_neighbors=7, weights=distance .................\n",
      "[CV] .. metric=hamming, n_neighbors=7, weights=distance, total=   0.0s\n",
      "[CV] metric=hamming, n_neighbors=7, weights=distance .................\n",
      "[CV] .. metric=hamming, n_neighbors=7, weights=distance, total=   0.0s\n",
      "[CV] metric=hamming, n_neighbors=7, weights=distance .................\n",
      "[CV] .. metric=hamming, n_neighbors=7, weights=distance, total=   0.0s\n",
      "[CV] metric=hamming, n_neighbors=7, weights=distance .................\n",
      "[CV] .. metric=hamming, n_neighbors=7, weights=distance, total=   0.0s\n",
      "[CV] metric=hamming, n_neighbors=7, weights=distance .................\n",
      "[CV] .. metric=hamming, n_neighbors=7, weights=distance, total=   0.0s\n",
      "[CV] metric=hamming, n_neighbors=9, weights=uniform ..................\n",
      "[CV] ... metric=hamming, n_neighbors=9, weights=uniform, total=   0.0s\n",
      "[CV] metric=hamming, n_neighbors=9, weights=uniform ..................\n",
      "[CV] ... metric=hamming, n_neighbors=9, weights=uniform, total=   0.0s\n",
      "[CV] metric=hamming, n_neighbors=9, weights=uniform ..................\n",
      "[CV] ... metric=hamming, n_neighbors=9, weights=uniform, total=   0.0s\n",
      "[CV] metric=hamming, n_neighbors=9, weights=uniform ..................\n",
      "[CV] ... metric=hamming, n_neighbors=9, weights=uniform, total=   0.0s\n",
      "[CV] metric=hamming, n_neighbors=9, weights=uniform ..................\n",
      "[CV] ... metric=hamming, n_neighbors=9, weights=uniform, total=   0.0s\n",
      "[CV] metric=hamming, n_neighbors=9, weights=distance .................\n",
      "[CV] .. metric=hamming, n_neighbors=9, weights=distance, total=   0.0s\n",
      "[CV] metric=hamming, n_neighbors=9, weights=distance .................\n",
      "[CV] .. metric=hamming, n_neighbors=9, weights=distance, total=   0.0s\n",
      "[CV] metric=hamming, n_neighbors=9, weights=distance .................\n",
      "[CV] .. metric=hamming, n_neighbors=9, weights=distance, total=   0.0s\n",
      "[CV] metric=hamming, n_neighbors=9, weights=distance .................\n",
      "[CV] .. metric=hamming, n_neighbors=9, weights=distance, total=   0.0s\n",
      "[CV] metric=hamming, n_neighbors=9, weights=distance .................\n",
      "[CV] .. metric=hamming, n_neighbors=9, weights=distance, total=   0.0s\n",
      "[CV] metric=hamming, n_neighbors=11, weights=uniform .................\n",
      "[CV] .. metric=hamming, n_neighbors=11, weights=uniform, total=   0.0s\n",
      "[CV] metric=hamming, n_neighbors=11, weights=uniform .................\n",
      "[CV] .. metric=hamming, n_neighbors=11, weights=uniform, total=   0.0s\n",
      "[CV] metric=hamming, n_neighbors=11, weights=uniform .................\n",
      "[CV] .. metric=hamming, n_neighbors=11, weights=uniform, total=   0.0s\n",
      "[CV] metric=hamming, n_neighbors=11, weights=uniform .................\n",
      "[CV] .. metric=hamming, n_neighbors=11, weights=uniform, total=   0.0s\n",
      "[CV] metric=hamming, n_neighbors=11, weights=uniform .................\n",
      "[CV] .. metric=hamming, n_neighbors=11, weights=uniform, total=   0.0s\n",
      "[CV] metric=hamming, n_neighbors=11, weights=distance ................\n",
      "[CV] . metric=hamming, n_neighbors=11, weights=distance, total=   0.0s\n",
      "[CV] metric=hamming, n_neighbors=11, weights=distance ................\n",
      "[CV] . metric=hamming, n_neighbors=11, weights=distance, total=   0.0s\n",
      "[CV] metric=hamming, n_neighbors=11, weights=distance ................\n",
      "[CV] . metric=hamming, n_neighbors=11, weights=distance, total=   0.0s\n",
      "[CV] metric=hamming, n_neighbors=11, weights=distance ................\n",
      "[CV] . metric=hamming, n_neighbors=11, weights=distance, total=   0.0s\n",
      "[CV] metric=hamming, n_neighbors=11, weights=distance ................\n",
      "[CV] . metric=hamming, n_neighbors=11, weights=distance, total=   0.0s\n",
      "[CV] metric=hamming, n_neighbors=13, weights=uniform .................\n",
      "[CV] .. metric=hamming, n_neighbors=13, weights=uniform, total=   0.0s\n",
      "[CV] metric=hamming, n_neighbors=13, weights=uniform .................\n",
      "[CV] .. metric=hamming, n_neighbors=13, weights=uniform, total=   0.0s\n",
      "[CV] metric=hamming, n_neighbors=13, weights=uniform .................\n",
      "[CV] .. metric=hamming, n_neighbors=13, weights=uniform, total=   0.0s\n",
      "[CV] metric=hamming, n_neighbors=13, weights=uniform .................\n",
      "[CV] .. metric=hamming, n_neighbors=13, weights=uniform, total=   0.0s\n",
      "[CV] metric=hamming, n_neighbors=13, weights=uniform .................\n",
      "[CV] .. metric=hamming, n_neighbors=13, weights=uniform, total=   0.0s\n",
      "[CV] metric=hamming, n_neighbors=13, weights=distance ................\n",
      "[CV] . metric=hamming, n_neighbors=13, weights=distance, total=   0.0s\n",
      "[CV] metric=hamming, n_neighbors=13, weights=distance ................\n",
      "[CV] . metric=hamming, n_neighbors=13, weights=distance, total=   0.0s\n",
      "[CV] metric=hamming, n_neighbors=13, weights=distance ................\n",
      "[CV] . metric=hamming, n_neighbors=13, weights=distance, total=   0.0s\n",
      "[CV] metric=hamming, n_neighbors=13, weights=distance ................\n",
      "[CV] . metric=hamming, n_neighbors=13, weights=distance, total=   0.0s\n",
      "[CV] metric=hamming, n_neighbors=13, weights=distance ................\n"
     ]
    },
    {
     "name": "stdout",
     "output_type": "stream",
     "text": [
      "[CV] . metric=hamming, n_neighbors=13, weights=distance, total=   0.0s\n",
      "[CV] metric=hamming, n_neighbors=15, weights=uniform .................\n",
      "[CV] .. metric=hamming, n_neighbors=15, weights=uniform, total=   0.0s\n",
      "[CV] metric=hamming, n_neighbors=15, weights=uniform .................\n",
      "[CV] .. metric=hamming, n_neighbors=15, weights=uniform, total=   0.0s\n",
      "[CV] metric=hamming, n_neighbors=15, weights=uniform .................\n",
      "[CV] .. metric=hamming, n_neighbors=15, weights=uniform, total=   0.0s\n",
      "[CV] metric=hamming, n_neighbors=15, weights=uniform .................\n",
      "[CV] .. metric=hamming, n_neighbors=15, weights=uniform, total=   0.0s\n",
      "[CV] metric=hamming, n_neighbors=15, weights=uniform .................\n",
      "[CV] .. metric=hamming, n_neighbors=15, weights=uniform, total=   0.0s\n",
      "[CV] metric=hamming, n_neighbors=15, weights=distance ................\n",
      "[CV] . metric=hamming, n_neighbors=15, weights=distance, total=   0.0s\n",
      "[CV] metric=hamming, n_neighbors=15, weights=distance ................\n",
      "[CV] . metric=hamming, n_neighbors=15, weights=distance, total=   0.0s\n",
      "[CV] metric=hamming, n_neighbors=15, weights=distance ................\n"
     ]
    },
    {
     "name": "stderr",
     "output_type": "stream",
     "text": [
      "[Parallel(n_jobs=1)]: Using backend SequentialBackend with 1 concurrent workers.\n",
      "[Parallel(n_jobs=1)]: Done   1 out of   1 | elapsed:    0.0s remaining:    0.0s\n"
     ]
    },
    {
     "name": "stdout",
     "output_type": "stream",
     "text": [
      "[CV] . metric=hamming, n_neighbors=15, weights=distance, total=   0.0s\n",
      "[CV] metric=hamming, n_neighbors=15, weights=distance ................\n",
      "[CV] . metric=hamming, n_neighbors=15, weights=distance, total=   0.0s\n",
      "[CV] metric=hamming, n_neighbors=15, weights=distance ................\n",
      "[CV] . metric=hamming, n_neighbors=15, weights=distance, total=   0.0s\n",
      "[CV] metric=hamming, n_neighbors=17, weights=uniform .................\n",
      "[CV] .. metric=hamming, n_neighbors=17, weights=uniform, total=   0.0s\n",
      "[CV] metric=hamming, n_neighbors=17, weights=uniform .................\n",
      "[CV] .. metric=hamming, n_neighbors=17, weights=uniform, total=   0.0s\n",
      "[CV] metric=hamming, n_neighbors=17, weights=uniform .................\n",
      "[CV] .. metric=hamming, n_neighbors=17, weights=uniform, total=   0.0s\n",
      "[CV] metric=hamming, n_neighbors=17, weights=uniform .................\n",
      "[CV] .. metric=hamming, n_neighbors=17, weights=uniform, total=   0.0s\n",
      "[CV] metric=hamming, n_neighbors=17, weights=uniform .................\n",
      "[CV] .. metric=hamming, n_neighbors=17, weights=uniform, total=   0.0s\n",
      "[CV] metric=hamming, n_neighbors=17, weights=distance ................\n",
      "[CV] . metric=hamming, n_neighbors=17, weights=distance, total=   0.0s\n",
      "[CV] metric=hamming, n_neighbors=17, weights=distance ................\n",
      "[CV] . metric=hamming, n_neighbors=17, weights=distance, total=   0.0s\n",
      "[CV] metric=hamming, n_neighbors=17, weights=distance ................\n",
      "[CV] . metric=hamming, n_neighbors=17, weights=distance, total=   0.0s\n",
      "[CV] metric=hamming, n_neighbors=17, weights=distance ................\n",
      "[CV] . metric=hamming, n_neighbors=17, weights=distance, total=   0.0s\n",
      "[CV] metric=hamming, n_neighbors=17, weights=distance ................\n",
      "[CV] . metric=hamming, n_neighbors=17, weights=distance, total=   0.0s\n",
      "[CV] metric=hamming, n_neighbors=19, weights=uniform .................\n",
      "[CV] .. metric=hamming, n_neighbors=19, weights=uniform, total=   0.0s\n",
      "[CV] metric=hamming, n_neighbors=19, weights=uniform .................\n",
      "[CV] .. metric=hamming, n_neighbors=19, weights=uniform, total=   0.0s\n",
      "[CV] metric=hamming, n_neighbors=19, weights=uniform .................\n",
      "[CV] .. metric=hamming, n_neighbors=19, weights=uniform, total=   0.0s\n",
      "[CV] metric=hamming, n_neighbors=19, weights=uniform .................\n",
      "[CV] .. metric=hamming, n_neighbors=19, weights=uniform, total=   0.0s\n",
      "[CV] metric=hamming, n_neighbors=19, weights=uniform .................\n",
      "[CV] .. metric=hamming, n_neighbors=19, weights=uniform, total=   0.0s\n",
      "[CV] metric=hamming, n_neighbors=19, weights=distance ................\n",
      "[CV] . metric=hamming, n_neighbors=19, weights=distance, total=   0.0s\n",
      "[CV] metric=hamming, n_neighbors=19, weights=distance ................\n",
      "[CV] . metric=hamming, n_neighbors=19, weights=distance, total=   0.0s\n",
      "[CV] metric=hamming, n_neighbors=19, weights=distance ................\n",
      "[CV] . metric=hamming, n_neighbors=19, weights=distance, total=   0.0s\n",
      "[CV] metric=hamming, n_neighbors=19, weights=distance ................\n",
      "[CV] . metric=hamming, n_neighbors=19, weights=distance, total=   0.0s\n",
      "[CV] metric=hamming, n_neighbors=19, weights=distance ................\n",
      "[CV] . metric=hamming, n_neighbors=19, weights=distance, total=   0.0s\n",
      "[CV] metric=hamming, n_neighbors=21, weights=uniform .................\n",
      "[CV] .. metric=hamming, n_neighbors=21, weights=uniform, total=   0.0s\n",
      "[CV] metric=hamming, n_neighbors=21, weights=uniform .................\n",
      "[CV] .. metric=hamming, n_neighbors=21, weights=uniform, total=   0.0s\n",
      "[CV] metric=hamming, n_neighbors=21, weights=uniform .................\n",
      "[CV] .. metric=hamming, n_neighbors=21, weights=uniform, total=   0.0s\n",
      "[CV] metric=hamming, n_neighbors=21, weights=uniform .................\n",
      "[CV] .. metric=hamming, n_neighbors=21, weights=uniform, total=   0.0s\n",
      "[CV] metric=hamming, n_neighbors=21, weights=uniform .................\n",
      "[CV] .. metric=hamming, n_neighbors=21, weights=uniform, total=   0.0s\n",
      "[CV] metric=hamming, n_neighbors=21, weights=distance ................\n",
      "[CV] . metric=hamming, n_neighbors=21, weights=distance, total=   0.0s\n",
      "[CV] metric=hamming, n_neighbors=21, weights=distance ................\n",
      "[CV] . metric=hamming, n_neighbors=21, weights=distance, total=   0.0s\n",
      "[CV] metric=hamming, n_neighbors=21, weights=distance ................\n",
      "[CV] . metric=hamming, n_neighbors=21, weights=distance, total=   0.0s\n",
      "[CV] metric=hamming, n_neighbors=21, weights=distance ................\n",
      "[CV] . metric=hamming, n_neighbors=21, weights=distance, total=   0.0s\n",
      "[CV] metric=hamming, n_neighbors=21, weights=distance ................\n",
      "[CV] . metric=hamming, n_neighbors=21, weights=distance, total=   0.0s\n",
      "[CV] metric=hamming, n_neighbors=23, weights=uniform .................\n",
      "[CV] .. metric=hamming, n_neighbors=23, weights=uniform, total=   0.0s\n",
      "[CV] metric=hamming, n_neighbors=23, weights=uniform .................\n",
      "[CV] .. metric=hamming, n_neighbors=23, weights=uniform, total=   0.0s\n",
      "[CV] metric=hamming, n_neighbors=23, weights=uniform .................\n",
      "[CV] .. metric=hamming, n_neighbors=23, weights=uniform, total=   0.0s\n",
      "[CV] metric=hamming, n_neighbors=23, weights=uniform .................\n",
      "[CV] .. metric=hamming, n_neighbors=23, weights=uniform, total=   0.0s\n",
      "[CV] metric=hamming, n_neighbors=23, weights=uniform .................\n",
      "[CV] .. metric=hamming, n_neighbors=23, weights=uniform, total=   0.0s\n",
      "[CV] metric=hamming, n_neighbors=23, weights=distance ................\n",
      "[CV] . metric=hamming, n_neighbors=23, weights=distance, total=   0.0s\n",
      "[CV] metric=hamming, n_neighbors=23, weights=distance ................\n",
      "[CV] . metric=hamming, n_neighbors=23, weights=distance, total=   0.0s\n",
      "[CV] metric=hamming, n_neighbors=23, weights=distance ................\n",
      "[CV] . metric=hamming, n_neighbors=23, weights=distance, total=   0.0s\n",
      "[CV] metric=hamming, n_neighbors=23, weights=distance ................\n",
      "[CV] . metric=hamming, n_neighbors=23, weights=distance, total=   0.0s\n",
      "[CV] metric=hamming, n_neighbors=23, weights=distance ................\n",
      "[CV] . metric=hamming, n_neighbors=23, weights=distance, total=   0.0s\n",
      "[CV] metric=euclidean, n_neighbors=1, weights=uniform ................\n",
      "[CV] . metric=euclidean, n_neighbors=1, weights=uniform, total=   0.1s\n",
      "[CV] metric=euclidean, n_neighbors=1, weights=uniform ................\n",
      "[CV] . metric=euclidean, n_neighbors=1, weights=uniform, total=   0.1s\n",
      "[CV] metric=euclidean, n_neighbors=1, weights=uniform ................\n",
      "[CV] . metric=euclidean, n_neighbors=1, weights=uniform, total=   0.1s\n",
      "[CV] metric=euclidean, n_neighbors=1, weights=uniform ................\n",
      "[CV] . metric=euclidean, n_neighbors=1, weights=uniform, total=   0.1s\n",
      "[CV] metric=euclidean, n_neighbors=1, weights=uniform ................\n",
      "[CV] . metric=euclidean, n_neighbors=1, weights=uniform, total=   0.1s\n",
      "[CV] metric=euclidean, n_neighbors=1, weights=distance ...............\n",
      "[CV]  metric=euclidean, n_neighbors=1, weights=distance, total=   0.1s\n",
      "[CV] metric=euclidean, n_neighbors=1, weights=distance ...............\n",
      "[CV]  metric=euclidean, n_neighbors=1, weights=distance, total=   0.1s\n",
      "[CV] metric=euclidean, n_neighbors=1, weights=distance ...............\n",
      "[CV]  metric=euclidean, n_neighbors=1, weights=distance, total=   0.1s\n",
      "[CV] metric=euclidean, n_neighbors=1, weights=distance ...............\n",
      "[CV]  metric=euclidean, n_neighbors=1, weights=distance, total=   0.1s\n",
      "[CV] metric=euclidean, n_neighbors=1, weights=distance ...............\n",
      "[CV]  metric=euclidean, n_neighbors=1, weights=distance, total=   0.1s\n",
      "[CV] metric=euclidean, n_neighbors=3, weights=uniform ................\n",
      "[CV] . metric=euclidean, n_neighbors=3, weights=uniform, total=   0.1s\n",
      "[CV] metric=euclidean, n_neighbors=3, weights=uniform ................\n",
      "[CV] . metric=euclidean, n_neighbors=3, weights=uniform, total=   0.1s\n",
      "[CV] metric=euclidean, n_neighbors=3, weights=uniform ................\n",
      "[CV] . metric=euclidean, n_neighbors=3, weights=uniform, total=   0.1s\n",
      "[CV] metric=euclidean, n_neighbors=3, weights=uniform ................\n",
      "[CV] . metric=euclidean, n_neighbors=3, weights=uniform, total=   0.1s\n",
      "[CV] metric=euclidean, n_neighbors=3, weights=uniform ................\n",
      "[CV] . metric=euclidean, n_neighbors=3, weights=uniform, total=   0.1s\n",
      "[CV] metric=euclidean, n_neighbors=3, weights=distance ...............\n",
      "[CV]  metric=euclidean, n_neighbors=3, weights=distance, total=   0.1s\n",
      "[CV] metric=euclidean, n_neighbors=3, weights=distance ...............\n"
     ]
    },
    {
     "name": "stdout",
     "output_type": "stream",
     "text": [
      "[CV]  metric=euclidean, n_neighbors=3, weights=distance, total=   0.1s\n",
      "[CV] metric=euclidean, n_neighbors=3, weights=distance ...............\n",
      "[CV]  metric=euclidean, n_neighbors=3, weights=distance, total=   0.1s\n",
      "[CV] metric=euclidean, n_neighbors=3, weights=distance ...............\n",
      "[CV]  metric=euclidean, n_neighbors=3, weights=distance, total=   0.1s\n",
      "[CV] metric=euclidean, n_neighbors=3, weights=distance ...............\n",
      "[CV]  metric=euclidean, n_neighbors=3, weights=distance, total=   0.1s\n",
      "[CV] metric=euclidean, n_neighbors=5, weights=uniform ................\n",
      "[CV] . metric=euclidean, n_neighbors=5, weights=uniform, total=   0.2s\n",
      "[CV] metric=euclidean, n_neighbors=5, weights=uniform ................\n",
      "[CV] . metric=euclidean, n_neighbors=5, weights=uniform, total=   0.2s\n",
      "[CV] metric=euclidean, n_neighbors=5, weights=uniform ................\n",
      "[CV] . metric=euclidean, n_neighbors=5, weights=uniform, total=   0.1s\n",
      "[CV] metric=euclidean, n_neighbors=5, weights=uniform ................\n",
      "[CV] . metric=euclidean, n_neighbors=5, weights=uniform, total=   0.1s\n",
      "[CV] metric=euclidean, n_neighbors=5, weights=uniform ................\n",
      "[CV] . metric=euclidean, n_neighbors=5, weights=uniform, total=   0.1s\n",
      "[CV] metric=euclidean, n_neighbors=5, weights=distance ...............\n",
      "[CV]  metric=euclidean, n_neighbors=5, weights=distance, total=   0.1s\n",
      "[CV] metric=euclidean, n_neighbors=5, weights=distance ...............\n",
      "[CV]  metric=euclidean, n_neighbors=5, weights=distance, total=   0.1s\n",
      "[CV] metric=euclidean, n_neighbors=5, weights=distance ...............\n",
      "[CV]  metric=euclidean, n_neighbors=5, weights=distance, total=   0.1s\n",
      "[CV] metric=euclidean, n_neighbors=5, weights=distance ...............\n",
      "[CV]  metric=euclidean, n_neighbors=5, weights=distance, total=   0.2s\n",
      "[CV] metric=euclidean, n_neighbors=5, weights=distance ...............\n",
      "[CV]  metric=euclidean, n_neighbors=5, weights=distance, total=   0.2s\n",
      "[CV] metric=euclidean, n_neighbors=7, weights=uniform ................\n",
      "[CV] . metric=euclidean, n_neighbors=7, weights=uniform, total=   0.1s\n",
      "[CV] metric=euclidean, n_neighbors=7, weights=uniform ................\n",
      "[CV] . metric=euclidean, n_neighbors=7, weights=uniform, total=   0.1s\n",
      "[CV] metric=euclidean, n_neighbors=7, weights=uniform ................\n",
      "[CV] . metric=euclidean, n_neighbors=7, weights=uniform, total=   0.1s\n",
      "[CV] metric=euclidean, n_neighbors=7, weights=uniform ................\n",
      "[CV] . metric=euclidean, n_neighbors=7, weights=uniform, total=   0.1s\n",
      "[CV] metric=euclidean, n_neighbors=7, weights=uniform ................\n",
      "[CV] . metric=euclidean, n_neighbors=7, weights=uniform, total=   0.1s\n",
      "[CV] metric=euclidean, n_neighbors=7, weights=distance ...............\n",
      "[CV]  metric=euclidean, n_neighbors=7, weights=distance, total=   0.1s\n",
      "[CV] metric=euclidean, n_neighbors=7, weights=distance ...............\n",
      "[CV]  metric=euclidean, n_neighbors=7, weights=distance, total=   0.1s\n",
      "[CV] metric=euclidean, n_neighbors=7, weights=distance ...............\n",
      "[CV]  metric=euclidean, n_neighbors=7, weights=distance, total=   0.1s\n",
      "[CV] metric=euclidean, n_neighbors=7, weights=distance ...............\n",
      "[CV]  metric=euclidean, n_neighbors=7, weights=distance, total=   0.1s\n",
      "[CV] metric=euclidean, n_neighbors=7, weights=distance ...............\n",
      "[CV]  metric=euclidean, n_neighbors=7, weights=distance, total=   0.1s\n",
      "[CV] metric=euclidean, n_neighbors=9, weights=uniform ................\n",
      "[CV] . metric=euclidean, n_neighbors=9, weights=uniform, total=   0.1s\n",
      "[CV] metric=euclidean, n_neighbors=9, weights=uniform ................\n",
      "[CV] . metric=euclidean, n_neighbors=9, weights=uniform, total=   0.1s\n",
      "[CV] metric=euclidean, n_neighbors=9, weights=uniform ................\n",
      "[CV] . metric=euclidean, n_neighbors=9, weights=uniform, total=   0.2s\n",
      "[CV] metric=euclidean, n_neighbors=9, weights=uniform ................\n",
      "[CV] . metric=euclidean, n_neighbors=9, weights=uniform, total=   0.1s\n",
      "[CV] metric=euclidean, n_neighbors=9, weights=uniform ................\n",
      "[CV] . metric=euclidean, n_neighbors=9, weights=uniform, total=   0.1s\n",
      "[CV] metric=euclidean, n_neighbors=9, weights=distance ...............\n",
      "[CV]  metric=euclidean, n_neighbors=9, weights=distance, total=   0.1s\n",
      "[CV] metric=euclidean, n_neighbors=9, weights=distance ...............\n",
      "[CV]  metric=euclidean, n_neighbors=9, weights=distance, total=   0.1s\n",
      "[CV] metric=euclidean, n_neighbors=9, weights=distance ...............\n",
      "[CV]  metric=euclidean, n_neighbors=9, weights=distance, total=   0.1s\n",
      "[CV] metric=euclidean, n_neighbors=9, weights=distance ...............\n",
      "[CV]  metric=euclidean, n_neighbors=9, weights=distance, total=   0.1s\n",
      "[CV] metric=euclidean, n_neighbors=9, weights=distance ...............\n",
      "[CV]  metric=euclidean, n_neighbors=9, weights=distance, total=   0.1s\n",
      "[CV] metric=euclidean, n_neighbors=11, weights=uniform ...............\n",
      "[CV]  metric=euclidean, n_neighbors=11, weights=uniform, total=   0.1s\n",
      "[CV] metric=euclidean, n_neighbors=11, weights=uniform ...............\n",
      "[CV]  metric=euclidean, n_neighbors=11, weights=uniform, total=   0.1s\n",
      "[CV] metric=euclidean, n_neighbors=11, weights=uniform ...............\n",
      "[CV]  metric=euclidean, n_neighbors=11, weights=uniform, total=   0.1s\n",
      "[CV] metric=euclidean, n_neighbors=11, weights=uniform ...............\n",
      "[CV]  metric=euclidean, n_neighbors=11, weights=uniform, total=   0.1s\n",
      "[CV] metric=euclidean, n_neighbors=11, weights=uniform ...............\n",
      "[CV]  metric=euclidean, n_neighbors=11, weights=uniform, total=   0.2s\n",
      "[CV] metric=euclidean, n_neighbors=11, weights=distance ..............\n",
      "[CV]  metric=euclidean, n_neighbors=11, weights=distance, total=   0.1s\n",
      "[CV] metric=euclidean, n_neighbors=11, weights=distance ..............\n",
      "[CV]  metric=euclidean, n_neighbors=11, weights=distance, total=   0.1s\n",
      "[CV] metric=euclidean, n_neighbors=11, weights=distance ..............\n",
      "[CV]  metric=euclidean, n_neighbors=11, weights=distance, total=   0.1s\n",
      "[CV] metric=euclidean, n_neighbors=11, weights=distance ..............\n",
      "[CV]  metric=euclidean, n_neighbors=11, weights=distance, total=   0.1s\n",
      "[CV] metric=euclidean, n_neighbors=11, weights=distance ..............\n",
      "[CV]  metric=euclidean, n_neighbors=11, weights=distance, total=   0.1s\n",
      "[CV] metric=euclidean, n_neighbors=13, weights=uniform ...............\n",
      "[CV]  metric=euclidean, n_neighbors=13, weights=uniform, total=   0.1s\n",
      "[CV] metric=euclidean, n_neighbors=13, weights=uniform ...............\n",
      "[CV]  metric=euclidean, n_neighbors=13, weights=uniform, total=   0.1s\n",
      "[CV] metric=euclidean, n_neighbors=13, weights=uniform ...............\n",
      "[CV]  metric=euclidean, n_neighbors=13, weights=uniform, total=   0.2s\n",
      "[CV] metric=euclidean, n_neighbors=13, weights=uniform ...............\n",
      "[CV]  metric=euclidean, n_neighbors=13, weights=uniform, total=   0.2s\n",
      "[CV] metric=euclidean, n_neighbors=13, weights=uniform ...............\n",
      "[CV]  metric=euclidean, n_neighbors=13, weights=uniform, total=   0.1s\n",
      "[CV] metric=euclidean, n_neighbors=13, weights=distance ..............\n",
      "[CV]  metric=euclidean, n_neighbors=13, weights=distance, total=   0.1s\n",
      "[CV] metric=euclidean, n_neighbors=13, weights=distance ..............\n",
      "[CV]  metric=euclidean, n_neighbors=13, weights=distance, total=   0.1s\n",
      "[CV] metric=euclidean, n_neighbors=13, weights=distance ..............\n",
      "[CV]  metric=euclidean, n_neighbors=13, weights=distance, total=   0.1s\n",
      "[CV] metric=euclidean, n_neighbors=13, weights=distance ..............\n",
      "[CV]  metric=euclidean, n_neighbors=13, weights=distance, total=   0.1s\n",
      "[CV] metric=euclidean, n_neighbors=13, weights=distance ..............\n",
      "[CV]  metric=euclidean, n_neighbors=13, weights=distance, total=   0.1s\n",
      "[CV] metric=euclidean, n_neighbors=15, weights=uniform ...............\n",
      "[CV]  metric=euclidean, n_neighbors=15, weights=uniform, total=   0.1s\n",
      "[CV] metric=euclidean, n_neighbors=15, weights=uniform ...............\n",
      "[CV]  metric=euclidean, n_neighbors=15, weights=uniform, total=   0.1s\n",
      "[CV] metric=euclidean, n_neighbors=15, weights=uniform ...............\n",
      "[CV]  metric=euclidean, n_neighbors=15, weights=uniform, total=   0.1s\n",
      "[CV] metric=euclidean, n_neighbors=15, weights=uniform ...............\n",
      "[CV]  metric=euclidean, n_neighbors=15, weights=uniform, total=   0.1s\n",
      "[CV] metric=euclidean, n_neighbors=15, weights=uniform ...............\n"
     ]
    },
    {
     "name": "stdout",
     "output_type": "stream",
     "text": [
      "[CV]  metric=euclidean, n_neighbors=15, weights=uniform, total=   0.1s\n",
      "[CV] metric=euclidean, n_neighbors=15, weights=distance ..............\n",
      "[CV]  metric=euclidean, n_neighbors=15, weights=distance, total=   0.1s\n",
      "[CV] metric=euclidean, n_neighbors=15, weights=distance ..............\n",
      "[CV]  metric=euclidean, n_neighbors=15, weights=distance, total=   0.1s\n",
      "[CV] metric=euclidean, n_neighbors=15, weights=distance ..............\n",
      "[CV]  metric=euclidean, n_neighbors=15, weights=distance, total=   0.1s\n",
      "[CV] metric=euclidean, n_neighbors=15, weights=distance ..............\n",
      "[CV]  metric=euclidean, n_neighbors=15, weights=distance, total=   0.1s\n",
      "[CV] metric=euclidean, n_neighbors=15, weights=distance ..............\n",
      "[CV]  metric=euclidean, n_neighbors=15, weights=distance, total=   0.1s\n",
      "[CV] metric=euclidean, n_neighbors=17, weights=uniform ...............\n",
      "[CV]  metric=euclidean, n_neighbors=17, weights=uniform, total=   0.1s\n",
      "[CV] metric=euclidean, n_neighbors=17, weights=uniform ...............\n",
      "[CV]  metric=euclidean, n_neighbors=17, weights=uniform, total=   0.1s\n",
      "[CV] metric=euclidean, n_neighbors=17, weights=uniform ...............\n",
      "[CV]  metric=euclidean, n_neighbors=17, weights=uniform, total=   0.1s\n",
      "[CV] metric=euclidean, n_neighbors=17, weights=uniform ...............\n",
      "[CV]  metric=euclidean, n_neighbors=17, weights=uniform, total=   0.1s\n",
      "[CV] metric=euclidean, n_neighbors=17, weights=uniform ...............\n",
      "[CV]  metric=euclidean, n_neighbors=17, weights=uniform, total=   0.1s\n",
      "[CV] metric=euclidean, n_neighbors=17, weights=distance ..............\n",
      "[CV]  metric=euclidean, n_neighbors=17, weights=distance, total=   0.1s\n",
      "[CV] metric=euclidean, n_neighbors=17, weights=distance ..............\n",
      "[CV]  metric=euclidean, n_neighbors=17, weights=distance, total=   0.1s\n",
      "[CV] metric=euclidean, n_neighbors=17, weights=distance ..............\n",
      "[CV]  metric=euclidean, n_neighbors=17, weights=distance, total=   0.1s\n",
      "[CV] metric=euclidean, n_neighbors=17, weights=distance ..............\n",
      "[CV]  metric=euclidean, n_neighbors=17, weights=distance, total=   0.1s\n",
      "[CV] metric=euclidean, n_neighbors=17, weights=distance ..............\n",
      "[CV]  metric=euclidean, n_neighbors=17, weights=distance, total=   0.1s\n",
      "[CV] metric=euclidean, n_neighbors=19, weights=uniform ...............\n",
      "[CV]  metric=euclidean, n_neighbors=19, weights=uniform, total=   0.1s\n",
      "[CV] metric=euclidean, n_neighbors=19, weights=uniform ...............\n",
      "[CV]  metric=euclidean, n_neighbors=19, weights=uniform, total=   0.1s\n",
      "[CV] metric=euclidean, n_neighbors=19, weights=uniform ...............\n",
      "[CV]  metric=euclidean, n_neighbors=19, weights=uniform, total=   0.1s\n",
      "[CV] metric=euclidean, n_neighbors=19, weights=uniform ...............\n",
      "[CV]  metric=euclidean, n_neighbors=19, weights=uniform, total=   0.1s\n",
      "[CV] metric=euclidean, n_neighbors=19, weights=uniform ...............\n",
      "[CV]  metric=euclidean, n_neighbors=19, weights=uniform, total=   0.1s\n",
      "[CV] metric=euclidean, n_neighbors=19, weights=distance ..............\n",
      "[CV]  metric=euclidean, n_neighbors=19, weights=distance, total=   0.1s\n",
      "[CV] metric=euclidean, n_neighbors=19, weights=distance ..............\n",
      "[CV]  metric=euclidean, n_neighbors=19, weights=distance, total=   0.1s\n",
      "[CV] metric=euclidean, n_neighbors=19, weights=distance ..............\n",
      "[CV]  metric=euclidean, n_neighbors=19, weights=distance, total=   0.1s\n",
      "[CV] metric=euclidean, n_neighbors=19, weights=distance ..............\n",
      "[CV]  metric=euclidean, n_neighbors=19, weights=distance, total=   0.1s\n",
      "[CV] metric=euclidean, n_neighbors=19, weights=distance ..............\n",
      "[CV]  metric=euclidean, n_neighbors=19, weights=distance, total=   0.1s\n",
      "[CV] metric=euclidean, n_neighbors=21, weights=uniform ...............\n",
      "[CV]  metric=euclidean, n_neighbors=21, weights=uniform, total=   0.1s\n",
      "[CV] metric=euclidean, n_neighbors=21, weights=uniform ...............\n",
      "[CV]  metric=euclidean, n_neighbors=21, weights=uniform, total=   0.1s\n",
      "[CV] metric=euclidean, n_neighbors=21, weights=uniform ...............\n",
      "[CV]  metric=euclidean, n_neighbors=21, weights=uniform, total=   0.1s\n",
      "[CV] metric=euclidean, n_neighbors=21, weights=uniform ...............\n",
      "[CV]  metric=euclidean, n_neighbors=21, weights=uniform, total=   0.1s\n",
      "[CV] metric=euclidean, n_neighbors=21, weights=uniform ...............\n",
      "[CV]  metric=euclidean, n_neighbors=21, weights=uniform, total=   0.1s\n",
      "[CV] metric=euclidean, n_neighbors=21, weights=distance ..............\n",
      "[CV]  metric=euclidean, n_neighbors=21, weights=distance, total=   0.1s\n",
      "[CV] metric=euclidean, n_neighbors=21, weights=distance ..............\n",
      "[CV]  metric=euclidean, n_neighbors=21, weights=distance, total=   0.1s\n",
      "[CV] metric=euclidean, n_neighbors=21, weights=distance ..............\n",
      "[CV]  metric=euclidean, n_neighbors=21, weights=distance, total=   0.1s\n",
      "[CV] metric=euclidean, n_neighbors=21, weights=distance ..............\n",
      "[CV]  metric=euclidean, n_neighbors=21, weights=distance, total=   0.1s\n",
      "[CV] metric=euclidean, n_neighbors=21, weights=distance ..............\n",
      "[CV]  metric=euclidean, n_neighbors=21, weights=distance, total=   0.1s\n",
      "[CV] metric=euclidean, n_neighbors=23, weights=uniform ...............\n",
      "[CV]  metric=euclidean, n_neighbors=23, weights=uniform, total=   0.1s\n",
      "[CV] metric=euclidean, n_neighbors=23, weights=uniform ...............\n",
      "[CV]  metric=euclidean, n_neighbors=23, weights=uniform, total=   0.1s\n",
      "[CV] metric=euclidean, n_neighbors=23, weights=uniform ...............\n",
      "[CV]  metric=euclidean, n_neighbors=23, weights=uniform, total=   0.1s\n",
      "[CV] metric=euclidean, n_neighbors=23, weights=uniform ...............\n",
      "[CV]  metric=euclidean, n_neighbors=23, weights=uniform, total=   0.1s\n",
      "[CV] metric=euclidean, n_neighbors=23, weights=uniform ...............\n",
      "[CV]  metric=euclidean, n_neighbors=23, weights=uniform, total=   0.1s\n",
      "[CV] metric=euclidean, n_neighbors=23, weights=distance ..............\n",
      "[CV]  metric=euclidean, n_neighbors=23, weights=distance, total=   0.1s\n",
      "[CV] metric=euclidean, n_neighbors=23, weights=distance ..............\n",
      "[CV]  metric=euclidean, n_neighbors=23, weights=distance, total=   0.1s\n",
      "[CV] metric=euclidean, n_neighbors=23, weights=distance ..............\n",
      "[CV]  metric=euclidean, n_neighbors=23, weights=distance, total=   0.1s\n",
      "[CV] metric=euclidean, n_neighbors=23, weights=distance ..............\n",
      "[CV]  metric=euclidean, n_neighbors=23, weights=distance, total=   0.1s\n",
      "[CV] metric=euclidean, n_neighbors=23, weights=distance ..............\n",
      "[CV]  metric=euclidean, n_neighbors=23, weights=distance, total=   0.1s\n",
      "[CV] metric=manhattan, n_neighbors=1, weights=uniform ................\n",
      "[CV] . metric=manhattan, n_neighbors=1, weights=uniform, total=   0.5s\n",
      "[CV] metric=manhattan, n_neighbors=1, weights=uniform ................\n",
      "[CV] . metric=manhattan, n_neighbors=1, weights=uniform, total=   0.5s\n",
      "[CV] metric=manhattan, n_neighbors=1, weights=uniform ................\n",
      "[CV] . metric=manhattan, n_neighbors=1, weights=uniform, total=   0.5s\n",
      "[CV] metric=manhattan, n_neighbors=1, weights=uniform ................\n",
      "[CV] . metric=manhattan, n_neighbors=1, weights=uniform, total=   0.5s\n",
      "[CV] metric=manhattan, n_neighbors=1, weights=uniform ................\n",
      "[CV] . metric=manhattan, n_neighbors=1, weights=uniform, total=   0.5s\n",
      "[CV] metric=manhattan, n_neighbors=1, weights=distance ...............\n",
      "[CV]  metric=manhattan, n_neighbors=1, weights=distance, total=   0.5s\n",
      "[CV] metric=manhattan, n_neighbors=1, weights=distance ...............\n",
      "[CV]  metric=manhattan, n_neighbors=1, weights=distance, total=   0.5s\n",
      "[CV] metric=manhattan, n_neighbors=1, weights=distance ...............\n",
      "[CV]  metric=manhattan, n_neighbors=1, weights=distance, total=   0.5s\n",
      "[CV] metric=manhattan, n_neighbors=1, weights=distance ...............\n",
      "[CV]  metric=manhattan, n_neighbors=1, weights=distance, total=   0.5s\n",
      "[CV] metric=manhattan, n_neighbors=1, weights=distance ...............\n",
      "[CV]  metric=manhattan, n_neighbors=1, weights=distance, total=   0.5s\n",
      "[CV] metric=manhattan, n_neighbors=3, weights=uniform ................\n",
      "[CV] . metric=manhattan, n_neighbors=3, weights=uniform, total=   0.6s\n",
      "[CV] metric=manhattan, n_neighbors=3, weights=uniform ................\n",
      "[CV] . metric=manhattan, n_neighbors=3, weights=uniform, total=   0.5s\n",
      "[CV] metric=manhattan, n_neighbors=3, weights=uniform ................\n"
     ]
    },
    {
     "name": "stdout",
     "output_type": "stream",
     "text": [
      "[CV] . metric=manhattan, n_neighbors=3, weights=uniform, total=   0.5s\n",
      "[CV] metric=manhattan, n_neighbors=3, weights=uniform ................\n",
      "[CV] . metric=manhattan, n_neighbors=3, weights=uniform, total=   0.6s\n",
      "[CV] metric=manhattan, n_neighbors=3, weights=uniform ................\n",
      "[CV] . metric=manhattan, n_neighbors=3, weights=uniform, total=   0.6s\n",
      "[CV] metric=manhattan, n_neighbors=3, weights=distance ...............\n",
      "[CV]  metric=manhattan, n_neighbors=3, weights=distance, total=   0.5s\n",
      "[CV] metric=manhattan, n_neighbors=3, weights=distance ...............\n",
      "[CV]  metric=manhattan, n_neighbors=3, weights=distance, total=   0.5s\n",
      "[CV] metric=manhattan, n_neighbors=3, weights=distance ...............\n",
      "[CV]  metric=manhattan, n_neighbors=3, weights=distance, total=   0.5s\n",
      "[CV] metric=manhattan, n_neighbors=3, weights=distance ...............\n",
      "[CV]  metric=manhattan, n_neighbors=3, weights=distance, total=   0.5s\n",
      "[CV] metric=manhattan, n_neighbors=3, weights=distance ...............\n",
      "[CV]  metric=manhattan, n_neighbors=3, weights=distance, total=   0.5s\n",
      "[CV] metric=manhattan, n_neighbors=5, weights=uniform ................\n",
      "[CV] . metric=manhattan, n_neighbors=5, weights=uniform, total=   0.6s\n",
      "[CV] metric=manhattan, n_neighbors=5, weights=uniform ................\n",
      "[CV] . metric=manhattan, n_neighbors=5, weights=uniform, total=   0.6s\n",
      "[CV] metric=manhattan, n_neighbors=5, weights=uniform ................\n",
      "[CV] . metric=manhattan, n_neighbors=5, weights=uniform, total=   0.7s\n",
      "[CV] metric=manhattan, n_neighbors=5, weights=uniform ................\n",
      "[CV] . metric=manhattan, n_neighbors=5, weights=uniform, total=   0.7s\n",
      "[CV] metric=manhattan, n_neighbors=5, weights=uniform ................\n",
      "[CV] . metric=manhattan, n_neighbors=5, weights=uniform, total=   0.6s\n",
      "[CV] metric=manhattan, n_neighbors=5, weights=distance ...............\n",
      "[CV]  metric=manhattan, n_neighbors=5, weights=distance, total=   0.6s\n",
      "[CV] metric=manhattan, n_neighbors=5, weights=distance ...............\n",
      "[CV]  metric=manhattan, n_neighbors=5, weights=distance, total=   0.6s\n",
      "[CV] metric=manhattan, n_neighbors=5, weights=distance ...............\n",
      "[CV]  metric=manhattan, n_neighbors=5, weights=distance, total=   0.5s\n",
      "[CV] metric=manhattan, n_neighbors=5, weights=distance ...............\n",
      "[CV]  metric=manhattan, n_neighbors=5, weights=distance, total=   0.6s\n",
      "[CV] metric=manhattan, n_neighbors=5, weights=distance ...............\n",
      "[CV]  metric=manhattan, n_neighbors=5, weights=distance, total=   0.6s\n",
      "[CV] metric=manhattan, n_neighbors=7, weights=uniform ................\n",
      "[CV] . metric=manhattan, n_neighbors=7, weights=uniform, total=   0.6s\n",
      "[CV] metric=manhattan, n_neighbors=7, weights=uniform ................\n",
      "[CV] . metric=manhattan, n_neighbors=7, weights=uniform, total=   0.7s\n",
      "[CV] metric=manhattan, n_neighbors=7, weights=uniform ................\n",
      "[CV] . metric=manhattan, n_neighbors=7, weights=uniform, total=   0.7s\n",
      "[CV] metric=manhattan, n_neighbors=7, weights=uniform ................\n",
      "[CV] . metric=manhattan, n_neighbors=7, weights=uniform, total=   0.6s\n",
      "[CV] metric=manhattan, n_neighbors=7, weights=uniform ................\n",
      "[CV] . metric=manhattan, n_neighbors=7, weights=uniform, total=   0.6s\n",
      "[CV] metric=manhattan, n_neighbors=7, weights=distance ...............\n",
      "[CV]  metric=manhattan, n_neighbors=7, weights=distance, total=   0.7s\n",
      "[CV] metric=manhattan, n_neighbors=7, weights=distance ...............\n",
      "[CV]  metric=manhattan, n_neighbors=7, weights=distance, total=   0.6s\n",
      "[CV] metric=manhattan, n_neighbors=7, weights=distance ...............\n",
      "[CV]  metric=manhattan, n_neighbors=7, weights=distance, total=   0.6s\n",
      "[CV] metric=manhattan, n_neighbors=7, weights=distance ...............\n",
      "[CV]  metric=manhattan, n_neighbors=7, weights=distance, total=   0.5s\n",
      "[CV] metric=manhattan, n_neighbors=7, weights=distance ...............\n",
      "[CV]  metric=manhattan, n_neighbors=7, weights=distance, total=   0.6s\n",
      "[CV] metric=manhattan, n_neighbors=9, weights=uniform ................\n",
      "[CV] . metric=manhattan, n_neighbors=9, weights=uniform, total=   0.6s\n",
      "[CV] metric=manhattan, n_neighbors=9, weights=uniform ................\n",
      "[CV] . metric=manhattan, n_neighbors=9, weights=uniform, total=   0.6s\n",
      "[CV] metric=manhattan, n_neighbors=9, weights=uniform ................\n",
      "[CV] . metric=manhattan, n_neighbors=9, weights=uniform, total=   0.6s\n",
      "[CV] metric=manhattan, n_neighbors=9, weights=uniform ................\n",
      "[CV] . metric=manhattan, n_neighbors=9, weights=uniform, total=   0.6s\n",
      "[CV] metric=manhattan, n_neighbors=9, weights=uniform ................\n",
      "[CV] . metric=manhattan, n_neighbors=9, weights=uniform, total=   0.6s\n",
      "[CV] metric=manhattan, n_neighbors=9, weights=distance ...............\n",
      "[CV]  metric=manhattan, n_neighbors=9, weights=distance, total=   0.5s\n",
      "[CV] metric=manhattan, n_neighbors=9, weights=distance ...............\n",
      "[CV]  metric=manhattan, n_neighbors=9, weights=distance, total=   0.5s\n",
      "[CV] metric=manhattan, n_neighbors=9, weights=distance ...............\n",
      "[CV]  metric=manhattan, n_neighbors=9, weights=distance, total=   0.5s\n",
      "[CV] metric=manhattan, n_neighbors=9, weights=distance ...............\n",
      "[CV]  metric=manhattan, n_neighbors=9, weights=distance, total=   0.5s\n",
      "[CV] metric=manhattan, n_neighbors=9, weights=distance ...............\n",
      "[CV]  metric=manhattan, n_neighbors=9, weights=distance, total=   0.6s\n",
      "[CV] metric=manhattan, n_neighbors=11, weights=uniform ...............\n",
      "[CV]  metric=manhattan, n_neighbors=11, weights=uniform, total=   0.6s\n",
      "[CV] metric=manhattan, n_neighbors=11, weights=uniform ...............\n",
      "[CV]  metric=manhattan, n_neighbors=11, weights=uniform, total=   0.6s\n",
      "[CV] metric=manhattan, n_neighbors=11, weights=uniform ...............\n",
      "[CV]  metric=manhattan, n_neighbors=11, weights=uniform, total=   0.6s\n",
      "[CV] metric=manhattan, n_neighbors=11, weights=uniform ...............\n",
      "[CV]  metric=manhattan, n_neighbors=11, weights=uniform, total=   0.6s\n",
      "[CV] metric=manhattan, n_neighbors=11, weights=uniform ...............\n",
      "[CV]  metric=manhattan, n_neighbors=11, weights=uniform, total=   0.6s\n",
      "[CV] metric=manhattan, n_neighbors=11, weights=distance ..............\n",
      "[CV]  metric=manhattan, n_neighbors=11, weights=distance, total=   0.5s\n",
      "[CV] metric=manhattan, n_neighbors=11, weights=distance ..............\n",
      "[CV]  metric=manhattan, n_neighbors=11, weights=distance, total=   0.5s\n",
      "[CV] metric=manhattan, n_neighbors=11, weights=distance ..............\n",
      "[CV]  metric=manhattan, n_neighbors=11, weights=distance, total=   0.5s\n",
      "[CV] metric=manhattan, n_neighbors=11, weights=distance ..............\n",
      "[CV]  metric=manhattan, n_neighbors=11, weights=distance, total=   0.5s\n",
      "[CV] metric=manhattan, n_neighbors=11, weights=distance ..............\n",
      "[CV]  metric=manhattan, n_neighbors=11, weights=distance, total=   0.5s\n",
      "[CV] metric=manhattan, n_neighbors=13, weights=uniform ...............\n",
      "[CV]  metric=manhattan, n_neighbors=13, weights=uniform, total=   0.5s\n",
      "[CV] metric=manhattan, n_neighbors=13, weights=uniform ...............\n",
      "[CV]  metric=manhattan, n_neighbors=13, weights=uniform, total=   0.6s\n",
      "[CV] metric=manhattan, n_neighbors=13, weights=uniform ...............\n",
      "[CV]  metric=manhattan, n_neighbors=13, weights=uniform, total=   0.6s\n",
      "[CV] metric=manhattan, n_neighbors=13, weights=uniform ...............\n",
      "[CV]  metric=manhattan, n_neighbors=13, weights=uniform, total=   0.6s\n",
      "[CV] metric=manhattan, n_neighbors=13, weights=uniform ...............\n",
      "[CV]  metric=manhattan, n_neighbors=13, weights=uniform, total=   0.6s\n",
      "[CV] metric=manhattan, n_neighbors=13, weights=distance ..............\n",
      "[CV]  metric=manhattan, n_neighbors=13, weights=distance, total=   0.6s\n",
      "[CV] metric=manhattan, n_neighbors=13, weights=distance ..............\n",
      "[CV]  metric=manhattan, n_neighbors=13, weights=distance, total=   0.5s\n",
      "[CV] metric=manhattan, n_neighbors=13, weights=distance ..............\n",
      "[CV]  metric=manhattan, n_neighbors=13, weights=distance, total=   0.5s\n",
      "[CV] metric=manhattan, n_neighbors=13, weights=distance ..............\n",
      "[CV]  metric=manhattan, n_neighbors=13, weights=distance, total=   0.6s\n",
      "[CV] metric=manhattan, n_neighbors=13, weights=distance ..............\n",
      "[CV]  metric=manhattan, n_neighbors=13, weights=distance, total=   0.6s\n",
      "[CV] metric=manhattan, n_neighbors=15, weights=uniform ...............\n"
     ]
    },
    {
     "name": "stdout",
     "output_type": "stream",
     "text": [
      "[CV]  metric=manhattan, n_neighbors=15, weights=uniform, total=   0.6s\n",
      "[CV] metric=manhattan, n_neighbors=15, weights=uniform ...............\n",
      "[CV]  metric=manhattan, n_neighbors=15, weights=uniform, total=   0.6s\n",
      "[CV] metric=manhattan, n_neighbors=15, weights=uniform ...............\n",
      "[CV]  metric=manhattan, n_neighbors=15, weights=uniform, total=   0.6s\n",
      "[CV] metric=manhattan, n_neighbors=15, weights=uniform ...............\n",
      "[CV]  metric=manhattan, n_neighbors=15, weights=uniform, total=   0.6s\n",
      "[CV] metric=manhattan, n_neighbors=15, weights=uniform ...............\n",
      "[CV]  metric=manhattan, n_neighbors=15, weights=uniform, total=   0.6s\n",
      "[CV] metric=manhattan, n_neighbors=15, weights=distance ..............\n",
      "[CV]  metric=manhattan, n_neighbors=15, weights=distance, total=   0.6s\n",
      "[CV] metric=manhattan, n_neighbors=15, weights=distance ..............\n",
      "[CV]  metric=manhattan, n_neighbors=15, weights=distance, total=   0.6s\n",
      "[CV] metric=manhattan, n_neighbors=15, weights=distance ..............\n",
      "[CV]  metric=manhattan, n_neighbors=15, weights=distance, total=   0.5s\n",
      "[CV] metric=manhattan, n_neighbors=15, weights=distance ..............\n",
      "[CV]  metric=manhattan, n_neighbors=15, weights=distance, total=   0.6s\n",
      "[CV] metric=manhattan, n_neighbors=15, weights=distance ..............\n",
      "[CV]  metric=manhattan, n_neighbors=15, weights=distance, total=   0.6s\n",
      "[CV] metric=manhattan, n_neighbors=17, weights=uniform ...............\n",
      "[CV]  metric=manhattan, n_neighbors=17, weights=uniform, total=   0.6s\n",
      "[CV] metric=manhattan, n_neighbors=17, weights=uniform ...............\n",
      "[CV]  metric=manhattan, n_neighbors=17, weights=uniform, total=   0.6s\n",
      "[CV] metric=manhattan, n_neighbors=17, weights=uniform ...............\n",
      "[CV]  metric=manhattan, n_neighbors=17, weights=uniform, total=   0.6s\n",
      "[CV] metric=manhattan, n_neighbors=17, weights=uniform ...............\n",
      "[CV]  metric=manhattan, n_neighbors=17, weights=uniform, total=   0.6s\n",
      "[CV] metric=manhattan, n_neighbors=17, weights=uniform ...............\n",
      "[CV]  metric=manhattan, n_neighbors=17, weights=uniform, total=   0.6s\n",
      "[CV] metric=manhattan, n_neighbors=17, weights=distance ..............\n",
      "[CV]  metric=manhattan, n_neighbors=17, weights=distance, total=   0.5s\n",
      "[CV] metric=manhattan, n_neighbors=17, weights=distance ..............\n",
      "[CV]  metric=manhattan, n_neighbors=17, weights=distance, total=   0.6s\n",
      "[CV] metric=manhattan, n_neighbors=17, weights=distance ..............\n",
      "[CV]  metric=manhattan, n_neighbors=17, weights=distance, total=   0.6s\n",
      "[CV] metric=manhattan, n_neighbors=17, weights=distance ..............\n",
      "[CV]  metric=manhattan, n_neighbors=17, weights=distance, total=   0.5s\n",
      "[CV] metric=manhattan, n_neighbors=17, weights=distance ..............\n",
      "[CV]  metric=manhattan, n_neighbors=17, weights=distance, total=   0.5s\n",
      "[CV] metric=manhattan, n_neighbors=19, weights=uniform ...............\n",
      "[CV]  metric=manhattan, n_neighbors=19, weights=uniform, total=   0.6s\n",
      "[CV] metric=manhattan, n_neighbors=19, weights=uniform ...............\n",
      "[CV]  metric=manhattan, n_neighbors=19, weights=uniform, total=   0.6s\n",
      "[CV] metric=manhattan, n_neighbors=19, weights=uniform ...............\n",
      "[CV]  metric=manhattan, n_neighbors=19, weights=uniform, total=   0.6s\n",
      "[CV] metric=manhattan, n_neighbors=19, weights=uniform ...............\n",
      "[CV]  metric=manhattan, n_neighbors=19, weights=uniform, total=   0.6s\n",
      "[CV] metric=manhattan, n_neighbors=19, weights=uniform ...............\n",
      "[CV]  metric=manhattan, n_neighbors=19, weights=uniform, total=   0.6s\n",
      "[CV] metric=manhattan, n_neighbors=19, weights=distance ..............\n",
      "[CV]  metric=manhattan, n_neighbors=19, weights=distance, total=   0.5s\n",
      "[CV] metric=manhattan, n_neighbors=19, weights=distance ..............\n",
      "[CV]  metric=manhattan, n_neighbors=19, weights=distance, total=   0.5s\n",
      "[CV] metric=manhattan, n_neighbors=19, weights=distance ..............\n",
      "[CV]  metric=manhattan, n_neighbors=19, weights=distance, total=   0.5s\n",
      "[CV] metric=manhattan, n_neighbors=19, weights=distance ..............\n",
      "[CV]  metric=manhattan, n_neighbors=19, weights=distance, total=   0.5s\n",
      "[CV] metric=manhattan, n_neighbors=19, weights=distance ..............\n",
      "[CV]  metric=manhattan, n_neighbors=19, weights=distance, total=   0.6s\n",
      "[CV] metric=manhattan, n_neighbors=21, weights=uniform ...............\n",
      "[CV]  metric=manhattan, n_neighbors=21, weights=uniform, total=   0.6s\n",
      "[CV] metric=manhattan, n_neighbors=21, weights=uniform ...............\n",
      "[CV]  metric=manhattan, n_neighbors=21, weights=uniform, total=   0.7s\n",
      "[CV] metric=manhattan, n_neighbors=21, weights=uniform ...............\n",
      "[CV]  metric=manhattan, n_neighbors=21, weights=uniform, total=   0.6s\n",
      "[CV] metric=manhattan, n_neighbors=21, weights=uniform ...............\n",
      "[CV]  metric=manhattan, n_neighbors=21, weights=uniform, total=   0.6s\n",
      "[CV] metric=manhattan, n_neighbors=21, weights=uniform ...............\n",
      "[CV]  metric=manhattan, n_neighbors=21, weights=uniform, total=   0.5s\n",
      "[CV] metric=manhattan, n_neighbors=21, weights=distance ..............\n",
      "[CV]  metric=manhattan, n_neighbors=21, weights=distance, total=   0.5s\n",
      "[CV] metric=manhattan, n_neighbors=21, weights=distance ..............\n",
      "[CV]  metric=manhattan, n_neighbors=21, weights=distance, total=   0.5s\n",
      "[CV] metric=manhattan, n_neighbors=21, weights=distance ..............\n",
      "[CV]  metric=manhattan, n_neighbors=21, weights=distance, total=   0.5s\n",
      "[CV] metric=manhattan, n_neighbors=21, weights=distance ..............\n",
      "[CV]  metric=manhattan, n_neighbors=21, weights=distance, total=   0.5s\n",
      "[CV] metric=manhattan, n_neighbors=21, weights=distance ..............\n",
      "[CV]  metric=manhattan, n_neighbors=21, weights=distance, total=   0.5s\n",
      "[CV] metric=manhattan, n_neighbors=23, weights=uniform ...............\n",
      "[CV]  metric=manhattan, n_neighbors=23, weights=uniform, total=   0.6s\n",
      "[CV] metric=manhattan, n_neighbors=23, weights=uniform ...............\n",
      "[CV]  metric=manhattan, n_neighbors=23, weights=uniform, total=   0.6s\n",
      "[CV] metric=manhattan, n_neighbors=23, weights=uniform ...............\n",
      "[CV]  metric=manhattan, n_neighbors=23, weights=uniform, total=   0.6s\n",
      "[CV] metric=manhattan, n_neighbors=23, weights=uniform ...............\n",
      "[CV]  metric=manhattan, n_neighbors=23, weights=uniform, total=   0.6s\n",
      "[CV] metric=manhattan, n_neighbors=23, weights=uniform ...............\n",
      "[CV]  metric=manhattan, n_neighbors=23, weights=uniform, total=   0.6s\n",
      "[CV] metric=manhattan, n_neighbors=23, weights=distance ..............\n",
      "[CV]  metric=manhattan, n_neighbors=23, weights=distance, total=   0.5s\n",
      "[CV] metric=manhattan, n_neighbors=23, weights=distance ..............\n",
      "[CV]  metric=manhattan, n_neighbors=23, weights=distance, total=   0.6s\n",
      "[CV] metric=manhattan, n_neighbors=23, weights=distance ..............\n",
      "[CV]  metric=manhattan, n_neighbors=23, weights=distance, total=   0.5s\n",
      "[CV] metric=manhattan, n_neighbors=23, weights=distance ..............\n",
      "[CV]  metric=manhattan, n_neighbors=23, weights=distance, total=   0.6s\n",
      "[CV] metric=manhattan, n_neighbors=23, weights=distance ..............\n",
      "[CV]  metric=manhattan, n_neighbors=23, weights=distance, total=   0.6s\n",
      "[CV] metric=Chebyshev, n_neighbors=1, weights=uniform ................\n",
      "[CV] . metric=Chebyshev, n_neighbors=1, weights=uniform, total=   0.0s\n",
      "[CV] metric=Chebyshev, n_neighbors=1, weights=uniform ................\n",
      "[CV] . metric=Chebyshev, n_neighbors=1, weights=uniform, total=   0.0s\n",
      "[CV] metric=Chebyshev, n_neighbors=1, weights=uniform ................\n",
      "[CV] . metric=Chebyshev, n_neighbors=1, weights=uniform, total=   0.0s\n",
      "[CV] metric=Chebyshev, n_neighbors=1, weights=uniform ................\n",
      "[CV] . metric=Chebyshev, n_neighbors=1, weights=uniform, total=   0.0s\n",
      "[CV] metric=Chebyshev, n_neighbors=1, weights=uniform ................\n",
      "[CV] . metric=Chebyshev, n_neighbors=1, weights=uniform, total=   0.0s\n",
      "[CV] metric=Chebyshev, n_neighbors=1, weights=distance ...............\n",
      "[CV]  metric=Chebyshev, n_neighbors=1, weights=distance, total=   0.0s\n",
      "[CV] metric=Chebyshev, n_neighbors=1, weights=distance ...............\n",
      "[CV]  metric=Chebyshev, n_neighbors=1, weights=distance, total=   0.0s\n",
      "[CV] metric=Chebyshev, n_neighbors=1, weights=distance ...............\n",
      "[CV]  metric=Chebyshev, n_neighbors=1, weights=distance, total=   0.0s\n",
      "[CV] metric=Chebyshev, n_neighbors=1, weights=distance ...............\n",
      "[CV]  metric=Chebyshev, n_neighbors=1, weights=distance, total=   0.0s\n",
      "[CV] metric=Chebyshev, n_neighbors=1, weights=distance ...............\n",
      "[CV]  metric=Chebyshev, n_neighbors=1, weights=distance, total=   0.0s\n",
      "[CV] metric=Chebyshev, n_neighbors=3, weights=uniform ................\n",
      "[CV] . metric=Chebyshev, n_neighbors=3, weights=uniform, total=   0.0s\n",
      "[CV] metric=Chebyshev, n_neighbors=3, weights=uniform ................\n",
      "[CV] . metric=Chebyshev, n_neighbors=3, weights=uniform, total=   0.0s\n",
      "[CV] metric=Chebyshev, n_neighbors=3, weights=uniform ................\n",
      "[CV] . metric=Chebyshev, n_neighbors=3, weights=uniform, total=   0.0s\n",
      "[CV] metric=Chebyshev, n_neighbors=3, weights=uniform ................\n",
      "[CV] . metric=Chebyshev, n_neighbors=3, weights=uniform, total=   0.0s\n",
      "[CV] metric=Chebyshev, n_neighbors=3, weights=uniform ................\n",
      "[CV] . metric=Chebyshev, n_neighbors=3, weights=uniform, total=   0.0s\n",
      "[CV] metric=Chebyshev, n_neighbors=3, weights=distance ...............\n",
      "[CV]  metric=Chebyshev, n_neighbors=3, weights=distance, total=   0.0s\n",
      "[CV] metric=Chebyshev, n_neighbors=3, weights=distance ...............\n",
      "[CV]  metric=Chebyshev, n_neighbors=3, weights=distance, total=   0.0s\n",
      "[CV] metric=Chebyshev, n_neighbors=3, weights=distance ...............\n",
      "[CV]  metric=Chebyshev, n_neighbors=3, weights=distance, total=   0.0s\n",
      "[CV] metric=Chebyshev, n_neighbors=3, weights=distance ...............\n",
      "[CV]  metric=Chebyshev, n_neighbors=3, weights=distance, total=   0.0s\n",
      "[CV] metric=Chebyshev, n_neighbors=3, weights=distance ...............\n",
      "[CV]  metric=Chebyshev, n_neighbors=3, weights=distance, total=   0.0s\n",
      "[CV] metric=Chebyshev, n_neighbors=5, weights=uniform ................\n",
      "[CV] . metric=Chebyshev, n_neighbors=5, weights=uniform, total=   0.0s\n",
      "[CV] metric=Chebyshev, n_neighbors=5, weights=uniform ................\n",
      "[CV] . metric=Chebyshev, n_neighbors=5, weights=uniform, total=   0.0s\n",
      "[CV] metric=Chebyshev, n_neighbors=5, weights=uniform ................\n",
      "[CV] . metric=Chebyshev, n_neighbors=5, weights=uniform, total=   0.0s\n",
      "[CV] metric=Chebyshev, n_neighbors=5, weights=uniform ................\n",
      "[CV] . metric=Chebyshev, n_neighbors=5, weights=uniform, total=   0.0s\n",
      "[CV] metric=Chebyshev, n_neighbors=5, weights=uniform ................\n",
      "[CV] . metric=Chebyshev, n_neighbors=5, weights=uniform, total=   0.0s\n",
      "[CV] metric=Chebyshev, n_neighbors=5, weights=distance ...............\n",
      "[CV]  metric=Chebyshev, n_neighbors=5, weights=distance, total=   0.0s\n",
      "[CV] metric=Chebyshev, n_neighbors=5, weights=distance ...............\n",
      "[CV]  metric=Chebyshev, n_neighbors=5, weights=distance, total=   0.0s\n",
      "[CV] metric=Chebyshev, n_neighbors=5, weights=distance ...............\n",
      "[CV]  metric=Chebyshev, n_neighbors=5, weights=distance, total=   0.0s\n",
      "[CV] metric=Chebyshev, n_neighbors=5, weights=distance ...............\n",
      "[CV]  metric=Chebyshev, n_neighbors=5, weights=distance, total=   0.0s\n",
      "[CV] metric=Chebyshev, n_neighbors=5, weights=distance ...............\n",
      "[CV]  metric=Chebyshev, n_neighbors=5, weights=distance, total=   0.0s\n",
      "[CV] metric=Chebyshev, n_neighbors=7, weights=uniform ................\n",
      "[CV] . metric=Chebyshev, n_neighbors=7, weights=uniform, total=   0.0s\n",
      "[CV] metric=Chebyshev, n_neighbors=7, weights=uniform ................\n",
      "[CV] . metric=Chebyshev, n_neighbors=7, weights=uniform, total=   0.0s\n",
      "[CV] metric=Chebyshev, n_neighbors=7, weights=uniform ................\n",
      "[CV] . metric=Chebyshev, n_neighbors=7, weights=uniform, total=   0.0s\n",
      "[CV] metric=Chebyshev, n_neighbors=7, weights=uniform ................\n",
      "[CV] . metric=Chebyshev, n_neighbors=7, weights=uniform, total=   0.0s\n",
      "[CV] metric=Chebyshev, n_neighbors=7, weights=uniform ................\n",
      "[CV] . metric=Chebyshev, n_neighbors=7, weights=uniform, total=   0.0s\n",
      "[CV] metric=Chebyshev, n_neighbors=7, weights=distance ...............\n",
      "[CV]  metric=Chebyshev, n_neighbors=7, weights=distance, total=   0.0s\n",
      "[CV] metric=Chebyshev, n_neighbors=7, weights=distance ...............\n",
      "[CV]  metric=Chebyshev, n_neighbors=7, weights=distance, total=   0.0s\n",
      "[CV] metric=Chebyshev, n_neighbors=7, weights=distance ...............\n",
      "[CV]  metric=Chebyshev, n_neighbors=7, weights=distance, total=   0.0s\n",
      "[CV] metric=Chebyshev, n_neighbors=7, weights=distance ...............\n",
      "[CV]  metric=Chebyshev, n_neighbors=7, weights=distance, total=   0.0s\n",
      "[CV] metric=Chebyshev, n_neighbors=7, weights=distance ...............\n",
      "[CV]  metric=Chebyshev, n_neighbors=7, weights=distance, total=   0.0s\n",
      "[CV] metric=Chebyshev, n_neighbors=9, weights=uniform ................\n",
      "[CV] . metric=Chebyshev, n_neighbors=9, weights=uniform, total=   0.0s\n",
      "[CV] metric=Chebyshev, n_neighbors=9, weights=uniform ................\n",
      "[CV] . metric=Chebyshev, n_neighbors=9, weights=uniform, total=   0.0s\n",
      "[CV] metric=Chebyshev, n_neighbors=9, weights=uniform ................\n",
      "[CV] . metric=Chebyshev, n_neighbors=9, weights=uniform, total=   0.0s\n",
      "[CV] metric=Chebyshev, n_neighbors=9, weights=uniform ................\n",
      "[CV] . metric=Chebyshev, n_neighbors=9, weights=uniform, total=   0.0s\n",
      "[CV] metric=Chebyshev, n_neighbors=9, weights=uniform ................\n",
      "[CV] . metric=Chebyshev, n_neighbors=9, weights=uniform, total=   0.0s\n",
      "[CV] metric=Chebyshev, n_neighbors=9, weights=distance ...............\n",
      "[CV]  metric=Chebyshev, n_neighbors=9, weights=distance, total=   0.0s\n",
      "[CV] metric=Chebyshev, n_neighbors=9, weights=distance ...............\n",
      "[CV]  metric=Chebyshev, n_neighbors=9, weights=distance, total=   0.0s\n",
      "[CV] metric=Chebyshev, n_neighbors=9, weights=distance ...............\n",
      "[CV]  metric=Chebyshev, n_neighbors=9, weights=distance, total=   0.0s\n",
      "[CV] metric=Chebyshev, n_neighbors=9, weights=distance ...............\n",
      "[CV]  metric=Chebyshev, n_neighbors=9, weights=distance, total=   0.0s\n",
      "[CV] metric=Chebyshev, n_neighbors=9, weights=distance ...............\n",
      "[CV]  metric=Chebyshev, n_neighbors=9, weights=distance, total=   0.0s\n",
      "[CV] metric=Chebyshev, n_neighbors=11, weights=uniform ...............\n",
      "[CV]  metric=Chebyshev, n_neighbors=11, weights=uniform, total=   0.0s\n",
      "[CV] metric=Chebyshev, n_neighbors=11, weights=uniform ...............\n",
      "[CV]  metric=Chebyshev, n_neighbors=11, weights=uniform, total=   0.0s\n",
      "[CV] metric=Chebyshev, n_neighbors=11, weights=uniform ...............\n",
      "[CV]  metric=Chebyshev, n_neighbors=11, weights=uniform, total=   0.0s\n",
      "[CV] metric=Chebyshev, n_neighbors=11, weights=uniform ...............\n",
      "[CV]  metric=Chebyshev, n_neighbors=11, weights=uniform, total=   0.0s\n",
      "[CV] metric=Chebyshev, n_neighbors=11, weights=uniform ...............\n",
      "[CV]  metric=Chebyshev, n_neighbors=11, weights=uniform, total=   0.0s\n",
      "[CV] metric=Chebyshev, n_neighbors=11, weights=distance ..............\n",
      "[CV]  metric=Chebyshev, n_neighbors=11, weights=distance, total=   0.0s\n",
      "[CV] metric=Chebyshev, n_neighbors=11, weights=distance ..............\n",
      "[CV]  metric=Chebyshev, n_neighbors=11, weights=distance, total=   0.0s\n",
      "[CV] metric=Chebyshev, n_neighbors=11, weights=distance ..............\n",
      "[CV]  metric=Chebyshev, n_neighbors=11, weights=distance, total=   0.0s\n",
      "[CV] metric=Chebyshev, n_neighbors=11, weights=distance ..............\n",
      "[CV]  metric=Chebyshev, n_neighbors=11, weights=distance, total=   0.0s\n",
      "[CV] metric=Chebyshev, n_neighbors=11, weights=distance ..............\n",
      "[CV]  metric=Chebyshev, n_neighbors=11, weights=distance, total=   0.0s\n",
      "[CV] metric=Chebyshev, n_neighbors=13, weights=uniform ...............\n",
      "[CV]  metric=Chebyshev, n_neighbors=13, weights=uniform, total=   0.0s\n",
      "[CV] metric=Chebyshev, n_neighbors=13, weights=uniform ...............\n",
      "[CV]  metric=Chebyshev, n_neighbors=13, weights=uniform, total=   0.0s\n",
      "[CV] metric=Chebyshev, n_neighbors=13, weights=uniform ...............\n",
      "[CV]  metric=Chebyshev, n_neighbors=13, weights=uniform, total=   0.0s\n",
      "[CV] metric=Chebyshev, n_neighbors=13, weights=uniform ...............\n",
      "[CV]  metric=Chebyshev, n_neighbors=13, weights=uniform, total=   0.0s\n",
      "[CV] metric=Chebyshev, n_neighbors=13, weights=uniform ...............\n",
      "[CV]  metric=Chebyshev, n_neighbors=13, weights=uniform, total=   0.0s\n",
      "[CV] metric=Chebyshev, n_neighbors=13, weights=distance ..............\n",
      "[CV]  metric=Chebyshev, n_neighbors=13, weights=distance, total=   0.0s\n",
      "[CV] metric=Chebyshev, n_neighbors=13, weights=distance ..............\n",
      "[CV]  metric=Chebyshev, n_neighbors=13, weights=distance, total=   0.0s\n",
      "[CV] metric=Chebyshev, n_neighbors=13, weights=distance ..............\n",
      "[CV]  metric=Chebyshev, n_neighbors=13, weights=distance, total=   0.0s\n",
      "[CV] metric=Chebyshev, n_neighbors=13, weights=distance ..............\n",
      "[CV]  metric=Chebyshev, n_neighbors=13, weights=distance, total=   0.0s\n",
      "[CV] metric=Chebyshev, n_neighbors=13, weights=distance ..............\n",
      "[CV]  metric=Chebyshev, n_neighbors=13, weights=distance, total=   0.0s\n",
      "[CV] metric=Chebyshev, n_neighbors=15, weights=uniform ...............\n",
      "[CV]  metric=Chebyshev, n_neighbors=15, weights=uniform, total=   0.0s\n",
      "[CV] metric=Chebyshev, n_neighbors=15, weights=uniform ...............\n",
      "[CV]  metric=Chebyshev, n_neighbors=15, weights=uniform, total=   0.0s\n",
      "[CV] metric=Chebyshev, n_neighbors=15, weights=uniform ...............\n",
      "[CV]  metric=Chebyshev, n_neighbors=15, weights=uniform, total=   0.0s\n",
      "[CV] metric=Chebyshev, n_neighbors=15, weights=uniform ...............\n",
      "[CV]  metric=Chebyshev, n_neighbors=15, weights=uniform, total=   0.0s\n",
      "[CV] metric=Chebyshev, n_neighbors=15, weights=uniform ...............\n",
      "[CV]  metric=Chebyshev, n_neighbors=15, weights=uniform, total=   0.0s\n",
      "[CV] metric=Chebyshev, n_neighbors=15, weights=distance ..............\n",
      "[CV]  metric=Chebyshev, n_neighbors=15, weights=distance, total=   0.0s\n",
      "[CV] metric=Chebyshev, n_neighbors=15, weights=distance ..............\n",
      "[CV]  metric=Chebyshev, n_neighbors=15, weights=distance, total=   0.0s\n",
      "[CV] metric=Chebyshev, n_neighbors=15, weights=distance ..............\n",
      "[CV]  metric=Chebyshev, n_neighbors=15, weights=distance, total=   0.0s\n",
      "[CV] metric=Chebyshev, n_neighbors=15, weights=distance ..............\n",
      "[CV]  metric=Chebyshev, n_neighbors=15, weights=distance, total=   0.0s\n",
      "[CV] metric=Chebyshev, n_neighbors=15, weights=distance ..............\n",
      "[CV]  metric=Chebyshev, n_neighbors=15, weights=distance, total=   0.0s\n",
      "[CV] metric=Chebyshev, n_neighbors=17, weights=uniform ...............\n",
      "[CV]  metric=Chebyshev, n_neighbors=17, weights=uniform, total=   0.0s\n",
      "[CV] metric=Chebyshev, n_neighbors=17, weights=uniform ...............\n",
      "[CV]  metric=Chebyshev, n_neighbors=17, weights=uniform, total=   0.0s\n",
      "[CV] metric=Chebyshev, n_neighbors=17, weights=uniform ...............\n",
      "[CV]  metric=Chebyshev, n_neighbors=17, weights=uniform, total=   0.0s\n",
      "[CV] metric=Chebyshev, n_neighbors=17, weights=uniform ...............\n",
      "[CV]  metric=Chebyshev, n_neighbors=17, weights=uniform, total=   0.0s\n",
      "[CV] metric=Chebyshev, n_neighbors=17, weights=uniform ...............\n"
     ]
    },
    {
     "name": "stdout",
     "output_type": "stream",
     "text": [
      "[CV]  metric=Chebyshev, n_neighbors=17, weights=uniform, total=   0.0s\n",
      "[CV] metric=Chebyshev, n_neighbors=17, weights=distance ..............\n",
      "[CV]  metric=Chebyshev, n_neighbors=17, weights=distance, total=   0.0s\n",
      "[CV] metric=Chebyshev, n_neighbors=17, weights=distance ..............\n",
      "[CV]  metric=Chebyshev, n_neighbors=17, weights=distance, total=   0.0s\n",
      "[CV] metric=Chebyshev, n_neighbors=17, weights=distance ..............\n",
      "[CV]  metric=Chebyshev, n_neighbors=17, weights=distance, total=   0.0s\n",
      "[CV] metric=Chebyshev, n_neighbors=17, weights=distance ..............\n",
      "[CV]  metric=Chebyshev, n_neighbors=17, weights=distance, total=   0.0s\n",
      "[CV] metric=Chebyshev, n_neighbors=17, weights=distance ..............\n",
      "[CV]  metric=Chebyshev, n_neighbors=17, weights=distance, total=   0.0s\n",
      "[CV] metric=Chebyshev, n_neighbors=19, weights=uniform ...............\n",
      "[CV]  metric=Chebyshev, n_neighbors=19, weights=uniform, total=   0.0s\n",
      "[CV] metric=Chebyshev, n_neighbors=19, weights=uniform ...............\n",
      "[CV]  metric=Chebyshev, n_neighbors=19, weights=uniform, total=   0.0s\n",
      "[CV] metric=Chebyshev, n_neighbors=19, weights=uniform ...............\n",
      "[CV]  metric=Chebyshev, n_neighbors=19, weights=uniform, total=   0.0s\n",
      "[CV] metric=Chebyshev, n_neighbors=19, weights=uniform ...............\n",
      "[CV]  metric=Chebyshev, n_neighbors=19, weights=uniform, total=   0.0s\n",
      "[CV] metric=Chebyshev, n_neighbors=19, weights=uniform ...............\n",
      "[CV]  metric=Chebyshev, n_neighbors=19, weights=uniform, total=   0.0s\n",
      "[CV] metric=Chebyshev, n_neighbors=19, weights=distance ..............\n",
      "[CV]  metric=Chebyshev, n_neighbors=19, weights=distance, total=   0.0s\n",
      "[CV] metric=Chebyshev, n_neighbors=19, weights=distance ..............\n",
      "[CV]  metric=Chebyshev, n_neighbors=19, weights=distance, total=   0.0s\n",
      "[CV] metric=Chebyshev, n_neighbors=19, weights=distance ..............\n",
      "[CV]  metric=Chebyshev, n_neighbors=19, weights=distance, total=   0.0s\n",
      "[CV] metric=Chebyshev, n_neighbors=19, weights=distance ..............\n",
      "[CV]  metric=Chebyshev, n_neighbors=19, weights=distance, total=   0.0s\n",
      "[CV] metric=Chebyshev, n_neighbors=19, weights=distance ..............\n",
      "[CV]  metric=Chebyshev, n_neighbors=19, weights=distance, total=   0.0s\n",
      "[CV] metric=Chebyshev, n_neighbors=21, weights=uniform ...............\n",
      "[CV]  metric=Chebyshev, n_neighbors=21, weights=uniform, total=   0.0s\n",
      "[CV] metric=Chebyshev, n_neighbors=21, weights=uniform ...............\n",
      "[CV]  metric=Chebyshev, n_neighbors=21, weights=uniform, total=   0.0s\n",
      "[CV] metric=Chebyshev, n_neighbors=21, weights=uniform ...............\n",
      "[CV]  metric=Chebyshev, n_neighbors=21, weights=uniform, total=   0.0s\n",
      "[CV] metric=Chebyshev, n_neighbors=21, weights=uniform ...............\n",
      "[CV]  metric=Chebyshev, n_neighbors=21, weights=uniform, total=   0.0s\n",
      "[CV] metric=Chebyshev, n_neighbors=21, weights=uniform ...............\n",
      "[CV]  metric=Chebyshev, n_neighbors=21, weights=uniform, total=   0.0s\n",
      "[CV] metric=Chebyshev, n_neighbors=21, weights=distance ..............\n",
      "[CV]  metric=Chebyshev, n_neighbors=21, weights=distance, total=   0.0s\n",
      "[CV] metric=Chebyshev, n_neighbors=21, weights=distance ..............\n",
      "[CV]  metric=Chebyshev, n_neighbors=21, weights=distance, total=   0.0s\n",
      "[CV] metric=Chebyshev, n_neighbors=21, weights=distance ..............\n",
      "[CV]  metric=Chebyshev, n_neighbors=21, weights=distance, total=   0.0s\n",
      "[CV] metric=Chebyshev, n_neighbors=21, weights=distance ..............\n",
      "[CV]  metric=Chebyshev, n_neighbors=21, weights=distance, total=   0.0s\n",
      "[CV] metric=Chebyshev, n_neighbors=21, weights=distance ..............\n",
      "[CV]  metric=Chebyshev, n_neighbors=21, weights=distance, total=   0.0s\n",
      "[CV] metric=Chebyshev, n_neighbors=23, weights=uniform ...............\n",
      "[CV]  metric=Chebyshev, n_neighbors=23, weights=uniform, total=   0.0s\n",
      "[CV] metric=Chebyshev, n_neighbors=23, weights=uniform ...............\n",
      "[CV]  metric=Chebyshev, n_neighbors=23, weights=uniform, total=   0.0s\n",
      "[CV] metric=Chebyshev, n_neighbors=23, weights=uniform ...............\n",
      "[CV]  metric=Chebyshev, n_neighbors=23, weights=uniform, total=   0.0s\n",
      "[CV] metric=Chebyshev, n_neighbors=23, weights=uniform ...............\n",
      "[CV]  metric=Chebyshev, n_neighbors=23, weights=uniform, total=   0.0s\n",
      "[CV] metric=Chebyshev, n_neighbors=23, weights=uniform ...............\n",
      "[CV]  metric=Chebyshev, n_neighbors=23, weights=uniform, total=   0.0s\n",
      "[CV] metric=Chebyshev, n_neighbors=23, weights=distance ..............\n",
      "[CV]  metric=Chebyshev, n_neighbors=23, weights=distance, total=   0.0s\n",
      "[CV] metric=Chebyshev, n_neighbors=23, weights=distance ..............\n",
      "[CV]  metric=Chebyshev, n_neighbors=23, weights=distance, total=   0.0s\n",
      "[CV] metric=Chebyshev, n_neighbors=23, weights=distance ..............\n",
      "[CV]  metric=Chebyshev, n_neighbors=23, weights=distance, total=   0.0s\n",
      "[CV] metric=Chebyshev, n_neighbors=23, weights=distance ..............\n",
      "[CV]  metric=Chebyshev, n_neighbors=23, weights=distance, total=   0.0s\n",
      "[CV] metric=Chebyshev, n_neighbors=23, weights=distance ..............\n",
      "[CV]  metric=Chebyshev, n_neighbors=23, weights=distance, total=   0.0s\n",
      "Best parameters for KNN Classifier:  {'metric': 'euclidean', 'n_neighbors': 17, 'weights': 'uniform'} \n",
      "\n"
     ]
    },
    {
     "name": "stderr",
     "output_type": "stream",
     "text": [
      "[Parallel(n_jobs=1)]: Done 480 out of 480 | elapsed:  1.4min finished\n"
     ]
    }
   ],
   "source": [
    "tuned_paramaters = {'n_neighbors': np.arange(1, 25, 2),\n",
    "                   'metric': ['hamming','euclidean','manhattan','Chebyshev'],\n",
    "                    \"weights\":[\"uniform\", \"distance\"]}\n",
    "knn_classification = KNeighborsClassifier()\n",
    "knn_grid = GridSearchCV(estimator = knn_classification, \n",
    "                        param_grid = tuned_paramaters, \n",
    "                        cv = 5, \n",
    "                        scoring = 'accuracy',verbose=2)\n",
    "\n",
    "# fit the model on X_train and y_train using fit()\n",
    "knn_grid.fit(sampleTrain_dtm, ytrain)\n",
    "\n",
    "# get the best parameters\n",
    "print('Best parameters for KNN Classifier: ', knn_grid.best_params_, '\\n')"
   ]
  },
  {
   "cell_type": "code",
   "execution_count": null,
   "metadata": {
    "id": "Q_OIYIzOICKi"
   },
   "outputs": [],
   "source": []
  },
  {
   "cell_type": "code",
   "execution_count": null,
   "metadata": {
    "id": "Gz0x-fo9If2l"
   },
   "outputs": [],
   "source": []
  },
  {
   "cell_type": "code",
   "execution_count": null,
   "metadata": {
    "id": "xwsfP4o4If6a"
   },
   "outputs": [],
   "source": []
  },
  {
   "cell_type": "code",
   "execution_count": 67,
   "metadata": {
    "id": "9yu8UtDlUDlV"
   },
   "outputs": [],
   "source": [
    "#Best parameters for KNN Classifier:  {'metric': 'euclidean', 'n_neighbors': 17, 'weights': 'uniform'} "
   ]
  },
  {
   "cell_type": "code",
   "execution_count": 68,
   "metadata": {
    "colab": {
     "base_uri": "https://localhost:8080/"
    },
    "id": "TGDlCDt7IccN",
    "outputId": "d2e49dec-7784-40b2-9d6c-8f749fb18636"
   },
   "outputs": [
    {
     "data": {
      "text/plain": [
       "KNeighborsClassifier(n_neighbors=17)"
      ]
     },
     "execution_count": 68,
     "metadata": {},
     "output_type": "execute_result"
    }
   ],
   "source": [
    "#by default weight is set to uniform and metric as euclidean as p value is 2 \n",
    "model2 = KNeighborsClassifier(n_neighbors=17)\n",
    "model2.fit(sampleTrain_dtm, ytrain)"
   ]
  },
  {
   "cell_type": "code",
   "execution_count": 69,
   "metadata": {
    "colab": {
     "base_uri": "https://localhost:8080/"
    },
    "id": "pHzDAePGIccN",
    "outputId": "1102eeb2-ca13-4cd9-9a20-2f3f520c55b7"
   },
   "outputs": [
    {
     "data": {
      "text/plain": [
       "1143"
      ]
     },
     "execution_count": 69,
     "metadata": {},
     "output_type": "execute_result"
    }
   ],
   "source": [
    "# Transform test data into DTM by using generated vocabulary\n",
    "sampleTest_dtm = toNumeric.transform(xtest)\n",
    "len(sampleTest_dtm.toarray())"
   ]
  },
  {
   "cell_type": "code",
   "execution_count": 70,
   "metadata": {
    "id": "aOFBy_DXIccO"
   },
   "outputs": [],
   "source": [
    "# Test built model\n",
    "y_pred_test_2 = model2.predict(sampleTest_dtm)"
   ]
  },
  {
   "cell_type": "code",
   "execution_count": 71,
   "metadata": {
    "colab": {
     "base_uri": "https://localhost:8080/"
    },
    "id": "gGCc13lLIccO",
    "outputId": "87521549-7148-47a6-a18b-cc7d9aaa298e"
   },
   "outputs": [
    {
     "data": {
      "text/plain": [
       "(1143,)"
      ]
     },
     "execution_count": 71,
     "metadata": {},
     "output_type": "execute_result"
    }
   ],
   "source": [
    "y_pred_test_2.shape"
   ]
  },
  {
   "cell_type": "code",
   "execution_count": 72,
   "metadata": {
    "colab": {
     "base_uri": "https://localhost:8080/"
    },
    "id": "qY8B2TrdIccO",
    "outputId": "d938bdd0-7278-49f8-dc8d-f7997b7572b2"
   },
   "outputs": [
    {
     "data": {
      "text/plain": [
       "(1143,)"
      ]
     },
     "execution_count": 72,
     "metadata": {},
     "output_type": "execute_result"
    }
   ],
   "source": [
    "ytest.shape"
   ]
  },
  {
   "cell_type": "code",
   "execution_count": null,
   "metadata": {},
   "outputs": [],
   "source": []
  },
  {
   "cell_type": "code",
   "execution_count": 75,
   "metadata": {
    "colab": {
     "base_uri": "https://localhost:8080/"
    },
    "id": "hKYIK48-MaCB",
    "outputId": "7ac9805e-3556-47b9-d8bc-8dc374fe11fc"
   },
   "outputs": [
    {
     "data": {
      "text/plain": [
       "0.7664041994750657"
      ]
     },
     "execution_count": 75,
     "metadata": {},
     "output_type": "execute_result"
    }
   ],
   "source": [
    "metrics.accuracy_score(ytest, y_pred_test_2)"
   ]
  },
  {
   "cell_type": "code",
   "execution_count": 76,
   "metadata": {
    "colab": {
     "base_uri": "https://localhost:8080/"
    },
    "id": "0XWYQMVhIccP",
    "outputId": "fcbe0905-38cb-43cb-f135-be7b8b35dca6"
   },
   "outputs": [
    {
     "name": "stdout",
     "output_type": "stream",
     "text": [
      "              precision    recall  f1-score   support\n",
      "\n",
      "           0       0.78      0.97      0.86       866\n",
      "           1       0.58      0.14      0.22       277\n",
      "\n",
      "    accuracy                           0.77      1143\n",
      "   macro avg       0.68      0.55      0.54      1143\n",
      "weighted avg       0.73      0.77      0.71      1143\n",
      "\n"
     ]
    }
   ],
   "source": [
    "print(classification_report(ytest, y_pred_test_2))"
   ]
  },
  {
   "cell_type": "code",
   "execution_count": 77,
   "metadata": {
    "id": "cp40idGhIccP"
   },
   "outputs": [],
   "source": [
    "df_output = pd.DataFrame({\n",
    "    'y actual' : ytest,\n",
    "    ' y predicted 1' : y_pred_test,\n",
    "    ' y predicted 2' : y_pred_test_2\n",
    "})"
   ]
  },
  {
   "cell_type": "code",
   "execution_count": 78,
   "metadata": {
    "colab": {
     "base_uri": "https://localhost:8080/",
     "height": 203
    },
    "id": "JtJwKXENIccP",
    "outputId": "bff54a0d-c536-4c21-a486-58a30ff8354c"
   },
   "outputs": [
    {
     "data": {
      "text/html": [
       "<div>\n",
       "<style scoped>\n",
       "    .dataframe tbody tr th:only-of-type {\n",
       "        vertical-align: middle;\n",
       "    }\n",
       "\n",
       "    .dataframe tbody tr th {\n",
       "        vertical-align: top;\n",
       "    }\n",
       "\n",
       "    .dataframe thead th {\n",
       "        text-align: right;\n",
       "    }\n",
       "</style>\n",
       "<table border=\"1\" class=\"dataframe\">\n",
       "  <thead>\n",
       "    <tr style=\"text-align: right;\">\n",
       "      <th></th>\n",
       "      <th>y actual</th>\n",
       "      <th>y predicted 1</th>\n",
       "      <th>y predicted 2</th>\n",
       "    </tr>\n",
       "  </thead>\n",
       "  <tbody>\n",
       "    <tr>\n",
       "      <th>543992</th>\n",
       "      <td>0</td>\n",
       "      <td>1</td>\n",
       "      <td>0</td>\n",
       "    </tr>\n",
       "    <tr>\n",
       "      <th>221036</th>\n",
       "      <td>0</td>\n",
       "      <td>0</td>\n",
       "      <td>0</td>\n",
       "    </tr>\n",
       "    <tr>\n",
       "      <th>316889</th>\n",
       "      <td>0</td>\n",
       "      <td>0</td>\n",
       "      <td>0</td>\n",
       "    </tr>\n",
       "    <tr>\n",
       "      <th>231891</th>\n",
       "      <td>0</td>\n",
       "      <td>0</td>\n",
       "      <td>0</td>\n",
       "    </tr>\n",
       "    <tr>\n",
       "      <th>505925</th>\n",
       "      <td>0</td>\n",
       "      <td>0</td>\n",
       "      <td>0</td>\n",
       "    </tr>\n",
       "  </tbody>\n",
       "</table>\n",
       "</div>"
      ],
      "text/plain": [
       "        y actual   y predicted 1   y predicted 2\n",
       "543992         0               1               0\n",
       "221036         0               0               0\n",
       "316889         0               0               0\n",
       "231891         0               0               0\n",
       "505925         0               0               0"
      ]
     },
     "execution_count": 78,
     "metadata": {},
     "output_type": "execute_result"
    }
   ],
   "source": [
    "df_output.tail(5)"
   ]
  },
  {
   "cell_type": "code",
   "execution_count": 79,
   "metadata": {
    "colab": {
     "base_uri": "https://localhost:8080/"
    },
    "id": "Uo-AHAP-JDLQ",
    "outputId": "d789e0cf-a87e-4b4c-c3d3-eee92b26a906"
   },
   "outputs": [
    {
     "name": "stdout",
     "output_type": "stream",
     "text": [
      "y actual\n",
      "0    0.757655\n",
      "1    0.242345\n",
      "Name: y actual, dtype: float64\n",
      " y predicted 1\n",
      "0    0.818023\n",
      "1    0.181977\n",
      "Name:  y predicted 1, dtype: float64\n",
      " y predicted 2\n",
      "0    0.942257\n",
      "1    0.057743\n",
      "Name:  y predicted 2, dtype: float64\n"
     ]
    }
   ],
   "source": [
    "for i in df_output.columns:\n",
    "  print(i,df_output[i].value_counts(1),sep=\"\\n\")"
   ]
  },
  {
   "cell_type": "code",
   "execution_count": 80,
   "metadata": {
    "colab": {
     "base_uri": "https://localhost:8080/"
    },
    "id": "6hnglK5JJWn-",
    "outputId": "a3cc132a-d85e-4c59-a03b-01bb92a25b09"
   },
   "outputs": [
    {
     "data": {
      "text/plain": [
       "MultinomialNB()"
      ]
     },
     "execution_count": 80,
     "metadata": {},
     "output_type": "execute_result"
    }
   ],
   "source": [
    "from sklearn.naive_bayes import MultinomialNB\n",
    "nb = MultinomialNB()\n",
    "nb.fit(sampleTrain_dtm, ytrain)"
   ]
  },
  {
   "cell_type": "code",
   "execution_count": 81,
   "metadata": {
    "id": "F3_eYOorLYoV"
   },
   "outputs": [],
   "source": [
    "y_pred_class_1 = nb.predict(sampleTest_dtm)"
   ]
  },
  {
   "cell_type": "code",
   "execution_count": 82,
   "metadata": {
    "colab": {
     "base_uri": "https://localhost:8080/"
    },
    "id": "kcFhgm2cLcvz",
    "outputId": "41133a45-f4aa-4aa0-8511-a899a8746307"
   },
   "outputs": [
    {
     "data": {
      "text/plain": [
       "0.7760279965004374"
      ]
     },
     "execution_count": 82,
     "metadata": {},
     "output_type": "execute_result"
    }
   ],
   "source": [
    "# Accuracy calculation\n",
    "from sklearn import metrics\n",
    "metrics.accuracy_score(ytest, y_pred_class_1)"
   ]
  },
  {
   "cell_type": "code",
   "execution_count": 83,
   "metadata": {
    "colab": {
     "base_uri": "https://localhost:8080/"
    },
    "id": "NSNvXxouLg54",
    "outputId": "9c84d969-0168-426c-c556-9b26c9abd168"
   },
   "outputs": [
    {
     "name": "stdout",
     "output_type": "stream",
     "text": [
      "              precision    recall  f1-score   support\n",
      "\n",
      "           0       0.84      0.88      0.86       866\n",
      "           1       0.54      0.46      0.50       277\n",
      "\n",
      "    accuracy                           0.78      1143\n",
      "   macro avg       0.69      0.67      0.68      1143\n",
      "weighted avg       0.77      0.78      0.77      1143\n",
      "\n"
     ]
    }
   ],
   "source": [
    "print(classification_report(ytest, y_pred_class_1))"
   ]
  },
  {
   "cell_type": "code",
   "execution_count": null,
   "metadata": {
    "id": "e-HUNUHsMMYC"
   },
   "outputs": [],
   "source": []
  }
 ],
 "metadata": {
  "colab": {
   "collapsed_sections": [],
   "name": "Model_Building.ipynb",
   "provenance": []
  },
  "kernelspec": {
   "display_name": "Python 3",
   "language": "python",
   "name": "python3"
  },
  "language_info": {
   "codemirror_mode": {
    "name": "ipython",
    "version": 3
   },
   "file_extension": ".py",
   "mimetype": "text/x-python",
   "name": "python",
   "nbconvert_exporter": "python",
   "pygments_lexer": "ipython3",
   "version": "3.8.5"
  }
 },
 "nbformat": 4,
 "nbformat_minor": 5
}
