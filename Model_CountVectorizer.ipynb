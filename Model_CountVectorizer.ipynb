{
  "nbformat": 4,
  "nbformat_minor": 5,
  "metadata": {
    "colab": {
      "name": "Model_CountVectorizer.ipynb",
      "provenance": []
    },
    "kernelspec": {
      "display_name": "Python 3",
      "language": "python",
      "name": "python3"
    },
    "language_info": {
      "codemirror_mode": {
        "name": "ipython",
        "version": 3
      },
      "file_extension": ".py",
      "mimetype": "text/x-python",
      "name": "python",
      "nbconvert_exporter": "python",
      "pygments_lexer": "ipython3",
      "version": "3.8.8"
    }
  },
  "cells": [
    {
      "cell_type": "code",
      "metadata": {
        "id": "NcTIAR6oI0cg"
      },
      "source": [
        "#CSV Details:\n",
        "\n",
        "#it has just product as \"bank_account_or_service\""
      ],
      "id": "NcTIAR6oI0cg",
      "execution_count": 1,
      "outputs": []
    },
    {
      "cell_type": "code",
      "metadata": {
        "id": "Arve7l4wI0cj"
      },
      "source": [
        "##for better understanding, we have considered just 'Bank account or service', as of now"
      ],
      "id": "Arve7l4wI0cj",
      "execution_count": 2,
      "outputs": []
    },
    {
      "cell_type": "code",
      "metadata": {
        "id": "X6uoo2PuI0ck"
      },
      "source": [
        "#predict the issue based on consumer complaint narrative"
      ],
      "id": "X6uoo2PuI0ck",
      "execution_count": 3,
      "outputs": []
    },
    {
      "cell_type": "code",
      "metadata": {
        "id": "0UAGOfhZDTtm"
      },
      "source": [
        "#where issue related to 'Account opening, closing, or management' are considered to be 1 and rest ( 'Deposits and withdrawals','Using a debit or ATM card',"
      ],
      "id": "0UAGOfhZDTtm",
      "execution_count": 4,
      "outputs": []
    },
    {
      "cell_type": "code",
      "metadata": {
        "id": "gd-tbyLOD_uN"
      },
      "source": [
        "#Building a Model to predict the \"issue\"- either 1 or 0 based on \"Consumer Complaint Narrative\""
      ],
      "id": "gd-tbyLOD_uN",
      "execution_count": 5,
      "outputs": []
    },
    {
      "cell_type": "code",
      "metadata": {
        "id": "VuCkfG3C0-F4"
      },
      "source": [
        "#Libraries\n",
        "import pandas as pd\n",
        "import numpy as np\n",
        "from sklearn.feature_extraction.text import CountVectorizer\n",
        "import string\n",
        "import nltk\n",
        "from nltk.tokenize import word_tokenize\n",
        "from sklearn.model_selection import train_test_split\n",
        "from sklearn.neighbors import KNeighborsClassifier\n",
        "from sklearn.metrics import classification_report, accuracy_score, f1_score\n",
        "import warnings\n",
        "warnings.filterwarnings(\"ignore\")\n",
        "from sklearn.model_selection import GridSearchCV\n",
        "from sklearn.naive_bayes import MultinomialNB\n",
        "from sklearn.tree import DecisionTreeClassifier\n",
        "from sklearn.ensemble import RandomForestClassifier\n",
        "import matplotlib.pyplot as plt\n",
        "from sklearn.model_selection import cross_val_score"
      ],
      "id": "VuCkfG3C0-F4",
      "execution_count": 76,
      "outputs": []
    },
    {
      "cell_type": "code",
      "metadata": {
        "colab": {
          "base_uri": "https://localhost:8080/"
        },
        "id": "Gr2gHHF32Bti",
        "outputId": "f77684f1-bc52-41b3-99c3-6568346503bb"
      },
      "source": [
        "nltk.download('stopwords')\n",
        "nltk.download('punkt')"
      ],
      "id": "Gr2gHHF32Bti",
      "execution_count": 8,
      "outputs": [
        {
          "output_type": "stream",
          "text": [
            "[nltk_data] Downloading package stopwords to /root/nltk_data...\n",
            "[nltk_data]   Unzipping corpora/stopwords.zip.\n",
            "[nltk_data] Downloading package punkt to /root/nltk_data...\n",
            "[nltk_data]   Unzipping tokenizers/punkt.zip.\n"
          ],
          "name": "stdout"
        },
        {
          "output_type": "execute_result",
          "data": {
            "text/plain": [
              "True"
            ]
          },
          "metadata": {},
          "execution_count": 8
        }
      ]
    },
    {
      "cell_type": "code",
      "metadata": {
        "id": "nrYKQ-ZeASyS"
      },
      "source": [
        "stopword = nltk.corpus.stopwords.words('english')"
      ],
      "id": "nrYKQ-ZeASyS",
      "execution_count": 9,
      "outputs": []
    },
    {
      "cell_type": "code",
      "metadata": {
        "id": "Wahrn3JJ4k09"
      },
      "source": [
        "#Functions used :\n",
        "#Label Encoding\n",
        "#Punctuation Removal\n",
        "#Number Removal\n",
        "#Tokenizing\n",
        "#Lower Case Conversion\n",
        "#Stop words\n",
        "#Token Concatenation"
      ],
      "id": "Wahrn3JJ4k09",
      "execution_count": 10,
      "outputs": []
    },
    {
      "cell_type": "code",
      "metadata": {
        "id": "iXSH82454lB_"
      },
      "source": [
        "#Label Encoding "
      ],
      "id": "iXSH82454lB_",
      "execution_count": 11,
      "outputs": []
    },
    {
      "cell_type": "code",
      "metadata": {
        "id": "rc1vGEzaI0cx"
      },
      "source": [
        "def label_encoding(i):\n",
        "    if i == 'Account opening, closing, or management':\n",
        "        return 1\n",
        "    else :\n",
        "        return 0"
      ],
      "id": "rc1vGEzaI0cx",
      "execution_count": 12,
      "outputs": []
    },
    {
      "cell_type": "code",
      "metadata": {
        "id": "1-O3-1xD51dA"
      },
      "source": [
        "#Punctuation Removal"
      ],
      "id": "1-O3-1xD51dA",
      "execution_count": 13,
      "outputs": []
    },
    {
      "cell_type": "code",
      "metadata": {
        "id": "ugC1A73zI0cy"
      },
      "source": [
        "def remove_punctuation(text):\n",
        "    words = [word for word in text if word not in string.punctuation]\n",
        "    text = ''.join(words)\n",
        "    return text"
      ],
      "id": "ugC1A73zI0cy",
      "execution_count": 14,
      "outputs": []
    },
    {
      "cell_type": "code",
      "metadata": {
        "id": "aDh9d-at6Mzt"
      },
      "source": [
        "#Number Removal"
      ],
      "id": "aDh9d-at6Mzt",
      "execution_count": 15,
      "outputs": []
    },
    {
      "cell_type": "code",
      "metadata": {
        "id": "pE5jDrsfI0cy"
      },
      "source": [
        "def remove_numbers(text):\n",
        "    words = [word for word in text if not word.isdigit()]\n",
        "    text = ''.join(words)\n",
        "    return text"
      ],
      "id": "pE5jDrsfI0cy",
      "execution_count": 16,
      "outputs": []
    },
    {
      "cell_type": "code",
      "metadata": {
        "id": "FruhkWsk4lHw"
      },
      "source": [
        "#Lower Case Conversion"
      ],
      "id": "FruhkWsk4lHw",
      "execution_count": 17,
      "outputs": []
    },
    {
      "cell_type": "code",
      "metadata": {
        "id": "kwiItyTgI0cy"
      },
      "source": [
        "def convert_to_lower(tokens):\n",
        "    tokens=[word.lower() for word in tokens]\n",
        "    return tokens"
      ],
      "id": "kwiItyTgI0cy",
      "execution_count": 18,
      "outputs": []
    },
    {
      "cell_type": "code",
      "metadata": {
        "id": "XdTbHhlf67G7"
      },
      "source": [
        "#Stopwords"
      ],
      "id": "XdTbHhlf67G7",
      "execution_count": 19,
      "outputs": []
    },
    {
      "cell_type": "code",
      "metadata": {
        "id": "KvoTqIVjI0cz"
      },
      "source": [
        "def remove_stopwords(tokens):\n",
        "    tokens=[word for word in tokens if word not in stopword]\n",
        "    return tokens\n"
      ],
      "id": "KvoTqIVjI0cz",
      "execution_count": 20,
      "outputs": []
    },
    {
      "cell_type": "code",
      "metadata": {
        "id": "GqBUA5Uw4lOC"
      },
      "source": [
        "#Token Concatenation"
      ],
      "id": "GqBUA5Uw4lOC",
      "execution_count": 21,
      "outputs": []
    },
    {
      "cell_type": "code",
      "metadata": {
        "id": "pg7wegqmP339"
      },
      "source": [
        "def concate_tokens(token):\n",
        "    sentance = ''\n",
        "    for i in token:\n",
        "        sentance = sentance+i+' '\n",
        "    return sentance    "
      ],
      "id": "pg7wegqmP339",
      "execution_count": 22,
      "outputs": []
    },
    {
      "cell_type": "code",
      "metadata": {
        "id": "ZFsgMiksI0co"
      },
      "source": [
        "CV = CountVectorizer()"
      ],
      "id": "ZFsgMiksI0co",
      "execution_count": 23,
      "outputs": []
    },
    {
      "cell_type": "code",
      "metadata": {
        "id": "zakNvyq-I0cl"
      },
      "source": [
        "df = pd.read_csv(\"bank_account_or_service.csv\",index_col=0,error_bad_lines=False)"
      ],
      "id": "zakNvyq-I0cl",
      "execution_count": 25,
      "outputs": []
    },
    {
      "cell_type": "code",
      "metadata": {
        "colab": {
          "base_uri": "https://localhost:8080/"
        },
        "id": "C7NbT6maKcvV",
        "outputId": "79ac7b0b-79b1-4792-a85b-d0d14080264e"
      },
      "source": [
        "df.shape"
      ],
      "id": "C7NbT6maKcvV",
      "execution_count": 26,
      "outputs": [
        {
          "output_type": "execute_result",
          "data": {
            "text/plain": [
              "(5711, 18)"
            ]
          },
          "metadata": {},
          "execution_count": 26
        }
      ]
    },
    {
      "cell_type": "code",
      "metadata": {
        "colab": {
          "base_uri": "https://localhost:8080/"
        },
        "id": "uSGs3I9sI0cl",
        "outputId": "e88ba60f-948f-45da-8cb0-88dc95c0f074"
      },
      "source": [
        "df.columns"
      ],
      "id": "uSGs3I9sI0cl",
      "execution_count": 27,
      "outputs": [
        {
          "output_type": "execute_result",
          "data": {
            "text/plain": [
              "Index(['date_received', 'product', 'sub_product', 'issue', 'sub_issue',\n",
              "       'consumer_complaint_narrative', 'company_public_response', 'company',\n",
              "       'state', 'zipcode', 'tags', 'consumer_consent_provided',\n",
              "       'submitted_via', 'date_sent_to_company', 'company_response_to_consumer',\n",
              "       'timely_response', 'consumer_disputed?', 'complaint_id'],\n",
              "      dtype='object')"
            ]
          },
          "metadata": {},
          "execution_count": 27
        }
      ]
    },
    {
      "cell_type": "code",
      "metadata": {
        "id": "dMKrAUVfI0cm"
      },
      "source": [
        "pd.set_option(\"display.max_colwidth\", None)"
      ],
      "id": "dMKrAUVfI0cm",
      "execution_count": 28,
      "outputs": []
    },
    {
      "cell_type": "code",
      "metadata": {
        "colab": {
          "base_uri": "https://localhost:8080/"
        },
        "id": "9LYY1AHUI0co",
        "outputId": "3e468750-6958-44ad-a17a-57e38c20d5d7"
      },
      "source": [
        "df.issue.unique()"
      ],
      "id": "9LYY1AHUI0co",
      "execution_count": 29,
      "outputs": [
        {
          "output_type": "execute_result",
          "data": {
            "text/plain": [
              "array(['Deposits and withdrawals',\n",
              "       'Account opening, closing, or management',\n",
              "       'Using a debit or ATM card',\n",
              "       'Problems caused by my funds being low',\n",
              "       'Making/receiving payments, sending money'], dtype=object)"
            ]
          },
          "metadata": {},
          "execution_count": 29
        }
      ]
    },
    {
      "cell_type": "code",
      "metadata": {
        "id": "KseC768O3gut"
      },
      "source": [
        "df_new1 = df[[\"issue\",\"consumer_complaint_narrative\"]]"
      ],
      "id": "KseC768O3gut",
      "execution_count": 30,
      "outputs": []
    },
    {
      "cell_type": "code",
      "metadata": {
        "id": "dcNq09KFI0cx"
      },
      "source": [
        "df_new1['consumer_complaint_narrative'] =  df.consumer_complaint_narrative.apply(lambda i : str(i) )"
      ],
      "id": "dcNq09KFI0cx",
      "execution_count": 31,
      "outputs": []
    },
    {
      "cell_type": "code",
      "metadata": {
        "colab": {
          "base_uri": "https://localhost:8080/"
        },
        "id": "8bJjD_9cI0cx",
        "outputId": "be545a11-d46e-4fb8-e43b-23ad910e82f6"
      },
      "source": [
        "df_new1.info()"
      ],
      "id": "8bJjD_9cI0cx",
      "execution_count": 32,
      "outputs": [
        {
          "output_type": "stream",
          "text": [
            "<class 'pandas.core.frame.DataFrame'>\n",
            "Int64Index: 5711 entries, 192044 to 553037\n",
            "Data columns (total 2 columns):\n",
            " #   Column                        Non-Null Count  Dtype \n",
            "---  ------                        --------------  ----- \n",
            " 0   issue                         5711 non-null   object\n",
            " 1   consumer_complaint_narrative  5711 non-null   object\n",
            "dtypes: object(2)\n",
            "memory usage: 133.9+ KB\n"
          ],
          "name": "stdout"
        }
      ]
    },
    {
      "cell_type": "code",
      "metadata": {
        "colab": {
          "base_uri": "https://localhost:8080/"
        },
        "id": "0f22aeb3",
        "outputId": "f1cb6a52-ba2e-4594-898f-7c516b378628"
      },
      "source": [
        "df_new1['issue'].value_counts()"
      ],
      "id": "0f22aeb3",
      "execution_count": 33,
      "outputs": [
        {
          "output_type": "execute_result",
          "data": {
            "text/plain": [
              "Account opening, closing, or management     2228\n",
              "Deposits and withdrawals                    1401\n",
              "Problems caused by my funds being low        918\n",
              "Using a debit or ATM card                    619\n",
              "Making/receiving payments, sending money     545\n",
              "Name: issue, dtype: int64"
            ]
          },
          "metadata": {},
          "execution_count": 33
        }
      ]
    },
    {
      "cell_type": "code",
      "metadata": {
        "id": "HUTwRqPxI0cx"
      },
      "source": [
        "df_new1['target'] = df_new1['issue'].map(label_encoding)"
      ],
      "id": "HUTwRqPxI0cx",
      "execution_count": 34,
      "outputs": []
    },
    {
      "cell_type": "code",
      "metadata": {
        "colab": {
          "base_uri": "https://localhost:8080/"
        },
        "id": "PlqPMEmKI0cx",
        "outputId": "b0eb2597-c5db-43eb-f7ce-ec2b3ba6af11"
      },
      "source": [
        "df_new1.target.value_counts()"
      ],
      "id": "PlqPMEmKI0cx",
      "execution_count": 35,
      "outputs": [
        {
          "output_type": "execute_result",
          "data": {
            "text/plain": [
              "0    3483\n",
              "1    2228\n",
              "Name: target, dtype: int64"
            ]
          },
          "metadata": {},
          "execution_count": 35
        }
      ]
    },
    {
      "cell_type": "code",
      "metadata": {
        "id": "gPbG_iwx8YFl"
      },
      "source": [
        "df_new1['narrative_wo_punct'] = df_new1['consumer_complaint_narrative'].map(remove_punctuation)"
      ],
      "id": "gPbG_iwx8YFl",
      "execution_count": 36,
      "outputs": []
    },
    {
      "cell_type": "code",
      "metadata": {
        "colab": {
          "base_uri": "https://localhost:8080/"
        },
        "id": "GMExnfLQ9u_M",
        "outputId": "0c3895ee-9f1f-4bc7-d535-1d4187a3b81f"
      },
      "source": [
        "df_new1['narrative_wo_punct'].head(1)"
      ],
      "id": "GMExnfLQ9u_M",
      "execution_count": 37,
      "outputs": [
        {
          "output_type": "execute_result",
          "data": {
            "text/plain": [
              "192044    I opened an account with M  T bank online on XXXXXXXX15 and immediately funded it with an automated transfer of 50000 A little over a week later I got a letter requesting that I fax in a copy of my DL Social and utility bill for address verification which I did on XXXXXXXX15 Fast forward to today XXXXXXXX15 and I have not heard anything back so I called M  T bank to find out the status and I was told that they still have not reviewed it and my 50000 was on hold I demanded that my account get shut down and my 50000 returned but I was told that could not happen until they reviewed my information that was faxed and released the hold on my account I asked how long that would take and I was told it would take as long as they want which would render my 50000 hostage until they got around to figuring stuff out \\n\n",
              "Name: narrative_wo_punct, dtype: object"
            ]
          },
          "metadata": {},
          "execution_count": 37
        }
      ]
    },
    {
      "cell_type": "code",
      "metadata": {
        "id": "NCDfWJTU-fef"
      },
      "source": [
        "df_new1['narrative_wo_numbers'] = df_new1['narrative_wo_punct'].map(remove_numbers)"
      ],
      "id": "NCDfWJTU-fef",
      "execution_count": 38,
      "outputs": []
    },
    {
      "cell_type": "code",
      "metadata": {
        "colab": {
          "base_uri": "https://localhost:8080/"
        },
        "id": "mvKF6aA7-xW0",
        "outputId": "fe40da5c-077e-40b1-fe6f-e436fb66f2ce"
      },
      "source": [
        "df_new1['narrative_wo_numbers'].head(1)"
      ],
      "id": "mvKF6aA7-xW0",
      "execution_count": 39,
      "outputs": [
        {
          "output_type": "execute_result",
          "data": {
            "text/plain": [
              "192044    I opened an account with M  T bank online on XXXXXXXX and immediately funded it with an automated transfer of  A little over a week later I got a letter requesting that I fax in a copy of my DL Social and utility bill for address verification which I did on XXXXXXXX Fast forward to today XXXXXXXX and I have not heard anything back so I called M  T bank to find out the status and I was told that they still have not reviewed it and my  was on hold I demanded that my account get shut down and my  returned but I was told that could not happen until they reviewed my information that was faxed and released the hold on my account I asked how long that would take and I was told it would take as long as they want which would render my  hostage until they got around to figuring stuff out \\n\n",
              "Name: narrative_wo_numbers, dtype: object"
            ]
          },
          "metadata": {},
          "execution_count": 39
        }
      ]
    },
    {
      "cell_type": "code",
      "metadata": {
        "id": "Uqkr6QaLI0cy"
      },
      "source": [
        "df_new1['tokens'] = df_new1['narrative_wo_numbers'].map(word_tokenize)\n"
      ],
      "id": "Uqkr6QaLI0cy",
      "execution_count": 40,
      "outputs": []
    },
    {
      "cell_type": "code",
      "metadata": {
        "colab": {
          "base_uri": "https://localhost:8080/"
        },
        "id": "WOWHSwtbN6fu",
        "outputId": "5e734ab7-d627-49e6-b079-48df2b22ca11"
      },
      "source": [
        "df_new1['tokens'].head(1)"
      ],
      "id": "WOWHSwtbN6fu",
      "execution_count": 41,
      "outputs": [
        {
          "output_type": "execute_result",
          "data": {
            "text/plain": [
              "192044    [I, opened, an, account, with, M, T, bank, online, on, XXXXXXXX, and, immediately, funded, it, with, an, automated, transfer, of, A, little, over, a, week, later, I, got, a, letter, requesting, that, I, fax, in, a, copy, of, my, DL, Social, and, utility, bill, for, address, verification, which, I, did, on, XXXXXXXX, Fast, forward, to, today, XXXXXXXX, and, I, have, not, heard, anything, back, so, I, called, M, T, bank, to, find, out, the, status, and, I, was, told, that, they, still, have, not, reviewed, it, and, my, was, on, hold, I, demanded, that, my, account, get, shut, down, and, ...]\n",
              "Name: tokens, dtype: object"
            ]
          },
          "metadata": {},
          "execution_count": 41
        }
      ]
    },
    {
      "cell_type": "code",
      "metadata": {
        "id": "7vKk4yCoN8i-"
      },
      "source": [
        "df_new1['tokens_to_lower'] = df_new1['tokens'].map(convert_to_lower)"
      ],
      "id": "7vKk4yCoN8i-",
      "execution_count": 42,
      "outputs": []
    },
    {
      "cell_type": "code",
      "metadata": {
        "colab": {
          "base_uri": "https://localhost:8080/"
        },
        "id": "8x947p-0_VL1",
        "outputId": "8b18b015-790e-4513-f9c6-64f74ae33a7c"
      },
      "source": [
        "df_new1['tokens_to_lower'].head(1)"
      ],
      "id": "8x947p-0_VL1",
      "execution_count": 43,
      "outputs": [
        {
          "output_type": "execute_result",
          "data": {
            "text/plain": [
              "192044    [i, opened, an, account, with, m, t, bank, online, on, xxxxxxxx, and, immediately, funded, it, with, an, automated, transfer, of, a, little, over, a, week, later, i, got, a, letter, requesting, that, i, fax, in, a, copy, of, my, dl, social, and, utility, bill, for, address, verification, which, i, did, on, xxxxxxxx, fast, forward, to, today, xxxxxxxx, and, i, have, not, heard, anything, back, so, i, called, m, t, bank, to, find, out, the, status, and, i, was, told, that, they, still, have, not, reviewed, it, and, my, was, on, hold, i, demanded, that, my, account, get, shut, down, and, ...]\n",
              "Name: tokens_to_lower, dtype: object"
            ]
          },
          "metadata": {},
          "execution_count": 43
        }
      ]
    },
    {
      "cell_type": "code",
      "metadata": {
        "id": "K8xAu0JJI0cz"
      },
      "source": [
        "df_new1['wo_stopwords'] = df_new1['tokens_to_lower'].map(remove_stopwords)"
      ],
      "id": "K8xAu0JJI0cz",
      "execution_count": 44,
      "outputs": []
    },
    {
      "cell_type": "code",
      "metadata": {
        "colab": {
          "base_uri": "https://localhost:8080/"
        },
        "id": "7GNOtH2XI0cz",
        "outputId": "1c36a8b3-5b01-4d14-8ec6-092e217b5a05"
      },
      "source": [
        "df_new1.wo_stopwords.tail(1)"
      ],
      "id": "7GNOtH2XI0cz",
      "execution_count": 45,
      "outputs": [
        {
          "output_type": "execute_result",
          "data": {
            "text/plain": [
              "553037    [bank, america, extended, overdraft, fee, ended, penalizing, overdraft, accept, original, fee, since, error, fault, however, nt, bank, america, guilty, charging, excessive, fees, bank, years, bank, see, payroll, occurs, biweekly, deposit, social, security, check, xxxx, month, overdraft, occurred, xxxxxxxx, since, xxxx, check, wo, nt, deposit, xxxxxxxx, way, avoid, extended, fee, current, balance]\n",
              "Name: wo_stopwords, dtype: object"
            ]
          },
          "metadata": {},
          "execution_count": 45
        }
      ]
    },
    {
      "cell_type": "code",
      "metadata": {
        "id": "iHg-qCCyP-8t"
      },
      "source": [
        "df_new1['final_text'] = df_new1['wo_stopwords'].map(concate_tokens)"
      ],
      "id": "iHg-qCCyP-8t",
      "execution_count": 46,
      "outputs": []
    },
    {
      "cell_type": "code",
      "metadata": {
        "colab": {
          "base_uri": "https://localhost:8080/"
        },
        "id": "nQCxk6jXQFhi",
        "outputId": "099b7dcc-db41-4375-8bd7-9d9a109a8ab5"
      },
      "source": [
        "df_new1.final_text.head(1)\n"
      ],
      "id": "nQCxk6jXQFhi",
      "execution_count": 47,
      "outputs": [
        {
          "output_type": "execute_result",
          "data": {
            "text/plain": [
              "192044    opened account bank online xxxxxxxx immediately funded automated transfer little week later got letter requesting fax copy dl social utility bill address verification xxxxxxxx fast forward today xxxxxxxx heard anything back called bank find status told still reviewed hold demanded account get shut returned told could happen reviewed information faxed released hold account asked long would take told would take long want would render hostage got around figuring stuff \n",
              "Name: final_text, dtype: object"
            ]
          },
          "metadata": {},
          "execution_count": 47
        }
      ]
    },
    {
      "cell_type": "code",
      "metadata": {
        "id": "xsaa-bieAsps"
      },
      "source": [
        "#Independent and Target Variables"
      ],
      "id": "xsaa-bieAsps",
      "execution_count": 48,
      "outputs": []
    },
    {
      "cell_type": "code",
      "metadata": {
        "id": "YJBw3KfjSbPl"
      },
      "source": [
        "features_var = df_new1.final_text\n",
        "target_var = df_new1.target"
      ],
      "id": "YJBw3KfjSbPl",
      "execution_count": 49,
      "outputs": []
    },
    {
      "cell_type": "code",
      "metadata": {
        "id": "YKghIEdUQhWh"
      },
      "source": [
        "xtrain, xtest, ytrain, ytest = train_test_split(features_var,target_var, test_size=.2,random_state=100)"
      ],
      "id": "YKghIEdUQhWh",
      "execution_count": 50,
      "outputs": []
    },
    {
      "cell_type": "code",
      "metadata": {
        "colab": {
          "base_uri": "https://localhost:8080/"
        },
        "id": "PFMEQSf-BOLf",
        "outputId": "1445040a-c4e4-460b-9415-a79fc3078149"
      },
      "source": [
        "xtrain.shape, xtest.shape, ytrain.shape, ytest.shape"
      ],
      "id": "PFMEQSf-BOLf",
      "execution_count": 51,
      "outputs": [
        {
          "output_type": "execute_result",
          "data": {
            "text/plain": [
              "((4568,), (1143,), (4568,), (1143,))"
            ]
          },
          "metadata": {},
          "execution_count": 51
        }
      ]
    },
    {
      "cell_type": "code",
      "metadata": {
        "id": "OW2n0OfHQhZP"
      },
      "source": [
        "toNumeric = CountVectorizer()"
      ],
      "id": "OW2n0OfHQhZP",
      "execution_count": 52,
      "outputs": []
    },
    {
      "cell_type": "code",
      "metadata": {
        "colab": {
          "base_uri": "https://localhost:8080/"
        },
        "id": "ysDFFDftSqgF",
        "outputId": "e976ab12-e6fb-4e2c-f949-50e2b235be4f"
      },
      "source": [
        "#Get the vocabulary(unique words) from training data\n",
        "toNumeric.fit(xtrain)"
      ],
      "id": "ysDFFDftSqgF",
      "execution_count": 53,
      "outputs": [
        {
          "output_type": "execute_result",
          "data": {
            "text/plain": [
              "CountVectorizer(analyzer='word', binary=False, decode_error='strict',\n",
              "                dtype=<class 'numpy.int64'>, encoding='utf-8', input='content',\n",
              "                lowercase=True, max_df=1.0, max_features=None, min_df=1,\n",
              "                ngram_range=(1, 1), preprocessor=None, stop_words=None,\n",
              "                strip_accents=None, token_pattern='(?u)\\\\b\\\\w\\\\w+\\\\b',\n",
              "                tokenizer=None, vocabulary=None)"
            ]
          },
          "metadata": {},
          "execution_count": 53
        }
      ]
    },
    {
      "cell_type": "code",
      "metadata": {
        "colab": {
          "base_uri": "https://localhost:8080/"
        },
        "id": "YKNnLth9SqlO",
        "outputId": "936b546c-f65a-402a-8e87-07bbce00a06d"
      },
      "source": [
        "# Test the created vocabulary\n",
        "len(toNumeric.get_feature_names())"
      ],
      "id": "YKNnLth9SqlO",
      "execution_count": 54,
      "outputs": [
        {
          "output_type": "execute_result",
          "data": {
            "text/plain": [
              "15652"
            ]
          },
          "metadata": {},
          "execution_count": 54
        }
      ]
    },
    {
      "cell_type": "code",
      "metadata": {
        "colab": {
          "base_uri": "https://localhost:8080/"
        },
        "id": "RT5iqSkIQFsC",
        "outputId": "65f9c99c-03be-4aae-dfe6-75602af39c74"
      },
      "source": [
        "# Convert training data into a 'document-term matrix'\n",
        "sampleTrain_dtm = toNumeric.transform(xtrain)\n",
        "sampleTrain_dtm"
      ],
      "id": "RT5iqSkIQFsC",
      "execution_count": 55,
      "outputs": [
        {
          "output_type": "execute_result",
          "data": {
            "text/plain": [
              "<4568x15652 sparse matrix of type '<class 'numpy.int64'>'\n",
              "\twith 313194 stored elements in Compressed Sparse Row format>"
            ]
          },
          "metadata": {},
          "execution_count": 55
        }
      ]
    },
    {
      "cell_type": "code",
      "metadata": {
        "colab": {
          "base_uri": "https://localhost:8080/"
        },
        "id": "xZcByQzjTF2X",
        "outputId": "8e43a5ff-975d-4735-e543-92437cb691e0"
      },
      "source": [
        "# Let's convert sparse matrix to a dense matrix\n",
        "sampleTrain_dtm.toarray()"
      ],
      "id": "xZcByQzjTF2X",
      "execution_count": 56,
      "outputs": [
        {
          "output_type": "execute_result",
          "data": {
            "text/plain": [
              "array([[0, 0, 0, ..., 0, 0, 0],\n",
              "       [0, 0, 0, ..., 0, 0, 0],\n",
              "       [0, 0, 0, ..., 0, 0, 0],\n",
              "       ...,\n",
              "       [0, 0, 0, ..., 0, 0, 0],\n",
              "       [0, 0, 0, ..., 0, 0, 0],\n",
              "       [0, 0, 0, ..., 0, 0, 0]])"
            ]
          },
          "metadata": {},
          "execution_count": 56
        }
      ]
    },
    {
      "cell_type": "code",
      "metadata": {
        "colab": {
          "base_uri": "https://localhost:8080/",
          "height": 129
        },
        "id": "X8gx9UUxTF5J",
        "outputId": "9eb45025-e7f2-4f10-a7de-7a59f71e50c6"
      },
      "source": [
        "pd.DataFrame(sampleTrain_dtm.toarray(), columns=toNumeric.get_feature_names()).head(1)"
      ],
      "id": "X8gx9UUxTF5J",
      "execution_count": 57,
      "outputs": [
        {
          "output_type": "execute_result",
          "data": {
            "text/html": [
              "<div>\n",
              "<style scoped>\n",
              "    .dataframe tbody tr th:only-of-type {\n",
              "        vertical-align: middle;\n",
              "    }\n",
              "\n",
              "    .dataframe tbody tr th {\n",
              "        vertical-align: top;\n",
              "    }\n",
              "\n",
              "    .dataframe thead th {\n",
              "        text-align: right;\n",
              "    }\n",
              "</style>\n",
              "<table border=\"1\" class=\"dataframe\">\n",
              "  <thead>\n",
              "    <tr style=\"text-align: right;\">\n",
              "      <th></th>\n",
              "      <th>aaccount</th>\n",
              "      <th>aacount</th>\n",
              "      <th>aba</th>\n",
              "      <th>aback</th>\n",
              "      <th>aballished</th>\n",
              "      <th>abandon</th>\n",
              "      <th>abandoned</th>\n",
              "      <th>abank</th>\n",
              "      <th>abarouting</th>\n",
              "      <th>abatement</th>\n",
              "      <th>abc</th>\n",
              "      <th>abd</th>\n",
              "      <th>abetted</th>\n",
              "      <th>abetting</th>\n",
              "      <th>abide</th>\n",
              "      <th>abided</th>\n",
              "      <th>abiding</th>\n",
              "      <th>abilities</th>\n",
              "      <th>ability</th>\n",
              "      <th>abillionaire</th>\n",
              "      <th>able</th>\n",
              "      <th>ableto</th>\n",
              "      <th>abm</th>\n",
              "      <th>abnormality</th>\n",
              "      <th>abnormally</th>\n",
              "      <th>abominably</th>\n",
              "      <th>abomination</th>\n",
              "      <th>abort</th>\n",
              "      <th>abortive</th>\n",
              "      <th>abother</th>\n",
              "      <th>aboutwhere</th>\n",
              "      <th>abovementioned</th>\n",
              "      <th>abovethen</th>\n",
              "      <th>abrasive</th>\n",
              "      <th>abrasiveness</th>\n",
              "      <th>abreast</th>\n",
              "      <th>abroad</th>\n",
              "      <th>abrubtly</th>\n",
              "      <th>abrupt</th>\n",
              "      <th>abruptly</th>\n",
              "      <th>...</th>\n",
              "      <th>yhat</th>\n",
              "      <th>yield</th>\n",
              "      <th>yielded</th>\n",
              "      <th>yiu</th>\n",
              "      <th>yo</th>\n",
              "      <th>york</th>\n",
              "      <th>yorki</th>\n",
              "      <th>yorksince</th>\n",
              "      <th>youamex</th>\n",
              "      <th>young</th>\n",
              "      <th>younger</th>\n",
              "      <th>youraccount</th>\n",
              "      <th>yourbusiness</th>\n",
              "      <th>yourcomputer</th>\n",
              "      <th>youre</th>\n",
              "      <th>yourpayment</th>\n",
              "      <th>youshall</th>\n",
              "      <th>yousincerelyxxxx</th>\n",
              "      <th>youth</th>\n",
              "      <th>youto</th>\n",
              "      <th>youtoday</th>\n",
              "      <th>youve</th>\n",
              "      <th>youxxxx</th>\n",
              "      <th>youxxxxxxxx</th>\n",
              "      <th>yr</th>\n",
              "      <th>yrs</th>\n",
              "      <th>yuck</th>\n",
              "      <th>yur</th>\n",
              "      <th>yused</th>\n",
              "      <th>yyour</th>\n",
              "      <th>zed</th>\n",
              "      <th>zero</th>\n",
              "      <th>zeroed</th>\n",
              "      <th>zeros</th>\n",
              "      <th>zi</th>\n",
              "      <th>zion</th>\n",
              "      <th>zions</th>\n",
              "      <th>zip</th>\n",
              "      <th>zippered</th>\n",
              "      <th>zone</th>\n",
              "    </tr>\n",
              "  </thead>\n",
              "  <tbody>\n",
              "    <tr>\n",
              "      <th>0</th>\n",
              "      <td>0</td>\n",
              "      <td>0</td>\n",
              "      <td>0</td>\n",
              "      <td>0</td>\n",
              "      <td>0</td>\n",
              "      <td>0</td>\n",
              "      <td>0</td>\n",
              "      <td>0</td>\n",
              "      <td>0</td>\n",
              "      <td>0</td>\n",
              "      <td>0</td>\n",
              "      <td>0</td>\n",
              "      <td>0</td>\n",
              "      <td>0</td>\n",
              "      <td>0</td>\n",
              "      <td>0</td>\n",
              "      <td>0</td>\n",
              "      <td>0</td>\n",
              "      <td>0</td>\n",
              "      <td>0</td>\n",
              "      <td>0</td>\n",
              "      <td>0</td>\n",
              "      <td>0</td>\n",
              "      <td>0</td>\n",
              "      <td>0</td>\n",
              "      <td>0</td>\n",
              "      <td>0</td>\n",
              "      <td>0</td>\n",
              "      <td>0</td>\n",
              "      <td>0</td>\n",
              "      <td>0</td>\n",
              "      <td>0</td>\n",
              "      <td>0</td>\n",
              "      <td>0</td>\n",
              "      <td>0</td>\n",
              "      <td>0</td>\n",
              "      <td>0</td>\n",
              "      <td>0</td>\n",
              "      <td>0</td>\n",
              "      <td>0</td>\n",
              "      <td>...</td>\n",
              "      <td>0</td>\n",
              "      <td>0</td>\n",
              "      <td>0</td>\n",
              "      <td>0</td>\n",
              "      <td>0</td>\n",
              "      <td>0</td>\n",
              "      <td>0</td>\n",
              "      <td>0</td>\n",
              "      <td>0</td>\n",
              "      <td>0</td>\n",
              "      <td>0</td>\n",
              "      <td>0</td>\n",
              "      <td>0</td>\n",
              "      <td>0</td>\n",
              "      <td>0</td>\n",
              "      <td>0</td>\n",
              "      <td>0</td>\n",
              "      <td>0</td>\n",
              "      <td>0</td>\n",
              "      <td>0</td>\n",
              "      <td>0</td>\n",
              "      <td>0</td>\n",
              "      <td>0</td>\n",
              "      <td>0</td>\n",
              "      <td>0</td>\n",
              "      <td>0</td>\n",
              "      <td>0</td>\n",
              "      <td>0</td>\n",
              "      <td>0</td>\n",
              "      <td>0</td>\n",
              "      <td>0</td>\n",
              "      <td>0</td>\n",
              "      <td>0</td>\n",
              "      <td>0</td>\n",
              "      <td>0</td>\n",
              "      <td>0</td>\n",
              "      <td>0</td>\n",
              "      <td>0</td>\n",
              "      <td>0</td>\n",
              "      <td>0</td>\n",
              "    </tr>\n",
              "  </tbody>\n",
              "</table>\n",
              "<p>1 rows × 15652 columns</p>\n",
              "</div>"
            ],
            "text/plain": [
              "   aaccount  aacount  aba  aback  aballished  ...  zion  zions  zip  zippered  zone\n",
              "0         0        0    0      0           0  ...     0      0    0         0     0\n",
              "\n",
              "[1 rows x 15652 columns]"
            ]
          },
          "metadata": {},
          "execution_count": 57
        }
      ]
    },
    {
      "cell_type": "markdown",
      "metadata": {
        "id": "OaOM8-I1zHkt"
      },
      "source": [
        "Using KNN Classifier"
      ],
      "id": "OaOM8-I1zHkt"
    },
    {
      "cell_type": "code",
      "metadata": {
        "colab": {
          "base_uri": "https://localhost:8080/"
        },
        "id": "9V7t5NnrTS9T",
        "outputId": "0555afe0-3210-4cbe-ed4f-fa5237917758"
      },
      "source": [
        "model1 = KNeighborsClassifier(n_neighbors=5)\n",
        "model1.fit(sampleTrain_dtm, ytrain)"
      ],
      "id": "9V7t5NnrTS9T",
      "execution_count": 58,
      "outputs": [
        {
          "output_type": "execute_result",
          "data": {
            "text/plain": [
              "KNeighborsClassifier(algorithm='auto', leaf_size=30, metric='minkowski',\n",
              "                     metric_params=None, n_jobs=None, n_neighbors=5, p=2,\n",
              "                     weights='uniform')"
            ]
          },
          "metadata": {},
          "execution_count": 58
        }
      ]
    },
    {
      "cell_type": "code",
      "metadata": {
        "colab": {
          "base_uri": "https://localhost:8080/"
        },
        "id": "JGfenjyjTS_p",
        "outputId": "2d10a52a-8643-4037-e880-290b6d7345e0"
      },
      "source": [
        "# Transform test data into DTM by using generated vocabulary\n",
        "sampleTest_dtm = toNumeric.transform(xtest)\n",
        "len(sampleTest_dtm.toarray())"
      ],
      "id": "JGfenjyjTS_p",
      "execution_count": 59,
      "outputs": [
        {
          "output_type": "execute_result",
          "data": {
            "text/plain": [
              "1143"
            ]
          },
          "metadata": {},
          "execution_count": 59
        }
      ]
    },
    {
      "cell_type": "code",
      "metadata": {
        "id": "uLjfjawdTTBs"
      },
      "source": [
        "# Test built model\n",
        "y_pred_test = model1.predict(sampleTest_dtm)"
      ],
      "id": "uLjfjawdTTBs",
      "execution_count": 61,
      "outputs": []
    },
    {
      "cell_type": "code",
      "metadata": {
        "colab": {
          "base_uri": "https://localhost:8080/"
        },
        "id": "aqiPIbV8UfL1",
        "outputId": "8f649f2f-db13-4583-f65d-95fd6ecf6694"
      },
      "source": [
        "y_pred_test.shape"
      ],
      "id": "aqiPIbV8UfL1",
      "execution_count": 62,
      "outputs": [
        {
          "output_type": "execute_result",
          "data": {
            "text/plain": [
              "(1143,)"
            ]
          },
          "metadata": {},
          "execution_count": 62
        }
      ]
    },
    {
      "cell_type": "code",
      "metadata": {
        "colab": {
          "base_uri": "https://localhost:8080/"
        },
        "id": "jeCLAc1XUyZH",
        "outputId": "6a30be97-4fa4-454e-fc34-90d182768108"
      },
      "source": [
        "ytest.shape"
      ],
      "id": "jeCLAc1XUyZH",
      "execution_count": 63,
      "outputs": [
        {
          "output_type": "execute_result",
          "data": {
            "text/plain": [
              "(1143,)"
            ]
          },
          "metadata": {},
          "execution_count": 63
        }
      ]
    },
    {
      "cell_type": "code",
      "metadata": {
        "colab": {
          "base_uri": "https://localhost:8080/"
        },
        "id": "QUmKCPWAUDeF",
        "outputId": "5a4e55e6-2d59-4453-b6ed-e4305f24dd96"
      },
      "source": [
        "print(classification_report(ytest, y_pred_test))"
      ],
      "id": "QUmKCPWAUDeF",
      "execution_count": 64,
      "outputs": [
        {
          "output_type": "stream",
          "text": [
            "              precision    recall  f1-score   support\n",
            "\n",
            "           0       0.71      0.79      0.75       717\n",
            "           1       0.57      0.46      0.51       426\n",
            "\n",
            "    accuracy                           0.67      1143\n",
            "   macro avg       0.64      0.63      0.63      1143\n",
            "weighted avg       0.66      0.67      0.66      1143\n",
            "\n"
          ],
          "name": "stdout"
        }
      ]
    },
    {
      "cell_type": "code",
      "metadata": {
        "id": "Sm7fKo4eUDgq"
      },
      "source": [
        "df_output = pd.DataFrame({\n",
        "    'y actual' : ytest,\n",
        "    ' y predicted _test' : y_pred_test\n",
        "})"
      ],
      "id": "Sm7fKo4eUDgq",
      "execution_count": 65,
      "outputs": []
    },
    {
      "cell_type": "code",
      "metadata": {
        "colab": {
          "base_uri": "https://localhost:8080/",
          "height": 203
        },
        "id": "KuvwV2xwVkNZ",
        "outputId": "90eead43-2f29-4281-a059-43edc21cb43b"
      },
      "source": [
        "df_output.head(5)"
      ],
      "id": "KuvwV2xwVkNZ",
      "execution_count": 66,
      "outputs": [
        {
          "output_type": "execute_result",
          "data": {
            "text/html": [
              "<div>\n",
              "<style scoped>\n",
              "    .dataframe tbody tr th:only-of-type {\n",
              "        vertical-align: middle;\n",
              "    }\n",
              "\n",
              "    .dataframe tbody tr th {\n",
              "        vertical-align: top;\n",
              "    }\n",
              "\n",
              "    .dataframe thead th {\n",
              "        text-align: right;\n",
              "    }\n",
              "</style>\n",
              "<table border=\"1\" class=\"dataframe\">\n",
              "  <thead>\n",
              "    <tr style=\"text-align: right;\">\n",
              "      <th></th>\n",
              "      <th>y actual</th>\n",
              "      <th>y predicted _test</th>\n",
              "    </tr>\n",
              "  </thead>\n",
              "  <tbody>\n",
              "    <tr>\n",
              "      <th>228491</th>\n",
              "      <td>1</td>\n",
              "      <td>0</td>\n",
              "    </tr>\n",
              "    <tr>\n",
              "      <th>317301</th>\n",
              "      <td>1</td>\n",
              "      <td>0</td>\n",
              "    </tr>\n",
              "    <tr>\n",
              "      <th>533005</th>\n",
              "      <td>1</td>\n",
              "      <td>1</td>\n",
              "    </tr>\n",
              "    <tr>\n",
              "      <th>308706</th>\n",
              "      <td>0</td>\n",
              "      <td>0</td>\n",
              "    </tr>\n",
              "    <tr>\n",
              "      <th>324088</th>\n",
              "      <td>1</td>\n",
              "      <td>1</td>\n",
              "    </tr>\n",
              "  </tbody>\n",
              "</table>\n",
              "</div>"
            ],
            "text/plain": [
              "        y actual   y predicted _test\n",
              "228491         1                   0\n",
              "317301         1                   0\n",
              "533005         1                   1\n",
              "308706         0                   0\n",
              "324088         1                   1"
            ]
          },
          "metadata": {},
          "execution_count": 66
        }
      ]
    },
    {
      "cell_type": "code",
      "metadata": {
        "colab": {
          "base_uri": "https://localhost:8080/"
        },
        "id": "DSlRoKjdVuKN",
        "outputId": "3a09de56-f862-4d71-8576-a0a9553e48aa"
      },
      "source": [
        "for i in df_output.columns:\n",
        "  print(i,df_output[i].value_counts(),sep=\"\\n\")"
      ],
      "id": "DSlRoKjdVuKN",
      "execution_count": 67,
      "outputs": [
        {
          "output_type": "stream",
          "text": [
            "y actual\n",
            "0    717\n",
            "1    426\n",
            "Name: y actual, dtype: int64\n",
            " y predicted _test\n",
            "0    799\n",
            "1    344\n",
            "Name:  y predicted _test, dtype: int64\n"
          ],
          "name": "stdout"
        }
      ]
    },
    {
      "cell_type": "code",
      "metadata": {
        "colab": {
          "base_uri": "https://localhost:8080/"
        },
        "id": "4f48c866",
        "outputId": "788678ea-cbec-4ef9-e918-2145cb5d52bd"
      },
      "source": [
        "tuned_paramaters = {'n_neighbors': np.arange(1, 25, 2),\n",
        "                   'metric': ['hamming','euclidean','manhattan','Chebyshev'],\n",
        "                    \"weights\":[\"uniform\", \"distance\"]}\n",
        "knn_classification = KNeighborsClassifier()\n",
        "knn_grid = GridSearchCV(estimator = knn_classification, \n",
        "                        param_grid = tuned_paramaters, \n",
        "                        cv = 5, \n",
        "                        scoring = 'accuracy',verbose=2)\n",
        "\n",
        "# fit the model on X_train and y_train using fit()\n",
        "knn_grid.fit(sampleTrain_dtm, ytrain)\n",
        "\n",
        "# get the best parameters\n",
        "print('Best parameters for KNN Classifier: ', knn_grid.best_params_, '\\n')"
      ],
      "id": "4f48c866",
      "execution_count": 68,
      "outputs": [
        {
          "output_type": "stream",
          "text": [
            "Fitting 5 folds for each of 96 candidates, totalling 480 fits\n",
            "[CV] metric=hamming, n_neighbors=1, weights=uniform ..................\n",
            "[CV] ... metric=hamming, n_neighbors=1, weights=uniform, total=   0.0s\n",
            "[CV] metric=hamming, n_neighbors=1, weights=uniform ..................\n",
            "[CV] ... metric=hamming, n_neighbors=1, weights=uniform, total=   0.0s\n",
            "[CV] metric=hamming, n_neighbors=1, weights=uniform ..................\n",
            "[CV] ... metric=hamming, n_neighbors=1, weights=uniform, total=   0.0s\n",
            "[CV] metric=hamming, n_neighbors=1, weights=uniform ..................\n",
            "[CV] ... metric=hamming, n_neighbors=1, weights=uniform, total=   0.0s\n",
            "[CV] metric=hamming, n_neighbors=1, weights=uniform ..................\n",
            "[CV] ... metric=hamming, n_neighbors=1, weights=uniform, total=   0.0s\n",
            "[CV] metric=hamming, n_neighbors=1, weights=distance .................\n",
            "[CV] .. metric=hamming, n_neighbors=1, weights=distance, total=   0.0s\n",
            "[CV] metric=hamming, n_neighbors=1, weights=distance .................\n",
            "[CV] .. metric=hamming, n_neighbors=1, weights=distance, total=   0.0s\n",
            "[CV] metric=hamming, n_neighbors=1, weights=distance .................\n",
            "[CV] .. metric=hamming, n_neighbors=1, weights=distance, total=   0.0s\n",
            "[CV] metric=hamming, n_neighbors=1, weights=distance .................\n",
            "[CV] .. metric=hamming, n_neighbors=1, weights=distance, total=   0.0s\n",
            "[CV] metric=hamming, n_neighbors=1, weights=distance .................\n",
            "[CV] .. metric=hamming, n_neighbors=1, weights=distance, total=   0.0s\n",
            "[CV] metric=hamming, n_neighbors=3, weights=uniform ..................\n",
            "[CV] ... metric=hamming, n_neighbors=3, weights=uniform, total=   0.0s\n",
            "[CV] metric=hamming, n_neighbors=3, weights=uniform ..................\n",
            "[CV] ... metric=hamming, n_neighbors=3, weights=uniform, total=   0.0s\n",
            "[CV] metric=hamming, n_neighbors=3, weights=uniform ..................\n",
            "[CV] ... metric=hamming, n_neighbors=3, weights=uniform, total=   0.0s\n",
            "[CV] metric=hamming, n_neighbors=3, weights=uniform ..................\n",
            "[CV] ... metric=hamming, n_neighbors=3, weights=uniform, total=   0.0s\n",
            "[CV] metric=hamming, n_neighbors=3, weights=uniform ..................\n",
            "[CV] ... metric=hamming, n_neighbors=3, weights=uniform, total=   0.0s\n",
            "[CV] metric=hamming, n_neighbors=3, weights=distance .................\n",
            "[CV] .. metric=hamming, n_neighbors=3, weights=distance, total=   0.0s\n",
            "[CV] metric=hamming, n_neighbors=3, weights=distance .................\n",
            "[CV] .. metric=hamming, n_neighbors=3, weights=distance, total=   0.0s\n",
            "[CV] metric=hamming, n_neighbors=3, weights=distance .................\n",
            "[CV] .. metric=hamming, n_neighbors=3, weights=distance, total=   0.0s\n",
            "[CV] metric=hamming, n_neighbors=3, weights=distance .................\n",
            "[CV] .. metric=hamming, n_neighbors=3, weights=distance, total=   0.0s\n",
            "[CV] metric=hamming, n_neighbors=3, weights=distance .................\n",
            "[CV] .. metric=hamming, n_neighbors=3, weights=distance, total=   0.0s\n",
            "[CV] metric=hamming, n_neighbors=5, weights=uniform ..................\n",
            "[CV] ... metric=hamming, n_neighbors=5, weights=uniform, total=   0.0s\n",
            "[CV] metric=hamming, n_neighbors=5, weights=uniform ..................\n",
            "[CV] ... metric=hamming, n_neighbors=5, weights=uniform, total=   0.0s\n",
            "[CV] metric=hamming, n_neighbors=5, weights=uniform ..................\n",
            "[CV] ... metric=hamming, n_neighbors=5, weights=uniform, total=   0.0s\n",
            "[CV] metric=hamming, n_neighbors=5, weights=uniform ..................\n",
            "[CV] ... metric=hamming, n_neighbors=5, weights=uniform, total=   0.0s\n",
            "[CV] metric=hamming, n_neighbors=5, weights=uniform ..................\n",
            "[CV] ... metric=hamming, n_neighbors=5, weights=uniform, total=   0.0s\n",
            "[CV] metric=hamming, n_neighbors=5, weights=distance .................\n",
            "[CV] .. metric=hamming, n_neighbors=5, weights=distance, total=   0.0s\n",
            "[CV] metric=hamming, n_neighbors=5, weights=distance .................\n",
            "[CV] .. metric=hamming, n_neighbors=5, weights=distance, total=   0.0s\n",
            "[CV] metric=hamming, n_neighbors=5, weights=distance .................\n",
            "[CV] .. metric=hamming, n_neighbors=5, weights=distance, total=   0.0s\n",
            "[CV] metric=hamming, n_neighbors=5, weights=distance .................\n",
            "[CV] .. metric=hamming, n_neighbors=5, weights=distance, total=   0.0s\n",
            "[CV] metric=hamming, n_neighbors=5, weights=distance .................\n",
            "[CV] .. metric=hamming, n_neighbors=5, weights=distance, total=   0.0s\n",
            "[CV] metric=hamming, n_neighbors=7, weights=uniform ..................\n",
            "[CV] ... metric=hamming, n_neighbors=7, weights=uniform, total=   0.0s\n",
            "[CV] metric=hamming, n_neighbors=7, weights=uniform ..................\n",
            "[CV] ... metric=hamming, n_neighbors=7, weights=uniform, total=   0.0s\n",
            "[CV] metric=hamming, n_neighbors=7, weights=uniform ..................\n",
            "[CV] ... metric=hamming, n_neighbors=7, weights=uniform, total=   0.0s\n",
            "[CV] metric=hamming, n_neighbors=7, weights=uniform ..................\n",
            "[CV] ... metric=hamming, n_neighbors=7, weights=uniform, total=   0.0s\n",
            "[CV] metric=hamming, n_neighbors=7, weights=uniform ..................\n",
            "[CV] ... metric=hamming, n_neighbors=7, weights=uniform, total=   0.0s\n",
            "[CV] metric=hamming, n_neighbors=7, weights=distance .................\n",
            "[CV] .. metric=hamming, n_neighbors=7, weights=distance, total=   0.0s\n",
            "[CV] metric=hamming, n_neighbors=7, weights=distance .................\n",
            "[CV] .. metric=hamming, n_neighbors=7, weights=distance, total=   0.0s\n",
            "[CV] metric=hamming, n_neighbors=7, weights=distance .................\n",
            "[CV] .. metric=hamming, n_neighbors=7, weights=distance, total=   0.0s\n",
            "[CV] metric=hamming, n_neighbors=7, weights=distance .................\n",
            "[CV] .. metric=hamming, n_neighbors=7, weights=distance, total=   0.0s\n",
            "[CV] metric=hamming, n_neighbors=7, weights=distance .................\n",
            "[CV] .. metric=hamming, n_neighbors=7, weights=distance, total=   0.0s\n",
            "[CV] metric=hamming, n_neighbors=9, weights=uniform ..................\n",
            "[CV] ... metric=hamming, n_neighbors=9, weights=uniform, total=   0.0s\n",
            "[CV] metric=hamming, n_neighbors=9, weights=uniform ..................\n",
            "[CV] ... metric=hamming, n_neighbors=9, weights=uniform, total=   0.0s\n",
            "[CV] metric=hamming, n_neighbors=9, weights=uniform ..................\n"
          ],
          "name": "stdout"
        },
        {
          "output_type": "stream",
          "text": [
            "[Parallel(n_jobs=1)]: Using backend SequentialBackend with 1 concurrent workers.\n",
            "[Parallel(n_jobs=1)]: Done   1 out of   1 | elapsed:    0.0s remaining:    0.0s\n"
          ],
          "name": "stderr"
        },
        {
          "output_type": "stream",
          "text": [
            "[CV] ... metric=hamming, n_neighbors=9, weights=uniform, total=   0.0s\n",
            "[CV] metric=hamming, n_neighbors=9, weights=uniform ..................\n",
            "[CV] ... metric=hamming, n_neighbors=9, weights=uniform, total=   0.0s\n",
            "[CV] metric=hamming, n_neighbors=9, weights=uniform ..................\n",
            "[CV] ... metric=hamming, n_neighbors=9, weights=uniform, total=   0.0s\n",
            "[CV] metric=hamming, n_neighbors=9, weights=distance .................\n",
            "[CV] .. metric=hamming, n_neighbors=9, weights=distance, total=   0.0s\n",
            "[CV] metric=hamming, n_neighbors=9, weights=distance .................\n",
            "[CV] .. metric=hamming, n_neighbors=9, weights=distance, total=   0.0s\n",
            "[CV] metric=hamming, n_neighbors=9, weights=distance .................\n",
            "[CV] .. metric=hamming, n_neighbors=9, weights=distance, total=   0.0s\n",
            "[CV] metric=hamming, n_neighbors=9, weights=distance .................\n",
            "[CV] .. metric=hamming, n_neighbors=9, weights=distance, total=   0.0s\n",
            "[CV] metric=hamming, n_neighbors=9, weights=distance .................\n",
            "[CV] .. metric=hamming, n_neighbors=9, weights=distance, total=   0.0s\n",
            "[CV] metric=hamming, n_neighbors=11, weights=uniform .................\n",
            "[CV] .. metric=hamming, n_neighbors=11, weights=uniform, total=   0.0s\n",
            "[CV] metric=hamming, n_neighbors=11, weights=uniform .................\n",
            "[CV] .. metric=hamming, n_neighbors=11, weights=uniform, total=   0.0s\n",
            "[CV] metric=hamming, n_neighbors=11, weights=uniform .................\n",
            "[CV] .. metric=hamming, n_neighbors=11, weights=uniform, total=   0.0s\n",
            "[CV] metric=hamming, n_neighbors=11, weights=uniform .................\n",
            "[CV] .. metric=hamming, n_neighbors=11, weights=uniform, total=   0.0s\n",
            "[CV] metric=hamming, n_neighbors=11, weights=uniform .................\n",
            "[CV] .. metric=hamming, n_neighbors=11, weights=uniform, total=   0.0s\n",
            "[CV] metric=hamming, n_neighbors=11, weights=distance ................\n",
            "[CV] . metric=hamming, n_neighbors=11, weights=distance, total=   0.0s\n",
            "[CV] metric=hamming, n_neighbors=11, weights=distance ................\n",
            "[CV] . metric=hamming, n_neighbors=11, weights=distance, total=   0.0s\n",
            "[CV] metric=hamming, n_neighbors=11, weights=distance ................\n",
            "[CV] . metric=hamming, n_neighbors=11, weights=distance, total=   0.0s\n",
            "[CV] metric=hamming, n_neighbors=11, weights=distance ................\n",
            "[CV] . metric=hamming, n_neighbors=11, weights=distance, total=   0.0s\n",
            "[CV] metric=hamming, n_neighbors=11, weights=distance ................\n",
            "[CV] . metric=hamming, n_neighbors=11, weights=distance, total=   0.0s\n",
            "[CV] metric=hamming, n_neighbors=13, weights=uniform .................\n",
            "[CV] .. metric=hamming, n_neighbors=13, weights=uniform, total=   0.0s\n",
            "[CV] metric=hamming, n_neighbors=13, weights=uniform .................\n",
            "[CV] .. metric=hamming, n_neighbors=13, weights=uniform, total=   0.0s\n",
            "[CV] metric=hamming, n_neighbors=13, weights=uniform .................\n",
            "[CV] .. metric=hamming, n_neighbors=13, weights=uniform, total=   0.0s\n",
            "[CV] metric=hamming, n_neighbors=13, weights=uniform .................\n",
            "[CV] .. metric=hamming, n_neighbors=13, weights=uniform, total=   0.0s\n",
            "[CV] metric=hamming, n_neighbors=13, weights=uniform .................\n",
            "[CV] .. metric=hamming, n_neighbors=13, weights=uniform, total=   0.0s\n",
            "[CV] metric=hamming, n_neighbors=13, weights=distance ................\n",
            "[CV] . metric=hamming, n_neighbors=13, weights=distance, total=   0.0s\n",
            "[CV] metric=hamming, n_neighbors=13, weights=distance ................\n",
            "[CV] . metric=hamming, n_neighbors=13, weights=distance, total=   0.0s\n",
            "[CV] metric=hamming, n_neighbors=13, weights=distance ................\n",
            "[CV] . metric=hamming, n_neighbors=13, weights=distance, total=   0.0s\n",
            "[CV] metric=hamming, n_neighbors=13, weights=distance ................\n",
            "[CV] . metric=hamming, n_neighbors=13, weights=distance, total=   0.0s\n",
            "[CV] metric=hamming, n_neighbors=13, weights=distance ................\n",
            "[CV] . metric=hamming, n_neighbors=13, weights=distance, total=   0.0s\n",
            "[CV] metric=hamming, n_neighbors=15, weights=uniform .................\n",
            "[CV] .. metric=hamming, n_neighbors=15, weights=uniform, total=   0.0s\n",
            "[CV] metric=hamming, n_neighbors=15, weights=uniform .................\n",
            "[CV] .. metric=hamming, n_neighbors=15, weights=uniform, total=   0.0s\n",
            "[CV] metric=hamming, n_neighbors=15, weights=uniform .................\n",
            "[CV] .. metric=hamming, n_neighbors=15, weights=uniform, total=   0.0s\n",
            "[CV] metric=hamming, n_neighbors=15, weights=uniform .................\n",
            "[CV] .. metric=hamming, n_neighbors=15, weights=uniform, total=   0.0s\n",
            "[CV] metric=hamming, n_neighbors=15, weights=uniform .................\n",
            "[CV] .. metric=hamming, n_neighbors=15, weights=uniform, total=   0.0s\n",
            "[CV] metric=hamming, n_neighbors=15, weights=distance ................\n",
            "[CV] . metric=hamming, n_neighbors=15, weights=distance, total=   0.0s\n",
            "[CV] metric=hamming, n_neighbors=15, weights=distance ................\n",
            "[CV] . metric=hamming, n_neighbors=15, weights=distance, total=   0.0s\n",
            "[CV] metric=hamming, n_neighbors=15, weights=distance ................\n",
            "[CV] . metric=hamming, n_neighbors=15, weights=distance, total=   0.0s\n",
            "[CV] metric=hamming, n_neighbors=15, weights=distance ................\n",
            "[CV] . metric=hamming, n_neighbors=15, weights=distance, total=   0.0s\n",
            "[CV] metric=hamming, n_neighbors=15, weights=distance ................\n",
            "[CV] . metric=hamming, n_neighbors=15, weights=distance, total=   0.0s\n",
            "[CV] metric=hamming, n_neighbors=17, weights=uniform .................\n",
            "[CV] .. metric=hamming, n_neighbors=17, weights=uniform, total=   0.0s\n",
            "[CV] metric=hamming, n_neighbors=17, weights=uniform .................\n",
            "[CV] .. metric=hamming, n_neighbors=17, weights=uniform, total=   0.0s\n",
            "[CV] metric=hamming, n_neighbors=17, weights=uniform .................\n",
            "[CV] .. metric=hamming, n_neighbors=17, weights=uniform, total=   0.0s\n",
            "[CV] metric=hamming, n_neighbors=17, weights=uniform .................\n",
            "[CV] .. metric=hamming, n_neighbors=17, weights=uniform, total=   0.0s\n",
            "[CV] metric=hamming, n_neighbors=17, weights=uniform .................\n",
            "[CV] .. metric=hamming, n_neighbors=17, weights=uniform, total=   0.0s\n",
            "[CV] metric=hamming, n_neighbors=17, weights=distance ................\n",
            "[CV] . metric=hamming, n_neighbors=17, weights=distance, total=   0.0s\n",
            "[CV] metric=hamming, n_neighbors=17, weights=distance ................\n",
            "[CV] . metric=hamming, n_neighbors=17, weights=distance, total=   0.0s\n",
            "[CV] metric=hamming, n_neighbors=17, weights=distance ................\n",
            "[CV] . metric=hamming, n_neighbors=17, weights=distance, total=   0.0s\n",
            "[CV] metric=hamming, n_neighbors=17, weights=distance ................\n",
            "[CV] . metric=hamming, n_neighbors=17, weights=distance, total=   0.0s\n",
            "[CV] metric=hamming, n_neighbors=17, weights=distance ................\n",
            "[CV] . metric=hamming, n_neighbors=17, weights=distance, total=   0.0s\n",
            "[CV] metric=hamming, n_neighbors=19, weights=uniform .................\n",
            "[CV] .. metric=hamming, n_neighbors=19, weights=uniform, total=   0.0s\n",
            "[CV] metric=hamming, n_neighbors=19, weights=uniform .................\n",
            "[CV] .. metric=hamming, n_neighbors=19, weights=uniform, total=   0.0s\n",
            "[CV] metric=hamming, n_neighbors=19, weights=uniform .................\n",
            "[CV] .. metric=hamming, n_neighbors=19, weights=uniform, total=   0.0s\n",
            "[CV] metric=hamming, n_neighbors=19, weights=uniform .................\n",
            "[CV] .. metric=hamming, n_neighbors=19, weights=uniform, total=   0.0s\n",
            "[CV] metric=hamming, n_neighbors=19, weights=uniform .................\n",
            "[CV] .. metric=hamming, n_neighbors=19, weights=uniform, total=   0.0s\n",
            "[CV] metric=hamming, n_neighbors=19, weights=distance ................\n",
            "[CV] . metric=hamming, n_neighbors=19, weights=distance, total=   0.0s\n",
            "[CV] metric=hamming, n_neighbors=19, weights=distance ................\n",
            "[CV] . metric=hamming, n_neighbors=19, weights=distance, total=   0.0s\n",
            "[CV] metric=hamming, n_neighbors=19, weights=distance ................\n",
            "[CV] . metric=hamming, n_neighbors=19, weights=distance, total=   0.0s\n",
            "[CV] metric=hamming, n_neighbors=19, weights=distance ................\n",
            "[CV] . metric=hamming, n_neighbors=19, weights=distance, total=   0.0s\n",
            "[CV] metric=hamming, n_neighbors=19, weights=distance ................\n",
            "[CV] . metric=hamming, n_neighbors=19, weights=distance, total=   0.0s\n",
            "[CV] metric=hamming, n_neighbors=21, weights=uniform .................\n",
            "[CV] .. metric=hamming, n_neighbors=21, weights=uniform, total=   0.0s\n",
            "[CV] metric=hamming, n_neighbors=21, weights=uniform .................\n",
            "[CV] .. metric=hamming, n_neighbors=21, weights=uniform, total=   0.0s\n",
            "[CV] metric=hamming, n_neighbors=21, weights=uniform .................\n",
            "[CV] .. metric=hamming, n_neighbors=21, weights=uniform, total=   0.0s\n",
            "[CV] metric=hamming, n_neighbors=21, weights=uniform .................\n",
            "[CV] .. metric=hamming, n_neighbors=21, weights=uniform, total=   0.0s\n",
            "[CV] metric=hamming, n_neighbors=21, weights=uniform .................\n",
            "[CV] .. metric=hamming, n_neighbors=21, weights=uniform, total=   0.0s\n",
            "[CV] metric=hamming, n_neighbors=21, weights=distance ................\n",
            "[CV] . metric=hamming, n_neighbors=21, weights=distance, total=   0.0s\n",
            "[CV] metric=hamming, n_neighbors=21, weights=distance ................\n",
            "[CV] . metric=hamming, n_neighbors=21, weights=distance, total=   0.0s\n",
            "[CV] metric=hamming, n_neighbors=21, weights=distance ................\n",
            "[CV] . metric=hamming, n_neighbors=21, weights=distance, total=   0.0s\n",
            "[CV] metric=hamming, n_neighbors=21, weights=distance ................\n",
            "[CV] . metric=hamming, n_neighbors=21, weights=distance, total=   0.0s\n",
            "[CV] metric=hamming, n_neighbors=21, weights=distance ................\n",
            "[CV] . metric=hamming, n_neighbors=21, weights=distance, total=   0.0s\n",
            "[CV] metric=hamming, n_neighbors=23, weights=uniform .................\n",
            "[CV] .. metric=hamming, n_neighbors=23, weights=uniform, total=   0.0s\n",
            "[CV] metric=hamming, n_neighbors=23, weights=uniform .................\n",
            "[CV] .. metric=hamming, n_neighbors=23, weights=uniform, total=   0.0s\n",
            "[CV] metric=hamming, n_neighbors=23, weights=uniform .................\n",
            "[CV] .. metric=hamming, n_neighbors=23, weights=uniform, total=   0.0s\n",
            "[CV] metric=hamming, n_neighbors=23, weights=uniform .................\n",
            "[CV] .. metric=hamming, n_neighbors=23, weights=uniform, total=   0.0s\n",
            "[CV] metric=hamming, n_neighbors=23, weights=uniform .................\n",
            "[CV] .. metric=hamming, n_neighbors=23, weights=uniform, total=   0.0s\n",
            "[CV] metric=hamming, n_neighbors=23, weights=distance ................\n",
            "[CV] . metric=hamming, n_neighbors=23, weights=distance, total=   0.0s\n",
            "[CV] metric=hamming, n_neighbors=23, weights=distance ................\n",
            "[CV] . metric=hamming, n_neighbors=23, weights=distance, total=   0.0s\n",
            "[CV] metric=hamming, n_neighbors=23, weights=distance ................\n",
            "[CV] . metric=hamming, n_neighbors=23, weights=distance, total=   0.0s\n",
            "[CV] metric=hamming, n_neighbors=23, weights=distance ................\n",
            "[CV] . metric=hamming, n_neighbors=23, weights=distance, total=   0.0s\n",
            "[CV] metric=hamming, n_neighbors=23, weights=distance ................\n",
            "[CV] . metric=hamming, n_neighbors=23, weights=distance, total=   0.0s\n",
            "[CV] metric=euclidean, n_neighbors=1, weights=uniform ................\n",
            "[CV] . metric=euclidean, n_neighbors=1, weights=uniform, total=   0.2s\n",
            "[CV] metric=euclidean, n_neighbors=1, weights=uniform ................\n",
            "[CV] . metric=euclidean, n_neighbors=1, weights=uniform, total=   0.2s\n",
            "[CV] metric=euclidean, n_neighbors=1, weights=uniform ................\n",
            "[CV] . metric=euclidean, n_neighbors=1, weights=uniform, total=   0.2s\n",
            "[CV] metric=euclidean, n_neighbors=1, weights=uniform ................\n",
            "[CV] . metric=euclidean, n_neighbors=1, weights=uniform, total=   0.2s\n",
            "[CV] metric=euclidean, n_neighbors=1, weights=uniform ................\n",
            "[CV] . metric=euclidean, n_neighbors=1, weights=uniform, total=   0.2s\n",
            "[CV] metric=euclidean, n_neighbors=1, weights=distance ...............\n",
            "[CV]  metric=euclidean, n_neighbors=1, weights=distance, total=   0.2s\n",
            "[CV] metric=euclidean, n_neighbors=1, weights=distance ...............\n",
            "[CV]  metric=euclidean, n_neighbors=1, weights=distance, total=   0.2s\n",
            "[CV] metric=euclidean, n_neighbors=1, weights=distance ...............\n",
            "[CV]  metric=euclidean, n_neighbors=1, weights=distance, total=   0.2s\n",
            "[CV] metric=euclidean, n_neighbors=1, weights=distance ...............\n",
            "[CV]  metric=euclidean, n_neighbors=1, weights=distance, total=   0.2s\n",
            "[CV] metric=euclidean, n_neighbors=1, weights=distance ...............\n",
            "[CV]  metric=euclidean, n_neighbors=1, weights=distance, total=   0.2s\n",
            "[CV] metric=euclidean, n_neighbors=3, weights=uniform ................\n",
            "[CV] . metric=euclidean, n_neighbors=3, weights=uniform, total=   0.2s\n",
            "[CV] metric=euclidean, n_neighbors=3, weights=uniform ................\n",
            "[CV] . metric=euclidean, n_neighbors=3, weights=uniform, total=   0.2s\n",
            "[CV] metric=euclidean, n_neighbors=3, weights=uniform ................\n",
            "[CV] . metric=euclidean, n_neighbors=3, weights=uniform, total=   0.2s\n",
            "[CV] metric=euclidean, n_neighbors=3, weights=uniform ................\n",
            "[CV] . metric=euclidean, n_neighbors=3, weights=uniform, total=   0.2s\n",
            "[CV] metric=euclidean, n_neighbors=3, weights=uniform ................\n",
            "[CV] . metric=euclidean, n_neighbors=3, weights=uniform, total=   0.2s\n",
            "[CV] metric=euclidean, n_neighbors=3, weights=distance ...............\n",
            "[CV]  metric=euclidean, n_neighbors=3, weights=distance, total=   0.2s\n",
            "[CV] metric=euclidean, n_neighbors=3, weights=distance ...............\n",
            "[CV]  metric=euclidean, n_neighbors=3, weights=distance, total=   0.2s\n",
            "[CV] metric=euclidean, n_neighbors=3, weights=distance ...............\n",
            "[CV]  metric=euclidean, n_neighbors=3, weights=distance, total=   0.2s\n",
            "[CV] metric=euclidean, n_neighbors=3, weights=distance ...............\n",
            "[CV]  metric=euclidean, n_neighbors=3, weights=distance, total=   0.2s\n",
            "[CV] metric=euclidean, n_neighbors=3, weights=distance ...............\n",
            "[CV]  metric=euclidean, n_neighbors=3, weights=distance, total=   0.2s\n",
            "[CV] metric=euclidean, n_neighbors=5, weights=uniform ................\n",
            "[CV] . metric=euclidean, n_neighbors=5, weights=uniform, total=   0.2s\n",
            "[CV] metric=euclidean, n_neighbors=5, weights=uniform ................\n",
            "[CV] . metric=euclidean, n_neighbors=5, weights=uniform, total=   0.2s\n",
            "[CV] metric=euclidean, n_neighbors=5, weights=uniform ................\n",
            "[CV] . metric=euclidean, n_neighbors=5, weights=uniform, total=   0.2s\n",
            "[CV] metric=euclidean, n_neighbors=5, weights=uniform ................\n",
            "[CV] . metric=euclidean, n_neighbors=5, weights=uniform, total=   0.2s\n",
            "[CV] metric=euclidean, n_neighbors=5, weights=uniform ................\n",
            "[CV] . metric=euclidean, n_neighbors=5, weights=uniform, total=   0.2s\n",
            "[CV] metric=euclidean, n_neighbors=5, weights=distance ...............\n",
            "[CV]  metric=euclidean, n_neighbors=5, weights=distance, total=   0.2s\n",
            "[CV] metric=euclidean, n_neighbors=5, weights=distance ...............\n",
            "[CV]  metric=euclidean, n_neighbors=5, weights=distance, total=   0.2s\n",
            "[CV] metric=euclidean, n_neighbors=5, weights=distance ...............\n",
            "[CV]  metric=euclidean, n_neighbors=5, weights=distance, total=   0.2s\n",
            "[CV] metric=euclidean, n_neighbors=5, weights=distance ...............\n",
            "[CV]  metric=euclidean, n_neighbors=5, weights=distance, total=   0.2s\n",
            "[CV] metric=euclidean, n_neighbors=5, weights=distance ...............\n",
            "[CV]  metric=euclidean, n_neighbors=5, weights=distance, total=   0.2s\n",
            "[CV] metric=euclidean, n_neighbors=7, weights=uniform ................\n",
            "[CV] . metric=euclidean, n_neighbors=7, weights=uniform, total=   0.2s\n",
            "[CV] metric=euclidean, n_neighbors=7, weights=uniform ................\n",
            "[CV] . metric=euclidean, n_neighbors=7, weights=uniform, total=   0.2s\n",
            "[CV] metric=euclidean, n_neighbors=7, weights=uniform ................\n",
            "[CV] . metric=euclidean, n_neighbors=7, weights=uniform, total=   0.2s\n",
            "[CV] metric=euclidean, n_neighbors=7, weights=uniform ................\n",
            "[CV] . metric=euclidean, n_neighbors=7, weights=uniform, total=   0.2s\n",
            "[CV] metric=euclidean, n_neighbors=7, weights=uniform ................\n",
            "[CV] . metric=euclidean, n_neighbors=7, weights=uniform, total=   0.2s\n",
            "[CV] metric=euclidean, n_neighbors=7, weights=distance ...............\n",
            "[CV]  metric=euclidean, n_neighbors=7, weights=distance, total=   0.2s\n",
            "[CV] metric=euclidean, n_neighbors=7, weights=distance ...............\n",
            "[CV]  metric=euclidean, n_neighbors=7, weights=distance, total=   0.2s\n",
            "[CV] metric=euclidean, n_neighbors=7, weights=distance ...............\n",
            "[CV]  metric=euclidean, n_neighbors=7, weights=distance, total=   0.2s\n",
            "[CV] metric=euclidean, n_neighbors=7, weights=distance ...............\n",
            "[CV]  metric=euclidean, n_neighbors=7, weights=distance, total=   0.2s\n",
            "[CV] metric=euclidean, n_neighbors=7, weights=distance ...............\n",
            "[CV]  metric=euclidean, n_neighbors=7, weights=distance, total=   0.2s\n",
            "[CV] metric=euclidean, n_neighbors=9, weights=uniform ................\n",
            "[CV] . metric=euclidean, n_neighbors=9, weights=uniform, total=   0.2s\n",
            "[CV] metric=euclidean, n_neighbors=9, weights=uniform ................\n",
            "[CV] . metric=euclidean, n_neighbors=9, weights=uniform, total=   0.2s\n",
            "[CV] metric=euclidean, n_neighbors=9, weights=uniform ................\n",
            "[CV] . metric=euclidean, n_neighbors=9, weights=uniform, total=   0.2s\n",
            "[CV] metric=euclidean, n_neighbors=9, weights=uniform ................\n",
            "[CV] . metric=euclidean, n_neighbors=9, weights=uniform, total=   0.2s\n",
            "[CV] metric=euclidean, n_neighbors=9, weights=uniform ................\n",
            "[CV] . metric=euclidean, n_neighbors=9, weights=uniform, total=   0.2s\n",
            "[CV] metric=euclidean, n_neighbors=9, weights=distance ...............\n",
            "[CV]  metric=euclidean, n_neighbors=9, weights=distance, total=   0.2s\n",
            "[CV] metric=euclidean, n_neighbors=9, weights=distance ...............\n",
            "[CV]  metric=euclidean, n_neighbors=9, weights=distance, total=   0.2s\n",
            "[CV] metric=euclidean, n_neighbors=9, weights=distance ...............\n",
            "[CV]  metric=euclidean, n_neighbors=9, weights=distance, total=   0.2s\n",
            "[CV] metric=euclidean, n_neighbors=9, weights=distance ...............\n",
            "[CV]  metric=euclidean, n_neighbors=9, weights=distance, total=   0.2s\n",
            "[CV] metric=euclidean, n_neighbors=9, weights=distance ...............\n",
            "[CV]  metric=euclidean, n_neighbors=9, weights=distance, total=   0.2s\n",
            "[CV] metric=euclidean, n_neighbors=11, weights=uniform ...............\n",
            "[CV]  metric=euclidean, n_neighbors=11, weights=uniform, total=   0.2s\n",
            "[CV] metric=euclidean, n_neighbors=11, weights=uniform ...............\n",
            "[CV]  metric=euclidean, n_neighbors=11, weights=uniform, total=   0.2s\n",
            "[CV] metric=euclidean, n_neighbors=11, weights=uniform ...............\n",
            "[CV]  metric=euclidean, n_neighbors=11, weights=uniform, total=   0.2s\n",
            "[CV] metric=euclidean, n_neighbors=11, weights=uniform ...............\n",
            "[CV]  metric=euclidean, n_neighbors=11, weights=uniform, total=   0.2s\n",
            "[CV] metric=euclidean, n_neighbors=11, weights=uniform ...............\n",
            "[CV]  metric=euclidean, n_neighbors=11, weights=uniform, total=   0.2s\n",
            "[CV] metric=euclidean, n_neighbors=11, weights=distance ..............\n",
            "[CV]  metric=euclidean, n_neighbors=11, weights=distance, total=   0.2s\n",
            "[CV] metric=euclidean, n_neighbors=11, weights=distance ..............\n",
            "[CV]  metric=euclidean, n_neighbors=11, weights=distance, total=   0.2s\n",
            "[CV] metric=euclidean, n_neighbors=11, weights=distance ..............\n",
            "[CV]  metric=euclidean, n_neighbors=11, weights=distance, total=   0.2s\n",
            "[CV] metric=euclidean, n_neighbors=11, weights=distance ..............\n",
            "[CV]  metric=euclidean, n_neighbors=11, weights=distance, total=   0.2s\n",
            "[CV] metric=euclidean, n_neighbors=11, weights=distance ..............\n",
            "[CV]  metric=euclidean, n_neighbors=11, weights=distance, total=   0.2s\n",
            "[CV] metric=euclidean, n_neighbors=13, weights=uniform ...............\n",
            "[CV]  metric=euclidean, n_neighbors=13, weights=uniform, total=   0.2s\n",
            "[CV] metric=euclidean, n_neighbors=13, weights=uniform ...............\n",
            "[CV]  metric=euclidean, n_neighbors=13, weights=uniform, total=   0.2s\n",
            "[CV] metric=euclidean, n_neighbors=13, weights=uniform ...............\n",
            "[CV]  metric=euclidean, n_neighbors=13, weights=uniform, total=   0.2s\n",
            "[CV] metric=euclidean, n_neighbors=13, weights=uniform ...............\n",
            "[CV]  metric=euclidean, n_neighbors=13, weights=uniform, total=   0.2s\n",
            "[CV] metric=euclidean, n_neighbors=13, weights=uniform ...............\n",
            "[CV]  metric=euclidean, n_neighbors=13, weights=uniform, total=   0.2s\n",
            "[CV] metric=euclidean, n_neighbors=13, weights=distance ..............\n",
            "[CV]  metric=euclidean, n_neighbors=13, weights=distance, total=   0.2s\n",
            "[CV] metric=euclidean, n_neighbors=13, weights=distance ..............\n",
            "[CV]  metric=euclidean, n_neighbors=13, weights=distance, total=   0.2s\n",
            "[CV] metric=euclidean, n_neighbors=13, weights=distance ..............\n",
            "[CV]  metric=euclidean, n_neighbors=13, weights=distance, total=   0.2s\n",
            "[CV] metric=euclidean, n_neighbors=13, weights=distance ..............\n",
            "[CV]  metric=euclidean, n_neighbors=13, weights=distance, total=   0.2s\n",
            "[CV] metric=euclidean, n_neighbors=13, weights=distance ..............\n",
            "[CV]  metric=euclidean, n_neighbors=13, weights=distance, total=   0.2s\n",
            "[CV] metric=euclidean, n_neighbors=15, weights=uniform ...............\n",
            "[CV]  metric=euclidean, n_neighbors=15, weights=uniform, total=   0.2s\n",
            "[CV] metric=euclidean, n_neighbors=15, weights=uniform ...............\n",
            "[CV]  metric=euclidean, n_neighbors=15, weights=uniform, total=   0.2s\n",
            "[CV] metric=euclidean, n_neighbors=15, weights=uniform ...............\n",
            "[CV]  metric=euclidean, n_neighbors=15, weights=uniform, total=   0.2s\n",
            "[CV] metric=euclidean, n_neighbors=15, weights=uniform ...............\n",
            "[CV]  metric=euclidean, n_neighbors=15, weights=uniform, total=   0.2s\n",
            "[CV] metric=euclidean, n_neighbors=15, weights=uniform ...............\n",
            "[CV]  metric=euclidean, n_neighbors=15, weights=uniform, total=   0.2s\n",
            "[CV] metric=euclidean, n_neighbors=15, weights=distance ..............\n",
            "[CV]  metric=euclidean, n_neighbors=15, weights=distance, total=   0.2s\n",
            "[CV] metric=euclidean, n_neighbors=15, weights=distance ..............\n",
            "[CV]  metric=euclidean, n_neighbors=15, weights=distance, total=   0.2s\n",
            "[CV] metric=euclidean, n_neighbors=15, weights=distance ..............\n",
            "[CV]  metric=euclidean, n_neighbors=15, weights=distance, total=   0.2s\n",
            "[CV] metric=euclidean, n_neighbors=15, weights=distance ..............\n",
            "[CV]  metric=euclidean, n_neighbors=15, weights=distance, total=   0.2s\n",
            "[CV] metric=euclidean, n_neighbors=15, weights=distance ..............\n",
            "[CV]  metric=euclidean, n_neighbors=15, weights=distance, total=   0.2s\n",
            "[CV] metric=euclidean, n_neighbors=17, weights=uniform ...............\n",
            "[CV]  metric=euclidean, n_neighbors=17, weights=uniform, total=   0.2s\n",
            "[CV] metric=euclidean, n_neighbors=17, weights=uniform ...............\n",
            "[CV]  metric=euclidean, n_neighbors=17, weights=uniform, total=   0.2s\n",
            "[CV] metric=euclidean, n_neighbors=17, weights=uniform ...............\n",
            "[CV]  metric=euclidean, n_neighbors=17, weights=uniform, total=   0.2s\n",
            "[CV] metric=euclidean, n_neighbors=17, weights=uniform ...............\n",
            "[CV]  metric=euclidean, n_neighbors=17, weights=uniform, total=   0.2s\n",
            "[CV] metric=euclidean, n_neighbors=17, weights=uniform ...............\n",
            "[CV]  metric=euclidean, n_neighbors=17, weights=uniform, total=   0.2s\n",
            "[CV] metric=euclidean, n_neighbors=17, weights=distance ..............\n",
            "[CV]  metric=euclidean, n_neighbors=17, weights=distance, total=   0.2s\n",
            "[CV] metric=euclidean, n_neighbors=17, weights=distance ..............\n",
            "[CV]  metric=euclidean, n_neighbors=17, weights=distance, total=   0.2s\n",
            "[CV] metric=euclidean, n_neighbors=17, weights=distance ..............\n",
            "[CV]  metric=euclidean, n_neighbors=17, weights=distance, total=   0.2s\n",
            "[CV] metric=euclidean, n_neighbors=17, weights=distance ..............\n",
            "[CV]  metric=euclidean, n_neighbors=17, weights=distance, total=   0.2s\n",
            "[CV] metric=euclidean, n_neighbors=17, weights=distance ..............\n",
            "[CV]  metric=euclidean, n_neighbors=17, weights=distance, total=   0.2s\n",
            "[CV] metric=euclidean, n_neighbors=19, weights=uniform ...............\n",
            "[CV]  metric=euclidean, n_neighbors=19, weights=uniform, total=   0.2s\n",
            "[CV] metric=euclidean, n_neighbors=19, weights=uniform ...............\n",
            "[CV]  metric=euclidean, n_neighbors=19, weights=uniform, total=   0.2s\n",
            "[CV] metric=euclidean, n_neighbors=19, weights=uniform ...............\n",
            "[CV]  metric=euclidean, n_neighbors=19, weights=uniform, total=   0.2s\n",
            "[CV] metric=euclidean, n_neighbors=19, weights=uniform ...............\n",
            "[CV]  metric=euclidean, n_neighbors=19, weights=uniform, total=   0.2s\n",
            "[CV] metric=euclidean, n_neighbors=19, weights=uniform ...............\n",
            "[CV]  metric=euclidean, n_neighbors=19, weights=uniform, total=   0.2s\n",
            "[CV] metric=euclidean, n_neighbors=19, weights=distance ..............\n",
            "[CV]  metric=euclidean, n_neighbors=19, weights=distance, total=   0.2s\n",
            "[CV] metric=euclidean, n_neighbors=19, weights=distance ..............\n",
            "[CV]  metric=euclidean, n_neighbors=19, weights=distance, total=   0.2s\n",
            "[CV] metric=euclidean, n_neighbors=19, weights=distance ..............\n",
            "[CV]  metric=euclidean, n_neighbors=19, weights=distance, total=   0.2s\n",
            "[CV] metric=euclidean, n_neighbors=19, weights=distance ..............\n",
            "[CV]  metric=euclidean, n_neighbors=19, weights=distance, total=   0.2s\n",
            "[CV] metric=euclidean, n_neighbors=19, weights=distance ..............\n",
            "[CV]  metric=euclidean, n_neighbors=19, weights=distance, total=   0.2s\n",
            "[CV] metric=euclidean, n_neighbors=21, weights=uniform ...............\n",
            "[CV]  metric=euclidean, n_neighbors=21, weights=uniform, total=   0.2s\n",
            "[CV] metric=euclidean, n_neighbors=21, weights=uniform ...............\n",
            "[CV]  metric=euclidean, n_neighbors=21, weights=uniform, total=   0.2s\n",
            "[CV] metric=euclidean, n_neighbors=21, weights=uniform ...............\n",
            "[CV]  metric=euclidean, n_neighbors=21, weights=uniform, total=   0.2s\n",
            "[CV] metric=euclidean, n_neighbors=21, weights=uniform ...............\n",
            "[CV]  metric=euclidean, n_neighbors=21, weights=uniform, total=   0.2s\n",
            "[CV] metric=euclidean, n_neighbors=21, weights=uniform ...............\n",
            "[CV]  metric=euclidean, n_neighbors=21, weights=uniform, total=   0.2s\n",
            "[CV] metric=euclidean, n_neighbors=21, weights=distance ..............\n",
            "[CV]  metric=euclidean, n_neighbors=21, weights=distance, total=   0.2s\n",
            "[CV] metric=euclidean, n_neighbors=21, weights=distance ..............\n",
            "[CV]  metric=euclidean, n_neighbors=21, weights=distance, total=   0.2s\n",
            "[CV] metric=euclidean, n_neighbors=21, weights=distance ..............\n",
            "[CV]  metric=euclidean, n_neighbors=21, weights=distance, total=   0.2s\n",
            "[CV] metric=euclidean, n_neighbors=21, weights=distance ..............\n",
            "[CV]  metric=euclidean, n_neighbors=21, weights=distance, total=   0.2s\n",
            "[CV] metric=euclidean, n_neighbors=21, weights=distance ..............\n",
            "[CV]  metric=euclidean, n_neighbors=21, weights=distance, total=   0.2s\n",
            "[CV] metric=euclidean, n_neighbors=23, weights=uniform ...............\n",
            "[CV]  metric=euclidean, n_neighbors=23, weights=uniform, total=   0.2s\n",
            "[CV] metric=euclidean, n_neighbors=23, weights=uniform ...............\n",
            "[CV]  metric=euclidean, n_neighbors=23, weights=uniform, total=   0.2s\n",
            "[CV] metric=euclidean, n_neighbors=23, weights=uniform ...............\n",
            "[CV]  metric=euclidean, n_neighbors=23, weights=uniform, total=   0.2s\n",
            "[CV] metric=euclidean, n_neighbors=23, weights=uniform ...............\n",
            "[CV]  metric=euclidean, n_neighbors=23, weights=uniform, total=   0.2s\n",
            "[CV] metric=euclidean, n_neighbors=23, weights=uniform ...............\n",
            "[CV]  metric=euclidean, n_neighbors=23, weights=uniform, total=   0.2s\n",
            "[CV] metric=euclidean, n_neighbors=23, weights=distance ..............\n",
            "[CV]  metric=euclidean, n_neighbors=23, weights=distance, total=   0.2s\n",
            "[CV] metric=euclidean, n_neighbors=23, weights=distance ..............\n",
            "[CV]  metric=euclidean, n_neighbors=23, weights=distance, total=   0.2s\n",
            "[CV] metric=euclidean, n_neighbors=23, weights=distance ..............\n",
            "[CV]  metric=euclidean, n_neighbors=23, weights=distance, total=   0.2s\n",
            "[CV] metric=euclidean, n_neighbors=23, weights=distance ..............\n",
            "[CV]  metric=euclidean, n_neighbors=23, weights=distance, total=   0.2s\n",
            "[CV] metric=euclidean, n_neighbors=23, weights=distance ..............\n",
            "[CV]  metric=euclidean, n_neighbors=23, weights=distance, total=   0.2s\n",
            "[CV] metric=manhattan, n_neighbors=1, weights=uniform ................\n",
            "[CV] . metric=manhattan, n_neighbors=1, weights=uniform, total=   2.7s\n",
            "[CV] metric=manhattan, n_neighbors=1, weights=uniform ................\n",
            "[CV] . metric=manhattan, n_neighbors=1, weights=uniform, total=   2.6s\n",
            "[CV] metric=manhattan, n_neighbors=1, weights=uniform ................\n",
            "[CV] . metric=manhattan, n_neighbors=1, weights=uniform, total=   2.6s\n",
            "[CV] metric=manhattan, n_neighbors=1, weights=uniform ................\n",
            "[CV] . metric=manhattan, n_neighbors=1, weights=uniform, total=   2.6s\n",
            "[CV] metric=manhattan, n_neighbors=1, weights=uniform ................\n",
            "[CV] . metric=manhattan, n_neighbors=1, weights=uniform, total=   2.6s\n",
            "[CV] metric=manhattan, n_neighbors=1, weights=distance ...............\n",
            "[CV]  metric=manhattan, n_neighbors=1, weights=distance, total=   2.6s\n",
            "[CV] metric=manhattan, n_neighbors=1, weights=distance ...............\n",
            "[CV]  metric=manhattan, n_neighbors=1, weights=distance, total=   2.6s\n",
            "[CV] metric=manhattan, n_neighbors=1, weights=distance ...............\n",
            "[CV]  metric=manhattan, n_neighbors=1, weights=distance, total=   2.6s\n",
            "[CV] metric=manhattan, n_neighbors=1, weights=distance ...............\n",
            "[CV]  metric=manhattan, n_neighbors=1, weights=distance, total=   2.6s\n",
            "[CV] metric=manhattan, n_neighbors=1, weights=distance ...............\n",
            "[CV]  metric=manhattan, n_neighbors=1, weights=distance, total=   2.6s\n",
            "[CV] metric=manhattan, n_neighbors=3, weights=uniform ................\n",
            "[CV] . metric=manhattan, n_neighbors=3, weights=uniform, total=   2.6s\n",
            "[CV] metric=manhattan, n_neighbors=3, weights=uniform ................\n",
            "[CV] . metric=manhattan, n_neighbors=3, weights=uniform, total=   2.6s\n",
            "[CV] metric=manhattan, n_neighbors=3, weights=uniform ................\n",
            "[CV] . metric=manhattan, n_neighbors=3, weights=uniform, total=   2.6s\n",
            "[CV] metric=manhattan, n_neighbors=3, weights=uniform ................\n",
            "[CV] . metric=manhattan, n_neighbors=3, weights=uniform, total=   2.6s\n",
            "[CV] metric=manhattan, n_neighbors=3, weights=uniform ................\n",
            "[CV] . metric=manhattan, n_neighbors=3, weights=uniform, total=   2.6s\n",
            "[CV] metric=manhattan, n_neighbors=3, weights=distance ...............\n",
            "[CV]  metric=manhattan, n_neighbors=3, weights=distance, total=   2.6s\n",
            "[CV] metric=manhattan, n_neighbors=3, weights=distance ...............\n",
            "[CV]  metric=manhattan, n_neighbors=3, weights=distance, total=   2.6s\n",
            "[CV] metric=manhattan, n_neighbors=3, weights=distance ...............\n",
            "[CV]  metric=manhattan, n_neighbors=3, weights=distance, total=   2.6s\n",
            "[CV] metric=manhattan, n_neighbors=3, weights=distance ...............\n",
            "[CV]  metric=manhattan, n_neighbors=3, weights=distance, total=   2.6s\n",
            "[CV] metric=manhattan, n_neighbors=3, weights=distance ...............\n",
            "[CV]  metric=manhattan, n_neighbors=3, weights=distance, total=   2.6s\n",
            "[CV] metric=manhattan, n_neighbors=5, weights=uniform ................\n",
            "[CV] . metric=manhattan, n_neighbors=5, weights=uniform, total=   2.7s\n",
            "[CV] metric=manhattan, n_neighbors=5, weights=uniform ................\n",
            "[CV] . metric=manhattan, n_neighbors=5, weights=uniform, total=   2.6s\n",
            "[CV] metric=manhattan, n_neighbors=5, weights=uniform ................\n",
            "[CV] . metric=manhattan, n_neighbors=5, weights=uniform, total=   2.6s\n",
            "[CV] metric=manhattan, n_neighbors=5, weights=uniform ................\n",
            "[CV] . metric=manhattan, n_neighbors=5, weights=uniform, total=   2.7s\n",
            "[CV] metric=manhattan, n_neighbors=5, weights=uniform ................\n",
            "[CV] . metric=manhattan, n_neighbors=5, weights=uniform, total=   2.7s\n",
            "[CV] metric=manhattan, n_neighbors=5, weights=distance ...............\n",
            "[CV]  metric=manhattan, n_neighbors=5, weights=distance, total=   2.6s\n",
            "[CV] metric=manhattan, n_neighbors=5, weights=distance ...............\n",
            "[CV]  metric=manhattan, n_neighbors=5, weights=distance, total=   2.6s\n",
            "[CV] metric=manhattan, n_neighbors=5, weights=distance ...............\n",
            "[CV]  metric=manhattan, n_neighbors=5, weights=distance, total=   2.6s\n",
            "[CV] metric=manhattan, n_neighbors=5, weights=distance ...............\n",
            "[CV]  metric=manhattan, n_neighbors=5, weights=distance, total=   2.6s\n",
            "[CV] metric=manhattan, n_neighbors=5, weights=distance ...............\n",
            "[CV]  metric=manhattan, n_neighbors=5, weights=distance, total=   2.6s\n",
            "[CV] metric=manhattan, n_neighbors=7, weights=uniform ................\n",
            "[CV] . metric=manhattan, n_neighbors=7, weights=uniform, total=   2.6s\n",
            "[CV] metric=manhattan, n_neighbors=7, weights=uniform ................\n",
            "[CV] . metric=manhattan, n_neighbors=7, weights=uniform, total=   2.7s\n",
            "[CV] metric=manhattan, n_neighbors=7, weights=uniform ................\n",
            "[CV] . metric=manhattan, n_neighbors=7, weights=uniform, total=   2.6s\n",
            "[CV] metric=manhattan, n_neighbors=7, weights=uniform ................\n",
            "[CV] . metric=manhattan, n_neighbors=7, weights=uniform, total=   2.6s\n",
            "[CV] metric=manhattan, n_neighbors=7, weights=uniform ................\n",
            "[CV] . metric=manhattan, n_neighbors=7, weights=uniform, total=   2.6s\n",
            "[CV] metric=manhattan, n_neighbors=7, weights=distance ...............\n",
            "[CV]  metric=manhattan, n_neighbors=7, weights=distance, total=   2.6s\n",
            "[CV] metric=manhattan, n_neighbors=7, weights=distance ...............\n",
            "[CV]  metric=manhattan, n_neighbors=7, weights=distance, total=   2.6s\n",
            "[CV] metric=manhattan, n_neighbors=7, weights=distance ...............\n",
            "[CV]  metric=manhattan, n_neighbors=7, weights=distance, total=   2.6s\n",
            "[CV] metric=manhattan, n_neighbors=7, weights=distance ...............\n",
            "[CV]  metric=manhattan, n_neighbors=7, weights=distance, total=   2.6s\n",
            "[CV] metric=manhattan, n_neighbors=7, weights=distance ...............\n",
            "[CV]  metric=manhattan, n_neighbors=7, weights=distance, total=   2.6s\n",
            "[CV] metric=manhattan, n_neighbors=9, weights=uniform ................\n",
            "[CV] . metric=manhattan, n_neighbors=9, weights=uniform, total=   2.6s\n",
            "[CV] metric=manhattan, n_neighbors=9, weights=uniform ................\n",
            "[CV] . metric=manhattan, n_neighbors=9, weights=uniform, total=   2.6s\n",
            "[CV] metric=manhattan, n_neighbors=9, weights=uniform ................\n",
            "[CV] . metric=manhattan, n_neighbors=9, weights=uniform, total=   2.6s\n",
            "[CV] metric=manhattan, n_neighbors=9, weights=uniform ................\n",
            "[CV] . metric=manhattan, n_neighbors=9, weights=uniform, total=   2.7s\n",
            "[CV] metric=manhattan, n_neighbors=9, weights=uniform ................\n",
            "[CV] . metric=manhattan, n_neighbors=9, weights=uniform, total=   2.7s\n",
            "[CV] metric=manhattan, n_neighbors=9, weights=distance ...............\n",
            "[CV]  metric=manhattan, n_neighbors=9, weights=distance, total=   2.6s\n",
            "[CV] metric=manhattan, n_neighbors=9, weights=distance ...............\n",
            "[CV]  metric=manhattan, n_neighbors=9, weights=distance, total=   2.6s\n",
            "[CV] metric=manhattan, n_neighbors=9, weights=distance ...............\n",
            "[CV]  metric=manhattan, n_neighbors=9, weights=distance, total=   2.6s\n",
            "[CV] metric=manhattan, n_neighbors=9, weights=distance ...............\n",
            "[CV]  metric=manhattan, n_neighbors=9, weights=distance, total=   2.6s\n",
            "[CV] metric=manhattan, n_neighbors=9, weights=distance ...............\n",
            "[CV]  metric=manhattan, n_neighbors=9, weights=distance, total=   2.6s\n",
            "[CV] metric=manhattan, n_neighbors=11, weights=uniform ...............\n",
            "[CV]  metric=manhattan, n_neighbors=11, weights=uniform, total=   2.6s\n",
            "[CV] metric=manhattan, n_neighbors=11, weights=uniform ...............\n",
            "[CV]  metric=manhattan, n_neighbors=11, weights=uniform, total=   2.7s\n",
            "[CV] metric=manhattan, n_neighbors=11, weights=uniform ...............\n",
            "[CV]  metric=manhattan, n_neighbors=11, weights=uniform, total=   2.6s\n",
            "[CV] metric=manhattan, n_neighbors=11, weights=uniform ...............\n",
            "[CV]  metric=manhattan, n_neighbors=11, weights=uniform, total=   2.7s\n",
            "[CV] metric=manhattan, n_neighbors=11, weights=uniform ...............\n",
            "[CV]  metric=manhattan, n_neighbors=11, weights=uniform, total=   2.6s\n",
            "[CV] metric=manhattan, n_neighbors=11, weights=distance ..............\n",
            "[CV]  metric=manhattan, n_neighbors=11, weights=distance, total=   2.6s\n",
            "[CV] metric=manhattan, n_neighbors=11, weights=distance ..............\n",
            "[CV]  metric=manhattan, n_neighbors=11, weights=distance, total=   2.6s\n",
            "[CV] metric=manhattan, n_neighbors=11, weights=distance ..............\n",
            "[CV]  metric=manhattan, n_neighbors=11, weights=distance, total=   2.6s\n",
            "[CV] metric=manhattan, n_neighbors=11, weights=distance ..............\n",
            "[CV]  metric=manhattan, n_neighbors=11, weights=distance, total=   2.6s\n",
            "[CV] metric=manhattan, n_neighbors=11, weights=distance ..............\n",
            "[CV]  metric=manhattan, n_neighbors=11, weights=distance, total=   2.6s\n",
            "[CV] metric=manhattan, n_neighbors=13, weights=uniform ...............\n",
            "[CV]  metric=manhattan, n_neighbors=13, weights=uniform, total=   2.6s\n",
            "[CV] metric=manhattan, n_neighbors=13, weights=uniform ...............\n",
            "[CV]  metric=manhattan, n_neighbors=13, weights=uniform, total=   2.6s\n",
            "[CV] metric=manhattan, n_neighbors=13, weights=uniform ...............\n",
            "[CV]  metric=manhattan, n_neighbors=13, weights=uniform, total=   2.6s\n",
            "[CV] metric=manhattan, n_neighbors=13, weights=uniform ...............\n",
            "[CV]  metric=manhattan, n_neighbors=13, weights=uniform, total=   2.7s\n",
            "[CV] metric=manhattan, n_neighbors=13, weights=uniform ...............\n",
            "[CV]  metric=manhattan, n_neighbors=13, weights=uniform, total=   2.6s\n",
            "[CV] metric=manhattan, n_neighbors=13, weights=distance ..............\n",
            "[CV]  metric=manhattan, n_neighbors=13, weights=distance, total=   2.6s\n",
            "[CV] metric=manhattan, n_neighbors=13, weights=distance ..............\n",
            "[CV]  metric=manhattan, n_neighbors=13, weights=distance, total=   2.6s\n",
            "[CV] metric=manhattan, n_neighbors=13, weights=distance ..............\n",
            "[CV]  metric=manhattan, n_neighbors=13, weights=distance, total=   2.6s\n",
            "[CV] metric=manhattan, n_neighbors=13, weights=distance ..............\n",
            "[CV]  metric=manhattan, n_neighbors=13, weights=distance, total=   2.7s\n",
            "[CV] metric=manhattan, n_neighbors=13, weights=distance ..............\n",
            "[CV]  metric=manhattan, n_neighbors=13, weights=distance, total=   2.6s\n",
            "[CV] metric=manhattan, n_neighbors=15, weights=uniform ...............\n",
            "[CV]  metric=manhattan, n_neighbors=15, weights=uniform, total=   2.7s\n",
            "[CV] metric=manhattan, n_neighbors=15, weights=uniform ...............\n",
            "[CV]  metric=manhattan, n_neighbors=15, weights=uniform, total=   2.7s\n",
            "[CV] metric=manhattan, n_neighbors=15, weights=uniform ...............\n",
            "[CV]  metric=manhattan, n_neighbors=15, weights=uniform, total=   2.6s\n",
            "[CV] metric=manhattan, n_neighbors=15, weights=uniform ...............\n",
            "[CV]  metric=manhattan, n_neighbors=15, weights=uniform, total=   2.7s\n",
            "[CV] metric=manhattan, n_neighbors=15, weights=uniform ...............\n",
            "[CV]  metric=manhattan, n_neighbors=15, weights=uniform, total=   2.6s\n",
            "[CV] metric=manhattan, n_neighbors=15, weights=distance ..............\n",
            "[CV]  metric=manhattan, n_neighbors=15, weights=distance, total=   2.6s\n",
            "[CV] metric=manhattan, n_neighbors=15, weights=distance ..............\n",
            "[CV]  metric=manhattan, n_neighbors=15, weights=distance, total=   2.6s\n",
            "[CV] metric=manhattan, n_neighbors=15, weights=distance ..............\n",
            "[CV]  metric=manhattan, n_neighbors=15, weights=distance, total=   2.6s\n",
            "[CV] metric=manhattan, n_neighbors=15, weights=distance ..............\n",
            "[CV]  metric=manhattan, n_neighbors=15, weights=distance, total=   2.6s\n",
            "[CV] metric=manhattan, n_neighbors=15, weights=distance ..............\n",
            "[CV]  metric=manhattan, n_neighbors=15, weights=distance, total=   2.6s\n",
            "[CV] metric=manhattan, n_neighbors=17, weights=uniform ...............\n",
            "[CV]  metric=manhattan, n_neighbors=17, weights=uniform, total=   2.6s\n",
            "[CV] metric=manhattan, n_neighbors=17, weights=uniform ...............\n",
            "[CV]  metric=manhattan, n_neighbors=17, weights=uniform, total=   2.6s\n",
            "[CV] metric=manhattan, n_neighbors=17, weights=uniform ...............\n",
            "[CV]  metric=manhattan, n_neighbors=17, weights=uniform, total=   2.6s\n",
            "[CV] metric=manhattan, n_neighbors=17, weights=uniform ...............\n",
            "[CV]  metric=manhattan, n_neighbors=17, weights=uniform, total=   2.7s\n",
            "[CV] metric=manhattan, n_neighbors=17, weights=uniform ...............\n",
            "[CV]  metric=manhattan, n_neighbors=17, weights=uniform, total=   2.7s\n",
            "[CV] metric=manhattan, n_neighbors=17, weights=distance ..............\n",
            "[CV]  metric=manhattan, n_neighbors=17, weights=distance, total=   2.6s\n",
            "[CV] metric=manhattan, n_neighbors=17, weights=distance ..............\n",
            "[CV]  metric=manhattan, n_neighbors=17, weights=distance, total=   2.6s\n",
            "[CV] metric=manhattan, n_neighbors=17, weights=distance ..............\n",
            "[CV]  metric=manhattan, n_neighbors=17, weights=distance, total=   2.6s\n",
            "[CV] metric=manhattan, n_neighbors=17, weights=distance ..............\n",
            "[CV]  metric=manhattan, n_neighbors=17, weights=distance, total=   2.6s\n",
            "[CV] metric=manhattan, n_neighbors=17, weights=distance ..............\n",
            "[CV]  metric=manhattan, n_neighbors=17, weights=distance, total=   2.6s\n",
            "[CV] metric=manhattan, n_neighbors=19, weights=uniform ...............\n",
            "[CV]  metric=manhattan, n_neighbors=19, weights=uniform, total=   2.6s\n",
            "[CV] metric=manhattan, n_neighbors=19, weights=uniform ...............\n",
            "[CV]  metric=manhattan, n_neighbors=19, weights=uniform, total=   2.7s\n",
            "[CV] metric=manhattan, n_neighbors=19, weights=uniform ...............\n",
            "[CV]  metric=manhattan, n_neighbors=19, weights=uniform, total=   2.6s\n",
            "[CV] metric=manhattan, n_neighbors=19, weights=uniform ...............\n",
            "[CV]  metric=manhattan, n_neighbors=19, weights=uniform, total=   2.6s\n",
            "[CV] metric=manhattan, n_neighbors=19, weights=uniform ...............\n",
            "[CV]  metric=manhattan, n_neighbors=19, weights=uniform, total=   2.7s\n",
            "[CV] metric=manhattan, n_neighbors=19, weights=distance ..............\n",
            "[CV]  metric=manhattan, n_neighbors=19, weights=distance, total=   2.6s\n",
            "[CV] metric=manhattan, n_neighbors=19, weights=distance ..............\n",
            "[CV]  metric=manhattan, n_neighbors=19, weights=distance, total=   2.6s\n",
            "[CV] metric=manhattan, n_neighbors=19, weights=distance ..............\n",
            "[CV]  metric=manhattan, n_neighbors=19, weights=distance, total=   2.6s\n",
            "[CV] metric=manhattan, n_neighbors=19, weights=distance ..............\n",
            "[CV]  metric=manhattan, n_neighbors=19, weights=distance, total=   2.6s\n",
            "[CV] metric=manhattan, n_neighbors=19, weights=distance ..............\n",
            "[CV]  metric=manhattan, n_neighbors=19, weights=distance, total=   2.6s\n",
            "[CV] metric=manhattan, n_neighbors=21, weights=uniform ...............\n",
            "[CV]  metric=manhattan, n_neighbors=21, weights=uniform, total=   2.6s\n",
            "[CV] metric=manhattan, n_neighbors=21, weights=uniform ...............\n",
            "[CV]  metric=manhattan, n_neighbors=21, weights=uniform, total=   2.6s\n",
            "[CV] metric=manhattan, n_neighbors=21, weights=uniform ...............\n",
            "[CV]  metric=manhattan, n_neighbors=21, weights=uniform, total=   2.6s\n",
            "[CV] metric=manhattan, n_neighbors=21, weights=uniform ...............\n",
            "[CV]  metric=manhattan, n_neighbors=21, weights=uniform, total=   2.7s\n",
            "[CV] metric=manhattan, n_neighbors=21, weights=uniform ...............\n",
            "[CV]  metric=manhattan, n_neighbors=21, weights=uniform, total=   2.6s\n",
            "[CV] metric=manhattan, n_neighbors=21, weights=distance ..............\n",
            "[CV]  metric=manhattan, n_neighbors=21, weights=distance, total=   2.6s\n",
            "[CV] metric=manhattan, n_neighbors=21, weights=distance ..............\n",
            "[CV]  metric=manhattan, n_neighbors=21, weights=distance, total=   2.6s\n",
            "[CV] metric=manhattan, n_neighbors=21, weights=distance ..............\n",
            "[CV]  metric=manhattan, n_neighbors=21, weights=distance, total=   2.6s\n",
            "[CV] metric=manhattan, n_neighbors=21, weights=distance ..............\n",
            "[CV]  metric=manhattan, n_neighbors=21, weights=distance, total=   2.6s\n",
            "[CV] metric=manhattan, n_neighbors=21, weights=distance ..............\n",
            "[CV]  metric=manhattan, n_neighbors=21, weights=distance, total=   2.6s\n",
            "[CV] metric=manhattan, n_neighbors=23, weights=uniform ...............\n",
            "[CV]  metric=manhattan, n_neighbors=23, weights=uniform, total=   2.6s\n",
            "[CV] metric=manhattan, n_neighbors=23, weights=uniform ...............\n",
            "[CV]  metric=manhattan, n_neighbors=23, weights=uniform, total=   2.7s\n",
            "[CV] metric=manhattan, n_neighbors=23, weights=uniform ...............\n",
            "[CV]  metric=manhattan, n_neighbors=23, weights=uniform, total=   2.6s\n",
            "[CV] metric=manhattan, n_neighbors=23, weights=uniform ...............\n",
            "[CV]  metric=manhattan, n_neighbors=23, weights=uniform, total=   2.7s\n",
            "[CV] metric=manhattan, n_neighbors=23, weights=uniform ...............\n",
            "[CV]  metric=manhattan, n_neighbors=23, weights=uniform, total=   2.7s\n",
            "[CV] metric=manhattan, n_neighbors=23, weights=distance ..............\n",
            "[CV]  metric=manhattan, n_neighbors=23, weights=distance, total=   2.6s\n",
            "[CV] metric=manhattan, n_neighbors=23, weights=distance ..............\n",
            "[CV]  metric=manhattan, n_neighbors=23, weights=distance, total=   2.6s\n",
            "[CV] metric=manhattan, n_neighbors=23, weights=distance ..............\n",
            "[CV]  metric=manhattan, n_neighbors=23, weights=distance, total=   2.6s\n",
            "[CV] metric=manhattan, n_neighbors=23, weights=distance ..............\n",
            "[CV]  metric=manhattan, n_neighbors=23, weights=distance, total=   2.6s\n",
            "[CV] metric=manhattan, n_neighbors=23, weights=distance ..............\n",
            "[CV]  metric=manhattan, n_neighbors=23, weights=distance, total=   2.7s\n",
            "[CV] metric=Chebyshev, n_neighbors=1, weights=uniform ................\n",
            "[CV] . metric=Chebyshev, n_neighbors=1, weights=uniform, total=   0.0s\n",
            "[CV] metric=Chebyshev, n_neighbors=1, weights=uniform ................\n",
            "[CV] . metric=Chebyshev, n_neighbors=1, weights=uniform, total=   0.0s\n",
            "[CV] metric=Chebyshev, n_neighbors=1, weights=uniform ................\n",
            "[CV] . metric=Chebyshev, n_neighbors=1, weights=uniform, total=   0.0s\n",
            "[CV] metric=Chebyshev, n_neighbors=1, weights=uniform ................\n",
            "[CV] . metric=Chebyshev, n_neighbors=1, weights=uniform, total=   0.0s\n",
            "[CV] metric=Chebyshev, n_neighbors=1, weights=uniform ................\n",
            "[CV] . metric=Chebyshev, n_neighbors=1, weights=uniform, total=   0.0s\n",
            "[CV] metric=Chebyshev, n_neighbors=1, weights=distance ...............\n",
            "[CV]  metric=Chebyshev, n_neighbors=1, weights=distance, total=   0.0s\n",
            "[CV] metric=Chebyshev, n_neighbors=1, weights=distance ...............\n",
            "[CV]  metric=Chebyshev, n_neighbors=1, weights=distance, total=   0.0s\n",
            "[CV] metric=Chebyshev, n_neighbors=1, weights=distance ...............\n",
            "[CV]  metric=Chebyshev, n_neighbors=1, weights=distance, total=   0.0s\n",
            "[CV] metric=Chebyshev, n_neighbors=1, weights=distance ...............\n",
            "[CV]  metric=Chebyshev, n_neighbors=1, weights=distance, total=   0.0s\n",
            "[CV] metric=Chebyshev, n_neighbors=1, weights=distance ...............\n",
            "[CV]  metric=Chebyshev, n_neighbors=1, weights=distance, total=   0.0s\n",
            "[CV] metric=Chebyshev, n_neighbors=3, weights=uniform ................\n",
            "[CV] . metric=Chebyshev, n_neighbors=3, weights=uniform, total=   0.0s\n",
            "[CV] metric=Chebyshev, n_neighbors=3, weights=uniform ................\n",
            "[CV] . metric=Chebyshev, n_neighbors=3, weights=uniform, total=   0.0s\n",
            "[CV] metric=Chebyshev, n_neighbors=3, weights=uniform ................\n",
            "[CV] . metric=Chebyshev, n_neighbors=3, weights=uniform, total=   0.0s\n",
            "[CV] metric=Chebyshev, n_neighbors=3, weights=uniform ................\n",
            "[CV] . metric=Chebyshev, n_neighbors=3, weights=uniform, total=   0.0s\n",
            "[CV] metric=Chebyshev, n_neighbors=3, weights=uniform ................\n",
            "[CV] . metric=Chebyshev, n_neighbors=3, weights=uniform, total=   0.0s\n",
            "[CV] metric=Chebyshev, n_neighbors=3, weights=distance ...............\n",
            "[CV]  metric=Chebyshev, n_neighbors=3, weights=distance, total=   0.0s\n",
            "[CV] metric=Chebyshev, n_neighbors=3, weights=distance ...............\n",
            "[CV]  metric=Chebyshev, n_neighbors=3, weights=distance, total=   0.0s\n",
            "[CV] metric=Chebyshev, n_neighbors=3, weights=distance ...............\n",
            "[CV]  metric=Chebyshev, n_neighbors=3, weights=distance, total=   0.0s\n",
            "[CV] metric=Chebyshev, n_neighbors=3, weights=distance ...............\n",
            "[CV]  metric=Chebyshev, n_neighbors=3, weights=distance, total=   0.0s\n",
            "[CV] metric=Chebyshev, n_neighbors=3, weights=distance ...............\n",
            "[CV]  metric=Chebyshev, n_neighbors=3, weights=distance, total=   0.0s\n",
            "[CV] metric=Chebyshev, n_neighbors=5, weights=uniform ................\n",
            "[CV] . metric=Chebyshev, n_neighbors=5, weights=uniform, total=   0.0s\n",
            "[CV] metric=Chebyshev, n_neighbors=5, weights=uniform ................\n",
            "[CV] . metric=Chebyshev, n_neighbors=5, weights=uniform, total=   0.0s\n",
            "[CV] metric=Chebyshev, n_neighbors=5, weights=uniform ................\n",
            "[CV] . metric=Chebyshev, n_neighbors=5, weights=uniform, total=   0.0s\n",
            "[CV] metric=Chebyshev, n_neighbors=5, weights=uniform ................\n",
            "[CV] . metric=Chebyshev, n_neighbors=5, weights=uniform, total=   0.0s\n",
            "[CV] metric=Chebyshev, n_neighbors=5, weights=uniform ................\n",
            "[CV] . metric=Chebyshev, n_neighbors=5, weights=uniform, total=   0.0s\n",
            "[CV] metric=Chebyshev, n_neighbors=5, weights=distance ...............\n",
            "[CV]  metric=Chebyshev, n_neighbors=5, weights=distance, total=   0.0s\n",
            "[CV] metric=Chebyshev, n_neighbors=5, weights=distance ...............\n",
            "[CV]  metric=Chebyshev, n_neighbors=5, weights=distance, total=   0.0s\n",
            "[CV] metric=Chebyshev, n_neighbors=5, weights=distance ...............\n",
            "[CV]  metric=Chebyshev, n_neighbors=5, weights=distance, total=   0.0s\n",
            "[CV] metric=Chebyshev, n_neighbors=5, weights=distance ...............\n",
            "[CV]  metric=Chebyshev, n_neighbors=5, weights=distance, total=   0.0s\n",
            "[CV] metric=Chebyshev, n_neighbors=5, weights=distance ...............\n",
            "[CV]  metric=Chebyshev, n_neighbors=5, weights=distance, total=   0.0s\n",
            "[CV] metric=Chebyshev, n_neighbors=7, weights=uniform ................\n",
            "[CV] . metric=Chebyshev, n_neighbors=7, weights=uniform, total=   0.0s\n",
            "[CV] metric=Chebyshev, n_neighbors=7, weights=uniform ................\n",
            "[CV] . metric=Chebyshev, n_neighbors=7, weights=uniform, total=   0.0s\n",
            "[CV] metric=Chebyshev, n_neighbors=7, weights=uniform ................\n",
            "[CV] . metric=Chebyshev, n_neighbors=7, weights=uniform, total=   0.0s\n",
            "[CV] metric=Chebyshev, n_neighbors=7, weights=uniform ................\n",
            "[CV] . metric=Chebyshev, n_neighbors=7, weights=uniform, total=   0.0s\n",
            "[CV] metric=Chebyshev, n_neighbors=7, weights=uniform ................\n",
            "[CV] . metric=Chebyshev, n_neighbors=7, weights=uniform, total=   0.0s\n",
            "[CV] metric=Chebyshev, n_neighbors=7, weights=distance ...............\n",
            "[CV]  metric=Chebyshev, n_neighbors=7, weights=distance, total=   0.0s\n",
            "[CV] metric=Chebyshev, n_neighbors=7, weights=distance ...............\n",
            "[CV]  metric=Chebyshev, n_neighbors=7, weights=distance, total=   0.0s\n",
            "[CV] metric=Chebyshev, n_neighbors=7, weights=distance ...............\n",
            "[CV]  metric=Chebyshev, n_neighbors=7, weights=distance, total=   0.0s\n",
            "[CV] metric=Chebyshev, n_neighbors=7, weights=distance ...............\n",
            "[CV]  metric=Chebyshev, n_neighbors=7, weights=distance, total=   0.0s\n",
            "[CV] metric=Chebyshev, n_neighbors=7, weights=distance ...............\n",
            "[CV]  metric=Chebyshev, n_neighbors=7, weights=distance, total=   0.0s\n",
            "[CV] metric=Chebyshev, n_neighbors=9, weights=uniform ................\n",
            "[CV] . metric=Chebyshev, n_neighbors=9, weights=uniform, total=   0.0s\n",
            "[CV] metric=Chebyshev, n_neighbors=9, weights=uniform ................\n",
            "[CV] . metric=Chebyshev, n_neighbors=9, weights=uniform, total=   0.0s\n",
            "[CV] metric=Chebyshev, n_neighbors=9, weights=uniform ................\n",
            "[CV] . metric=Chebyshev, n_neighbors=9, weights=uniform, total=   0.0s\n",
            "[CV] metric=Chebyshev, n_neighbors=9, weights=uniform ................\n",
            "[CV] . metric=Chebyshev, n_neighbors=9, weights=uniform, total=   0.0s\n",
            "[CV] metric=Chebyshev, n_neighbors=9, weights=uniform ................\n",
            "[CV] . metric=Chebyshev, n_neighbors=9, weights=uniform, total=   0.0s\n",
            "[CV] metric=Chebyshev, n_neighbors=9, weights=distance ...............\n",
            "[CV]  metric=Chebyshev, n_neighbors=9, weights=distance, total=   0.0s\n",
            "[CV] metric=Chebyshev, n_neighbors=9, weights=distance ...............\n",
            "[CV]  metric=Chebyshev, n_neighbors=9, weights=distance, total=   0.0s\n",
            "[CV] metric=Chebyshev, n_neighbors=9, weights=distance ...............\n",
            "[CV]  metric=Chebyshev, n_neighbors=9, weights=distance, total=   0.0s\n",
            "[CV] metric=Chebyshev, n_neighbors=9, weights=distance ...............\n",
            "[CV]  metric=Chebyshev, n_neighbors=9, weights=distance, total=   0.0s\n",
            "[CV] metric=Chebyshev, n_neighbors=9, weights=distance ...............\n",
            "[CV]  metric=Chebyshev, n_neighbors=9, weights=distance, total=   0.0s\n",
            "[CV] metric=Chebyshev, n_neighbors=11, weights=uniform ...............\n",
            "[CV]  metric=Chebyshev, n_neighbors=11, weights=uniform, total=   0.0s\n",
            "[CV] metric=Chebyshev, n_neighbors=11, weights=uniform ...............\n",
            "[CV]  metric=Chebyshev, n_neighbors=11, weights=uniform, total=   0.0s\n",
            "[CV] metric=Chebyshev, n_neighbors=11, weights=uniform ...............\n",
            "[CV]  metric=Chebyshev, n_neighbors=11, weights=uniform, total=   0.0s\n",
            "[CV] metric=Chebyshev, n_neighbors=11, weights=uniform ...............\n",
            "[CV]  metric=Chebyshev, n_neighbors=11, weights=uniform, total=   0.0s\n",
            "[CV] metric=Chebyshev, n_neighbors=11, weights=uniform ...............\n",
            "[CV]  metric=Chebyshev, n_neighbors=11, weights=uniform, total=   0.0s\n",
            "[CV] metric=Chebyshev, n_neighbors=11, weights=distance ..............\n",
            "[CV]  metric=Chebyshev, n_neighbors=11, weights=distance, total=   0.0s\n",
            "[CV] metric=Chebyshev, n_neighbors=11, weights=distance ..............\n",
            "[CV]  metric=Chebyshev, n_neighbors=11, weights=distance, total=   0.0s\n",
            "[CV] metric=Chebyshev, n_neighbors=11, weights=distance ..............\n",
            "[CV]  metric=Chebyshev, n_neighbors=11, weights=distance, total=   0.0s\n",
            "[CV] metric=Chebyshev, n_neighbors=11, weights=distance ..............\n",
            "[CV]  metric=Chebyshev, n_neighbors=11, weights=distance, total=   0.0s\n",
            "[CV] metric=Chebyshev, n_neighbors=11, weights=distance ..............\n",
            "[CV]  metric=Chebyshev, n_neighbors=11, weights=distance, total=   0.0s\n",
            "[CV] metric=Chebyshev, n_neighbors=13, weights=uniform ...............\n",
            "[CV]  metric=Chebyshev, n_neighbors=13, weights=uniform, total=   0.0s\n",
            "[CV] metric=Chebyshev, n_neighbors=13, weights=uniform ...............\n",
            "[CV]  metric=Chebyshev, n_neighbors=13, weights=uniform, total=   0.0s\n",
            "[CV] metric=Chebyshev, n_neighbors=13, weights=uniform ...............\n",
            "[CV]  metric=Chebyshev, n_neighbors=13, weights=uniform, total=   0.0s\n",
            "[CV] metric=Chebyshev, n_neighbors=13, weights=uniform ...............\n",
            "[CV]  metric=Chebyshev, n_neighbors=13, weights=uniform, total=   0.0s\n",
            "[CV] metric=Chebyshev, n_neighbors=13, weights=uniform ...............\n",
            "[CV]  metric=Chebyshev, n_neighbors=13, weights=uniform, total=   0.0s\n",
            "[CV] metric=Chebyshev, n_neighbors=13, weights=distance ..............\n",
            "[CV]  metric=Chebyshev, n_neighbors=13, weights=distance, total=   0.0s\n",
            "[CV] metric=Chebyshev, n_neighbors=13, weights=distance ..............\n",
            "[CV]  metric=Chebyshev, n_neighbors=13, weights=distance, total=   0.0s\n",
            "[CV] metric=Chebyshev, n_neighbors=13, weights=distance ..............\n",
            "[CV]  metric=Chebyshev, n_neighbors=13, weights=distance, total=   0.0s\n",
            "[CV] metric=Chebyshev, n_neighbors=13, weights=distance ..............\n",
            "[CV]  metric=Chebyshev, n_neighbors=13, weights=distance, total=   0.0s\n",
            "[CV] metric=Chebyshev, n_neighbors=13, weights=distance ..............\n",
            "[CV]  metric=Chebyshev, n_neighbors=13, weights=distance, total=   0.0s\n",
            "[CV] metric=Chebyshev, n_neighbors=15, weights=uniform ...............\n",
            "[CV]  metric=Chebyshev, n_neighbors=15, weights=uniform, total=   0.0s\n",
            "[CV] metric=Chebyshev, n_neighbors=15, weights=uniform ...............\n",
            "[CV]  metric=Chebyshev, n_neighbors=15, weights=uniform, total=   0.0s\n",
            "[CV] metric=Chebyshev, n_neighbors=15, weights=uniform ...............\n",
            "[CV]  metric=Chebyshev, n_neighbors=15, weights=uniform, total=   0.0s\n",
            "[CV] metric=Chebyshev, n_neighbors=15, weights=uniform ...............\n",
            "[CV]  metric=Chebyshev, n_neighbors=15, weights=uniform, total=   0.0s\n",
            "[CV] metric=Chebyshev, n_neighbors=15, weights=uniform ...............\n",
            "[CV]  metric=Chebyshev, n_neighbors=15, weights=uniform, total=   0.0s\n",
            "[CV] metric=Chebyshev, n_neighbors=15, weights=distance ..............\n",
            "[CV]  metric=Chebyshev, n_neighbors=15, weights=distance, total=   0.0s\n",
            "[CV] metric=Chebyshev, n_neighbors=15, weights=distance ..............\n",
            "[CV]  metric=Chebyshev, n_neighbors=15, weights=distance, total=   0.0s\n",
            "[CV] metric=Chebyshev, n_neighbors=15, weights=distance ..............\n",
            "[CV]  metric=Chebyshev, n_neighbors=15, weights=distance, total=   0.0s\n",
            "[CV] metric=Chebyshev, n_neighbors=15, weights=distance ..............\n",
            "[CV]  metric=Chebyshev, n_neighbors=15, weights=distance, total=   0.0s\n",
            "[CV] metric=Chebyshev, n_neighbors=15, weights=distance ..............\n",
            "[CV]  metric=Chebyshev, n_neighbors=15, weights=distance, total=   0.0s\n",
            "[CV] metric=Chebyshev, n_neighbors=17, weights=uniform ...............\n",
            "[CV]  metric=Chebyshev, n_neighbors=17, weights=uniform, total=   0.0s\n",
            "[CV] metric=Chebyshev, n_neighbors=17, weights=uniform ...............\n",
            "[CV]  metric=Chebyshev, n_neighbors=17, weights=uniform, total=   0.0s\n",
            "[CV] metric=Chebyshev, n_neighbors=17, weights=uniform ...............\n",
            "[CV]  metric=Chebyshev, n_neighbors=17, weights=uniform, total=   0.0s\n",
            "[CV] metric=Chebyshev, n_neighbors=17, weights=uniform ...............\n",
            "[CV]  metric=Chebyshev, n_neighbors=17, weights=uniform, total=   0.0s\n",
            "[CV] metric=Chebyshev, n_neighbors=17, weights=uniform ...............\n",
            "[CV]  metric=Chebyshev, n_neighbors=17, weights=uniform, total=   0.0s\n",
            "[CV] metric=Chebyshev, n_neighbors=17, weights=distance ..............\n",
            "[CV]  metric=Chebyshev, n_neighbors=17, weights=distance, total=   0.0s\n",
            "[CV] metric=Chebyshev, n_neighbors=17, weights=distance ..............\n",
            "[CV]  metric=Chebyshev, n_neighbors=17, weights=distance, total=   0.0s\n",
            "[CV] metric=Chebyshev, n_neighbors=17, weights=distance ..............\n",
            "[CV]  metric=Chebyshev, n_neighbors=17, weights=distance, total=   0.0s\n",
            "[CV] metric=Chebyshev, n_neighbors=17, weights=distance ..............\n",
            "[CV]  metric=Chebyshev, n_neighbors=17, weights=distance, total=   0.0s\n",
            "[CV] metric=Chebyshev, n_neighbors=17, weights=distance ..............\n",
            "[CV]  metric=Chebyshev, n_neighbors=17, weights=distance, total=   0.0s\n",
            "[CV] metric=Chebyshev, n_neighbors=19, weights=uniform ...............\n",
            "[CV]  metric=Chebyshev, n_neighbors=19, weights=uniform, total=   0.0s\n",
            "[CV] metric=Chebyshev, n_neighbors=19, weights=uniform ...............\n",
            "[CV]  metric=Chebyshev, n_neighbors=19, weights=uniform, total=   0.0s\n",
            "[CV] metric=Chebyshev, n_neighbors=19, weights=uniform ...............\n",
            "[CV]  metric=Chebyshev, n_neighbors=19, weights=uniform, total=   0.0s\n",
            "[CV] metric=Chebyshev, n_neighbors=19, weights=uniform ...............\n",
            "[CV]  metric=Chebyshev, n_neighbors=19, weights=uniform, total=   0.0s\n",
            "[CV] metric=Chebyshev, n_neighbors=19, weights=uniform ...............\n",
            "[CV]  metric=Chebyshev, n_neighbors=19, weights=uniform, total=   0.0s\n",
            "[CV] metric=Chebyshev, n_neighbors=19, weights=distance ..............\n",
            "[CV]  metric=Chebyshev, n_neighbors=19, weights=distance, total=   0.0s\n",
            "[CV] metric=Chebyshev, n_neighbors=19, weights=distance ..............\n",
            "[CV]  metric=Chebyshev, n_neighbors=19, weights=distance, total=   0.0s\n",
            "[CV] metric=Chebyshev, n_neighbors=19, weights=distance ..............\n",
            "[CV]  metric=Chebyshev, n_neighbors=19, weights=distance, total=   0.0s\n",
            "[CV] metric=Chebyshev, n_neighbors=19, weights=distance ..............\n",
            "[CV]  metric=Chebyshev, n_neighbors=19, weights=distance, total=   0.0s\n",
            "[CV] metric=Chebyshev, n_neighbors=19, weights=distance ..............\n",
            "[CV]  metric=Chebyshev, n_neighbors=19, weights=distance, total=   0.0s\n",
            "[CV] metric=Chebyshev, n_neighbors=21, weights=uniform ...............\n",
            "[CV]  metric=Chebyshev, n_neighbors=21, weights=uniform, total=   0.0s\n",
            "[CV] metric=Chebyshev, n_neighbors=21, weights=uniform ...............\n",
            "[CV]  metric=Chebyshev, n_neighbors=21, weights=uniform, total=   0.0s\n",
            "[CV] metric=Chebyshev, n_neighbors=21, weights=uniform ...............\n",
            "[CV]  metric=Chebyshev, n_neighbors=21, weights=uniform, total=   0.0s\n",
            "[CV] metric=Chebyshev, n_neighbors=21, weights=uniform ...............\n",
            "[CV]  metric=Chebyshev, n_neighbors=21, weights=uniform, total=   0.0s\n",
            "[CV] metric=Chebyshev, n_neighbors=21, weights=uniform ...............\n",
            "[CV]  metric=Chebyshev, n_neighbors=21, weights=uniform, total=   0.0s\n",
            "[CV] metric=Chebyshev, n_neighbors=21, weights=distance ..............\n",
            "[CV]  metric=Chebyshev, n_neighbors=21, weights=distance, total=   0.0s\n",
            "[CV] metric=Chebyshev, n_neighbors=21, weights=distance ..............\n",
            "[CV]  metric=Chebyshev, n_neighbors=21, weights=distance, total=   0.0s\n",
            "[CV] metric=Chebyshev, n_neighbors=21, weights=distance ..............\n",
            "[CV]  metric=Chebyshev, n_neighbors=21, weights=distance, total=   0.0s\n",
            "[CV] metric=Chebyshev, n_neighbors=21, weights=distance ..............\n",
            "[CV]  metric=Chebyshev, n_neighbors=21, weights=distance, total=   0.0s\n",
            "[CV] metric=Chebyshev, n_neighbors=21, weights=distance ..............\n",
            "[CV]  metric=Chebyshev, n_neighbors=21, weights=distance, total=   0.0s\n",
            "[CV] metric=Chebyshev, n_neighbors=23, weights=uniform ...............\n",
            "[CV]  metric=Chebyshev, n_neighbors=23, weights=uniform, total=   0.0s\n",
            "[CV] metric=Chebyshev, n_neighbors=23, weights=uniform ...............\n",
            "[CV]  metric=Chebyshev, n_neighbors=23, weights=uniform, total=   0.0s\n",
            "[CV] metric=Chebyshev, n_neighbors=23, weights=uniform ...............\n",
            "[CV]  metric=Chebyshev, n_neighbors=23, weights=uniform, total=   0.0s\n",
            "[CV] metric=Chebyshev, n_neighbors=23, weights=uniform ...............\n",
            "[CV]  metric=Chebyshev, n_neighbors=23, weights=uniform, total=   0.0s\n",
            "[CV] metric=Chebyshev, n_neighbors=23, weights=uniform ...............\n",
            "[CV]  metric=Chebyshev, n_neighbors=23, weights=uniform, total=   0.0s\n",
            "[CV] metric=Chebyshev, n_neighbors=23, weights=distance ..............\n",
            "[CV]  metric=Chebyshev, n_neighbors=23, weights=distance, total=   0.0s\n",
            "[CV] metric=Chebyshev, n_neighbors=23, weights=distance ..............\n",
            "[CV]  metric=Chebyshev, n_neighbors=23, weights=distance, total=   0.0s\n",
            "[CV] metric=Chebyshev, n_neighbors=23, weights=distance ..............\n",
            "[CV]  metric=Chebyshev, n_neighbors=23, weights=distance, total=   0.0s\n",
            "[CV] metric=Chebyshev, n_neighbors=23, weights=distance ..............\n",
            "[CV]  metric=Chebyshev, n_neighbors=23, weights=distance, total=   0.0s\n",
            "[CV] metric=Chebyshev, n_neighbors=23, weights=distance ..............\n",
            "[CV]  metric=Chebyshev, n_neighbors=23, weights=distance, total=   0.0s\n",
            "Best parameters for KNN Classifier:  {'metric': 'euclidean', 'n_neighbors': 15, 'weights': 'distance'} \n",
            "\n"
          ],
          "name": "stdout"
        },
        {
          "output_type": "stream",
          "text": [
            "[Parallel(n_jobs=1)]: Done 480 out of 480 | elapsed:  5.7min finished\n"
          ],
          "name": "stderr"
        }
      ]
    },
    {
      "cell_type": "code",
      "metadata": {
        "id": "9yu8UtDlUDlV"
      },
      "source": [
        "#Best parameters for KNN Classifier:  {'metric': 'euclidean', 'n_neighbors': 15, 'weights': 'distance'}"
      ],
      "id": "9yu8UtDlUDlV",
      "execution_count": 74,
      "outputs": []
    },
    {
      "cell_type": "code",
      "metadata": {
        "colab": {
          "base_uri": "https://localhost:8080/",
          "height": 302
        },
        "id": "d675b3d9",
        "outputId": "cc05cccd-10a1-41b5-f6c7-a98bf05ee16e"
      },
      "source": [
        "# consider an empty list to store error rate\n",
        "error_rate = []\n",
        "\n",
        "# use for loop to build a knn model for each K\n",
        "for i in np.arange(1,25,2):\n",
        "    \n",
        "    # setup a knn classifier with k neighbors\n",
        "    # use the 'euclidean' metric \n",
        "    knn = KNeighborsClassifier(i, metric = 'euclidean',weights=\"distance\")\n",
        "   \n",
        "    # fit the model using 'cross_val_score'\n",
        "    # pass the knn model as 'estimator'\n",
        "    # use 5-fold cross validation\n",
        "    score = cross_val_score(knn, sampleTrain_dtm, ytrain, cv = 5)\n",
        "    \n",
        "    # calculate the mean score\n",
        "    score = score.mean()\n",
        "    \n",
        "    # compute error rate \n",
        "    error_rate.append(1 - score)\n",
        "\n",
        "# plot the error_rate for different values of K \n",
        "plt.plot(range(1,25,2), error_rate)\n",
        "\n",
        "# add plot and axes labels\n",
        "# set text size using 'fontsize'\n",
        "plt.title('Error Rate', fontsize = 15)\n",
        "plt.xlabel('K', fontsize = 15)\n",
        "plt.ylabel('Error Rate', fontsize = 15)\n",
        "\n",
        "# set the x-axis labels\n",
        "plt.xticks(np.arange(1, 25, step = 2))\n",
        "\n",
        "# plot a vertical line across the minimum error rate\n",
        "#plt.axvline(x = 7, color = 'red')\n",
        "\n",
        "# display the plot\n",
        "plt.show()"
      ],
      "id": "d675b3d9",
      "execution_count": 78,
      "outputs": [
        {
          "output_type": "display_data",
          "data": {
            "image/png": "[encoded data removed]",
            "text/plain": [
              "<Figure size 432x288 with 1 Axes>"
            ]
          },
          "metadata": {
            "needs_background": "light"
          }
        }
      ]
    },
    {
      "cell_type": "code",
      "metadata": {
        "colab": {
          "base_uri": "https://localhost:8080/"
        },
        "id": "TGDlCDt7IccN",
        "outputId": "91a8446d-7235-4761-d2e9-2302e88a8790"
      },
      "source": [
        "#Best parameters for KNN Classifier:  {'metric': 'euclidean', 'n_neighbors': 15, 'weights': 'distance'}\n",
        "model2 = KNeighborsClassifier(n_neighbors=15)\n",
        "model2.fit(sampleTrain_dtm, ytrain)"
      ],
      "id": "TGDlCDt7IccN",
      "execution_count": 79,
      "outputs": [
        {
          "output_type": "execute_result",
          "data": {
            "text/plain": [
              "KNeighborsClassifier(algorithm='auto', leaf_size=30, metric='minkowski',\n",
              "                     metric_params=None, n_jobs=None, n_neighbors=15, p=2,\n",
              "                     weights='uniform')"
            ]
          },
          "metadata": {},
          "execution_count": 79
        }
      ]
    },
    {
      "cell_type": "code",
      "metadata": {
        "colab": {
          "base_uri": "https://localhost:8080/"
        },
        "id": "pHzDAePGIccN",
        "outputId": "66df5aee-2f36-4509-c804-793b82a3fb5b"
      },
      "source": [
        "# Transform test data into DTM by using generated vocabulary\n",
        "sampleTest_dtm = toNumeric.transform(xtest)\n",
        "len(sampleTest_dtm.toarray())"
      ],
      "id": "pHzDAePGIccN",
      "execution_count": 80,
      "outputs": [
        {
          "output_type": "execute_result",
          "data": {
            "text/plain": [
              "1143"
            ]
          },
          "metadata": {},
          "execution_count": 80
        }
      ]
    },
    {
      "cell_type": "code",
      "metadata": {
        "id": "aOFBy_DXIccO"
      },
      "source": [
        "# Test built model\n",
        "y_pred_test_2 = model2.predict(sampleTest_dtm)"
      ],
      "id": "aOFBy_DXIccO",
      "execution_count": 81,
      "outputs": []
    },
    {
      "cell_type": "code",
      "metadata": {
        "colab": {
          "base_uri": "https://localhost:8080/"
        },
        "id": "gGCc13lLIccO",
        "outputId": "a94a5c35-66fa-4cd3-c9cc-d545009cba75"
      },
      "source": [
        "y_pred_test_2.shape"
      ],
      "id": "gGCc13lLIccO",
      "execution_count": 82,
      "outputs": [
        {
          "output_type": "execute_result",
          "data": {
            "text/plain": [
              "(1143,)"
            ]
          },
          "metadata": {},
          "execution_count": 82
        }
      ]
    },
    {
      "cell_type": "code",
      "metadata": {
        "colab": {
          "base_uri": "https://localhost:8080/"
        },
        "id": "qY8B2TrdIccO",
        "outputId": "a8504bdd-1c5a-4dfb-d5b0-25f9614e0eef"
      },
      "source": [
        "ytest.shape"
      ],
      "id": "qY8B2TrdIccO",
      "execution_count": 83,
      "outputs": [
        {
          "output_type": "execute_result",
          "data": {
            "text/plain": [
              "(1143,)"
            ]
          },
          "metadata": {},
          "execution_count": 83
        }
      ]
    },
    {
      "cell_type": "code",
      "metadata": {
        "colab": {
          "base_uri": "https://localhost:8080/"
        },
        "id": "0XWYQMVhIccP",
        "outputId": "8e4cbc36-af58-4b4d-c07d-a164406f0e51"
      },
      "source": [
        "print(classification_report(ytest, y_pred_test_2))"
      ],
      "id": "0XWYQMVhIccP",
      "execution_count": 84,
      "outputs": [
        {
          "output_type": "stream",
          "text": [
            "              precision    recall  f1-score   support\n",
            "\n",
            "           0       0.71      0.84      0.77       717\n",
            "           1       0.60      0.41      0.49       426\n",
            "\n",
            "    accuracy                           0.68      1143\n",
            "   macro avg       0.65      0.62      0.63      1143\n",
            "weighted avg       0.67      0.68      0.66      1143\n",
            "\n"
          ],
          "name": "stdout"
        }
      ]
    },
    {
      "cell_type": "code",
      "metadata": {
        "id": "cp40idGhIccP"
      },
      "source": [
        "df_output = pd.DataFrame({\n",
        "    'y actual' : ytest,\n",
        "    ' y predicted 1' : y_pred_test,\n",
        "    ' y predicted 2' : y_pred_test_2\n",
        "})"
      ],
      "id": "cp40idGhIccP",
      "execution_count": 85,
      "outputs": []
    },
    {
      "cell_type": "code",
      "metadata": {
        "colab": {
          "base_uri": "https://localhost:8080/",
          "height": 203
        },
        "id": "JtJwKXENIccP",
        "outputId": "46577350-dda8-4759-9494-9f1597699b16"
      },
      "source": [
        "df_output.tail(5)"
      ],
      "id": "JtJwKXENIccP",
      "execution_count": 86,
      "outputs": [
        {
          "output_type": "execute_result",
          "data": {
            "text/html": [
              "<div>\n",
              "<style scoped>\n",
              "    .dataframe tbody tr th:only-of-type {\n",
              "        vertical-align: middle;\n",
              "    }\n",
              "\n",
              "    .dataframe tbody tr th {\n",
              "        vertical-align: top;\n",
              "    }\n",
              "\n",
              "    .dataframe thead th {\n",
              "        text-align: right;\n",
              "    }\n",
              "</style>\n",
              "<table border=\"1\" class=\"dataframe\">\n",
              "  <thead>\n",
              "    <tr style=\"text-align: right;\">\n",
              "      <th></th>\n",
              "      <th>y actual</th>\n",
              "      <th>y predicted 1</th>\n",
              "      <th>y predicted 2</th>\n",
              "    </tr>\n",
              "  </thead>\n",
              "  <tbody>\n",
              "    <tr>\n",
              "      <th>543992</th>\n",
              "      <td>1</td>\n",
              "      <td>1</td>\n",
              "      <td>0</td>\n",
              "    </tr>\n",
              "    <tr>\n",
              "      <th>221036</th>\n",
              "      <td>0</td>\n",
              "      <td>0</td>\n",
              "      <td>0</td>\n",
              "    </tr>\n",
              "    <tr>\n",
              "      <th>316889</th>\n",
              "      <td>1</td>\n",
              "      <td>0</td>\n",
              "      <td>0</td>\n",
              "    </tr>\n",
              "    <tr>\n",
              "      <th>231891</th>\n",
              "      <td>0</td>\n",
              "      <td>0</td>\n",
              "      <td>0</td>\n",
              "    </tr>\n",
              "    <tr>\n",
              "      <th>505925</th>\n",
              "      <td>1</td>\n",
              "      <td>1</td>\n",
              "      <td>1</td>\n",
              "    </tr>\n",
              "  </tbody>\n",
              "</table>\n",
              "</div>"
            ],
            "text/plain": [
              "        y actual   y predicted 1   y predicted 2\n",
              "543992         1               1               0\n",
              "221036         0               0               0\n",
              "316889         1               0               0\n",
              "231891         0               0               0\n",
              "505925         1               1               1"
            ]
          },
          "metadata": {},
          "execution_count": 86
        }
      ]
    },
    {
      "cell_type": "code",
      "metadata": {
        "colab": {
          "base_uri": "https://localhost:8080/"
        },
        "id": "Uo-AHAP-JDLQ",
        "outputId": "cad26887-4ae8-4b9b-8407-e4c9b9cf550b"
      },
      "source": [
        "for i in df_output.columns:\n",
        "  print(i,df_output[i].value_counts(1),sep=\"\\n\")"
      ],
      "id": "Uo-AHAP-JDLQ",
      "execution_count": 87,
      "outputs": [
        {
          "output_type": "stream",
          "text": [
            "y actual\n",
            "0    0.627297\n",
            "1    0.372703\n",
            "Name: y actual, dtype: float64\n",
            " y predicted 1\n",
            "0    0.699038\n",
            "1    0.300962\n",
            "Name:  y predicted 1, dtype: float64\n",
            " y predicted 2\n",
            "0    0.748031\n",
            "1    0.251969\n",
            "Name:  y predicted 2, dtype: float64\n"
          ],
          "name": "stdout"
        }
      ]
    },
    {
      "cell_type": "markdown",
      "metadata": {
        "id": "IhE-4F1D2bZm"
      },
      "source": [
        "Using MultinomialNB"
      ],
      "id": "IhE-4F1D2bZm"
    },
    {
      "cell_type": "code",
      "metadata": {
        "colab": {
          "base_uri": "https://localhost:8080/"
        },
        "id": "6hnglK5JJWn-",
        "outputId": "c4a2ab42-acea-4cb4-fada-77ddd797cf1d"
      },
      "source": [
        "nb = MultinomialNB()\n",
        "nb.fit(sampleTrain_dtm, ytrain)"
      ],
      "id": "6hnglK5JJWn-",
      "execution_count": 88,
      "outputs": [
        {
          "output_type": "execute_result",
          "data": {
            "text/plain": [
              "MultinomialNB(alpha=1.0, class_prior=None, fit_prior=True)"
            ]
          },
          "metadata": {},
          "execution_count": 88
        }
      ]
    },
    {
      "cell_type": "code",
      "metadata": {
        "id": "F3_eYOorLYoV"
      },
      "source": [
        "y_pred_class_1 = nb.predict(sampleTest_dtm)"
      ],
      "id": "F3_eYOorLYoV",
      "execution_count": 90,
      "outputs": []
    },
    {
      "cell_type": "code",
      "metadata": {
        "colab": {
          "base_uri": "https://localhost:8080/"
        },
        "id": "NSNvXxouLg54",
        "outputId": "80697bfb-1979-4d13-dd20-9441709feeff"
      },
      "source": [
        "print(classification_report(ytest, y_pred_class_1))"
      ],
      "id": "NSNvXxouLg54",
      "execution_count": 91,
      "outputs": [
        {
          "output_type": "stream",
          "text": [
            "              precision    recall  f1-score   support\n",
            "\n",
            "           0       0.82      0.83      0.83       717\n",
            "           1       0.71      0.69      0.70       426\n",
            "\n",
            "    accuracy                           0.78      1143\n",
            "   macro avg       0.76      0.76      0.76      1143\n",
            "weighted avg       0.78      0.78      0.78      1143\n",
            "\n"
          ],
          "name": "stdout"
        }
      ]
    },
    {
      "cell_type": "code",
      "metadata": {
        "id": "e-HUNUHsMMYC"
      },
      "source": [
        "df_output = pd.DataFrame({\n",
        "    'y actual' : ytest,\n",
        "    ' y predicted 1' : y_pred_class_1,\n",
        "})"
      ],
      "id": "e-HUNUHsMMYC",
      "execution_count": 92,
      "outputs": []
    },
    {
      "cell_type": "code",
      "metadata": {
        "colab": {
          "base_uri": "https://localhost:8080/",
          "height": 357
        },
        "id": "46bc347c",
        "outputId": "cc113523-cd69-4016-ea5a-46f398160826"
      },
      "source": [
        "df_output.tail(10)"
      ],
      "id": "46bc347c",
      "execution_count": 93,
      "outputs": [
        {
          "output_type": "execute_result",
          "data": {
            "text/html": [
              "<div>\n",
              "<style scoped>\n",
              "    .dataframe tbody tr th:only-of-type {\n",
              "        vertical-align: middle;\n",
              "    }\n",
              "\n",
              "    .dataframe tbody tr th {\n",
              "        vertical-align: top;\n",
              "    }\n",
              "\n",
              "    .dataframe thead th {\n",
              "        text-align: right;\n",
              "    }\n",
              "</style>\n",
              "<table border=\"1\" class=\"dataframe\">\n",
              "  <thead>\n",
              "    <tr style=\"text-align: right;\">\n",
              "      <th></th>\n",
              "      <th>y actual</th>\n",
              "      <th>y predicted 1</th>\n",
              "    </tr>\n",
              "  </thead>\n",
              "  <tbody>\n",
              "    <tr>\n",
              "      <th>236016</th>\n",
              "      <td>1</td>\n",
              "      <td>1</td>\n",
              "    </tr>\n",
              "    <tr>\n",
              "      <th>243878</th>\n",
              "      <td>1</td>\n",
              "      <td>1</td>\n",
              "    </tr>\n",
              "    <tr>\n",
              "      <th>274025</th>\n",
              "      <td>0</td>\n",
              "      <td>0</td>\n",
              "    </tr>\n",
              "    <tr>\n",
              "      <th>262182</th>\n",
              "      <td>1</td>\n",
              "      <td>1</td>\n",
              "    </tr>\n",
              "    <tr>\n",
              "      <th>258583</th>\n",
              "      <td>0</td>\n",
              "      <td>0</td>\n",
              "    </tr>\n",
              "    <tr>\n",
              "      <th>543992</th>\n",
              "      <td>1</td>\n",
              "      <td>1</td>\n",
              "    </tr>\n",
              "    <tr>\n",
              "      <th>221036</th>\n",
              "      <td>0</td>\n",
              "      <td>0</td>\n",
              "    </tr>\n",
              "    <tr>\n",
              "      <th>316889</th>\n",
              "      <td>1</td>\n",
              "      <td>0</td>\n",
              "    </tr>\n",
              "    <tr>\n",
              "      <th>231891</th>\n",
              "      <td>0</td>\n",
              "      <td>0</td>\n",
              "    </tr>\n",
              "    <tr>\n",
              "      <th>505925</th>\n",
              "      <td>1</td>\n",
              "      <td>1</td>\n",
              "    </tr>\n",
              "  </tbody>\n",
              "</table>\n",
              "</div>"
            ],
            "text/plain": [
              "        y actual   y predicted 1\n",
              "236016         1               1\n",
              "243878         1               1\n",
              "274025         0               0\n",
              "262182         1               1\n",
              "258583         0               0\n",
              "543992         1               1\n",
              "221036         0               0\n",
              "316889         1               0\n",
              "231891         0               0\n",
              "505925         1               1"
            ]
          },
          "metadata": {},
          "execution_count": 93
        }
      ]
    },
    {
      "cell_type": "markdown",
      "metadata": {
        "id": "iabwKW492ztT"
      },
      "source": [
        "Using DecisionTreeClassifier"
      ],
      "id": "iabwKW492ztT"
    },
    {
      "cell_type": "code",
      "metadata": {
        "colab": {
          "base_uri": "https://localhost:8080/"
        },
        "id": "674c9132",
        "outputId": "7bdcaf1c-268a-4850-e3fd-5938b66812bd"
      },
      "source": [
        "dt_1 = DecisionTreeClassifier()\n",
        "dt_1.fit(sampleTrain_dtm, ytrain)"
      ],
      "id": "674c9132",
      "execution_count": 94,
      "outputs": [
        {
          "output_type": "execute_result",
          "data": {
            "text/plain": [
              "DecisionTreeClassifier(ccp_alpha=0.0, class_weight=None, criterion='gini',\n",
              "                       max_depth=None, max_features=None, max_leaf_nodes=None,\n",
              "                       min_impurity_decrease=0.0, min_impurity_split=None,\n",
              "                       min_samples_leaf=1, min_samples_split=2,\n",
              "                       min_weight_fraction_leaf=0.0, presort='deprecated',\n",
              "                       random_state=None, splitter='best')"
            ]
          },
          "metadata": {},
          "execution_count": 94
        }
      ]
    },
    {
      "cell_type": "code",
      "metadata": {
        "id": "69ea59d6"
      },
      "source": [
        "y_pred_dt_1 = dt_1.predict(sampleTest_dtm)"
      ],
      "id": "69ea59d6",
      "execution_count": 95,
      "outputs": []
    },
    {
      "cell_type": "code",
      "metadata": {
        "colab": {
          "base_uri": "https://localhost:8080/"
        },
        "id": "84842ad8",
        "outputId": "832a8540-aa90-40c2-82bb-479a0721cea5"
      },
      "source": [
        "print('Classification Report:',classification_report(ytest,y_pred_dt_1),sep=\"\\n\")\n"
      ],
      "id": "84842ad8",
      "execution_count": 96,
      "outputs": [
        {
          "output_type": "stream",
          "text": [
            "Classification Report:\n",
            "              precision    recall  f1-score   support\n",
            "\n",
            "           0       0.76      0.74      0.75       717\n",
            "           1       0.58      0.61      0.59       426\n",
            "\n",
            "    accuracy                           0.69      1143\n",
            "   macro avg       0.67      0.67      0.67      1143\n",
            "weighted avg       0.69      0.69      0.69      1143\n",
            "\n"
          ],
          "name": "stdout"
        }
      ]
    },
    {
      "cell_type": "markdown",
      "metadata": {
        "id": "RCEN-cNg3PIL"
      },
      "source": [
        "Using Random Forest Classifier"
      ],
      "id": "RCEN-cNg3PIL"
    },
    {
      "cell_type": "code",
      "metadata": {
        "colab": {
          "base_uri": "https://localhost:8080/"
        },
        "id": "851994ef",
        "outputId": "433b6f2f-142a-4fba-d2d3-6616715f1a40"
      },
      "source": [
        "RF = RandomForestClassifier()\n",
        "RF.fit(sampleTrain_dtm, ytrain)\n",
        "y_pred_RF = RF.predict(sampleTest_dtm)\n",
        "print('Classification Report:',classification_report(ytest,y_pred_RF),sep=\"\\n\")\n"
      ],
      "id": "851994ef",
      "execution_count": 97,
      "outputs": [
        {
          "output_type": "stream",
          "text": [
            "Classification Report:\n",
            "              precision    recall  f1-score   support\n",
            "\n",
            "           0       0.77      0.90      0.83       717\n",
            "           1       0.76      0.55      0.64       426\n",
            "\n",
            "    accuracy                           0.77      1143\n",
            "   macro avg       0.77      0.73      0.74      1143\n",
            "weighted avg       0.77      0.77      0.76      1143\n",
            "\n"
          ],
          "name": "stdout"
        }
      ]
    },
    {
      "cell_type": "code",
      "metadata": {
        "id": "2balzXFt9ZDv"
      },
      "source": [
        "# tuned_paramaters = [{'criterion': ['entropy', 'gini'], \n",
        "#                      'max_depth': range(2, 10),\n",
        "#                      'max_features': [\"sqrt\", \"log2\"],\n",
        "#                      'min_samples_split': range(2,10),\n",
        "#                      'min_samples_leaf': range(1,10),\n",
        "#                      'max_leaf_nodes': range(1, 10)}]\n",
        " \n",
        "# # instantiate the 'DecisionTreeClassifier' \n",
        "# # pass the 'random_state' to obtain the same samples for each time you run the code\n",
        "# decision_tree_classification = DecisionTreeClassifier(random_state = 10)\n",
        "\n",
        "# # use GridSearchCV() to find the optimal value of the hyperparameters\n",
        "# # estimator: pass the decision tree classifier model\n",
        "# # param_grid: pass the list 'tuned_parameters'\n",
        "# # cv: number of folds in k-fold i.e. here cv = 5\n",
        "# tree_grid = GridSearchCV(estimator = decision_tree_classification, \n",
        "#                          param_grid = tuned_paramaters, \n",
        "#                          cv = 5)\n",
        "\n",
        "# # fit the model on X_train and y_train using fit()\n",
        "# tree_grid_model = tree_grid.fit(sampleTrain_dtm, ytrain)\n",
        "\n",
        "# # get the best parameters\n",
        "# print('Best parameters for decision tree classifier: ', tree_grid_model.best_params_, '\\n')"
      ],
      "id": "2balzXFt9ZDv",
      "execution_count": 99,
      "outputs": []
    },
    {
      "cell_type": "code",
      "metadata": {
        "id": "dHZYUP6_-BKm"
      },
      "source": [
        "# instantiate the 'DecisionTreeClassifier'\n",
        "# 'best_params_' returns the dictionary containing best parameter values and parameter name  \n",
        "# 'get()' returns the value of specified parameter\n",
        "# pass the 'random_state' to obtain the same samples for each time you run the code\n",
        "dt_model = DecisionTreeClassifier(criterion = tree_grid_model.best_params_.get('criterion'),\n",
        "                                  max_depth = tree_grid_model.best_params_.get('max_depth'),\n",
        "                                  max_features = tree_grid_model.best_params_.get('max_features'),\n",
        "                                  max_leaf_nodes = tree_grid_model.best_params_.get('max_leaf_nodes'),\n",
        "                                  min_samples_leaf = tree_grid_model.best_params_.get('min_samples_leaf'),\n",
        "                                  min_samples_split = tree_grid_model.best_params_.get('min_samples_split'),\n",
        "                                  random_state = 10)\n",
        "\n",
        "# use fit() to fit the model on the train set\n",
        "dt_model = dt_model.fit(sampleTrain_dtm, ytrain)"
      ],
      "id": "dHZYUP6_-BKm",
      "execution_count": null,
      "outputs": []
    },
    {
      "cell_type": "code",
      "metadata": {
        "colab": {
          "base_uri": "https://localhost:8080/"
        },
        "id": "9DGRmtQkA495",
        "outputId": "054d43cd-8f87-4922-9d03-6a3e24e75318"
      },
      "source": [
        "y_pred_RF2 = dt_model.predict(sampleTest_dtm)\n",
        "print('Accuracy:',accuracy_score(ytest,y_pred_RF2))\n",
        "print()\n",
        "print('Classification Report:',classification_report(ytest,y_pred_RF2),sep=\"\\n\")"
      ],
      "id": "9DGRmtQkA495",
      "execution_count": null,
      "outputs": [
        {
          "output_type": "stream",
          "text": [
            "Accuracy: 0.603448275862069\n",
            "\n",
            "Classification Report:\n",
            "              precision    recall  f1-score   support\n",
            "\n",
            "           0       0.62      0.94      0.75       178\n",
            "           1       0.41      0.06      0.11       112\n",
            "\n",
            "    accuracy                           0.60       290\n",
            "   macro avg       0.51      0.50      0.43       290\n",
            "weighted avg       0.54      0.60      0.50       290\n",
            "\n"
          ],
          "name": "stdout"
        }
      ]
    },
    {
      "cell_type": "code",
      "metadata": {
        "id": "mulubaY8B0Ri"
      },
      "source": [
        ""
      ],
      "id": "mulubaY8B0Ri",
      "execution_count": null,
      "outputs": []
    }
  ]
}