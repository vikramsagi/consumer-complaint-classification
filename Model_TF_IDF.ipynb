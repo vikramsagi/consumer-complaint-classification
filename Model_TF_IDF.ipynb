{
  "nbformat": 4,
  "nbformat_minor": 5,
  "metadata": {
    "colab": {
      "name": "Model_TF-IDF.ipynb",
      "provenance": [],
      "collapsed_sections": []
    },
    "kernelspec": {
      "display_name": "Python 3",
      "language": "python",
      "name": "python3"
    },
    "language_info": {
      "codemirror_mode": {
        "name": "ipython",
        "version": 3
      },
      "file_extension": ".py",
      "mimetype": "text/x-python",
      "name": "python",
      "nbconvert_exporter": "python",
      "pygments_lexer": "ipython3",
      "version": "3.8.5"
    }
  },
  "cells": [
    {
      "cell_type": "code",
      "metadata": {
        "id": "NcTIAR6oI0cg"
      },
      "source": [
        "#CSV Details:\n",
        "\n",
        "#it has just product as \"bank_account_or_service\""
      ],
      "id": "NcTIAR6oI0cg",
      "execution_count": 210,
      "outputs": []
    },
    {
      "cell_type": "code",
      "metadata": {
        "id": "Arve7l4wI0cj"
      },
      "source": [
        "##for better understanding, we have considered just 'Bank account or service', as of now"
      ],
      "id": "Arve7l4wI0cj",
      "execution_count": 211,
      "outputs": []
    },
    {
      "cell_type": "code",
      "metadata": {
        "id": "X6uoo2PuI0ck"
      },
      "source": [
        "#predict the issue based on consumer complaint narrative"
      ],
      "id": "X6uoo2PuI0ck",
      "execution_count": 212,
      "outputs": []
    },
    {
      "cell_type": "code",
      "metadata": {
        "id": "0UAGOfhZDTtm"
      },
      "source": [
        "#where issue related to 'Account opening, closing, or management' are considered to be 1 and rest ( 'Deposits and withdrawals','Using a debit or ATM card',\n",
        "#'Problems caused by my funds being low',\n",
        "#'Making/receiving payments, sending money') as 0"
      ],
      "id": "0UAGOfhZDTtm",
      "execution_count": 213,
      "outputs": []
    },
    {
      "cell_type": "code",
      "metadata": {
        "id": "gd-tbyLOD_uN"
      },
      "source": [
        "#Building a Model to predict the \"issue\"- either 1 or 0 based on \"Consumer Complaint Narrative\""
      ],
      "id": "gd-tbyLOD_uN",
      "execution_count": 214,
      "outputs": []
    },
    {
      "cell_type": "code",
      "metadata": {
        "id": "VuCkfG3C0-F4"
      },
      "source": [
        "#Libraries\n",
        "import pandas as pd\n",
        "import numpy as np\n",
        "import string\n",
        "import nltk\n",
        "from nltk.tokenize import word_tokenize\n",
        "from sklearn.model_selection import train_test_split\n",
        "from sklearn.neighbors import KNeighborsClassifier\n",
        "from sklearn import metrics\n",
        "from sklearn.metrics import classification_report, accuracy_score, f1_score, recall_score, precision_score\n",
        "import warnings\n",
        "warnings.filterwarnings(\"ignore\")\n",
        "from sklearn.model_selection import GridSearchCV\n",
        "from sklearn.tree import DecisionTreeClassifier\n",
        "from sklearn.ensemble import RandomForestClassifier"
      ],
      "id": "VuCkfG3C0-F4",
      "execution_count": 337,
      "outputs": []
    },
    {
      "cell_type": "code",
      "metadata": {
        "colab": {
          "base_uri": "https://localhost:8080/"
        },
        "id": "Gr2gHHF32Bti",
        "outputId": "d144567b-aa1c-4c67-a479-183d98af5c99"
      },
      "source": [
        "nltk.download('stopwords')\n",
        "nltk.download('punkt')"
      ],
      "id": "Gr2gHHF32Bti",
      "execution_count": 216,
      "outputs": [
        {
          "output_type": "stream",
          "text": [
            "[nltk_data] Downloading package stopwords to /root/nltk_data...\n",
            "[nltk_data]   Package stopwords is already up-to-date!\n",
            "[nltk_data] Downloading package punkt to /root/nltk_data...\n",
            "[nltk_data]   Package punkt is already up-to-date!\n"
          ],
          "name": "stdout"
        },
        {
          "output_type": "execute_result",
          "data": {
            "text/plain": [
              "True"
            ]
          },
          "metadata": {},
          "execution_count": 216
        }
      ]
    },
    {
      "cell_type": "code",
      "metadata": {
        "id": "nrYKQ-ZeASyS"
      },
      "source": [
        "stopword = nltk.corpus.stopwords.words('english')"
      ],
      "id": "nrYKQ-ZeASyS",
      "execution_count": 217,
      "outputs": []
    },
    {
      "cell_type": "code",
      "metadata": {
        "id": "Wahrn3JJ4k09"
      },
      "source": [
        "#Functions used :\n",
        "#Label Encoding\n",
        "#Punctuation Removal\n",
        "#Number Removal\n",
        "#Tokenizing\n",
        "#Lower Case Conversion\n",
        "#Stop words\n",
        "#Token Concatenation"
      ],
      "id": "Wahrn3JJ4k09",
      "execution_count": 218,
      "outputs": []
    },
    {
      "cell_type": "code",
      "metadata": {
        "id": "iXSH82454lB_"
      },
      "source": [
        "#Label Encoding "
      ],
      "id": "iXSH82454lB_",
      "execution_count": 219,
      "outputs": []
    },
    {
      "cell_type": "code",
      "metadata": {
        "id": "rc1vGEzaI0cx"
      },
      "source": [
        "def label_encoding(i):\n",
        "    if i == 'Account opening, closing, or management':\n",
        "        return 1\n",
        "    else :\n",
        "        return 0"
      ],
      "id": "rc1vGEzaI0cx",
      "execution_count": 220,
      "outputs": []
    },
    {
      "cell_type": "code",
      "metadata": {
        "id": "1-O3-1xD51dA"
      },
      "source": [
        "#Punctuation Removal"
      ],
      "id": "1-O3-1xD51dA",
      "execution_count": 221,
      "outputs": []
    },
    {
      "cell_type": "code",
      "metadata": {
        "id": "ugC1A73zI0cy"
      },
      "source": [
        "def remove_punctuation(text):\n",
        "    words = [word for word in text if word not in string.punctuation]\n",
        "    text = ''.join(words)\n",
        "    return text"
      ],
      "id": "ugC1A73zI0cy",
      "execution_count": 222,
      "outputs": []
    },
    {
      "cell_type": "code",
      "metadata": {
        "id": "aDh9d-at6Mzt"
      },
      "source": [
        "#Number Removal"
      ],
      "id": "aDh9d-at6Mzt",
      "execution_count": 223,
      "outputs": []
    },
    {
      "cell_type": "code",
      "metadata": {
        "id": "pE5jDrsfI0cy"
      },
      "source": [
        "def remove_numbers(text):\n",
        "    words = [word for word in text if not word.isdigit()]\n",
        "    text = ''.join(words)\n",
        "    return text"
      ],
      "id": "pE5jDrsfI0cy",
      "execution_count": 224,
      "outputs": []
    },
    {
      "cell_type": "code",
      "metadata": {
        "id": "FruhkWsk4lHw"
      },
      "source": [
        "#Lower Case Conversion"
      ],
      "id": "FruhkWsk4lHw",
      "execution_count": 225,
      "outputs": []
    },
    {
      "cell_type": "code",
      "metadata": {
        "id": "kwiItyTgI0cy"
      },
      "source": [
        "def convert_to_lower(tokens):\n",
        "    tokens=[word.lower() for word in tokens]\n",
        "    return tokens"
      ],
      "id": "kwiItyTgI0cy",
      "execution_count": 226,
      "outputs": []
    },
    {
      "cell_type": "code",
      "metadata": {
        "id": "XdTbHhlf67G7"
      },
      "source": [
        "#Stopwords"
      ],
      "id": "XdTbHhlf67G7",
      "execution_count": 227,
      "outputs": []
    },
    {
      "cell_type": "code",
      "metadata": {
        "id": "KvoTqIVjI0cz"
      },
      "source": [
        "def remove_stopwords(tokens):\n",
        "    tokens=[word for word in tokens if word not in stopword]\n",
        "    return tokens\n"
      ],
      "id": "KvoTqIVjI0cz",
      "execution_count": 228,
      "outputs": []
    },
    {
      "cell_type": "code",
      "metadata": {
        "id": "GqBUA5Uw4lOC"
      },
      "source": [
        "#Token Concatenation"
      ],
      "id": "GqBUA5Uw4lOC",
      "execution_count": 229,
      "outputs": []
    },
    {
      "cell_type": "code",
      "metadata": {
        "id": "pg7wegqmP339"
      },
      "source": [
        "def concate_tokens(token):\n",
        "    sentance = ''\n",
        "    for i in token:\n",
        "        sentance = sentance+i+' '\n",
        "    return sentance    "
      ],
      "id": "pg7wegqmP339",
      "execution_count": 230,
      "outputs": []
    },
    {
      "cell_type": "code",
      "metadata": {
        "id": "zakNvyq-I0cl"
      },
      "source": [
        "df = pd.read_csv(\"bank_account_or_service.csv\",index_col=0,error_bad_lines=False)"
      ],
      "id": "zakNvyq-I0cl",
      "execution_count": 232,
      "outputs": []
    },
    {
      "cell_type": "code",
      "metadata": {
        "colab": {
          "base_uri": "https://localhost:8080/"
        },
        "id": "C7NbT6maKcvV",
        "outputId": "981a1c6b-1a6b-4e7f-b06c-bb90a4a25171"
      },
      "source": [
        "df.shape"
      ],
      "id": "C7NbT6maKcvV",
      "execution_count": 233,
      "outputs": [
        {
          "output_type": "execute_result",
          "data": {
            "text/plain": [
              "(5711, 18)"
            ]
          },
          "metadata": {},
          "execution_count": 233
        }
      ]
    },
    {
      "cell_type": "code",
      "metadata": {
        "colab": {
          "base_uri": "https://localhost:8080/"
        },
        "id": "uSGs3I9sI0cl",
        "outputId": "34f6b8b4-13e1-4f3c-a2cf-193411c4aebc"
      },
      "source": [
        "df.columns"
      ],
      "id": "uSGs3I9sI0cl",
      "execution_count": 234,
      "outputs": [
        {
          "output_type": "execute_result",
          "data": {
            "text/plain": [
              "Index(['date_received', 'product', 'sub_product', 'issue', 'sub_issue',\n",
              "       'consumer_complaint_narrative', 'company_public_response', 'company',\n",
              "       'state', 'zipcode', 'tags', 'consumer_consent_provided',\n",
              "       'submitted_via', 'date_sent_to_company', 'company_response_to_consumer',\n",
              "       'timely_response', 'consumer_disputed?', 'complaint_id'],\n",
              "      dtype='object')"
            ]
          },
          "metadata": {},
          "execution_count": 234
        }
      ]
    },
    {
      "cell_type": "code",
      "metadata": {
        "id": "dMKrAUVfI0cm"
      },
      "source": [
        "pd.set_option(\"display.max_colwidth\", None)"
      ],
      "id": "dMKrAUVfI0cm",
      "execution_count": 235,
      "outputs": []
    },
    {
      "cell_type": "code",
      "metadata": {
        "colab": {
          "base_uri": "https://localhost:8080/"
        },
        "id": "9LYY1AHUI0co",
        "outputId": "fd60836a-9ce3-4f63-f68e-a3f3178a31dd"
      },
      "source": [
        "df.issue.unique()"
      ],
      "id": "9LYY1AHUI0co",
      "execution_count": 236,
      "outputs": [
        {
          "output_type": "execute_result",
          "data": {
            "text/plain": [
              "array(['Deposits and withdrawals',\n",
              "       'Account opening, closing, or management',\n",
              "       'Using a debit or ATM card',\n",
              "       'Problems caused by my funds being low',\n",
              "       'Making/receiving payments, sending money'], dtype=object)"
            ]
          },
          "metadata": {},
          "execution_count": 236
        }
      ]
    },
    {
      "cell_type": "code",
      "metadata": {
        "id": "KseC768O3gut"
      },
      "source": [
        "df_new1 = df[[\"issue\",\"consumer_complaint_narrative\"]]"
      ],
      "id": "KseC768O3gut",
      "execution_count": 237,
      "outputs": []
    },
    {
      "cell_type": "code",
      "metadata": {
        "id": "dcNq09KFI0cx"
      },
      "source": [
        "df_new1['consumer_complaint_narrative'] =  df.consumer_complaint_narrative.apply(lambda i : str(i) )"
      ],
      "id": "dcNq09KFI0cx",
      "execution_count": 238,
      "outputs": []
    },
    {
      "cell_type": "code",
      "metadata": {
        "colab": {
          "base_uri": "https://localhost:8080/"
        },
        "id": "8bJjD_9cI0cx",
        "outputId": "ec4eda00-6ed8-4609-89bf-f17dfec8a325"
      },
      "source": [
        "df_new1.info()"
      ],
      "id": "8bJjD_9cI0cx",
      "execution_count": 239,
      "outputs": [
        {
          "output_type": "stream",
          "text": [
            "<class 'pandas.core.frame.DataFrame'>\n",
            "Int64Index: 5711 entries, 192044 to 553037\n",
            "Data columns (total 2 columns):\n",
            " #   Column                        Non-Null Count  Dtype \n",
            "---  ------                        --------------  ----- \n",
            " 0   issue                         5711 non-null   object\n",
            " 1   consumer_complaint_narrative  5711 non-null   object\n",
            "dtypes: object(2)\n",
            "memory usage: 133.9+ KB\n"
          ],
          "name": "stdout"
        }
      ]
    },
    {
      "cell_type": "code",
      "metadata": {
        "colab": {
          "base_uri": "https://localhost:8080/"
        },
        "id": "3Y5rxbEU98nu",
        "outputId": "cc9e517e-b1b4-49f4-d8c1-5866024c5733"
      },
      "source": [
        "df_new1.info()"
      ],
      "id": "3Y5rxbEU98nu",
      "execution_count": 240,
      "outputs": [
        {
          "output_type": "stream",
          "text": [
            "<class 'pandas.core.frame.DataFrame'>\n",
            "Int64Index: 5711 entries, 192044 to 553037\n",
            "Data columns (total 2 columns):\n",
            " #   Column                        Non-Null Count  Dtype \n",
            "---  ------                        --------------  ----- \n",
            " 0   issue                         5711 non-null   object\n",
            " 1   consumer_complaint_narrative  5711 non-null   object\n",
            "dtypes: object(2)\n",
            "memory usage: 133.9+ KB\n"
          ],
          "name": "stdout"
        }
      ]
    },
    {
      "cell_type": "code",
      "metadata": {
        "id": "HUTwRqPxI0cx"
      },
      "source": [
        "df_new1['target'] = df_new1['issue'].map(label_encoding)"
      ],
      "id": "HUTwRqPxI0cx",
      "execution_count": 241,
      "outputs": []
    },
    {
      "cell_type": "code",
      "metadata": {
        "colab": {
          "base_uri": "https://localhost:8080/"
        },
        "id": "PlqPMEmKI0cx",
        "outputId": "9214544f-6286-4ff3-82ce-fb0229258d2a"
      },
      "source": [
        "df_new1.target.value_counts()"
      ],
      "id": "PlqPMEmKI0cx",
      "execution_count": 242,
      "outputs": [
        {
          "output_type": "execute_result",
          "data": {
            "text/plain": [
              "0    3483\n",
              "1    2228\n",
              "Name: target, dtype: int64"
            ]
          },
          "metadata": {},
          "execution_count": 242
        }
      ]
    },
    {
      "cell_type": "code",
      "metadata": {
        "colab": {
          "base_uri": "https://localhost:8080/"
        },
        "id": "32Hjz-QfI0cx",
        "outputId": "eeffac68-8866-44df-c79e-3a0052006ab7"
      },
      "source": [
        "df_new1[df_new1.issue == 'Deposits and withdrawals'].shape"
      ],
      "id": "32Hjz-QfI0cx",
      "execution_count": 243,
      "outputs": [
        {
          "output_type": "execute_result",
          "data": {
            "text/plain": [
              "(1401, 3)"
            ]
          },
          "metadata": {},
          "execution_count": 243
        }
      ]
    },
    {
      "cell_type": "code",
      "metadata": {
        "id": "gPbG_iwx8YFl"
      },
      "source": [
        "df_new1['narrative_wo_punct'] = df_new1['consumer_complaint_narrative'].map(remove_punctuation)"
      ],
      "id": "gPbG_iwx8YFl",
      "execution_count": 244,
      "outputs": []
    },
    {
      "cell_type": "code",
      "metadata": {
        "colab": {
          "base_uri": "https://localhost:8080/"
        },
        "id": "GMExnfLQ9u_M",
        "outputId": "4c2825a8-c0a0-492f-b2e6-9d4936736cc6"
      },
      "source": [
        "df_new1['narrative_wo_punct'].head(1)"
      ],
      "id": "GMExnfLQ9u_M",
      "execution_count": 245,
      "outputs": [
        {
          "output_type": "execute_result",
          "data": {
            "text/plain": [
              "192044    I opened an account with M  T bank online on XXXXXXXX15 and immediately funded it with an automated transfer of 50000 A little over a week later I got a letter requesting that I fax in a copy of my DL Social and utility bill for address verification which I did on XXXXXXXX15 Fast forward to today XXXXXXXX15 and I have not heard anything back so I called M  T bank to find out the status and I was told that they still have not reviewed it and my 50000 was on hold I demanded that my account get shut down and my 50000 returned but I was told that could not happen until they reviewed my information that was faxed and released the hold on my account I asked how long that would take and I was told it would take as long as they want which would render my 50000 hostage until they got around to figuring stuff out \\n\n",
              "Name: narrative_wo_punct, dtype: object"
            ]
          },
          "metadata": {},
          "execution_count": 245
        }
      ]
    },
    {
      "cell_type": "code",
      "metadata": {
        "id": "NCDfWJTU-fef"
      },
      "source": [
        "df_new1['narrative_wo_numbers'] = df_new1['narrative_wo_punct'].map(remove_numbers)"
      ],
      "id": "NCDfWJTU-fef",
      "execution_count": 246,
      "outputs": []
    },
    {
      "cell_type": "code",
      "metadata": {
        "colab": {
          "base_uri": "https://localhost:8080/"
        },
        "id": "mvKF6aA7-xW0",
        "outputId": "5454b849-4471-485c-9cd0-a63deab25dea"
      },
      "source": [
        "df_new1['narrative_wo_numbers'].head(1)"
      ],
      "id": "mvKF6aA7-xW0",
      "execution_count": 247,
      "outputs": [
        {
          "output_type": "execute_result",
          "data": {
            "text/plain": [
              "192044    I opened an account with M  T bank online on XXXXXXXX and immediately funded it with an automated transfer of  A little over a week later I got a letter requesting that I fax in a copy of my DL Social and utility bill for address verification which I did on XXXXXXXX Fast forward to today XXXXXXXX and I have not heard anything back so I called M  T bank to find out the status and I was told that they still have not reviewed it and my  was on hold I demanded that my account get shut down and my  returned but I was told that could not happen until they reviewed my information that was faxed and released the hold on my account I asked how long that would take and I was told it would take as long as they want which would render my  hostage until they got around to figuring stuff out \\n\n",
              "Name: narrative_wo_numbers, dtype: object"
            ]
          },
          "metadata": {},
          "execution_count": 247
        }
      ]
    },
    {
      "cell_type": "code",
      "metadata": {
        "id": "Uqkr6QaLI0cy"
      },
      "source": [
        "df_new1['tokens'] = df_new1['narrative_wo_numbers'].map(word_tokenize)\n"
      ],
      "id": "Uqkr6QaLI0cy",
      "execution_count": 248,
      "outputs": []
    },
    {
      "cell_type": "code",
      "metadata": {
        "colab": {
          "base_uri": "https://localhost:8080/"
        },
        "id": "WOWHSwtbN6fu",
        "outputId": "bb86d042-a572-4639-c2bc-d1c6a3740f3d"
      },
      "source": [
        "df_new1['tokens'].head(1)"
      ],
      "id": "WOWHSwtbN6fu",
      "execution_count": 249,
      "outputs": [
        {
          "output_type": "execute_result",
          "data": {
            "text/plain": [
              "192044    [I, opened, an, account, with, M, T, bank, online, on, XXXXXXXX, and, immediately, funded, it, with, an, automated, transfer, of, A, little, over, a, week, later, I, got, a, letter, requesting, that, I, fax, in, a, copy, of, my, DL, Social, and, utility, bill, for, address, verification, which, I, did, on, XXXXXXXX, Fast, forward, to, today, XXXXXXXX, and, I, have, not, heard, anything, back, so, I, called, M, T, bank, to, find, out, the, status, and, I, was, told, that, they, still, have, not, reviewed, it, and, my, was, on, hold, I, demanded, that, my, account, get, shut, down, and, ...]\n",
              "Name: tokens, dtype: object"
            ]
          },
          "metadata": {},
          "execution_count": 249
        }
      ]
    },
    {
      "cell_type": "code",
      "metadata": {
        "id": "7vKk4yCoN8i-"
      },
      "source": [
        "df_new1['tokens_to_lower'] = df_new1['tokens'].map(convert_to_lower)"
      ],
      "id": "7vKk4yCoN8i-",
      "execution_count": 250,
      "outputs": []
    },
    {
      "cell_type": "code",
      "metadata": {
        "colab": {
          "base_uri": "https://localhost:8080/"
        },
        "id": "8x947p-0_VL1",
        "outputId": "5e5f13ff-57a1-436d-bbac-7433adb0e236"
      },
      "source": [
        "df_new1['tokens_to_lower'].head(1)"
      ],
      "id": "8x947p-0_VL1",
      "execution_count": 251,
      "outputs": [
        {
          "output_type": "execute_result",
          "data": {
            "text/plain": [
              "192044    [i, opened, an, account, with, m, t, bank, online, on, xxxxxxxx, and, immediately, funded, it, with, an, automated, transfer, of, a, little, over, a, week, later, i, got, a, letter, requesting, that, i, fax, in, a, copy, of, my, dl, social, and, utility, bill, for, address, verification, which, i, did, on, xxxxxxxx, fast, forward, to, today, xxxxxxxx, and, i, have, not, heard, anything, back, so, i, called, m, t, bank, to, find, out, the, status, and, i, was, told, that, they, still, have, not, reviewed, it, and, my, was, on, hold, i, demanded, that, my, account, get, shut, down, and, ...]\n",
              "Name: tokens_to_lower, dtype: object"
            ]
          },
          "metadata": {},
          "execution_count": 251
        }
      ]
    },
    {
      "cell_type": "code",
      "metadata": {
        "id": "K8xAu0JJI0cz"
      },
      "source": [
        "df_new1['wo_stopwords'] = df_new1['tokens_to_lower'].map(remove_stopwords)"
      ],
      "id": "K8xAu0JJI0cz",
      "execution_count": 252,
      "outputs": []
    },
    {
      "cell_type": "code",
      "metadata": {
        "colab": {
          "base_uri": "https://localhost:8080/"
        },
        "id": "7GNOtH2XI0cz",
        "outputId": "71d3bb1e-2967-4ee2-9e4f-c13557dfd62f"
      },
      "source": [
        "df_new1.wo_stopwords.head(1)"
      ],
      "id": "7GNOtH2XI0cz",
      "execution_count": 253,
      "outputs": [
        {
          "output_type": "execute_result",
          "data": {
            "text/plain": [
              "192044    [opened, account, bank, online, xxxxxxxx, immediately, funded, automated, transfer, little, week, later, got, letter, requesting, fax, copy, dl, social, utility, bill, address, verification, xxxxxxxx, fast, forward, today, xxxxxxxx, heard, anything, back, called, bank, find, status, told, still, reviewed, hold, demanded, account, get, shut, returned, told, could, happen, reviewed, information, faxed, released, hold, account, asked, long, would, take, told, would, take, long, want, would, render, hostage, got, around, figuring, stuff]\n",
              "Name: wo_stopwords, dtype: object"
            ]
          },
          "metadata": {},
          "execution_count": 253
        }
      ]
    },
    {
      "cell_type": "code",
      "metadata": {
        "id": "iHg-qCCyP-8t"
      },
      "source": [
        "df_new1['final_text'] = df_new1['wo_stopwords'].map(concate_tokens)"
      ],
      "id": "iHg-qCCyP-8t",
      "execution_count": 254,
      "outputs": []
    },
    {
      "cell_type": "code",
      "metadata": {
        "colab": {
          "base_uri": "https://localhost:8080/"
        },
        "id": "nQCxk6jXQFhi",
        "outputId": "f5a95fd1-842e-4aca-f8c9-a87fd436fc41"
      },
      "source": [
        "df_new1.final_text.head(1)\n"
      ],
      "id": "nQCxk6jXQFhi",
      "execution_count": 255,
      "outputs": [
        {
          "output_type": "execute_result",
          "data": {
            "text/plain": [
              "192044    opened account bank online xxxxxxxx immediately funded automated transfer little week later got letter requesting fax copy dl social utility bill address verification xxxxxxxx fast forward today xxxxxxxx heard anything back called bank find status told still reviewed hold demanded account get shut returned told could happen reviewed information faxed released hold account asked long would take told would take long want would render hostage got around figuring stuff \n",
              "Name: final_text, dtype: object"
            ]
          },
          "metadata": {},
          "execution_count": 255
        }
      ]
    },
    {
      "cell_type": "code",
      "metadata": {
        "id": "xsaa-bieAsps"
      },
      "source": [
        "#Independent and Target Variables"
      ],
      "id": "xsaa-bieAsps",
      "execution_count": 256,
      "outputs": []
    },
    {
      "cell_type": "code",
      "metadata": {
        "id": "YJBw3KfjSbPl"
      },
      "source": [
        "features_var = df_new1.final_text\n",
        "target_var = df_new1.target"
      ],
      "id": "YJBw3KfjSbPl",
      "execution_count": 257,
      "outputs": []
    },
    {
      "cell_type": "code",
      "metadata": {
        "id": "YKghIEdUQhWh"
      },
      "source": [
        "xtrain, xtest, ytrain, ytest = train_test_split(features_var,target_var, test_size=.2,random_state=100)"
      ],
      "id": "YKghIEdUQhWh",
      "execution_count": 258,
      "outputs": []
    },
    {
      "cell_type": "code",
      "metadata": {
        "colab": {
          "base_uri": "https://localhost:8080/"
        },
        "id": "PFMEQSf-BOLf",
        "outputId": "e84434f4-e733-4370-c0ab-248f419031df"
      },
      "source": [
        "xtrain.shape, xtest.shape, ytrain.shape, ytest.shape"
      ],
      "id": "PFMEQSf-BOLf",
      "execution_count": 259,
      "outputs": [
        {
          "output_type": "execute_result",
          "data": {
            "text/plain": [
              "((4568,), (1143,), (4568,), (1143,))"
            ]
          },
          "metadata": {},
          "execution_count": 259
        }
      ]
    },
    {
      "cell_type": "markdown",
      "metadata": {
        "id": "6mrQuSomQj1B"
      },
      "source": [
        "# Tfidf Vectorizer"
      ],
      "id": "6mrQuSomQj1B"
    },
    {
      "cell_type": "code",
      "metadata": {
        "id": "e-HUNUHsMMYC"
      },
      "source": [
        "x = df_new1.final_text\n",
        "y = df_new1.target"
      ],
      "id": "e-HUNUHsMMYC",
      "execution_count": 291,
      "outputs": []
    },
    {
      "cell_type": "code",
      "metadata": {
        "id": "VSoa7_3FQj1B"
      },
      "source": [
        "from sklearn.feature_extraction.text import TfidfVectorizer\n",
        "tf=TfidfVectorizer()\n",
        "xtrain,xtest,ytrain,ytest=train_test_split(x,y,test_size=0.2,random_state=100)\n",
        "tf.fit(xtrain)\n",
        "train_dtm=tf.transform(xtrain)\n",
        "test_dtm=tf.transform(xtest)"
      ],
      "id": "VSoa7_3FQj1B",
      "execution_count": 292,
      "outputs": []
    },
    {
      "cell_type": "code",
      "metadata": {
        "colab": {
          "base_uri": "https://localhost:8080/"
        },
        "id": "lnjk7dtDQj1B",
        "outputId": "44c4edf5-f340-434e-ec25-f5ee8066134d"
      },
      "source": [
        "#using  KnearestNeighbor\n",
        "\n",
        "knn=KNeighborsClassifier(n_neighbors=5)\n",
        "knn.fit(train_dtm,ytrain)\n",
        "ypred_wo_tuning=knn.predict(test_dtm)\n",
        "\n",
        "# score report\n",
        "print(classification_report(ytest,ypred_wo_tuning))"
      ],
      "id": "lnjk7dtDQj1B",
      "execution_count": 293,
      "outputs": [
        {
          "output_type": "stream",
          "text": [
            "              precision    recall  f1-score   support\n",
            "\n",
            "           0       0.76      0.80      0.78       717\n",
            "           1       0.64      0.58      0.61       426\n",
            "\n",
            "    accuracy                           0.72      1143\n",
            "   macro avg       0.70      0.69      0.70      1143\n",
            "weighted avg       0.72      0.72      0.72      1143\n",
            "\n"
          ],
          "name": "stdout"
        }
      ]
    },
    {
      "cell_type": "code",
      "metadata": {
        "colab": {
          "base_uri": "https://localhost:8080/"
        },
        "id": "qFNoTqVcQj1B",
        "outputId": "bd0f1fb9-bfb5-4aa2-e720-d1747aa1d40e"
      },
      "source": [
        "# hyper-parameter tuning\n",
        "tuned_paramaters = {'n_neighbors': np.arange(1, 25, 2),\n",
        "                   'metric': ['hamming','euclidean','manhattan','Chebyshev'],\n",
        "                    \"weights\":[\"uniform\", \"distance\"]}\n",
        "knn= KNeighborsClassifier()\n",
        "knn_grid = GridSearchCV(estimator = knn, \n",
        "                        param_grid = tuned_paramaters, \n",
        "                        cv = 5, \n",
        "                        scoring = 'accuracy',verbose=2)\n",
        "\n",
        "# fit the model on X_train and y_train using fit()\n",
        "knn_grid.fit(train_dtm, ytrain)"
      ],
      "id": "qFNoTqVcQj1B",
      "execution_count": 310,
      "outputs": [
        {
          "output_type": "stream",
          "text": [
            "Fitting 5 folds for each of 96 candidates, totalling 480 fits\n",
            "[CV] metric=hamming, n_neighbors=1, weights=uniform ..................\n",
            "[CV] ... metric=hamming, n_neighbors=1, weights=uniform, total=   0.0s\n",
            "[CV] metric=hamming, n_neighbors=1, weights=uniform ..................\n",
            "[CV] ... metric=hamming, n_neighbors=1, weights=uniform, total=   0.0s\n",
            "[CV] metric=hamming, n_neighbors=1, weights=uniform ..................\n",
            "[CV] ... metric=hamming, n_neighbors=1, weights=uniform, total=   0.0s\n",
            "[CV] metric=hamming, n_neighbors=1, weights=uniform ..................\n",
            "[CV] ... metric=hamming, n_neighbors=1, weights=uniform, total=   0.0s\n",
            "[CV] metric=hamming, n_neighbors=1, weights=uniform ..................\n",
            "[CV] ... metric=hamming, n_neighbors=1, weights=uniform, total=   0.0s\n",
            "[CV] metric=hamming, n_neighbors=1, weights=distance .................\n",
            "[CV] .. metric=hamming, n_neighbors=1, weights=distance, total=   0.0s\n",
            "[CV] metric=hamming, n_neighbors=1, weights=distance .................\n",
            "[CV] .. metric=hamming, n_neighbors=1, weights=distance, total=   0.0s\n",
            "[CV] metric=hamming, n_neighbors=1, weights=distance .................\n",
            "[CV] .. metric=hamming, n_neighbors=1, weights=distance, total=   0.0s\n",
            "[CV] metric=hamming, n_neighbors=1, weights=distance .................\n",
            "[CV] .. metric=hamming, n_neighbors=1, weights=distance, total=   0.0s\n",
            "[CV] metric=hamming, n_neighbors=1, weights=distance .................\n",
            "[CV] .. metric=hamming, n_neighbors=1, weights=distance, total=   0.0s\n",
            "[CV] metric=hamming, n_neighbors=3, weights=uniform ..................\n",
            "[CV] ... metric=hamming, n_neighbors=3, weights=uniform, total=   0.0s\n",
            "[CV] metric=hamming, n_neighbors=3, weights=uniform ..................\n",
            "[CV] ... metric=hamming, n_neighbors=3, weights=uniform, total=   0.0s\n",
            "[CV] metric=hamming, n_neighbors=3, weights=uniform ..................\n",
            "[CV] ... metric=hamming, n_neighbors=3, weights=uniform, total=   0.0s\n",
            "[CV] metric=hamming, n_neighbors=3, weights=uniform ..................\n",
            "[CV] ... metric=hamming, n_neighbors=3, weights=uniform, total=   0.0s\n",
            "[CV] metric=hamming, n_neighbors=3, weights=uniform ..................\n",
            "[CV] ... metric=hamming, n_neighbors=3, weights=uniform, total=   0.0s\n",
            "[CV] metric=hamming, n_neighbors=3, weights=distance .................\n",
            "[CV] .. metric=hamming, n_neighbors=3, weights=distance, total=   0.0s\n",
            "[CV] metric=hamming, n_neighbors=3, weights=distance .................\n",
            "[CV] .. metric=hamming, n_neighbors=3, weights=distance, total=   0.0s\n",
            "[CV] metric=hamming, n_neighbors=3, weights=distance .................\n",
            "[CV] .. metric=hamming, n_neighbors=3, weights=distance, total=   0.0s\n",
            "[CV] metric=hamming, n_neighbors=3, weights=distance .................\n",
            "[CV] .. metric=hamming, n_neighbors=3, weights=distance, total=   0.0s\n",
            "[CV] metric=hamming, n_neighbors=3, weights=distance .................\n",
            "[CV] .. metric=hamming, n_neighbors=3, weights=distance, total=   0.0s\n",
            "[CV] metric=hamming, n_neighbors=5, weights=uniform ..................\n",
            "[CV] ... metric=hamming, n_neighbors=5, weights=uniform, total=   0.0s\n",
            "[CV] metric=hamming, n_neighbors=5, weights=uniform ..................\n",
            "[CV] ... metric=hamming, n_neighbors=5, weights=uniform, total=   0.0s\n",
            "[CV] metric=hamming, n_neighbors=5, weights=uniform ..................\n",
            "[CV] ... metric=hamming, n_neighbors=5, weights=uniform, total=   0.0s\n",
            "[CV] metric=hamming, n_neighbors=5, weights=uniform ..................\n",
            "[CV] ... metric=hamming, n_neighbors=5, weights=uniform, total=   0.0s\n",
            "[CV] metric=hamming, n_neighbors=5, weights=uniform ..................\n",
            "[CV] ... metric=hamming, n_neighbors=5, weights=uniform, total=   0.0s\n",
            "[CV] metric=hamming, n_neighbors=5, weights=distance .................\n",
            "[CV] .. metric=hamming, n_neighbors=5, weights=distance, total=   0.0s\n",
            "[CV] metric=hamming, n_neighbors=5, weights=distance .................\n",
            "[CV] .. metric=hamming, n_neighbors=5, weights=distance, total=   0.0s\n",
            "[CV] metric=hamming, n_neighbors=5, weights=distance .................\n",
            "[CV] .. metric=hamming, n_neighbors=5, weights=distance, total=   0.0s\n",
            "[CV] metric=hamming, n_neighbors=5, weights=distance .................\n",
            "[CV] .. metric=hamming, n_neighbors=5, weights=distance, total=   0.0s\n",
            "[CV] metric=hamming, n_neighbors=5, weights=distance .................\n",
            "[CV] .. metric=hamming, n_neighbors=5, weights=distance, total=   0.0s\n",
            "[CV] metric=hamming, n_neighbors=7, weights=uniform ..................\n",
            "[CV] ... metric=hamming, n_neighbors=7, weights=uniform, total=   0.0s\n",
            "[CV] metric=hamming, n_neighbors=7, weights=uniform ..................\n",
            "[CV] ... metric=hamming, n_neighbors=7, weights=uniform, total=   0.0s\n",
            "[CV] metric=hamming, n_neighbors=7, weights=uniform ..................\n",
            "[CV] ... metric=hamming, n_neighbors=7, weights=uniform, total=   0.0s\n",
            "[CV] metric=hamming, n_neighbors=7, weights=uniform ..................\n",
            "[CV] ... metric=hamming, n_neighbors=7, weights=uniform, total=   0.0s\n",
            "[CV] metric=hamming, n_neighbors=7, weights=uniform ..................\n",
            "[CV] ... metric=hamming, n_neighbors=7, weights=uniform, total=   0.0s\n",
            "[CV] metric=hamming, n_neighbors=7, weights=distance .................\n"
          ],
          "name": "stdout"
        },
        {
          "output_type": "stream",
          "text": [
            "[Parallel(n_jobs=1)]: Using backend SequentialBackend with 1 concurrent workers.\n",
            "[Parallel(n_jobs=1)]: Done   1 out of   1 | elapsed:    0.0s remaining:    0.0s\n"
          ],
          "name": "stderr"
        },
        {
          "output_type": "stream",
          "text": [
            "[CV] .. metric=hamming, n_neighbors=7, weights=distance, total=   0.0s\n",
            "[CV] metric=hamming, n_neighbors=7, weights=distance .................\n",
            "[CV] .. metric=hamming, n_neighbors=7, weights=distance, total=   0.0s\n",
            "[CV] metric=hamming, n_neighbors=7, weights=distance .................\n",
            "[CV] .. metric=hamming, n_neighbors=7, weights=distance, total=   0.0s\n",
            "[CV] metric=hamming, n_neighbors=7, weights=distance .................\n",
            "[CV] .. metric=hamming, n_neighbors=7, weights=distance, total=   0.0s\n",
            "[CV] metric=hamming, n_neighbors=7, weights=distance .................\n",
            "[CV] .. metric=hamming, n_neighbors=7, weights=distance, total=   0.0s\n",
            "[CV] metric=hamming, n_neighbors=9, weights=uniform ..................\n",
            "[CV] ... metric=hamming, n_neighbors=9, weights=uniform, total=   0.0s\n",
            "[CV] metric=hamming, n_neighbors=9, weights=uniform ..................\n",
            "[CV] ... metric=hamming, n_neighbors=9, weights=uniform, total=   0.0s\n",
            "[CV] metric=hamming, n_neighbors=9, weights=uniform ..................\n",
            "[CV] ... metric=hamming, n_neighbors=9, weights=uniform, total=   0.0s\n",
            "[CV] metric=hamming, n_neighbors=9, weights=uniform ..................\n",
            "[CV] ... metric=hamming, n_neighbors=9, weights=uniform, total=   0.0s\n",
            "[CV] metric=hamming, n_neighbors=9, weights=uniform ..................\n",
            "[CV] ... metric=hamming, n_neighbors=9, weights=uniform, total=   0.0s\n",
            "[CV] metric=hamming, n_neighbors=9, weights=distance .................\n",
            "[CV] .. metric=hamming, n_neighbors=9, weights=distance, total=   0.0s\n",
            "[CV] metric=hamming, n_neighbors=9, weights=distance .................\n",
            "[CV] .. metric=hamming, n_neighbors=9, weights=distance, total=   0.0s\n",
            "[CV] metric=hamming, n_neighbors=9, weights=distance .................\n",
            "[CV] .. metric=hamming, n_neighbors=9, weights=distance, total=   0.0s\n",
            "[CV] metric=hamming, n_neighbors=9, weights=distance .................\n",
            "[CV] .. metric=hamming, n_neighbors=9, weights=distance, total=   0.0s\n",
            "[CV] metric=hamming, n_neighbors=9, weights=distance .................\n",
            "[CV] .. metric=hamming, n_neighbors=9, weights=distance, total=   0.0s\n",
            "[CV] metric=hamming, n_neighbors=11, weights=uniform .................\n",
            "[CV] .. metric=hamming, n_neighbors=11, weights=uniform, total=   0.0s\n",
            "[CV] metric=hamming, n_neighbors=11, weights=uniform .................\n",
            "[CV] .. metric=hamming, n_neighbors=11, weights=uniform, total=   0.0s\n",
            "[CV] metric=hamming, n_neighbors=11, weights=uniform .................\n",
            "[CV] .. metric=hamming, n_neighbors=11, weights=uniform, total=   0.0s\n",
            "[CV] metric=hamming, n_neighbors=11, weights=uniform .................\n",
            "[CV] .. metric=hamming, n_neighbors=11, weights=uniform, total=   0.0s\n",
            "[CV] metric=hamming, n_neighbors=11, weights=uniform .................\n",
            "[CV] .. metric=hamming, n_neighbors=11, weights=uniform, total=   0.0s\n",
            "[CV] metric=hamming, n_neighbors=11, weights=distance ................\n",
            "[CV] . metric=hamming, n_neighbors=11, weights=distance, total=   0.0s\n",
            "[CV] metric=hamming, n_neighbors=11, weights=distance ................\n",
            "[CV] . metric=hamming, n_neighbors=11, weights=distance, total=   0.0s\n",
            "[CV] metric=hamming, n_neighbors=11, weights=distance ................\n",
            "[CV] . metric=hamming, n_neighbors=11, weights=distance, total=   0.0s\n",
            "[CV] metric=hamming, n_neighbors=11, weights=distance ................\n",
            "[CV] . metric=hamming, n_neighbors=11, weights=distance, total=   0.0s\n",
            "[CV] metric=hamming, n_neighbors=11, weights=distance ................\n",
            "[CV] . metric=hamming, n_neighbors=11, weights=distance, total=   0.0s\n",
            "[CV] metric=hamming, n_neighbors=13, weights=uniform .................\n",
            "[CV] .. metric=hamming, n_neighbors=13, weights=uniform, total=   0.0s\n",
            "[CV] metric=hamming, n_neighbors=13, weights=uniform .................\n",
            "[CV] .. metric=hamming, n_neighbors=13, weights=uniform, total=   0.0s\n",
            "[CV] metric=hamming, n_neighbors=13, weights=uniform .................\n",
            "[CV] .. metric=hamming, n_neighbors=13, weights=uniform, total=   0.0s\n",
            "[CV] metric=hamming, n_neighbors=13, weights=uniform .................\n",
            "[CV] .. metric=hamming, n_neighbors=13, weights=uniform, total=   0.0s\n",
            "[CV] metric=hamming, n_neighbors=13, weights=uniform .................\n",
            "[CV] .. metric=hamming, n_neighbors=13, weights=uniform, total=   0.0s\n",
            "[CV] metric=hamming, n_neighbors=13, weights=distance ................\n",
            "[CV] . metric=hamming, n_neighbors=13, weights=distance, total=   0.0s\n",
            "[CV] metric=hamming, n_neighbors=13, weights=distance ................\n",
            "[CV] . metric=hamming, n_neighbors=13, weights=distance, total=   0.0s\n",
            "[CV] metric=hamming, n_neighbors=13, weights=distance ................\n",
            "[CV] . metric=hamming, n_neighbors=13, weights=distance, total=   0.0s\n",
            "[CV] metric=hamming, n_neighbors=13, weights=distance ................\n",
            "[CV] . metric=hamming, n_neighbors=13, weights=distance, total=   0.0s\n",
            "[CV] metric=hamming, n_neighbors=13, weights=distance ................\n",
            "[CV] . metric=hamming, n_neighbors=13, weights=distance, total=   0.0s\n",
            "[CV] metric=hamming, n_neighbors=15, weights=uniform .................\n",
            "[CV] .. metric=hamming, n_neighbors=15, weights=uniform, total=   0.0s\n",
            "[CV] metric=hamming, n_neighbors=15, weights=uniform .................\n",
            "[CV] .. metric=hamming, n_neighbors=15, weights=uniform, total=   0.0s\n",
            "[CV] metric=hamming, n_neighbors=15, weights=uniform .................\n",
            "[CV] .. metric=hamming, n_neighbors=15, weights=uniform, total=   0.0s\n",
            "[CV] metric=hamming, n_neighbors=15, weights=uniform .................\n",
            "[CV] .. metric=hamming, n_neighbors=15, weights=uniform, total=   0.0s\n",
            "[CV] metric=hamming, n_neighbors=15, weights=uniform .................\n",
            "[CV] .. metric=hamming, n_neighbors=15, weights=uniform, total=   0.0s\n",
            "[CV] metric=hamming, n_neighbors=15, weights=distance ................\n",
            "[CV] . metric=hamming, n_neighbors=15, weights=distance, total=   0.0s\n",
            "[CV] metric=hamming, n_neighbors=15, weights=distance ................\n",
            "[CV] . metric=hamming, n_neighbors=15, weights=distance, total=   0.0s\n",
            "[CV] metric=hamming, n_neighbors=15, weights=distance ................\n",
            "[CV] . metric=hamming, n_neighbors=15, weights=distance, total=   0.0s\n",
            "[CV] metric=hamming, n_neighbors=15, weights=distance ................\n",
            "[CV] . metric=hamming, n_neighbors=15, weights=distance, total=   0.0s\n",
            "[CV] metric=hamming, n_neighbors=15, weights=distance ................\n",
            "[CV] . metric=hamming, n_neighbors=15, weights=distance, total=   0.0s\n",
            "[CV] metric=hamming, n_neighbors=17, weights=uniform .................\n",
            "[CV] .. metric=hamming, n_neighbors=17, weights=uniform, total=   0.0s\n",
            "[CV] metric=hamming, n_neighbors=17, weights=uniform .................\n",
            "[CV] .. metric=hamming, n_neighbors=17, weights=uniform, total=   0.0s\n",
            "[CV] metric=hamming, n_neighbors=17, weights=uniform .................\n",
            "[CV] .. metric=hamming, n_neighbors=17, weights=uniform, total=   0.0s\n",
            "[CV] metric=hamming, n_neighbors=17, weights=uniform .................\n",
            "[CV] .. metric=hamming, n_neighbors=17, weights=uniform, total=   0.0s\n",
            "[CV] metric=hamming, n_neighbors=17, weights=uniform .................\n",
            "[CV] .. metric=hamming, n_neighbors=17, weights=uniform, total=   0.0s\n",
            "[CV] metric=hamming, n_neighbors=17, weights=distance ................\n",
            "[CV] . metric=hamming, n_neighbors=17, weights=distance, total=   0.0s\n",
            "[CV] metric=hamming, n_neighbors=17, weights=distance ................\n",
            "[CV] . metric=hamming, n_neighbors=17, weights=distance, total=   0.0s\n",
            "[CV] metric=hamming, n_neighbors=17, weights=distance ................\n",
            "[CV] . metric=hamming, n_neighbors=17, weights=distance, total=   0.0s\n",
            "[CV] metric=hamming, n_neighbors=17, weights=distance ................\n",
            "[CV] . metric=hamming, n_neighbors=17, weights=distance, total=   0.0s\n",
            "[CV] metric=hamming, n_neighbors=17, weights=distance ................\n",
            "[CV] . metric=hamming, n_neighbors=17, weights=distance, total=   0.0s\n",
            "[CV] metric=hamming, n_neighbors=19, weights=uniform .................\n",
            "[CV] .. metric=hamming, n_neighbors=19, weights=uniform, total=   0.0s\n",
            "[CV] metric=hamming, n_neighbors=19, weights=uniform .................\n",
            "[CV] .. metric=hamming, n_neighbors=19, weights=uniform, total=   0.0s\n",
            "[CV] metric=hamming, n_neighbors=19, weights=uniform .................\n",
            "[CV] .. metric=hamming, n_neighbors=19, weights=uniform, total=   0.0s\n",
            "[CV] metric=hamming, n_neighbors=19, weights=uniform .................\n",
            "[CV] .. metric=hamming, n_neighbors=19, weights=uniform, total=   0.0s\n",
            "[CV] metric=hamming, n_neighbors=19, weights=uniform .................\n",
            "[CV] .. metric=hamming, n_neighbors=19, weights=uniform, total=   0.0s\n",
            "[CV] metric=hamming, n_neighbors=19, weights=distance ................\n",
            "[CV] . metric=hamming, n_neighbors=19, weights=distance, total=   0.0s\n",
            "[CV] metric=hamming, n_neighbors=19, weights=distance ................\n",
            "[CV] . metric=hamming, n_neighbors=19, weights=distance, total=   0.0s\n",
            "[CV] metric=hamming, n_neighbors=19, weights=distance ................\n",
            "[CV] . metric=hamming, n_neighbors=19, weights=distance, total=   0.0s\n",
            "[CV] metric=hamming, n_neighbors=19, weights=distance ................\n",
            "[CV] . metric=hamming, n_neighbors=19, weights=distance, total=   0.0s\n",
            "[CV] metric=hamming, n_neighbors=19, weights=distance ................\n",
            "[CV] . metric=hamming, n_neighbors=19, weights=distance, total=   0.0s\n",
            "[CV] metric=hamming, n_neighbors=21, weights=uniform .................\n",
            "[CV] .. metric=hamming, n_neighbors=21, weights=uniform, total=   0.0s\n",
            "[CV] metric=hamming, n_neighbors=21, weights=uniform .................\n",
            "[CV] .. metric=hamming, n_neighbors=21, weights=uniform, total=   0.0s\n",
            "[CV] metric=hamming, n_neighbors=21, weights=uniform .................\n",
            "[CV] .. metric=hamming, n_neighbors=21, weights=uniform, total=   0.0s\n",
            "[CV] metric=hamming, n_neighbors=21, weights=uniform .................\n",
            "[CV] .. metric=hamming, n_neighbors=21, weights=uniform, total=   0.0s\n",
            "[CV] metric=hamming, n_neighbors=21, weights=uniform .................\n",
            "[CV] .. metric=hamming, n_neighbors=21, weights=uniform, total=   0.0s\n",
            "[CV] metric=hamming, n_neighbors=21, weights=distance ................\n",
            "[CV] . metric=hamming, n_neighbors=21, weights=distance, total=   0.0s\n",
            "[CV] metric=hamming, n_neighbors=21, weights=distance ................\n",
            "[CV] . metric=hamming, n_neighbors=21, weights=distance, total=   0.0s\n",
            "[CV] metric=hamming, n_neighbors=21, weights=distance ................\n",
            "[CV] . metric=hamming, n_neighbors=21, weights=distance, total=   0.0s\n",
            "[CV] metric=hamming, n_neighbors=21, weights=distance ................\n",
            "[CV] . metric=hamming, n_neighbors=21, weights=distance, total=   0.0s\n",
            "[CV] metric=hamming, n_neighbors=21, weights=distance ................\n",
            "[CV] . metric=hamming, n_neighbors=21, weights=distance, total=   0.0s\n",
            "[CV] metric=hamming, n_neighbors=23, weights=uniform .................\n",
            "[CV] .. metric=hamming, n_neighbors=23, weights=uniform, total=   0.0s\n",
            "[CV] metric=hamming, n_neighbors=23, weights=uniform .................\n",
            "[CV] .. metric=hamming, n_neighbors=23, weights=uniform, total=   0.0s\n",
            "[CV] metric=hamming, n_neighbors=23, weights=uniform .................\n",
            "[CV] .. metric=hamming, n_neighbors=23, weights=uniform, total=   0.0s\n",
            "[CV] metric=hamming, n_neighbors=23, weights=uniform .................\n",
            "[CV] .. metric=hamming, n_neighbors=23, weights=uniform, total=   0.0s\n",
            "[CV] metric=hamming, n_neighbors=23, weights=uniform .................\n",
            "[CV] .. metric=hamming, n_neighbors=23, weights=uniform, total=   0.0s\n",
            "[CV] metric=hamming, n_neighbors=23, weights=distance ................\n",
            "[CV] . metric=hamming, n_neighbors=23, weights=distance, total=   0.0s\n",
            "[CV] metric=hamming, n_neighbors=23, weights=distance ................\n",
            "[CV] . metric=hamming, n_neighbors=23, weights=distance, total=   0.0s\n",
            "[CV] metric=hamming, n_neighbors=23, weights=distance ................\n",
            "[CV] . metric=hamming, n_neighbors=23, weights=distance, total=   0.0s\n",
            "[CV] metric=hamming, n_neighbors=23, weights=distance ................\n",
            "[CV] . metric=hamming, n_neighbors=23, weights=distance, total=   0.0s\n",
            "[CV] metric=hamming, n_neighbors=23, weights=distance ................\n",
            "[CV] . metric=hamming, n_neighbors=23, weights=distance, total=   0.0s\n",
            "[CV] metric=euclidean, n_neighbors=1, weights=uniform ................\n",
            "[CV] . metric=euclidean, n_neighbors=1, weights=uniform, total=   0.2s\n",
            "[CV] metric=euclidean, n_neighbors=1, weights=uniform ................\n",
            "[CV] . metric=euclidean, n_neighbors=1, weights=uniform, total=   0.2s\n",
            "[CV] metric=euclidean, n_neighbors=1, weights=uniform ................\n",
            "[CV] . metric=euclidean, n_neighbors=1, weights=uniform, total=   0.2s\n",
            "[CV] metric=euclidean, n_neighbors=1, weights=uniform ................\n",
            "[CV] . metric=euclidean, n_neighbors=1, weights=uniform, total=   0.2s\n",
            "[CV] metric=euclidean, n_neighbors=1, weights=uniform ................\n",
            "[CV] . metric=euclidean, n_neighbors=1, weights=uniform, total=   0.2s\n",
            "[CV] metric=euclidean, n_neighbors=1, weights=distance ...............\n",
            "[CV]  metric=euclidean, n_neighbors=1, weights=distance, total=   0.1s\n",
            "[CV] metric=euclidean, n_neighbors=1, weights=distance ...............\n",
            "[CV]  metric=euclidean, n_neighbors=1, weights=distance, total=   0.1s\n",
            "[CV] metric=euclidean, n_neighbors=1, weights=distance ...............\n",
            "[CV]  metric=euclidean, n_neighbors=1, weights=distance, total=   0.1s\n",
            "[CV] metric=euclidean, n_neighbors=1, weights=distance ...............\n",
            "[CV]  metric=euclidean, n_neighbors=1, weights=distance, total=   0.1s\n",
            "[CV] metric=euclidean, n_neighbors=1, weights=distance ...............\n",
            "[CV]  metric=euclidean, n_neighbors=1, weights=distance, total=   0.1s\n",
            "[CV] metric=euclidean, n_neighbors=3, weights=uniform ................\n",
            "[CV] . metric=euclidean, n_neighbors=3, weights=uniform, total=   0.2s\n",
            "[CV] metric=euclidean, n_neighbors=3, weights=uniform ................\n",
            "[CV] . metric=euclidean, n_neighbors=3, weights=uniform, total=   0.2s\n",
            "[CV] metric=euclidean, n_neighbors=3, weights=uniform ................\n",
            "[CV] . metric=euclidean, n_neighbors=3, weights=uniform, total=   0.2s\n",
            "[CV] metric=euclidean, n_neighbors=3, weights=uniform ................\n",
            "[CV] . metric=euclidean, n_neighbors=3, weights=uniform, total=   0.2s\n",
            "[CV] metric=euclidean, n_neighbors=3, weights=uniform ................\n",
            "[CV] . metric=euclidean, n_neighbors=3, weights=uniform, total=   0.2s\n",
            "[CV] metric=euclidean, n_neighbors=3, weights=distance ...............\n",
            "[CV]  metric=euclidean, n_neighbors=3, weights=distance, total=   0.1s\n",
            "[CV] metric=euclidean, n_neighbors=3, weights=distance ...............\n",
            "[CV]  metric=euclidean, n_neighbors=3, weights=distance, total=   0.2s\n",
            "[CV] metric=euclidean, n_neighbors=3, weights=distance ...............\n",
            "[CV]  metric=euclidean, n_neighbors=3, weights=distance, total=   0.2s\n",
            "[CV] metric=euclidean, n_neighbors=3, weights=distance ...............\n",
            "[CV]  metric=euclidean, n_neighbors=3, weights=distance, total=   0.2s\n",
            "[CV] metric=euclidean, n_neighbors=3, weights=distance ...............\n",
            "[CV]  metric=euclidean, n_neighbors=3, weights=distance, total=   0.1s\n",
            "[CV] metric=euclidean, n_neighbors=5, weights=uniform ................\n",
            "[CV] . metric=euclidean, n_neighbors=5, weights=uniform, total=   0.2s\n",
            "[CV] metric=euclidean, n_neighbors=5, weights=uniform ................\n",
            "[CV] . metric=euclidean, n_neighbors=5, weights=uniform, total=   0.2s\n",
            "[CV] metric=euclidean, n_neighbors=5, weights=uniform ................\n",
            "[CV] . metric=euclidean, n_neighbors=5, weights=uniform, total=   0.2s\n",
            "[CV] metric=euclidean, n_neighbors=5, weights=uniform ................\n",
            "[CV] . metric=euclidean, n_neighbors=5, weights=uniform, total=   0.2s\n",
            "[CV] metric=euclidean, n_neighbors=5, weights=uniform ................\n",
            "[CV] . metric=euclidean, n_neighbors=5, weights=uniform, total=   0.2s\n",
            "[CV] metric=euclidean, n_neighbors=5, weights=distance ...............\n",
            "[CV]  metric=euclidean, n_neighbors=5, weights=distance, total=   0.2s\n",
            "[CV] metric=euclidean, n_neighbors=5, weights=distance ...............\n",
            "[CV]  metric=euclidean, n_neighbors=5, weights=distance, total=   0.2s\n",
            "[CV] metric=euclidean, n_neighbors=5, weights=distance ...............\n",
            "[CV]  metric=euclidean, n_neighbors=5, weights=distance, total=   0.2s\n",
            "[CV] metric=euclidean, n_neighbors=5, weights=distance ...............\n",
            "[CV]  metric=euclidean, n_neighbors=5, weights=distance, total=   0.2s\n",
            "[CV] metric=euclidean, n_neighbors=5, weights=distance ...............\n",
            "[CV]  metric=euclidean, n_neighbors=5, weights=distance, total=   0.2s\n",
            "[CV] metric=euclidean, n_neighbors=7, weights=uniform ................\n",
            "[CV] . metric=euclidean, n_neighbors=7, weights=uniform, total=   0.2s\n",
            "[CV] metric=euclidean, n_neighbors=7, weights=uniform ................\n",
            "[CV] . metric=euclidean, n_neighbors=7, weights=uniform, total=   0.2s\n",
            "[CV] metric=euclidean, n_neighbors=7, weights=uniform ................\n",
            "[CV] . metric=euclidean, n_neighbors=7, weights=uniform, total=   0.2s\n",
            "[CV] metric=euclidean, n_neighbors=7, weights=uniform ................\n",
            "[CV] . metric=euclidean, n_neighbors=7, weights=uniform, total=   0.2s\n",
            "[CV] metric=euclidean, n_neighbors=7, weights=uniform ................\n",
            "[CV] . metric=euclidean, n_neighbors=7, weights=uniform, total=   0.2s\n",
            "[CV] metric=euclidean, n_neighbors=7, weights=distance ...............\n",
            "[CV]  metric=euclidean, n_neighbors=7, weights=distance, total=   0.2s\n",
            "[CV] metric=euclidean, n_neighbors=7, weights=distance ...............\n",
            "[CV]  metric=euclidean, n_neighbors=7, weights=distance, total=   0.2s\n",
            "[CV] metric=euclidean, n_neighbors=7, weights=distance ...............\n",
            "[CV]  metric=euclidean, n_neighbors=7, weights=distance, total=   0.2s\n",
            "[CV] metric=euclidean, n_neighbors=7, weights=distance ...............\n",
            "[CV]  metric=euclidean, n_neighbors=7, weights=distance, total=   0.2s\n",
            "[CV] metric=euclidean, n_neighbors=7, weights=distance ...............\n",
            "[CV]  metric=euclidean, n_neighbors=7, weights=distance, total=   0.2s\n",
            "[CV] metric=euclidean, n_neighbors=9, weights=uniform ................\n",
            "[CV] . metric=euclidean, n_neighbors=9, weights=uniform, total=   0.2s\n",
            "[CV] metric=euclidean, n_neighbors=9, weights=uniform ................\n",
            "[CV] . metric=euclidean, n_neighbors=9, weights=uniform, total=   0.2s\n",
            "[CV] metric=euclidean, n_neighbors=9, weights=uniform ................\n",
            "[CV] . metric=euclidean, n_neighbors=9, weights=uniform, total=   0.2s\n",
            "[CV] metric=euclidean, n_neighbors=9, weights=uniform ................\n",
            "[CV] . metric=euclidean, n_neighbors=9, weights=uniform, total=   0.2s\n",
            "[CV] metric=euclidean, n_neighbors=9, weights=uniform ................\n",
            "[CV] . metric=euclidean, n_neighbors=9, weights=uniform, total=   0.2s\n",
            "[CV] metric=euclidean, n_neighbors=9, weights=distance ...............\n",
            "[CV]  metric=euclidean, n_neighbors=9, weights=distance, total=   0.2s\n",
            "[CV] metric=euclidean, n_neighbors=9, weights=distance ...............\n",
            "[CV]  metric=euclidean, n_neighbors=9, weights=distance, total=   0.2s\n",
            "[CV] metric=euclidean, n_neighbors=9, weights=distance ...............\n",
            "[CV]  metric=euclidean, n_neighbors=9, weights=distance, total=   0.2s\n",
            "[CV] metric=euclidean, n_neighbors=9, weights=distance ...............\n",
            "[CV]  metric=euclidean, n_neighbors=9, weights=distance, total=   0.2s\n",
            "[CV] metric=euclidean, n_neighbors=9, weights=distance ...............\n",
            "[CV]  metric=euclidean, n_neighbors=9, weights=distance, total=   0.2s\n",
            "[CV] metric=euclidean, n_neighbors=11, weights=uniform ...............\n",
            "[CV]  metric=euclidean, n_neighbors=11, weights=uniform, total=   0.2s\n",
            "[CV] metric=euclidean, n_neighbors=11, weights=uniform ...............\n",
            "[CV]  metric=euclidean, n_neighbors=11, weights=uniform, total=   0.2s\n",
            "[CV] metric=euclidean, n_neighbors=11, weights=uniform ...............\n",
            "[CV]  metric=euclidean, n_neighbors=11, weights=uniform, total=   0.2s\n",
            "[CV] metric=euclidean, n_neighbors=11, weights=uniform ...............\n",
            "[CV]  metric=euclidean, n_neighbors=11, weights=uniform, total=   0.2s\n",
            "[CV] metric=euclidean, n_neighbors=11, weights=uniform ...............\n",
            "[CV]  metric=euclidean, n_neighbors=11, weights=uniform, total=   0.2s\n",
            "[CV] metric=euclidean, n_neighbors=11, weights=distance ..............\n",
            "[CV]  metric=euclidean, n_neighbors=11, weights=distance, total=   0.2s\n",
            "[CV] metric=euclidean, n_neighbors=11, weights=distance ..............\n",
            "[CV]  metric=euclidean, n_neighbors=11, weights=distance, total=   0.2s\n",
            "[CV] metric=euclidean, n_neighbors=11, weights=distance ..............\n",
            "[CV]  metric=euclidean, n_neighbors=11, weights=distance, total=   0.2s\n",
            "[CV] metric=euclidean, n_neighbors=11, weights=distance ..............\n",
            "[CV]  metric=euclidean, n_neighbors=11, weights=distance, total=   0.2s\n",
            "[CV] metric=euclidean, n_neighbors=11, weights=distance ..............\n",
            "[CV]  metric=euclidean, n_neighbors=11, weights=distance, total=   0.2s\n",
            "[CV] metric=euclidean, n_neighbors=13, weights=uniform ...............\n",
            "[CV]  metric=euclidean, n_neighbors=13, weights=uniform, total=   0.2s\n",
            "[CV] metric=euclidean, n_neighbors=13, weights=uniform ...............\n",
            "[CV]  metric=euclidean, n_neighbors=13, weights=uniform, total=   0.2s\n",
            "[CV] metric=euclidean, n_neighbors=13, weights=uniform ...............\n",
            "[CV]  metric=euclidean, n_neighbors=13, weights=uniform, total=   0.2s\n",
            "[CV] metric=euclidean, n_neighbors=13, weights=uniform ...............\n",
            "[CV]  metric=euclidean, n_neighbors=13, weights=uniform, total=   0.2s\n",
            "[CV] metric=euclidean, n_neighbors=13, weights=uniform ...............\n",
            "[CV]  metric=euclidean, n_neighbors=13, weights=uniform, total=   0.2s\n",
            "[CV] metric=euclidean, n_neighbors=13, weights=distance ..............\n",
            "[CV]  metric=euclidean, n_neighbors=13, weights=distance, total=   0.2s\n",
            "[CV] metric=euclidean, n_neighbors=13, weights=distance ..............\n",
            "[CV]  metric=euclidean, n_neighbors=13, weights=distance, total=   0.2s\n",
            "[CV] metric=euclidean, n_neighbors=13, weights=distance ..............\n",
            "[CV]  metric=euclidean, n_neighbors=13, weights=distance, total=   0.2s\n",
            "[CV] metric=euclidean, n_neighbors=13, weights=distance ..............\n",
            "[CV]  metric=euclidean, n_neighbors=13, weights=distance, total=   0.2s\n",
            "[CV] metric=euclidean, n_neighbors=13, weights=distance ..............\n",
            "[CV]  metric=euclidean, n_neighbors=13, weights=distance, total=   0.2s\n",
            "[CV] metric=euclidean, n_neighbors=15, weights=uniform ...............\n",
            "[CV]  metric=euclidean, n_neighbors=15, weights=uniform, total=   0.2s\n",
            "[CV] metric=euclidean, n_neighbors=15, weights=uniform ...............\n",
            "[CV]  metric=euclidean, n_neighbors=15, weights=uniform, total=   0.2s\n",
            "[CV] metric=euclidean, n_neighbors=15, weights=uniform ...............\n",
            "[CV]  metric=euclidean, n_neighbors=15, weights=uniform, total=   0.2s\n",
            "[CV] metric=euclidean, n_neighbors=15, weights=uniform ...............\n",
            "[CV]  metric=euclidean, n_neighbors=15, weights=uniform, total=   0.2s\n",
            "[CV] metric=euclidean, n_neighbors=15, weights=uniform ...............\n",
            "[CV]  metric=euclidean, n_neighbors=15, weights=uniform, total=   0.2s\n",
            "[CV] metric=euclidean, n_neighbors=15, weights=distance ..............\n",
            "[CV]  metric=euclidean, n_neighbors=15, weights=distance, total=   0.2s\n",
            "[CV] metric=euclidean, n_neighbors=15, weights=distance ..............\n",
            "[CV]  metric=euclidean, n_neighbors=15, weights=distance, total=   0.2s\n",
            "[CV] metric=euclidean, n_neighbors=15, weights=distance ..............\n",
            "[CV]  metric=euclidean, n_neighbors=15, weights=distance, total=   0.2s\n",
            "[CV] metric=euclidean, n_neighbors=15, weights=distance ..............\n",
            "[CV]  metric=euclidean, n_neighbors=15, weights=distance, total=   0.2s\n",
            "[CV] metric=euclidean, n_neighbors=15, weights=distance ..............\n",
            "[CV]  metric=euclidean, n_neighbors=15, weights=distance, total=   0.2s\n",
            "[CV] metric=euclidean, n_neighbors=17, weights=uniform ...............\n",
            "[CV]  metric=euclidean, n_neighbors=17, weights=uniform, total=   0.2s\n",
            "[CV] metric=euclidean, n_neighbors=17, weights=uniform ...............\n",
            "[CV]  metric=euclidean, n_neighbors=17, weights=uniform, total=   0.2s\n",
            "[CV] metric=euclidean, n_neighbors=17, weights=uniform ...............\n",
            "[CV]  metric=euclidean, n_neighbors=17, weights=uniform, total=   0.2s\n",
            "[CV] metric=euclidean, n_neighbors=17, weights=uniform ...............\n",
            "[CV]  metric=euclidean, n_neighbors=17, weights=uniform, total=   0.2s\n",
            "[CV] metric=euclidean, n_neighbors=17, weights=uniform ...............\n",
            "[CV]  metric=euclidean, n_neighbors=17, weights=uniform, total=   0.2s\n",
            "[CV] metric=euclidean, n_neighbors=17, weights=distance ..............\n",
            "[CV]  metric=euclidean, n_neighbors=17, weights=distance, total=   0.2s\n",
            "[CV] metric=euclidean, n_neighbors=17, weights=distance ..............\n",
            "[CV]  metric=euclidean, n_neighbors=17, weights=distance, total=   0.2s\n",
            "[CV] metric=euclidean, n_neighbors=17, weights=distance ..............\n",
            "[CV]  metric=euclidean, n_neighbors=17, weights=distance, total=   0.2s\n",
            "[CV] metric=euclidean, n_neighbors=17, weights=distance ..............\n",
            "[CV]  metric=euclidean, n_neighbors=17, weights=distance, total=   0.2s\n",
            "[CV] metric=euclidean, n_neighbors=17, weights=distance ..............\n",
            "[CV]  metric=euclidean, n_neighbors=17, weights=distance, total=   0.2s\n",
            "[CV] metric=euclidean, n_neighbors=19, weights=uniform ...............\n",
            "[CV]  metric=euclidean, n_neighbors=19, weights=uniform, total=   0.2s\n",
            "[CV] metric=euclidean, n_neighbors=19, weights=uniform ...............\n",
            "[CV]  metric=euclidean, n_neighbors=19, weights=uniform, total=   0.2s\n",
            "[CV] metric=euclidean, n_neighbors=19, weights=uniform ...............\n",
            "[CV]  metric=euclidean, n_neighbors=19, weights=uniform, total=   0.2s\n",
            "[CV] metric=euclidean, n_neighbors=19, weights=uniform ...............\n",
            "[CV]  metric=euclidean, n_neighbors=19, weights=uniform, total=   0.2s\n",
            "[CV] metric=euclidean, n_neighbors=19, weights=uniform ...............\n",
            "[CV]  metric=euclidean, n_neighbors=19, weights=uniform, total=   0.2s\n",
            "[CV] metric=euclidean, n_neighbors=19, weights=distance ..............\n",
            "[CV]  metric=euclidean, n_neighbors=19, weights=distance, total=   0.2s\n",
            "[CV] metric=euclidean, n_neighbors=19, weights=distance ..............\n",
            "[CV]  metric=euclidean, n_neighbors=19, weights=distance, total=   0.2s\n",
            "[CV] metric=euclidean, n_neighbors=19, weights=distance ..............\n",
            "[CV]  metric=euclidean, n_neighbors=19, weights=distance, total=   0.2s\n",
            "[CV] metric=euclidean, n_neighbors=19, weights=distance ..............\n",
            "[CV]  metric=euclidean, n_neighbors=19, weights=distance, total=   0.2s\n",
            "[CV] metric=euclidean, n_neighbors=19, weights=distance ..............\n",
            "[CV]  metric=euclidean, n_neighbors=19, weights=distance, total=   0.2s\n",
            "[CV] metric=euclidean, n_neighbors=21, weights=uniform ...............\n",
            "[CV]  metric=euclidean, n_neighbors=21, weights=uniform, total=   0.2s\n",
            "[CV] metric=euclidean, n_neighbors=21, weights=uniform ...............\n",
            "[CV]  metric=euclidean, n_neighbors=21, weights=uniform, total=   0.2s\n",
            "[CV] metric=euclidean, n_neighbors=21, weights=uniform ...............\n",
            "[CV]  metric=euclidean, n_neighbors=21, weights=uniform, total=   0.2s\n",
            "[CV] metric=euclidean, n_neighbors=21, weights=uniform ...............\n",
            "[CV]  metric=euclidean, n_neighbors=21, weights=uniform, total=   0.2s\n",
            "[CV] metric=euclidean, n_neighbors=21, weights=uniform ...............\n",
            "[CV]  metric=euclidean, n_neighbors=21, weights=uniform, total=   0.2s\n",
            "[CV] metric=euclidean, n_neighbors=21, weights=distance ..............\n",
            "[CV]  metric=euclidean, n_neighbors=21, weights=distance, total=   0.2s\n",
            "[CV] metric=euclidean, n_neighbors=21, weights=distance ..............\n",
            "[CV]  metric=euclidean, n_neighbors=21, weights=distance, total=   0.2s\n",
            "[CV] metric=euclidean, n_neighbors=21, weights=distance ..............\n",
            "[CV]  metric=euclidean, n_neighbors=21, weights=distance, total=   0.2s\n",
            "[CV] metric=euclidean, n_neighbors=21, weights=distance ..............\n",
            "[CV]  metric=euclidean, n_neighbors=21, weights=distance, total=   0.2s\n",
            "[CV] metric=euclidean, n_neighbors=21, weights=distance ..............\n",
            "[CV]  metric=euclidean, n_neighbors=21, weights=distance, total=   0.2s\n",
            "[CV] metric=euclidean, n_neighbors=23, weights=uniform ...............\n",
            "[CV]  metric=euclidean, n_neighbors=23, weights=uniform, total=   0.2s\n",
            "[CV] metric=euclidean, n_neighbors=23, weights=uniform ...............\n",
            "[CV]  metric=euclidean, n_neighbors=23, weights=uniform, total=   0.2s\n",
            "[CV] metric=euclidean, n_neighbors=23, weights=uniform ...............\n",
            "[CV]  metric=euclidean, n_neighbors=23, weights=uniform, total=   0.2s\n",
            "[CV] metric=euclidean, n_neighbors=23, weights=uniform ...............\n",
            "[CV]  metric=euclidean, n_neighbors=23, weights=uniform, total=   0.2s\n",
            "[CV] metric=euclidean, n_neighbors=23, weights=uniform ...............\n",
            "[CV]  metric=euclidean, n_neighbors=23, weights=uniform, total=   0.2s\n",
            "[CV] metric=euclidean, n_neighbors=23, weights=distance ..............\n",
            "[CV]  metric=euclidean, n_neighbors=23, weights=distance, total=   0.2s\n",
            "[CV] metric=euclidean, n_neighbors=23, weights=distance ..............\n",
            "[CV]  metric=euclidean, n_neighbors=23, weights=distance, total=   0.2s\n",
            "[CV] metric=euclidean, n_neighbors=23, weights=distance ..............\n",
            "[CV]  metric=euclidean, n_neighbors=23, weights=distance, total=   0.2s\n",
            "[CV] metric=euclidean, n_neighbors=23, weights=distance ..............\n",
            "[CV]  metric=euclidean, n_neighbors=23, weights=distance, total=   0.2s\n",
            "[CV] metric=euclidean, n_neighbors=23, weights=distance ..............\n",
            "[CV]  metric=euclidean, n_neighbors=23, weights=distance, total=   0.2s\n",
            "[CV] metric=manhattan, n_neighbors=1, weights=uniform ................\n",
            "[CV] . metric=manhattan, n_neighbors=1, weights=uniform, total=   1.9s\n",
            "[CV] metric=manhattan, n_neighbors=1, weights=uniform ................\n",
            "[CV] . metric=manhattan, n_neighbors=1, weights=uniform, total=   1.9s\n",
            "[CV] metric=manhattan, n_neighbors=1, weights=uniform ................\n",
            "[CV] . metric=manhattan, n_neighbors=1, weights=uniform, total=   1.9s\n",
            "[CV] metric=manhattan, n_neighbors=1, weights=uniform ................\n",
            "[CV] . metric=manhattan, n_neighbors=1, weights=uniform, total=   1.9s\n",
            "[CV] metric=manhattan, n_neighbors=1, weights=uniform ................\n",
            "[CV] . metric=manhattan, n_neighbors=1, weights=uniform, total=   1.9s\n",
            "[CV] metric=manhattan, n_neighbors=1, weights=distance ...............\n",
            "[CV]  metric=manhattan, n_neighbors=1, weights=distance, total=   1.9s\n",
            "[CV] metric=manhattan, n_neighbors=1, weights=distance ...............\n",
            "[CV]  metric=manhattan, n_neighbors=1, weights=distance, total=   1.8s\n",
            "[CV] metric=manhattan, n_neighbors=1, weights=distance ...............\n",
            "[CV]  metric=manhattan, n_neighbors=1, weights=distance, total=   1.8s\n",
            "[CV] metric=manhattan, n_neighbors=1, weights=distance ...............\n",
            "[CV]  metric=manhattan, n_neighbors=1, weights=distance, total=   1.8s\n",
            "[CV] metric=manhattan, n_neighbors=1, weights=distance ...............\n",
            "[CV]  metric=manhattan, n_neighbors=1, weights=distance, total=   1.8s\n",
            "[CV] metric=manhattan, n_neighbors=3, weights=uniform ................\n",
            "[CV] . metric=manhattan, n_neighbors=3, weights=uniform, total=   1.9s\n",
            "[CV] metric=manhattan, n_neighbors=3, weights=uniform ................\n",
            "[CV] . metric=manhattan, n_neighbors=3, weights=uniform, total=   1.9s\n",
            "[CV] metric=manhattan, n_neighbors=3, weights=uniform ................\n",
            "[CV] . metric=manhattan, n_neighbors=3, weights=uniform, total=   1.9s\n",
            "[CV] metric=manhattan, n_neighbors=3, weights=uniform ................\n",
            "[CV] . metric=manhattan, n_neighbors=3, weights=uniform, total=   1.9s\n",
            "[CV] metric=manhattan, n_neighbors=3, weights=uniform ................\n",
            "[CV] . metric=manhattan, n_neighbors=3, weights=uniform, total=   1.9s\n",
            "[CV] metric=manhattan, n_neighbors=3, weights=distance ...............\n",
            "[CV]  metric=manhattan, n_neighbors=3, weights=distance, total=   1.9s\n",
            "[CV] metric=manhattan, n_neighbors=3, weights=distance ...............\n",
            "[CV]  metric=manhattan, n_neighbors=3, weights=distance, total=   1.9s\n",
            "[CV] metric=manhattan, n_neighbors=3, weights=distance ...............\n",
            "[CV]  metric=manhattan, n_neighbors=3, weights=distance, total=   1.9s\n",
            "[CV] metric=manhattan, n_neighbors=3, weights=distance ...............\n",
            "[CV]  metric=manhattan, n_neighbors=3, weights=distance, total=   1.9s\n",
            "[CV] metric=manhattan, n_neighbors=3, weights=distance ...............\n",
            "[CV]  metric=manhattan, n_neighbors=3, weights=distance, total=   1.9s\n",
            "[CV] metric=manhattan, n_neighbors=5, weights=uniform ................\n",
            "[CV] . metric=manhattan, n_neighbors=5, weights=uniform, total=   1.9s\n",
            "[CV] metric=manhattan, n_neighbors=5, weights=uniform ................\n",
            "[CV] . metric=manhattan, n_neighbors=5, weights=uniform, total=   1.9s\n",
            "[CV] metric=manhattan, n_neighbors=5, weights=uniform ................\n",
            "[CV] . metric=manhattan, n_neighbors=5, weights=uniform, total=   1.9s\n",
            "[CV] metric=manhattan, n_neighbors=5, weights=uniform ................\n",
            "[CV] . metric=manhattan, n_neighbors=5, weights=uniform, total=   1.9s\n",
            "[CV] metric=manhattan, n_neighbors=5, weights=uniform ................\n",
            "[CV] . metric=manhattan, n_neighbors=5, weights=uniform, total=   1.9s\n",
            "[CV] metric=manhattan, n_neighbors=5, weights=distance ...............\n",
            "[CV]  metric=manhattan, n_neighbors=5, weights=distance, total=   1.9s\n",
            "[CV] metric=manhattan, n_neighbors=5, weights=distance ...............\n",
            "[CV]  metric=manhattan, n_neighbors=5, weights=distance, total=   1.9s\n",
            "[CV] metric=manhattan, n_neighbors=5, weights=distance ...............\n",
            "[CV]  metric=manhattan, n_neighbors=5, weights=distance, total=   1.9s\n",
            "[CV] metric=manhattan, n_neighbors=5, weights=distance ...............\n",
            "[CV]  metric=manhattan, n_neighbors=5, weights=distance, total=   1.9s\n",
            "[CV] metric=manhattan, n_neighbors=5, weights=distance ...............\n",
            "[CV]  metric=manhattan, n_neighbors=5, weights=distance, total=   1.9s\n",
            "[CV] metric=manhattan, n_neighbors=7, weights=uniform ................\n",
            "[CV] . metric=manhattan, n_neighbors=7, weights=uniform, total=   1.9s\n",
            "[CV] metric=manhattan, n_neighbors=7, weights=uniform ................\n",
            "[CV] . metric=manhattan, n_neighbors=7, weights=uniform, total=   2.3s\n",
            "[CV] metric=manhattan, n_neighbors=7, weights=uniform ................\n",
            "[CV] . metric=manhattan, n_neighbors=7, weights=uniform, total=   2.9s\n",
            "[CV] metric=manhattan, n_neighbors=7, weights=uniform ................\n",
            "[CV] . metric=manhattan, n_neighbors=7, weights=uniform, total=   3.0s\n",
            "[CV] metric=manhattan, n_neighbors=7, weights=uniform ................\n",
            "[CV] . metric=manhattan, n_neighbors=7, weights=uniform, total=   1.9s\n",
            "[CV] metric=manhattan, n_neighbors=7, weights=distance ...............\n",
            "[CV]  metric=manhattan, n_neighbors=7, weights=distance, total=   1.9s\n",
            "[CV] metric=manhattan, n_neighbors=7, weights=distance ...............\n",
            "[CV]  metric=manhattan, n_neighbors=7, weights=distance, total=   2.4s\n",
            "[CV] metric=manhattan, n_neighbors=7, weights=distance ...............\n",
            "[CV]  metric=manhattan, n_neighbors=7, weights=distance, total=   3.6s\n",
            "[CV] metric=manhattan, n_neighbors=7, weights=distance ...............\n",
            "[CV]  metric=manhattan, n_neighbors=7, weights=distance, total=   3.2s\n",
            "[CV] metric=manhattan, n_neighbors=7, weights=distance ...............\n",
            "[CV]  metric=manhattan, n_neighbors=7, weights=distance, total=   2.4s\n",
            "[CV] metric=manhattan, n_neighbors=9, weights=uniform ................\n",
            "[CV] . metric=manhattan, n_neighbors=9, weights=uniform, total=   1.9s\n",
            "[CV] metric=manhattan, n_neighbors=9, weights=uniform ................\n",
            "[CV] . metric=manhattan, n_neighbors=9, weights=uniform, total=   1.9s\n",
            "[CV] metric=manhattan, n_neighbors=9, weights=uniform ................\n",
            "[CV] . metric=manhattan, n_neighbors=9, weights=uniform, total=   2.5s\n",
            "[CV] metric=manhattan, n_neighbors=9, weights=uniform ................\n",
            "[CV] . metric=manhattan, n_neighbors=9, weights=uniform, total=   2.9s\n",
            "[CV] metric=manhattan, n_neighbors=9, weights=uniform ................\n",
            "[CV] . metric=manhattan, n_neighbors=9, weights=uniform, total=   2.9s\n",
            "[CV] metric=manhattan, n_neighbors=9, weights=distance ...............\n",
            "[CV]  metric=manhattan, n_neighbors=9, weights=distance, total=   2.0s\n",
            "[CV] metric=manhattan, n_neighbors=9, weights=distance ...............\n",
            "[CV]  metric=manhattan, n_neighbors=9, weights=distance, total=   1.9s\n",
            "[CV] metric=manhattan, n_neighbors=9, weights=distance ...............\n",
            "[CV]  metric=manhattan, n_neighbors=9, weights=distance, total=   1.9s\n",
            "[CV] metric=manhattan, n_neighbors=9, weights=distance ...............\n",
            "[CV]  metric=manhattan, n_neighbors=9, weights=distance, total=   2.2s\n",
            "[CV] metric=manhattan, n_neighbors=9, weights=distance ...............\n",
            "[CV]  metric=manhattan, n_neighbors=9, weights=distance, total=   2.7s\n",
            "[CV] metric=manhattan, n_neighbors=11, weights=uniform ...............\n",
            "[CV]  metric=manhattan, n_neighbors=11, weights=uniform, total=   1.9s\n",
            "[CV] metric=manhattan, n_neighbors=11, weights=uniform ...............\n",
            "[CV]  metric=manhattan, n_neighbors=11, weights=uniform, total=   1.9s\n",
            "[CV] metric=manhattan, n_neighbors=11, weights=uniform ...............\n",
            "[CV]  metric=manhattan, n_neighbors=11, weights=uniform, total=   1.9s\n",
            "[CV] metric=manhattan, n_neighbors=11, weights=uniform ...............\n",
            "[CV]  metric=manhattan, n_neighbors=11, weights=uniform, total=   1.9s\n",
            "[CV] metric=manhattan, n_neighbors=11, weights=uniform ...............\n",
            "[CV]  metric=manhattan, n_neighbors=11, weights=uniform, total=   1.9s\n",
            "[CV] metric=manhattan, n_neighbors=11, weights=distance ..............\n",
            "[CV]  metric=manhattan, n_neighbors=11, weights=distance, total=   1.9s\n",
            "[CV] metric=manhattan, n_neighbors=11, weights=distance ..............\n",
            "[CV]  metric=manhattan, n_neighbors=11, weights=distance, total=   1.9s\n",
            "[CV] metric=manhattan, n_neighbors=11, weights=distance ..............\n",
            "[CV]  metric=manhattan, n_neighbors=11, weights=distance, total=   2.2s\n",
            "[CV] metric=manhattan, n_neighbors=11, weights=distance ..............\n",
            "[CV]  metric=manhattan, n_neighbors=11, weights=distance, total=   1.9s\n",
            "[CV] metric=manhattan, n_neighbors=11, weights=distance ..............\n",
            "[CV]  metric=manhattan, n_neighbors=11, weights=distance, total=   1.9s\n",
            "[CV] metric=manhattan, n_neighbors=13, weights=uniform ...............\n",
            "[CV]  metric=manhattan, n_neighbors=13, weights=uniform, total=   2.0s\n",
            "[CV] metric=manhattan, n_neighbors=13, weights=uniform ...............\n",
            "[CV]  metric=manhattan, n_neighbors=13, weights=uniform, total=   3.0s\n",
            "[CV] metric=manhattan, n_neighbors=13, weights=uniform ...............\n",
            "[CV]  metric=manhattan, n_neighbors=13, weights=uniform, total=   2.6s\n",
            "[CV] metric=manhattan, n_neighbors=13, weights=uniform ...............\n",
            "[CV]  metric=manhattan, n_neighbors=13, weights=uniform, total=   1.9s\n",
            "[CV] metric=manhattan, n_neighbors=13, weights=uniform ...............\n",
            "[CV]  metric=manhattan, n_neighbors=13, weights=uniform, total=   1.9s\n",
            "[CV] metric=manhattan, n_neighbors=13, weights=distance ..............\n",
            "[CV]  metric=manhattan, n_neighbors=13, weights=distance, total=   1.9s\n",
            "[CV] metric=manhattan, n_neighbors=13, weights=distance ..............\n",
            "[CV]  metric=manhattan, n_neighbors=13, weights=distance, total=   1.9s\n",
            "[CV] metric=manhattan, n_neighbors=13, weights=distance ..............\n",
            "[CV]  metric=manhattan, n_neighbors=13, weights=distance, total=   2.9s\n",
            "[CV] metric=manhattan, n_neighbors=13, weights=distance ..............\n",
            "[CV]  metric=manhattan, n_neighbors=13, weights=distance, total=   2.6s\n",
            "[CV] metric=manhattan, n_neighbors=13, weights=distance ..............\n",
            "[CV]  metric=manhattan, n_neighbors=13, weights=distance, total=   1.9s\n",
            "[CV] metric=manhattan, n_neighbors=15, weights=uniform ...............\n",
            "[CV]  metric=manhattan, n_neighbors=15, weights=uniform, total=   1.9s\n",
            "[CV] metric=manhattan, n_neighbors=15, weights=uniform ...............\n",
            "[CV]  metric=manhattan, n_neighbors=15, weights=uniform, total=   1.9s\n",
            "[CV] metric=manhattan, n_neighbors=15, weights=uniform ...............\n",
            "[CV]  metric=manhattan, n_neighbors=15, weights=uniform, total=   1.9s\n",
            "[CV] metric=manhattan, n_neighbors=15, weights=uniform ...............\n",
            "[CV]  metric=manhattan, n_neighbors=15, weights=uniform, total=   1.9s\n",
            "[CV] metric=manhattan, n_neighbors=15, weights=uniform ...............\n",
            "[CV]  metric=manhattan, n_neighbors=15, weights=uniform, total=   1.9s\n",
            "[CV] metric=manhattan, n_neighbors=15, weights=distance ..............\n",
            "[CV]  metric=manhattan, n_neighbors=15, weights=distance, total=   1.9s\n",
            "[CV] metric=manhattan, n_neighbors=15, weights=distance ..............\n",
            "[CV]  metric=manhattan, n_neighbors=15, weights=distance, total=   1.9s\n",
            "[CV] metric=manhattan, n_neighbors=15, weights=distance ..............\n",
            "[CV]  metric=manhattan, n_neighbors=15, weights=distance, total=   1.9s\n",
            "[CV] metric=manhattan, n_neighbors=15, weights=distance ..............\n",
            "[CV]  metric=manhattan, n_neighbors=15, weights=distance, total=   2.0s\n",
            "[CV] metric=manhattan, n_neighbors=15, weights=distance ..............\n",
            "[CV]  metric=manhattan, n_neighbors=15, weights=distance, total=   1.9s\n",
            "[CV] metric=manhattan, n_neighbors=17, weights=uniform ...............\n",
            "[CV]  metric=manhattan, n_neighbors=17, weights=uniform, total=   1.9s\n",
            "[CV] metric=manhattan, n_neighbors=17, weights=uniform ...............\n",
            "[CV]  metric=manhattan, n_neighbors=17, weights=uniform, total=   1.9s\n",
            "[CV] metric=manhattan, n_neighbors=17, weights=uniform ...............\n",
            "[CV]  metric=manhattan, n_neighbors=17, weights=uniform, total=   1.9s\n",
            "[CV] metric=manhattan, n_neighbors=17, weights=uniform ...............\n",
            "[CV]  metric=manhattan, n_neighbors=17, weights=uniform, total=   1.9s\n",
            "[CV] metric=manhattan, n_neighbors=17, weights=uniform ...............\n",
            "[CV]  metric=manhattan, n_neighbors=17, weights=uniform, total=   1.9s\n",
            "[CV] metric=manhattan, n_neighbors=17, weights=distance ..............\n",
            "[CV]  metric=manhattan, n_neighbors=17, weights=distance, total=   1.9s\n",
            "[CV] metric=manhattan, n_neighbors=17, weights=distance ..............\n",
            "[CV]  metric=manhattan, n_neighbors=17, weights=distance, total=   1.9s\n",
            "[CV] metric=manhattan, n_neighbors=17, weights=distance ..............\n",
            "[CV]  metric=manhattan, n_neighbors=17, weights=distance, total=   1.9s\n",
            "[CV] metric=manhattan, n_neighbors=17, weights=distance ..............\n",
            "[CV]  metric=manhattan, n_neighbors=17, weights=distance, total=   1.9s\n",
            "[CV] metric=manhattan, n_neighbors=17, weights=distance ..............\n",
            "[CV]  metric=manhattan, n_neighbors=17, weights=distance, total=   1.9s\n",
            "[CV] metric=manhattan, n_neighbors=19, weights=uniform ...............\n",
            "[CV]  metric=manhattan, n_neighbors=19, weights=uniform, total=   1.9s\n",
            "[CV] metric=manhattan, n_neighbors=19, weights=uniform ...............\n",
            "[CV]  metric=manhattan, n_neighbors=19, weights=uniform, total=   1.9s\n",
            "[CV] metric=manhattan, n_neighbors=19, weights=uniform ...............\n",
            "[CV]  metric=manhattan, n_neighbors=19, weights=uniform, total=   1.9s\n",
            "[CV] metric=manhattan, n_neighbors=19, weights=uniform ...............\n",
            "[CV]  metric=manhattan, n_neighbors=19, weights=uniform, total=   1.9s\n",
            "[CV] metric=manhattan, n_neighbors=19, weights=uniform ...............\n",
            "[CV]  metric=manhattan, n_neighbors=19, weights=uniform, total=   1.9s\n",
            "[CV] metric=manhattan, n_neighbors=19, weights=distance ..............\n",
            "[CV]  metric=manhattan, n_neighbors=19, weights=distance, total=   1.9s\n",
            "[CV] metric=manhattan, n_neighbors=19, weights=distance ..............\n",
            "[CV]  metric=manhattan, n_neighbors=19, weights=distance, total=   1.9s\n",
            "[CV] metric=manhattan, n_neighbors=19, weights=distance ..............\n",
            "[CV]  metric=manhattan, n_neighbors=19, weights=distance, total=   1.9s\n",
            "[CV] metric=manhattan, n_neighbors=19, weights=distance ..............\n",
            "[CV]  metric=manhattan, n_neighbors=19, weights=distance, total=   1.9s\n",
            "[CV] metric=manhattan, n_neighbors=19, weights=distance ..............\n",
            "[CV]  metric=manhattan, n_neighbors=19, weights=distance, total=   1.9s\n",
            "[CV] metric=manhattan, n_neighbors=21, weights=uniform ...............\n",
            "[CV]  metric=manhattan, n_neighbors=21, weights=uniform, total=   1.9s\n",
            "[CV] metric=manhattan, n_neighbors=21, weights=uniform ...............\n",
            "[CV]  metric=manhattan, n_neighbors=21, weights=uniform, total=   1.9s\n",
            "[CV] metric=manhattan, n_neighbors=21, weights=uniform ...............\n",
            "[CV]  metric=manhattan, n_neighbors=21, weights=uniform, total=   1.9s\n",
            "[CV] metric=manhattan, n_neighbors=21, weights=uniform ...............\n",
            "[CV]  metric=manhattan, n_neighbors=21, weights=uniform, total=   1.9s\n",
            "[CV] metric=manhattan, n_neighbors=21, weights=uniform ...............\n",
            "[CV]  metric=manhattan, n_neighbors=21, weights=uniform, total=   1.9s\n",
            "[CV] metric=manhattan, n_neighbors=21, weights=distance ..............\n",
            "[CV]  metric=manhattan, n_neighbors=21, weights=distance, total=   1.9s\n",
            "[CV] metric=manhattan, n_neighbors=21, weights=distance ..............\n",
            "[CV]  metric=manhattan, n_neighbors=21, weights=distance, total=   1.9s\n",
            "[CV] metric=manhattan, n_neighbors=21, weights=distance ..............\n",
            "[CV]  metric=manhattan, n_neighbors=21, weights=distance, total=   1.9s\n",
            "[CV] metric=manhattan, n_neighbors=21, weights=distance ..............\n",
            "[CV]  metric=manhattan, n_neighbors=21, weights=distance, total=   1.9s\n",
            "[CV] metric=manhattan, n_neighbors=21, weights=distance ..............\n",
            "[CV]  metric=manhattan, n_neighbors=21, weights=distance, total=   1.9s\n",
            "[CV] metric=manhattan, n_neighbors=23, weights=uniform ...............\n",
            "[CV]  metric=manhattan, n_neighbors=23, weights=uniform, total=   2.0s\n",
            "[CV] metric=manhattan, n_neighbors=23, weights=uniform ...............\n",
            "[CV]  metric=manhattan, n_neighbors=23, weights=uniform, total=   2.0s\n",
            "[CV] metric=manhattan, n_neighbors=23, weights=uniform ...............\n",
            "[CV]  metric=manhattan, n_neighbors=23, weights=uniform, total=   1.9s\n",
            "[CV] metric=manhattan, n_neighbors=23, weights=uniform ...............\n",
            "[CV]  metric=manhattan, n_neighbors=23, weights=uniform, total=   2.0s\n",
            "[CV] metric=manhattan, n_neighbors=23, weights=uniform ...............\n",
            "[CV]  metric=manhattan, n_neighbors=23, weights=uniform, total=   1.9s\n",
            "[CV] metric=manhattan, n_neighbors=23, weights=distance ..............\n",
            "[CV]  metric=manhattan, n_neighbors=23, weights=distance, total=   1.9s\n",
            "[CV] metric=manhattan, n_neighbors=23, weights=distance ..............\n",
            "[CV]  metric=manhattan, n_neighbors=23, weights=distance, total=   1.9s\n",
            "[CV] metric=manhattan, n_neighbors=23, weights=distance ..............\n",
            "[CV]  metric=manhattan, n_neighbors=23, weights=distance, total=   1.9s\n",
            "[CV] metric=manhattan, n_neighbors=23, weights=distance ..............\n",
            "[CV]  metric=manhattan, n_neighbors=23, weights=distance, total=   1.9s\n",
            "[CV] metric=manhattan, n_neighbors=23, weights=distance ..............\n",
            "[CV]  metric=manhattan, n_neighbors=23, weights=distance, total=   1.9s\n",
            "[CV] metric=Chebyshev, n_neighbors=1, weights=uniform ................\n",
            "[CV] . metric=Chebyshev, n_neighbors=1, weights=uniform, total=   0.0s\n",
            "[CV] metric=Chebyshev, n_neighbors=1, weights=uniform ................\n",
            "[CV] . metric=Chebyshev, n_neighbors=1, weights=uniform, total=   0.0s\n",
            "[CV] metric=Chebyshev, n_neighbors=1, weights=uniform ................\n",
            "[CV] . metric=Chebyshev, n_neighbors=1, weights=uniform, total=   0.0s\n",
            "[CV] metric=Chebyshev, n_neighbors=1, weights=uniform ................\n",
            "[CV] . metric=Chebyshev, n_neighbors=1, weights=uniform, total=   0.0s\n",
            "[CV] metric=Chebyshev, n_neighbors=1, weights=uniform ................\n",
            "[CV] . metric=Chebyshev, n_neighbors=1, weights=uniform, total=   0.0s\n",
            "[CV] metric=Chebyshev, n_neighbors=1, weights=distance ...............\n",
            "[CV]  metric=Chebyshev, n_neighbors=1, weights=distance, total=   0.0s\n",
            "[CV] metric=Chebyshev, n_neighbors=1, weights=distance ...............\n",
            "[CV]  metric=Chebyshev, n_neighbors=1, weights=distance, total=   0.0s\n",
            "[CV] metric=Chebyshev, n_neighbors=1, weights=distance ...............\n",
            "[CV]  metric=Chebyshev, n_neighbors=1, weights=distance, total=   0.0s\n",
            "[CV] metric=Chebyshev, n_neighbors=1, weights=distance ...............\n",
            "[CV]  metric=Chebyshev, n_neighbors=1, weights=distance, total=   0.0s\n",
            "[CV] metric=Chebyshev, n_neighbors=1, weights=distance ...............\n",
            "[CV]  metric=Chebyshev, n_neighbors=1, weights=distance, total=   0.0s\n",
            "[CV] metric=Chebyshev, n_neighbors=3, weights=uniform ................\n",
            "[CV] . metric=Chebyshev, n_neighbors=3, weights=uniform, total=   0.0s\n",
            "[CV] metric=Chebyshev, n_neighbors=3, weights=uniform ................\n",
            "[CV] . metric=Chebyshev, n_neighbors=3, weights=uniform, total=   0.0s\n",
            "[CV] metric=Chebyshev, n_neighbors=3, weights=uniform ................\n",
            "[CV] . metric=Chebyshev, n_neighbors=3, weights=uniform, total=   0.0s\n",
            "[CV] metric=Chebyshev, n_neighbors=3, weights=uniform ................\n",
            "[CV] . metric=Chebyshev, n_neighbors=3, weights=uniform, total=   0.0s\n",
            "[CV] metric=Chebyshev, n_neighbors=3, weights=uniform ................\n",
            "[CV] . metric=Chebyshev, n_neighbors=3, weights=uniform, total=   0.0s\n",
            "[CV] metric=Chebyshev, n_neighbors=3, weights=distance ...............\n",
            "[CV]  metric=Chebyshev, n_neighbors=3, weights=distance, total=   0.0s\n",
            "[CV] metric=Chebyshev, n_neighbors=3, weights=distance ...............\n",
            "[CV]  metric=Chebyshev, n_neighbors=3, weights=distance, total=   0.0s\n",
            "[CV] metric=Chebyshev, n_neighbors=3, weights=distance ...............\n",
            "[CV]  metric=Chebyshev, n_neighbors=3, weights=distance, total=   0.0s\n",
            "[CV] metric=Chebyshev, n_neighbors=3, weights=distance ...............\n",
            "[CV]  metric=Chebyshev, n_neighbors=3, weights=distance, total=   0.0s\n",
            "[CV] metric=Chebyshev, n_neighbors=3, weights=distance ...............\n",
            "[CV]  metric=Chebyshev, n_neighbors=3, weights=distance, total=   0.0s\n",
            "[CV] metric=Chebyshev, n_neighbors=5, weights=uniform ................\n",
            "[CV] . metric=Chebyshev, n_neighbors=5, weights=uniform, total=   0.0s\n",
            "[CV] metric=Chebyshev, n_neighbors=5, weights=uniform ................\n",
            "[CV] . metric=Chebyshev, n_neighbors=5, weights=uniform, total=   0.0s\n",
            "[CV] metric=Chebyshev, n_neighbors=5, weights=uniform ................\n",
            "[CV] . metric=Chebyshev, n_neighbors=5, weights=uniform, total=   0.0s\n",
            "[CV] metric=Chebyshev, n_neighbors=5, weights=uniform ................\n",
            "[CV] . metric=Chebyshev, n_neighbors=5, weights=uniform, total=   0.0s\n",
            "[CV] metric=Chebyshev, n_neighbors=5, weights=uniform ................\n",
            "[CV] . metric=Chebyshev, n_neighbors=5, weights=uniform, total=   0.0s\n",
            "[CV] metric=Chebyshev, n_neighbors=5, weights=distance ...............\n",
            "[CV]  metric=Chebyshev, n_neighbors=5, weights=distance, total=   0.0s\n",
            "[CV] metric=Chebyshev, n_neighbors=5, weights=distance ...............\n",
            "[CV]  metric=Chebyshev, n_neighbors=5, weights=distance, total=   0.0s\n",
            "[CV] metric=Chebyshev, n_neighbors=5, weights=distance ...............\n",
            "[CV]  metric=Chebyshev, n_neighbors=5, weights=distance, total=   0.0s\n",
            "[CV] metric=Chebyshev, n_neighbors=5, weights=distance ...............\n",
            "[CV]  metric=Chebyshev, n_neighbors=5, weights=distance, total=   0.0s\n",
            "[CV] metric=Chebyshev, n_neighbors=5, weights=distance ...............\n",
            "[CV]  metric=Chebyshev, n_neighbors=5, weights=distance, total=   0.0s\n",
            "[CV] metric=Chebyshev, n_neighbors=7, weights=uniform ................\n",
            "[CV] . metric=Chebyshev, n_neighbors=7, weights=uniform, total=   0.0s\n",
            "[CV] metric=Chebyshev, n_neighbors=7, weights=uniform ................\n",
            "[CV] . metric=Chebyshev, n_neighbors=7, weights=uniform, total=   0.0s\n",
            "[CV] metric=Chebyshev, n_neighbors=7, weights=uniform ................\n",
            "[CV] . metric=Chebyshev, n_neighbors=7, weights=uniform, total=   0.0s\n",
            "[CV] metric=Chebyshev, n_neighbors=7, weights=uniform ................\n",
            "[CV] . metric=Chebyshev, n_neighbors=7, weights=uniform, total=   0.0s\n",
            "[CV] metric=Chebyshev, n_neighbors=7, weights=uniform ................\n",
            "[CV] . metric=Chebyshev, n_neighbors=7, weights=uniform, total=   0.0s\n",
            "[CV] metric=Chebyshev, n_neighbors=7, weights=distance ...............\n",
            "[CV]  metric=Chebyshev, n_neighbors=7, weights=distance, total=   0.0s\n",
            "[CV] metric=Chebyshev, n_neighbors=7, weights=distance ...............\n",
            "[CV]  metric=Chebyshev, n_neighbors=7, weights=distance, total=   0.0s\n",
            "[CV] metric=Chebyshev, n_neighbors=7, weights=distance ...............\n",
            "[CV]  metric=Chebyshev, n_neighbors=7, weights=distance, total=   0.0s\n",
            "[CV] metric=Chebyshev, n_neighbors=7, weights=distance ...............\n",
            "[CV]  metric=Chebyshev, n_neighbors=7, weights=distance, total=   0.0s\n",
            "[CV] metric=Chebyshev, n_neighbors=7, weights=distance ...............\n",
            "[CV]  metric=Chebyshev, n_neighbors=7, weights=distance, total=   0.0s\n",
            "[CV] metric=Chebyshev, n_neighbors=9, weights=uniform ................\n",
            "[CV] . metric=Chebyshev, n_neighbors=9, weights=uniform, total=   0.0s\n",
            "[CV] metric=Chebyshev, n_neighbors=9, weights=uniform ................\n",
            "[CV] . metric=Chebyshev, n_neighbors=9, weights=uniform, total=   0.0s\n",
            "[CV] metric=Chebyshev, n_neighbors=9, weights=uniform ................\n",
            "[CV] . metric=Chebyshev, n_neighbors=9, weights=uniform, total=   0.0s\n",
            "[CV] metric=Chebyshev, n_neighbors=9, weights=uniform ................\n",
            "[CV] . metric=Chebyshev, n_neighbors=9, weights=uniform, total=   0.0s\n",
            "[CV] metric=Chebyshev, n_neighbors=9, weights=uniform ................\n",
            "[CV] . metric=Chebyshev, n_neighbors=9, weights=uniform, total=   0.0s\n",
            "[CV] metric=Chebyshev, n_neighbors=9, weights=distance ...............\n",
            "[CV]  metric=Chebyshev, n_neighbors=9, weights=distance, total=   0.0s\n",
            "[CV] metric=Chebyshev, n_neighbors=9, weights=distance ...............\n",
            "[CV]  metric=Chebyshev, n_neighbors=9, weights=distance, total=   0.0s\n",
            "[CV] metric=Chebyshev, n_neighbors=9, weights=distance ...............\n",
            "[CV]  metric=Chebyshev, n_neighbors=9, weights=distance, total=   0.0s\n",
            "[CV] metric=Chebyshev, n_neighbors=9, weights=distance ...............\n",
            "[CV]  metric=Chebyshev, n_neighbors=9, weights=distance, total=   0.0s\n",
            "[CV] metric=Chebyshev, n_neighbors=9, weights=distance ...............\n",
            "[CV]  metric=Chebyshev, n_neighbors=9, weights=distance, total=   0.0s\n",
            "[CV] metric=Chebyshev, n_neighbors=11, weights=uniform ...............\n",
            "[CV]  metric=Chebyshev, n_neighbors=11, weights=uniform, total=   0.0s\n",
            "[CV] metric=Chebyshev, n_neighbors=11, weights=uniform ...............\n",
            "[CV]  metric=Chebyshev, n_neighbors=11, weights=uniform, total=   0.0s\n",
            "[CV] metric=Chebyshev, n_neighbors=11, weights=uniform ...............\n",
            "[CV]  metric=Chebyshev, n_neighbors=11, weights=uniform, total=   0.0s\n",
            "[CV] metric=Chebyshev, n_neighbors=11, weights=uniform ...............\n",
            "[CV]  metric=Chebyshev, n_neighbors=11, weights=uniform, total=   0.0s\n",
            "[CV] metric=Chebyshev, n_neighbors=11, weights=uniform ...............\n",
            "[CV]  metric=Chebyshev, n_neighbors=11, weights=uniform, total=   0.0s\n",
            "[CV] metric=Chebyshev, n_neighbors=11, weights=distance ..............\n",
            "[CV]  metric=Chebyshev, n_neighbors=11, weights=distance, total=   0.0s\n",
            "[CV] metric=Chebyshev, n_neighbors=11, weights=distance ..............\n",
            "[CV]  metric=Chebyshev, n_neighbors=11, weights=distance, total=   0.0s\n",
            "[CV] metric=Chebyshev, n_neighbors=11, weights=distance ..............\n",
            "[CV]  metric=Chebyshev, n_neighbors=11, weights=distance, total=   0.0s\n",
            "[CV] metric=Chebyshev, n_neighbors=11, weights=distance ..............\n",
            "[CV]  metric=Chebyshev, n_neighbors=11, weights=distance, total=   0.0s\n",
            "[CV] metric=Chebyshev, n_neighbors=11, weights=distance ..............\n",
            "[CV]  metric=Chebyshev, n_neighbors=11, weights=distance, total=   0.0s\n",
            "[CV] metric=Chebyshev, n_neighbors=13, weights=uniform ...............\n",
            "[CV]  metric=Chebyshev, n_neighbors=13, weights=uniform, total=   0.0s\n",
            "[CV] metric=Chebyshev, n_neighbors=13, weights=uniform ...............\n",
            "[CV]  metric=Chebyshev, n_neighbors=13, weights=uniform, total=   0.0s\n",
            "[CV] metric=Chebyshev, n_neighbors=13, weights=uniform ...............\n",
            "[CV]  metric=Chebyshev, n_neighbors=13, weights=uniform, total=   0.0s\n",
            "[CV] metric=Chebyshev, n_neighbors=13, weights=uniform ...............\n",
            "[CV]  metric=Chebyshev, n_neighbors=13, weights=uniform, total=   0.0s\n",
            "[CV] metric=Chebyshev, n_neighbors=13, weights=uniform ...............\n",
            "[CV]  metric=Chebyshev, n_neighbors=13, weights=uniform, total=   0.0s\n",
            "[CV] metric=Chebyshev, n_neighbors=13, weights=distance ..............\n",
            "[CV]  metric=Chebyshev, n_neighbors=13, weights=distance, total=   0.0s\n",
            "[CV] metric=Chebyshev, n_neighbors=13, weights=distance ..............\n",
            "[CV]  metric=Chebyshev, n_neighbors=13, weights=distance, total=   0.0s\n",
            "[CV] metric=Chebyshev, n_neighbors=13, weights=distance ..............\n",
            "[CV]  metric=Chebyshev, n_neighbors=13, weights=distance, total=   0.0s\n",
            "[CV] metric=Chebyshev, n_neighbors=13, weights=distance ..............\n",
            "[CV]  metric=Chebyshev, n_neighbors=13, weights=distance, total=   0.0s\n",
            "[CV] metric=Chebyshev, n_neighbors=13, weights=distance ..............\n",
            "[CV]  metric=Chebyshev, n_neighbors=13, weights=distance, total=   0.0s\n",
            "[CV] metric=Chebyshev, n_neighbors=15, weights=uniform ...............\n",
            "[CV]  metric=Chebyshev, n_neighbors=15, weights=uniform, total=   0.0s\n",
            "[CV] metric=Chebyshev, n_neighbors=15, weights=uniform ...............\n",
            "[CV]  metric=Chebyshev, n_neighbors=15, weights=uniform, total=   0.0s\n",
            "[CV] metric=Chebyshev, n_neighbors=15, weights=uniform ...............\n",
            "[CV]  metric=Chebyshev, n_neighbors=15, weights=uniform, total=   0.0s\n",
            "[CV] metric=Chebyshev, n_neighbors=15, weights=uniform ...............\n",
            "[CV]  metric=Chebyshev, n_neighbors=15, weights=uniform, total=   0.0s\n",
            "[CV] metric=Chebyshev, n_neighbors=15, weights=uniform ...............\n",
            "[CV]  metric=Chebyshev, n_neighbors=15, weights=uniform, total=   0.0s\n",
            "[CV] metric=Chebyshev, n_neighbors=15, weights=distance ..............\n",
            "[CV]  metric=Chebyshev, n_neighbors=15, weights=distance, total=   0.0s\n",
            "[CV] metric=Chebyshev, n_neighbors=15, weights=distance ..............\n",
            "[CV]  metric=Chebyshev, n_neighbors=15, weights=distance, total=   0.0s\n",
            "[CV] metric=Chebyshev, n_neighbors=15, weights=distance ..............\n",
            "[CV]  metric=Chebyshev, n_neighbors=15, weights=distance, total=   0.0s\n",
            "[CV] metric=Chebyshev, n_neighbors=15, weights=distance ..............\n",
            "[CV]  metric=Chebyshev, n_neighbors=15, weights=distance, total=   0.0s\n",
            "[CV] metric=Chebyshev, n_neighbors=15, weights=distance ..............\n",
            "[CV]  metric=Chebyshev, n_neighbors=15, weights=distance, total=   0.0s\n",
            "[CV] metric=Chebyshev, n_neighbors=17, weights=uniform ...............\n",
            "[CV]  metric=Chebyshev, n_neighbors=17, weights=uniform, total=   0.0s\n",
            "[CV] metric=Chebyshev, n_neighbors=17, weights=uniform ...............\n",
            "[CV]  metric=Chebyshev, n_neighbors=17, weights=uniform, total=   0.0s\n",
            "[CV] metric=Chebyshev, n_neighbors=17, weights=uniform ...............\n",
            "[CV]  metric=Chebyshev, n_neighbors=17, weights=uniform, total=   0.0s\n",
            "[CV] metric=Chebyshev, n_neighbors=17, weights=uniform ...............\n",
            "[CV]  metric=Chebyshev, n_neighbors=17, weights=uniform, total=   0.0s\n",
            "[CV] metric=Chebyshev, n_neighbors=17, weights=uniform ...............\n",
            "[CV]  metric=Chebyshev, n_neighbors=17, weights=uniform, total=   0.0s\n",
            "[CV] metric=Chebyshev, n_neighbors=17, weights=distance ..............\n",
            "[CV]  metric=Chebyshev, n_neighbors=17, weights=distance, total=   0.0s\n",
            "[CV] metric=Chebyshev, n_neighbors=17, weights=distance ..............\n",
            "[CV]  metric=Chebyshev, n_neighbors=17, weights=distance, total=   0.0s\n",
            "[CV] metric=Chebyshev, n_neighbors=17, weights=distance ..............\n",
            "[CV]  metric=Chebyshev, n_neighbors=17, weights=distance, total=   0.0s\n",
            "[CV] metric=Chebyshev, n_neighbors=17, weights=distance ..............\n",
            "[CV]  metric=Chebyshev, n_neighbors=17, weights=distance, total=   0.0s\n",
            "[CV] metric=Chebyshev, n_neighbors=17, weights=distance ..............\n",
            "[CV]  metric=Chebyshev, n_neighbors=17, weights=distance, total=   0.0s\n",
            "[CV] metric=Chebyshev, n_neighbors=19, weights=uniform ...............\n",
            "[CV]  metric=Chebyshev, n_neighbors=19, weights=uniform, total=   0.0s\n",
            "[CV] metric=Chebyshev, n_neighbors=19, weights=uniform ...............\n",
            "[CV]  metric=Chebyshev, n_neighbors=19, weights=uniform, total=   0.0s\n",
            "[CV] metric=Chebyshev, n_neighbors=19, weights=uniform ...............\n",
            "[CV]  metric=Chebyshev, n_neighbors=19, weights=uniform, total=   0.0s\n",
            "[CV] metric=Chebyshev, n_neighbors=19, weights=uniform ...............\n",
            "[CV]  metric=Chebyshev, n_neighbors=19, weights=uniform, total=   0.0s\n",
            "[CV] metric=Chebyshev, n_neighbors=19, weights=uniform ...............\n",
            "[CV]  metric=Chebyshev, n_neighbors=19, weights=uniform, total=   0.0s\n",
            "[CV] metric=Chebyshev, n_neighbors=19, weights=distance ..............\n",
            "[CV]  metric=Chebyshev, n_neighbors=19, weights=distance, total=   0.0s\n",
            "[CV] metric=Chebyshev, n_neighbors=19, weights=distance ..............\n",
            "[CV]  metric=Chebyshev, n_neighbors=19, weights=distance, total=   0.0s\n",
            "[CV] metric=Chebyshev, n_neighbors=19, weights=distance ..............\n",
            "[CV]  metric=Chebyshev, n_neighbors=19, weights=distance, total=   0.0s\n",
            "[CV] metric=Chebyshev, n_neighbors=19, weights=distance ..............\n",
            "[CV]  metric=Chebyshev, n_neighbors=19, weights=distance, total=   0.0s\n",
            "[CV] metric=Chebyshev, n_neighbors=19, weights=distance ..............\n",
            "[CV]  metric=Chebyshev, n_neighbors=19, weights=distance, total=   0.0s\n",
            "[CV] metric=Chebyshev, n_neighbors=21, weights=uniform ...............\n",
            "[CV]  metric=Chebyshev, n_neighbors=21, weights=uniform, total=   0.0s\n",
            "[CV] metric=Chebyshev, n_neighbors=21, weights=uniform ...............\n",
            "[CV]  metric=Chebyshev, n_neighbors=21, weights=uniform, total=   0.0s\n",
            "[CV] metric=Chebyshev, n_neighbors=21, weights=uniform ...............\n",
            "[CV]  metric=Chebyshev, n_neighbors=21, weights=uniform, total=   0.0s\n",
            "[CV] metric=Chebyshev, n_neighbors=21, weights=uniform ...............\n",
            "[CV]  metric=Chebyshev, n_neighbors=21, weights=uniform, total=   0.0s\n",
            "[CV] metric=Chebyshev, n_neighbors=21, weights=uniform ...............\n",
            "[CV]  metric=Chebyshev, n_neighbors=21, weights=uniform, total=   0.0s\n",
            "[CV] metric=Chebyshev, n_neighbors=21, weights=distance ..............\n",
            "[CV]  metric=Chebyshev, n_neighbors=21, weights=distance, total=   0.0s\n",
            "[CV] metric=Chebyshev, n_neighbors=21, weights=distance ..............\n",
            "[CV]  metric=Chebyshev, n_neighbors=21, weights=distance, total=   0.0s\n",
            "[CV] metric=Chebyshev, n_neighbors=21, weights=distance ..............\n",
            "[CV]  metric=Chebyshev, n_neighbors=21, weights=distance, total=   0.0s\n",
            "[CV] metric=Chebyshev, n_neighbors=21, weights=distance ..............\n",
            "[CV]  metric=Chebyshev, n_neighbors=21, weights=distance, total=   0.0s\n",
            "[CV] metric=Chebyshev, n_neighbors=21, weights=distance ..............\n",
            "[CV]  metric=Chebyshev, n_neighbors=21, weights=distance, total=   0.0s\n",
            "[CV] metric=Chebyshev, n_neighbors=23, weights=uniform ...............\n",
            "[CV]  metric=Chebyshev, n_neighbors=23, weights=uniform, total=   0.0s\n",
            "[CV] metric=Chebyshev, n_neighbors=23, weights=uniform ...............\n",
            "[CV]  metric=Chebyshev, n_neighbors=23, weights=uniform, total=   0.0s\n",
            "[CV] metric=Chebyshev, n_neighbors=23, weights=uniform ...............\n",
            "[CV]  metric=Chebyshev, n_neighbors=23, weights=uniform, total=   0.0s\n",
            "[CV] metric=Chebyshev, n_neighbors=23, weights=uniform ...............\n",
            "[CV]  metric=Chebyshev, n_neighbors=23, weights=uniform, total=   0.0s\n",
            "[CV] metric=Chebyshev, n_neighbors=23, weights=uniform ...............\n",
            "[CV]  metric=Chebyshev, n_neighbors=23, weights=uniform, total=   0.0s\n",
            "[CV] metric=Chebyshev, n_neighbors=23, weights=distance ..............\n",
            "[CV]  metric=Chebyshev, n_neighbors=23, weights=distance, total=   0.0s\n",
            "[CV] metric=Chebyshev, n_neighbors=23, weights=distance ..............\n",
            "[CV]  metric=Chebyshev, n_neighbors=23, weights=distance, total=   0.0s\n",
            "[CV] metric=Chebyshev, n_neighbors=23, weights=distance ..............\n",
            "[CV]  metric=Chebyshev, n_neighbors=23, weights=distance, total=   0.0s\n",
            "[CV] metric=Chebyshev, n_neighbors=23, weights=distance ..............\n",
            "[CV]  metric=Chebyshev, n_neighbors=23, weights=distance, total=   0.0s\n",
            "[CV] metric=Chebyshev, n_neighbors=23, weights=distance ..............\n",
            "[CV]  metric=Chebyshev, n_neighbors=23, weights=distance, total=   0.0s\n"
          ],
          "name": "stdout"
        },
        {
          "output_type": "stream",
          "text": [
            "[Parallel(n_jobs=1)]: Done 480 out of 480 | elapsed:  4.4min finished\n"
          ],
          "name": "stderr"
        },
        {
          "output_type": "execute_result",
          "data": {
            "text/plain": [
              "GridSearchCV(cv=5, error_score=nan,\n",
              "             estimator=KNeighborsClassifier(algorithm='auto', leaf_size=30,\n",
              "                                            metric='minkowski',\n",
              "                                            metric_params=None, n_jobs=None,\n",
              "                                            n_neighbors=5, p=2,\n",
              "                                            weights='uniform'),\n",
              "             iid='deprecated', n_jobs=None,\n",
              "             param_grid={'metric': ['hamming', 'euclidean', 'manhattan',\n",
              "                                    'Chebyshev'],\n",
              "                         'n_neighbors': array([ 1,  3,  5,  7,  9, 11, 13, 15, 17, 19, 21, 23]),\n",
              "                         'weights': ['uniform', 'distance']},\n",
              "             pre_dispatch='2*n_jobs', refit=True, return_train_score=False,\n",
              "             scoring='accuracy', verbose=2)"
            ]
          },
          "metadata": {},
          "execution_count": 310
        }
      ]
    },
    {
      "cell_type": "code",
      "metadata": {
        "colab": {
          "base_uri": "https://localhost:8080/"
        },
        "id": "ENX9odWAQj1B",
        "outputId": "610f9a20-309e-4050-de0e-559571f049c7"
      },
      "source": [
        "# get the best parameters\n",
        "print('Best parameters for KNN Classifier: ', knn_grid.best_params_, '\\n')\n"
      ],
      "id": "ENX9odWAQj1B",
      "execution_count": 297,
      "outputs": [
        {
          "output_type": "stream",
          "text": [
            "Best parameters for KNN Classifier:  {'metric': 'euclidean', 'n_neighbors': 11, 'weights': 'distance'} \n",
            "\n"
          ],
          "name": "stdout"
        }
      ]
    },
    {
      "cell_type": "code",
      "metadata": {
        "colab": {
          "base_uri": "https://localhost:8080/"
        },
        "id": "N8SnmFeLUuLv",
        "outputId": "866fdac5-4879-46cd-85f0-25fe51a24095"
      },
      "source": [
        "# after tuning\n",
        "knn=KNeighborsClassifier(n_neighbors=11, weights='distance')\n",
        "knn.fit(train_dtm,ytrain)\n",
        "ypred_tuning=knn.predict(test_dtm)\n",
        "print(classification_report(ytest,ypred_tuning))"
      ],
      "id": "N8SnmFeLUuLv",
      "execution_count": 302,
      "outputs": [
        {
          "output_type": "stream",
          "text": [
            "              precision    recall  f1-score   support\n",
            "\n",
            "           0       0.76      0.85      0.80       717\n",
            "           1       0.69      0.56      0.62       426\n",
            "\n",
            "    accuracy                           0.74      1143\n",
            "   macro avg       0.73      0.70      0.71      1143\n",
            "weighted avg       0.74      0.74      0.73      1143\n",
            "\n"
          ],
          "name": "stdout"
        }
      ]
    },
    {
      "cell_type": "code",
      "metadata": {
        "colab": {
          "base_uri": "https://localhost:8080/",
          "height": 302
        },
        "id": "QRW9dI6TQj1B",
        "outputId": "2655b201-ae56-4452-aa01-e03c58d7f00e"
      },
      "source": [
        "from sklearn.model_selection import cross_val_score\n",
        "import matplotlib.pyplot as plt\n",
        "# consider an empty list to store error rate\n",
        "error_rate = []\n",
        "\n",
        "# use for loop to build a knn model for each K\n",
        "for i in np.arange(1,25,2):\n",
        "    \n",
        "    # setup a knn classifier with k neighbors\n",
        "    # use the 'euclidean' metric \n",
        "    knn = KNeighborsClassifier(i, metric = 'euclidean', weights = 'distance' )\n",
        "   \n",
        "    # fit the model using 'cross_val_score'\n",
        "    # pass the knn model as 'estimator'\n",
        "    # use 5-fold cross validation\n",
        "    score = cross_val_score(knn, train_dtm, ytrain, cv = 5)\n",
        "    \n",
        "    # calculate the mean score\n",
        "    score = score.mean()\n",
        "    \n",
        "    # compute error rate \n",
        "    error_rate.append(1 - score)\n",
        "\n",
        "# plot the error_rate for different values of K \n",
        "plt.plot(range(1,25,2), error_rate)\n",
        "\n",
        "# add plot and axes labels\n",
        "# set text size using 'fontsize'\n",
        "plt.title('Error Rate', fontsize = 15)\n",
        "plt.xlabel('K', fontsize = 15)\n",
        "plt.ylabel('Error Rate', fontsize = 15)\n",
        "\n",
        "# set the x-axis labels\n",
        "plt.xticks(np.arange(1, 25, step = 2))\n",
        "\n",
        "# plot a vertical line across the minimum error rate\n",
        "#plt.axvline(x = 7, color = 'red')\n",
        "\n",
        "# display the plot\n",
        "plt.show()"
      ],
      "id": "QRW9dI6TQj1B",
      "execution_count": 300,
      "outputs": [
        {
          "output_type": "display_data",
          "data": {
            "image/png": "[encoded data removed]",
            "text/plain": [
              "<Figure size 432x288 with 1 Axes>"
            ]
          },
          "metadata": {
            "needs_background": "light"
          }
        }
      ]
    },
    {
      "cell_type": "code",
      "metadata": {
        "id": "6xIzE-s6wJyj"
      },
      "source": [
        "# even the plot says that k=11 is the ideal value"
      ],
      "id": "6xIzE-s6wJyj",
      "execution_count": null,
      "outputs": []
    },
    {
      "cell_type": "code",
      "metadata": {
        "id": "9KIHK3Klggt7"
      },
      "source": [
        "# using MultinomialNB"
      ],
      "id": "9KIHK3Klggt7",
      "execution_count": null,
      "outputs": []
    },
    {
      "cell_type": "code",
      "metadata": {
        "colab": {
          "base_uri": "https://localhost:8080/"
        },
        "id": "niNFosLhik4u",
        "outputId": "03da92c8-b781-44a2-9c32-d801afe55a92"
      },
      "source": [
        "from sklearn.naive_bayes import MultinomialNB\n",
        "nb = MultinomialNB()\n",
        "nb.fit(train_dtm, ytrain)"
      ],
      "id": "niNFosLhik4u",
      "execution_count": 311,
      "outputs": [
        {
          "output_type": "execute_result",
          "data": {
            "text/plain": [
              "MultinomialNB(alpha=1.0, class_prior=None, fit_prior=True)"
            ]
          },
          "metadata": {},
          "execution_count": 311
        }
      ]
    },
    {
      "cell_type": "code",
      "metadata": {
        "id": "jhs71mIOik40"
      },
      "source": [
        "y_pred_class_1 = nb.predict(test_dtm)"
      ],
      "id": "jhs71mIOik40",
      "execution_count": 312,
      "outputs": []
    },
    {
      "cell_type": "code",
      "metadata": {
        "colab": {
          "base_uri": "https://localhost:8080/"
        },
        "id": "BLGgsfShik41",
        "outputId": "6056ab25-bb56-43f2-a906-e2f8e25740f6"
      },
      "source": [
        "print(classification_report(ytest, y_pred_class_1))"
      ],
      "id": "BLGgsfShik41",
      "execution_count": 314,
      "outputs": [
        {
          "output_type": "stream",
          "text": [
            "              precision    recall  f1-score   support\n",
            "\n",
            "           0       0.67      0.98      0.80       717\n",
            "           1       0.84      0.19      0.31       426\n",
            "\n",
            "    accuracy                           0.69      1143\n",
            "   macro avg       0.75      0.59      0.55      1143\n",
            "weighted avg       0.73      0.69      0.62      1143\n",
            "\n"
          ],
          "name": "stdout"
        }
      ]
    },
    {
      "cell_type": "code",
      "metadata": {
        "id": "KCQXEg9PQj1B"
      },
      "source": [
        "# Using DecisionTreeClassifier"
      ],
      "id": "KCQXEg9PQj1B",
      "execution_count": 296,
      "outputs": []
    },
    {
      "cell_type": "code",
      "metadata": {
        "id": "8pfPk3stqbe6"
      },
      "source": [
        "dt_1 = DecisionTreeClassifier()\n",
        "dt_1.fit(train_dtm, ytrain)\n",
        "\n",
        "y_pred_dt_1 = dt_1.predict(test_dtm)"
      ],
      "id": "8pfPk3stqbe6",
      "execution_count": 332,
      "outputs": []
    },
    {
      "cell_type": "code",
      "metadata": {
        "colab": {
          "base_uri": "https://localhost:8080/"
        },
        "id": "oVPgKszKuMUX",
        "outputId": "64fa547b-2620-4244-867b-4cd6a5a1c2c7"
      },
      "source": [
        "print(classification_report(ytest,y_pred_dt_1))"
      ],
      "id": "oVPgKszKuMUX",
      "execution_count": 335,
      "outputs": [
        {
          "output_type": "stream",
          "text": [
            "              precision    recall  f1-score   support\n",
            "\n",
            "           0       0.73      0.75      0.74       717\n",
            "           1       0.56      0.53      0.54       426\n",
            "\n",
            "    accuracy                           0.67      1143\n",
            "   macro avg       0.64      0.64      0.64      1143\n",
            "weighted avg       0.66      0.67      0.66      1143\n",
            "\n"
          ],
          "name": "stdout"
        }
      ]
    },
    {
      "cell_type": "code",
      "metadata": {
        "id": "kENJKwnlumyu"
      },
      "source": [
        "# using RandomForestClassifier"
      ],
      "id": "kENJKwnlumyu",
      "execution_count": null,
      "outputs": []
    },
    {
      "cell_type": "code",
      "metadata": {
        "colab": {
          "base_uri": "https://localhost:8080/"
        },
        "id": "7Z3-KCVXt5lO",
        "outputId": "adfd7b1f-5a2c-41d6-957f-eef101fce1bc"
      },
      "source": [
        "RF = RandomForestClassifier()\n",
        "RF.fit(train_dtm, ytrain)\n",
        "y_pred_RF = RF.predict(test_dtm)\n",
        "print('Accuracy:',accuracy_score(ytest,y_pred_RF))\n",
        "print()\n",
        "print('Classification Report:',classification_report(ytest,y_pred_RF),sep=\"\\n\")"
      ],
      "id": "7Z3-KCVXt5lO",
      "execution_count": 336,
      "outputs": [
        {
          "output_type": "stream",
          "text": [
            "Accuracy: 0.7830271216097988\n",
            "\n",
            "Classification Report:\n",
            "              precision    recall  f1-score   support\n",
            "\n",
            "           0       0.77      0.93      0.84       717\n",
            "           1       0.82      0.54      0.65       426\n",
            "\n",
            "    accuracy                           0.78      1143\n",
            "   macro avg       0.79      0.73      0.75      1143\n",
            "weighted avg       0.79      0.78      0.77      1143\n",
            "\n"
          ],
          "name": "stdout"
        }
      ]
    },
    {
      "cell_type": "code",
      "metadata": {
        "id": "f0KouquHt5tX"
      },
      "source": [
        ""
      ],
      "id": "f0KouquHt5tX",
      "execution_count": null,
      "outputs": []
    }
  ]
}